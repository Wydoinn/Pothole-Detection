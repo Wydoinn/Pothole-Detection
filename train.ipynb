{
 "cells": [
  {
   "cell_type": "markdown",
   "metadata": {},
   "source": [
    "# GPU Information"
   ]
  },
  {
   "cell_type": "code",
   "execution_count": 1,
   "metadata": {},
   "outputs": [
    {
     "name": "stdout",
     "output_type": "stream",
     "text": [
      "Sun Sep 22 17:46:26 2024       \n",
      "+---------------------------------------------------------------------------------------+\n",
      "| NVIDIA-SMI 535.183.06             Driver Version: 535.183.06   CUDA Version: 12.2     |\n",
      "|-----------------------------------------+----------------------+----------------------+\n",
      "| GPU  Name                 Persistence-M | Bus-Id        Disp.A | Volatile Uncorr. ECC |\n",
      "| Fan  Temp   Perf          Pwr:Usage/Cap |         Memory-Usage | GPU-Util  Compute M. |\n",
      "|                                         |                      |               MIG M. |\n",
      "|=========================================+======================+======================|\n",
      "|   0  NVIDIA L4                      Off | 00000000:35:00.0 Off |                    0 |\n",
      "| N/A   40C    P8              16W /  72W |      0MiB / 23034MiB |      0%      Default |\n",
      "|                                         |                      |                  N/A |\n",
      "+-----------------------------------------+----------------------+----------------------+\n",
      "                                                                                         \n",
      "+---------------------------------------------------------------------------------------+\n",
      "| Processes:                                                                            |\n",
      "|  GPU   GI   CI        PID   Type   Process name                            GPU Memory |\n",
      "|        ID   ID                                                             Usage      |\n",
      "|=======================================================================================|\n",
      "|  No running processes found                                                           |\n",
      "+---------------------------------------------------------------------------------------+\n"
     ]
    }
   ],
   "source": [
    "!nvidia-smi"
   ]
  },
  {
   "cell_type": "markdown",
   "metadata": {},
   "source": [
    "# Model Training"
   ]
  },
  {
   "cell_type": "code",
   "execution_count": 2,
   "metadata": {},
   "outputs": [
    {
     "name": "stdout",
     "output_type": "stream",
     "text": [
      "Ultralytics YOLOv8.2.98 🚀 Python-3.10.10 torch-2.2.1+cu121 CUDA:0 (NVIDIA L4, 22700MiB)\n",
      "\u001b[34m\u001b[1mengine/trainer: \u001b[0mtask=segment, mode=train, model=yolov8s-seg.yaml, data=data.yaml, epochs=200, time=None, patience=20, batch=64, imgsz=640, save=True, save_period=-1, cache=False, device=None, workers=8, project=None, name=train, exist_ok=False, pretrained=True, optimizer=auto, verbose=True, seed=0, deterministic=True, single_cls=False, rect=False, cos_lr=False, close_mosaic=10, resume=False, amp=True, fraction=1.0, profile=False, freeze=None, multi_scale=False, overlap_mask=True, mask_ratio=4, dropout=0.0, val=True, split=val, save_json=False, save_hybrid=False, conf=None, iou=0.7, max_det=300, half=False, dnn=False, plots=True, source=None, vid_stride=1, stream_buffer=False, visualize=False, augment=False, agnostic_nms=False, classes=None, retina_masks=False, embed=None, show=False, save_frames=False, save_txt=False, save_conf=False, save_crop=False, show_labels=True, show_conf=True, show_boxes=True, line_width=None, format=torchscript, keras=False, optimize=False, int8=False, dynamic=False, simplify=False, opset=None, workspace=4, nms=False, lr0=0.01, lrf=0.01, momentum=0.937, weight_decay=0.0005, warmup_epochs=3.0, warmup_momentum=0.8, warmup_bias_lr=0.1, box=7.5, cls=0.5, dfl=1.5, pose=12.0, kobj=1.0, label_smoothing=0.0, nbs=64, hsv_h=0.015, hsv_s=0.7, hsv_v=0.4, degrees=0.0, translate=0.1, scale=0.5, shear=0.0, perspective=0.0, flipud=0.0, fliplr=0.5, bgr=0.0, mosaic=1.0, mixup=0.0, copy_paste=0.0, auto_augment=randaugment, erasing=0.4, crop_fraction=1.0, cfg=None, tracker=botsort.yaml, save_dir=runs/segment/train\n",
      "Overriding model.yaml nc=80 with nc=1\n",
      "\n",
      "                   from  n    params  module                                       arguments                     \n",
      "  0                  -1  1       928  ultralytics.nn.modules.conv.Conv             [3, 32, 3, 2]                 \n",
      "  1                  -1  1     18560  ultralytics.nn.modules.conv.Conv             [32, 64, 3, 2]                \n",
      "  2                  -1  1     29056  ultralytics.nn.modules.block.C2f             [64, 64, 1, True]             \n",
      "  3                  -1  1     73984  ultralytics.nn.modules.conv.Conv             [64, 128, 3, 2]               \n",
      "  4                  -1  2    197632  ultralytics.nn.modules.block.C2f             [128, 128, 2, True]           \n",
      "  5                  -1  1    295424  ultralytics.nn.modules.conv.Conv             [128, 256, 3, 2]              \n",
      "  6                  -1  2    788480  ultralytics.nn.modules.block.C2f             [256, 256, 2, True]           \n",
      "  7                  -1  1   1180672  ultralytics.nn.modules.conv.Conv             [256, 512, 3, 2]              \n",
      "  8                  -1  1   1838080  ultralytics.nn.modules.block.C2f             [512, 512, 1, True]           \n",
      "  9                  -1  1    656896  ultralytics.nn.modules.block.SPPF            [512, 512, 5]                 \n",
      " 10                  -1  1         0  torch.nn.modules.upsampling.Upsample         [None, 2, 'nearest']          \n",
      " 11             [-1, 6]  1         0  ultralytics.nn.modules.conv.Concat           [1]                           \n",
      " 12                  -1  1    591360  ultralytics.nn.modules.block.C2f             [768, 256, 1]                 \n",
      " 13                  -1  1         0  torch.nn.modules.upsampling.Upsample         [None, 2, 'nearest']          \n",
      " 14             [-1, 4]  1         0  ultralytics.nn.modules.conv.Concat           [1]                           \n",
      " 15                  -1  1    148224  ultralytics.nn.modules.block.C2f             [384, 128, 1]                 \n",
      " 16                  -1  1    147712  ultralytics.nn.modules.conv.Conv             [128, 128, 3, 2]              \n",
      " 17            [-1, 12]  1         0  ultralytics.nn.modules.conv.Concat           [1]                           \n",
      " 18                  -1  1    493056  ultralytics.nn.modules.block.C2f             [384, 256, 1]                 \n",
      " 19                  -1  1    590336  ultralytics.nn.modules.conv.Conv             [256, 256, 3, 2]              \n",
      " 20             [-1, 9]  1         0  ultralytics.nn.modules.conv.Concat           [1]                           \n",
      " 21                  -1  1   1969152  ultralytics.nn.modules.block.C2f             [768, 512, 1]                 \n",
      " 22        [15, 18, 21]  1   2770931  ultralytics.nn.modules.head.Segment          [1, 32, 128, [128, 256, 512]] \n",
      "YOLOv8s-seg summary: 261 layers, 11,790,483 parameters, 11,790,467 gradients, 42.7 GFLOPs\n",
      "\n",
      "\u001b[34m\u001b[1mTensorBoard: \u001b[0mStart with 'tensorboard --logdir runs/segment/train', view at http://localhost:6006/\n",
      "Freezing layer 'model.22.dfl.conv.weight'\n",
      "\u001b[34m\u001b[1mAMP: \u001b[0mrunning Automatic Mixed Precision (AMP) checks with YOLOv8n...\n",
      "Downloading https://github.com/ultralytics/assets/releases/download/v8.2.0/yolov8n.pt to 'yolov8n.pt'...\n"
     ]
    },
    {
     "name": "stderr",
     "output_type": "stream",
     "text": [
      "100%|██████████| 6.25M/6.25M [00:00<00:00, 180MB/s]\n"
     ]
    },
    {
     "name": "stdout",
     "output_type": "stream",
     "text": [
      "\u001b[34m\u001b[1mAMP: \u001b[0mchecks passed ✅\n"
     ]
    },
    {
     "name": "stderr",
     "output_type": "stream",
     "text": [
      "\u001b[34m\u001b[1mtrain: \u001b[0mScanning /teamspace/studios/this_studio/train/labels... 5599 images, 0 backgrounds, 0 corrupt: 100%|██████████| 5599/5599 [00:24<00:00, 230.36it/s]\n"
     ]
    },
    {
     "name": "stdout",
     "output_type": "stream",
     "text": [
      "\u001b[34m\u001b[1mtrain: \u001b[0mNew cache created: /teamspace/studios/this_studio/train/labels.cache\n"
     ]
    },
    {
     "name": "stderr",
     "output_type": "stream",
     "text": [
      "\u001b[34m\u001b[1mval: \u001b[0mScanning /teamspace/studios/this_studio/valid/labels... 1600 images, 0 backgrounds, 0 corrupt: 100%|██████████| 1600/1600 [00:02<00:00, 764.48it/s]"
     ]
    },
    {
     "name": "stdout",
     "output_type": "stream",
     "text": [
      "\u001b[34m\u001b[1mval: \u001b[0mNew cache created: /teamspace/studios/this_studio/valid/labels.cache\n"
     ]
    },
    {
     "name": "stderr",
     "output_type": "stream",
     "text": [
      "\n"
     ]
    },
    {
     "name": "stdout",
     "output_type": "stream",
     "text": [
      "Plotting labels to runs/segment/train/labels.jpg... \n",
      "\u001b[34m\u001b[1moptimizer:\u001b[0m 'optimizer=auto' found, ignoring 'lr0=0.01' and 'momentum=0.937' and determining best 'optimizer', 'lr0' and 'momentum' automatically... \n",
      "\u001b[34m\u001b[1moptimizer:\u001b[0m SGD(lr=0.01, momentum=0.9) with parameter groups 66 weight(decay=0.0), 77 weight(decay=0.0005), 76 bias(decay=0.0)\n",
      "\u001b[34m\u001b[1mTensorBoard: \u001b[0mmodel graph visualization added ✅\n",
      "Image sizes 640 train, 640 val\n",
      "Using 8 dataloader workers\n",
      "Logging results to \u001b[1mruns/segment/train\u001b[0m\n",
      "Starting training for 200 epochs...\n",
      "\n",
      "      Epoch    GPU_mem   box_loss   seg_loss   cls_loss   dfl_loss  Instances       Size\n"
     ]
    },
    {
     "name": "stderr",
     "output_type": "stream",
     "text": [
      "      1/200      18.4G      3.757      5.957      4.154      4.183         95        640: 100%|██████████| 88/88 [01:21<00:00,  1.08it/s]\n",
      "                 Class     Images  Instances      Box(P          R      mAP50  mAP50-95)     Mask(P          R      mAP50  mAP50-95): 100%|██████████| 13/13 [00:13<00:00,  1.06s/it]\n"
     ]
    },
    {
     "name": "stdout",
     "output_type": "stream",
     "text": [
      "                   all       1600       3868    0.00171      0.212     0.0014   0.000481   0.000933      0.116   0.000605   0.000144\n",
      "\n",
      "      Epoch    GPU_mem   box_loss   seg_loss   cls_loss   dfl_loss  Instances       Size\n"
     ]
    },
    {
     "name": "stderr",
     "output_type": "stream",
     "text": [
      "      2/200      18.5G      3.321      4.297      3.496      3.765        121        640: 100%|██████████| 88/88 [01:20<00:00,  1.09it/s]\n",
      "                 Class     Images  Instances      Box(P          R      mAP50  mAP50-95)     Mask(P          R      mAP50  mAP50-95): 100%|██████████| 13/13 [00:14<00:00,  1.10s/it]\n"
     ]
    },
    {
     "name": "stdout",
     "output_type": "stream",
     "text": [
      "                   all       1600       3868      0.109      0.127      0.048     0.0138      0.111        0.1     0.0383     0.0113\n",
      "\n",
      "      Epoch    GPU_mem   box_loss   seg_loss   cls_loss   dfl_loss  Instances       Size\n"
     ]
    },
    {
     "name": "stderr",
     "output_type": "stream",
     "text": [
      "      3/200      18.5G      2.528      3.602      2.656      2.852         88        640: 100%|██████████| 88/88 [01:21<00:00,  1.09it/s]\n",
      "                 Class     Images  Instances      Box(P          R      mAP50  mAP50-95)     Mask(P          R      mAP50  mAP50-95): 100%|██████████| 13/13 [00:14<00:00,  1.11s/it]\n"
     ]
    },
    {
     "name": "stdout",
     "output_type": "stream",
     "text": [
      "                   all       1600       3868     0.0412     0.0693     0.0166    0.00637     0.0369     0.0742     0.0142    0.00512\n",
      "\n",
      "      Epoch    GPU_mem   box_loss   seg_loss   cls_loss   dfl_loss  Instances       Size\n"
     ]
    },
    {
     "name": "stderr",
     "output_type": "stream",
     "text": [
      "      4/200      18.5G      2.048      3.186      2.114      2.326        113        640: 100%|██████████| 88/88 [01:21<00:00,  1.08it/s]\n",
      "                 Class     Images  Instances      Box(P          R      mAP50  mAP50-95)     Mask(P          R      mAP50  mAP50-95): 100%|██████████| 13/13 [00:14<00:00,  1.09s/it]\n"
     ]
    },
    {
     "name": "stdout",
     "output_type": "stream",
     "text": [
      "                   all       1600       3868      0.346      0.332      0.281      0.121      0.382      0.332       0.29      0.121\n",
      "\n",
      "      Epoch    GPU_mem   box_loss   seg_loss   cls_loss   dfl_loss  Instances       Size\n"
     ]
    },
    {
     "name": "stderr",
     "output_type": "stream",
     "text": [
      "      5/200      18.6G      1.838      2.927      1.802      2.053        110        640: 100%|██████████| 88/88 [01:21<00:00,  1.08it/s]\n",
      "                 Class     Images  Instances      Box(P          R      mAP50  mAP50-95)     Mask(P          R      mAP50  mAP50-95): 100%|██████████| 13/13 [00:13<00:00,  1.03s/it]"
     ]
    },
    {
     "name": "stdout",
     "output_type": "stream",
     "text": [
      "                   all       1600       3868      0.483      0.377      0.376       0.17      0.491      0.363      0.369      0.162\n"
     ]
    },
    {
     "name": "stderr",
     "output_type": "stream",
     "text": [
      "\n"
     ]
    },
    {
     "name": "stdout",
     "output_type": "stream",
     "text": [
      "\n",
      "      Epoch    GPU_mem   box_loss   seg_loss   cls_loss   dfl_loss  Instances       Size\n"
     ]
    },
    {
     "name": "stderr",
     "output_type": "stream",
     "text": [
      "      6/200      18.4G      1.704      2.769      1.626      1.908        126        640: 100%|██████████| 88/88 [01:21<00:00,  1.09it/s]\n",
      "                 Class     Images  Instances      Box(P          R      mAP50  mAP50-95)     Mask(P          R      mAP50  mAP50-95): 100%|██████████| 13/13 [00:13<00:00,  1.03s/it]\n"
     ]
    },
    {
     "name": "stdout",
     "output_type": "stream",
     "text": [
      "                   all       1600       3868      0.569      0.532      0.543      0.276      0.577      0.512      0.532      0.252\n",
      "\n",
      "      Epoch    GPU_mem   box_loss   seg_loss   cls_loss   dfl_loss  Instances       Size\n"
     ]
    },
    {
     "name": "stderr",
     "output_type": "stream",
     "text": [
      "      7/200      18.5G      1.616      2.624      1.502      1.821        121        640: 100%|██████████| 88/88 [01:21<00:00,  1.08it/s]\n",
      "                 Class     Images  Instances      Box(P          R      mAP50  mAP50-95)     Mask(P          R      mAP50  mAP50-95): 100%|██████████| 13/13 [00:13<00:00,  1.05s/it]\n"
     ]
    },
    {
     "name": "stdout",
     "output_type": "stream",
     "text": [
      "                   all       1600       3868      0.657      0.573      0.606      0.322      0.665      0.575      0.606      0.296\n",
      "\n",
      "      Epoch    GPU_mem   box_loss   seg_loss   cls_loss   dfl_loss  Instances       Size\n"
     ]
    },
    {
     "name": "stderr",
     "output_type": "stream",
     "text": [
      "      8/200      18.4G      1.569      2.549      1.406      1.762        100        640: 100%|██████████| 88/88 [01:21<00:00,  1.08it/s]\n",
      "                 Class     Images  Instances      Box(P          R      mAP50  mAP50-95)     Mask(P          R      mAP50  mAP50-95): 100%|██████████| 13/13 [00:13<00:00,  1.04s/it]"
     ]
    },
    {
     "name": "stdout",
     "output_type": "stream",
     "text": [
      "                   all       1600       3868      0.668      0.598      0.641      0.354      0.683      0.596       0.64      0.316\n"
     ]
    },
    {
     "name": "stderr",
     "output_type": "stream",
     "text": [
      "\n"
     ]
    },
    {
     "name": "stdout",
     "output_type": "stream",
     "text": [
      "\n",
      "      Epoch    GPU_mem   box_loss   seg_loss   cls_loss   dfl_loss  Instances       Size\n"
     ]
    },
    {
     "name": "stderr",
     "output_type": "stream",
     "text": [
      "      9/200      18.3G      1.497      2.446      1.311      1.688        132        640: 100%|██████████| 88/88 [01:21<00:00,  1.08it/s]\n",
      "                 Class     Images  Instances      Box(P          R      mAP50  mAP50-95)     Mask(P          R      mAP50  mAP50-95): 100%|██████████| 13/13 [00:13<00:00,  1.02s/it]"
     ]
    },
    {
     "name": "stdout",
     "output_type": "stream",
     "text": [
      "                   all       1600       3868      0.717      0.646      0.695      0.404      0.735      0.635       0.69      0.364\n"
     ]
    },
    {
     "name": "stderr",
     "output_type": "stream",
     "text": [
      "\n"
     ]
    },
    {
     "name": "stdout",
     "output_type": "stream",
     "text": [
      "\n",
      "      Epoch    GPU_mem   box_loss   seg_loss   cls_loss   dfl_loss  Instances       Size\n"
     ]
    },
    {
     "name": "stderr",
     "output_type": "stream",
     "text": [
      "     10/200      18.6G       1.45      2.387      1.263      1.647         99        640: 100%|██████████| 88/88 [01:21<00:00,  1.08it/s]\n",
      "                 Class     Images  Instances      Box(P          R      mAP50  mAP50-95)     Mask(P          R      mAP50  mAP50-95): 100%|██████████| 13/13 [00:13<00:00,  1.03s/it]"
     ]
    },
    {
     "name": "stdout",
     "output_type": "stream",
     "text": [
      "                   all       1600       3868      0.746      0.644      0.721       0.43      0.754      0.639      0.713      0.393\n"
     ]
    },
    {
     "name": "stderr",
     "output_type": "stream",
     "text": [
      "\n"
     ]
    },
    {
     "name": "stdout",
     "output_type": "stream",
     "text": [
      "\n",
      "      Epoch    GPU_mem   box_loss   seg_loss   cls_loss   dfl_loss  Instances       Size\n"
     ]
    },
    {
     "name": "stderr",
     "output_type": "stream",
     "text": [
      "     11/200      18.3G      1.425      2.343      1.211      1.625        107        640: 100%|██████████| 88/88 [01:21<00:00,  1.09it/s]\n",
      "                 Class     Images  Instances      Box(P          R      mAP50  mAP50-95)     Mask(P          R      mAP50  mAP50-95): 100%|██████████| 13/13 [00:13<00:00,  1.04s/it]\n"
     ]
    },
    {
     "name": "stdout",
     "output_type": "stream",
     "text": [
      "                   all       1600       3868       0.75      0.663      0.736      0.436      0.749       0.66      0.727      0.386\n",
      "\n",
      "      Epoch    GPU_mem   box_loss   seg_loss   cls_loss   dfl_loss  Instances       Size\n"
     ]
    },
    {
     "name": "stderr",
     "output_type": "stream",
     "text": [
      "     12/200      18.5G      1.386      2.316      1.177      1.591         96        640: 100%|██████████| 88/88 [01:21<00:00,  1.08it/s]\n",
      "                 Class     Images  Instances      Box(P          R      mAP50  mAP50-95)     Mask(P          R      mAP50  mAP50-95): 100%|██████████| 13/13 [00:13<00:00,  1.03s/it]"
     ]
    },
    {
     "name": "stdout",
     "output_type": "stream",
     "text": [
      "                   all       1600       3868      0.736      0.667      0.731       0.43      0.742      0.663      0.727      0.394\n"
     ]
    },
    {
     "name": "stderr",
     "output_type": "stream",
     "text": [
      "\n"
     ]
    },
    {
     "name": "stdout",
     "output_type": "stream",
     "text": [
      "\n",
      "      Epoch    GPU_mem   box_loss   seg_loss   cls_loss   dfl_loss  Instances       Size\n"
     ]
    },
    {
     "name": "stderr",
     "output_type": "stream",
     "text": [
      "     13/200      18.4G      1.358      2.245      1.132      1.559        111        640: 100%|██████████| 88/88 [01:21<00:00,  1.08it/s]\n",
      "                 Class     Images  Instances      Box(P          R      mAP50  mAP50-95)     Mask(P          R      mAP50  mAP50-95): 100%|██████████| 13/13 [00:13<00:00,  1.03s/it]"
     ]
    },
    {
     "name": "stdout",
     "output_type": "stream",
     "text": [
      "                   all       1600       3868      0.807      0.705      0.783      0.491      0.825      0.703      0.781      0.443\n"
     ]
    },
    {
     "name": "stderr",
     "output_type": "stream",
     "text": [
      "\n"
     ]
    },
    {
     "name": "stdout",
     "output_type": "stream",
     "text": [
      "\n",
      "      Epoch    GPU_mem   box_loss   seg_loss   cls_loss   dfl_loss  Instances       Size\n"
     ]
    },
    {
     "name": "stderr",
     "output_type": "stream",
     "text": [
      "     14/200      18.5G      1.324      2.218      1.085      1.516         93        640: 100%|██████████| 88/88 [01:21<00:00,  1.08it/s]\n",
      "                 Class     Images  Instances      Box(P          R      mAP50  mAP50-95)     Mask(P          R      mAP50  mAP50-95): 100%|██████████| 13/13 [00:13<00:00,  1.03s/it]\n"
     ]
    },
    {
     "name": "stdout",
     "output_type": "stream",
     "text": [
      "                   all       1600       3868      0.785      0.711      0.781      0.489      0.799      0.695      0.775      0.444\n",
      "\n",
      "      Epoch    GPU_mem   box_loss   seg_loss   cls_loss   dfl_loss  Instances       Size\n"
     ]
    },
    {
     "name": "stderr",
     "output_type": "stream",
     "text": [
      "     15/200      18.6G      1.306      2.172      1.061      1.498        174        640: 100%|██████████| 88/88 [01:21<00:00,  1.08it/s]\n",
      "                 Class     Images  Instances      Box(P          R      mAP50  mAP50-95)     Mask(P          R      mAP50  mAP50-95): 100%|██████████| 13/13 [00:13<00:00,  1.02s/it]"
     ]
    },
    {
     "name": "stdout",
     "output_type": "stream",
     "text": [
      "                   all       1600       3868      0.806      0.705      0.782      0.498      0.814      0.699      0.778      0.456\n"
     ]
    },
    {
     "name": "stderr",
     "output_type": "stream",
     "text": [
      "\n"
     ]
    },
    {
     "name": "stdout",
     "output_type": "stream",
     "text": [
      "\n",
      "      Epoch    GPU_mem   box_loss   seg_loss   cls_loss   dfl_loss  Instances       Size\n"
     ]
    },
    {
     "name": "stderr",
     "output_type": "stream",
     "text": [
      "     16/200      18.4G       1.29      2.154      1.039      1.483        104        640: 100%|██████████| 88/88 [01:20<00:00,  1.09it/s]\n",
      "                 Class     Images  Instances      Box(P          R      mAP50  mAP50-95)     Mask(P          R      mAP50  mAP50-95): 100%|██████████| 13/13 [00:13<00:00,  1.03s/it]"
     ]
    },
    {
     "name": "stdout",
     "output_type": "stream",
     "text": [
      "                   all       1600       3868      0.819      0.736      0.801      0.516      0.821      0.726      0.796      0.468\n"
     ]
    },
    {
     "name": "stderr",
     "output_type": "stream",
     "text": [
      "\n"
     ]
    },
    {
     "name": "stdout",
     "output_type": "stream",
     "text": [
      "\n",
      "      Epoch    GPU_mem   box_loss   seg_loss   cls_loss   dfl_loss  Instances       Size\n"
     ]
    },
    {
     "name": "stderr",
     "output_type": "stream",
     "text": [
      "     17/200      18.6G      1.255      2.104       1.01      1.451        115        640: 100%|██████████| 88/88 [01:21<00:00,  1.08it/s]\n",
      "                 Class     Images  Instances      Box(P          R      mAP50  mAP50-95)     Mask(P          R      mAP50  mAP50-95): 100%|██████████| 13/13 [00:13<00:00,  1.04s/it]"
     ]
    },
    {
     "name": "stdout",
     "output_type": "stream",
     "text": [
      "                   all       1600       3868      0.827      0.739      0.815       0.54      0.827      0.738      0.811      0.489\n"
     ]
    },
    {
     "name": "stderr",
     "output_type": "stream",
     "text": [
      "\n"
     ]
    },
    {
     "name": "stdout",
     "output_type": "stream",
     "text": [
      "\n",
      "      Epoch    GPU_mem   box_loss   seg_loss   cls_loss   dfl_loss  Instances       Size\n"
     ]
    },
    {
     "name": "stderr",
     "output_type": "stream",
     "text": [
      "     18/200      18.5G      1.243      2.078     0.9848      1.438        119        640: 100%|██████████| 88/88 [01:21<00:00,  1.08it/s]\n",
      "                 Class     Images  Instances      Box(P          R      mAP50  mAP50-95)     Mask(P          R      mAP50  mAP50-95): 100%|██████████| 13/13 [00:13<00:00,  1.03s/it]"
     ]
    },
    {
     "name": "stdout",
     "output_type": "stream",
     "text": [
      "                   all       1600       3868      0.842      0.736      0.826      0.539      0.828      0.741      0.819      0.492\n"
     ]
    },
    {
     "name": "stderr",
     "output_type": "stream",
     "text": [
      "\n"
     ]
    },
    {
     "name": "stdout",
     "output_type": "stream",
     "text": [
      "\n",
      "      Epoch    GPU_mem   box_loss   seg_loss   cls_loss   dfl_loss  Instances       Size\n"
     ]
    },
    {
     "name": "stderr",
     "output_type": "stream",
     "text": [
      "     19/200      18.2G      1.224      2.054     0.9741      1.422        157        640: 100%|██████████| 88/88 [01:21<00:00,  1.08it/s]\n",
      "                 Class     Images  Instances      Box(P          R      mAP50  mAP50-95)     Mask(P          R      mAP50  mAP50-95): 100%|██████████| 13/13 [00:13<00:00,  1.01s/it]"
     ]
    },
    {
     "name": "stdout",
     "output_type": "stream",
     "text": [
      "                   all       1600       3868       0.83      0.745      0.833      0.566      0.848      0.728      0.821      0.505\n"
     ]
    },
    {
     "name": "stderr",
     "output_type": "stream",
     "text": [
      "\n"
     ]
    },
    {
     "name": "stdout",
     "output_type": "stream",
     "text": [
      "\n",
      "      Epoch    GPU_mem   box_loss   seg_loss   cls_loss   dfl_loss  Instances       Size\n"
     ]
    },
    {
     "name": "stderr",
     "output_type": "stream",
     "text": [
      "     20/200      18.5G      1.215      2.046      0.944      1.402        106        640: 100%|██████████| 88/88 [01:21<00:00,  1.09it/s]\n",
      "                 Class     Images  Instances      Box(P          R      mAP50  mAP50-95)     Mask(P          R      mAP50  mAP50-95): 100%|██████████| 13/13 [00:13<00:00,  1.03s/it]"
     ]
    },
    {
     "name": "stdout",
     "output_type": "stream",
     "text": [
      "                   all       1600       3868       0.84      0.778      0.841      0.568      0.846      0.769      0.837      0.515\n"
     ]
    },
    {
     "name": "stderr",
     "output_type": "stream",
     "text": [
      "\n"
     ]
    },
    {
     "name": "stdout",
     "output_type": "stream",
     "text": [
      "\n",
      "      Epoch    GPU_mem   box_loss   seg_loss   cls_loss   dfl_loss  Instances       Size\n"
     ]
    },
    {
     "name": "stderr",
     "output_type": "stream",
     "text": [
      "     21/200      18.6G      1.193      2.004     0.9309       1.39         83        640: 100%|██████████| 88/88 [01:20<00:00,  1.10it/s]\n",
      "                 Class     Images  Instances      Box(P          R      mAP50  mAP50-95)     Mask(P          R      mAP50  mAP50-95): 100%|██████████| 13/13 [00:13<00:00,  1.01s/it]"
     ]
    },
    {
     "name": "stdout",
     "output_type": "stream",
     "text": [
      "                   all       1600       3868      0.854      0.777      0.857      0.599      0.873      0.758      0.852      0.537\n"
     ]
    },
    {
     "name": "stderr",
     "output_type": "stream",
     "text": [
      "\n"
     ]
    },
    {
     "name": "stdout",
     "output_type": "stream",
     "text": [
      "\n",
      "      Epoch    GPU_mem   box_loss   seg_loss   cls_loss   dfl_loss  Instances       Size\n"
     ]
    },
    {
     "name": "stderr",
     "output_type": "stream",
     "text": [
      "     22/200      18.5G      1.172      1.974     0.9034      1.368        121        640: 100%|██████████| 88/88 [01:20<00:00,  1.09it/s]\n",
      "                 Class     Images  Instances      Box(P          R      mAP50  mAP50-95)     Mask(P          R      mAP50  mAP50-95): 100%|██████████| 13/13 [00:13<00:00,  1.03s/it]"
     ]
    },
    {
     "name": "stdout",
     "output_type": "stream",
     "text": [
      "                   all       1600       3868      0.845       0.76      0.837      0.577      0.844      0.755      0.831      0.522\n"
     ]
    },
    {
     "name": "stderr",
     "output_type": "stream",
     "text": [
      "\n"
     ]
    },
    {
     "name": "stdout",
     "output_type": "stream",
     "text": [
      "\n",
      "      Epoch    GPU_mem   box_loss   seg_loss   cls_loss   dfl_loss  Instances       Size\n"
     ]
    },
    {
     "name": "stderr",
     "output_type": "stream",
     "text": [
      "     23/200      18.5G      1.167      1.958     0.8939      1.367        103        640: 100%|██████████| 88/88 [01:21<00:00,  1.08it/s]\n",
      "                 Class     Images  Instances      Box(P          R      mAP50  mAP50-95)     Mask(P          R      mAP50  mAP50-95): 100%|██████████| 13/13 [00:13<00:00,  1.02s/it]"
     ]
    },
    {
     "name": "stdout",
     "output_type": "stream",
     "text": [
      "                   all       1600       3868       0.85      0.805      0.871      0.614      0.851      0.793       0.86      0.537\n"
     ]
    },
    {
     "name": "stderr",
     "output_type": "stream",
     "text": [
      "\n"
     ]
    },
    {
     "name": "stdout",
     "output_type": "stream",
     "text": [
      "\n",
      "      Epoch    GPU_mem   box_loss   seg_loss   cls_loss   dfl_loss  Instances       Size\n"
     ]
    },
    {
     "name": "stderr",
     "output_type": "stream",
     "text": [
      "     24/200      18.5G      1.148      1.952     0.8863      1.352        129        640: 100%|██████████| 88/88 [01:20<00:00,  1.09it/s]\n",
      "                 Class     Images  Instances      Box(P          R      mAP50  mAP50-95)     Mask(P          R      mAP50  mAP50-95): 100%|██████████| 13/13 [00:13<00:00,  1.03s/it]"
     ]
    },
    {
     "name": "stdout",
     "output_type": "stream",
     "text": [
      "                   all       1600       3868      0.876      0.787      0.866      0.604      0.873      0.783      0.861      0.545\n"
     ]
    },
    {
     "name": "stderr",
     "output_type": "stream",
     "text": [
      "\n"
     ]
    },
    {
     "name": "stdout",
     "output_type": "stream",
     "text": [
      "\n",
      "      Epoch    GPU_mem   box_loss   seg_loss   cls_loss   dfl_loss  Instances       Size\n"
     ]
    },
    {
     "name": "stderr",
     "output_type": "stream",
     "text": [
      "     25/200      18.6G      1.145      1.924      0.869      1.348        100        640: 100%|██████████| 88/88 [01:21<00:00,  1.08it/s]\n",
      "                 Class     Images  Instances      Box(P          R      mAP50  mAP50-95)     Mask(P          R      mAP50  mAP50-95): 100%|██████████| 13/13 [00:13<00:00,  1.02s/it]"
     ]
    },
    {
     "name": "stdout",
     "output_type": "stream",
     "text": [
      "                   all       1600       3868      0.894      0.798      0.877      0.623      0.896       0.79      0.871      0.554\n"
     ]
    },
    {
     "name": "stderr",
     "output_type": "stream",
     "text": [
      "\n"
     ]
    },
    {
     "name": "stdout",
     "output_type": "stream",
     "text": [
      "\n",
      "      Epoch    GPU_mem   box_loss   seg_loss   cls_loss   dfl_loss  Instances       Size\n"
     ]
    },
    {
     "name": "stderr",
     "output_type": "stream",
     "text": [
      "     26/200      18.4G      1.117      1.891     0.8487      1.328         90        640: 100%|██████████| 88/88 [01:21<00:00,  1.09it/s]\n",
      "                 Class     Images  Instances      Box(P          R      mAP50  mAP50-95)     Mask(P          R      mAP50  mAP50-95): 100%|██████████| 13/13 [00:13<00:00,  1.02s/it]"
     ]
    },
    {
     "name": "stdout",
     "output_type": "stream",
     "text": [
      "                   all       1600       3868       0.88      0.794      0.877      0.616      0.879       0.79      0.873      0.563\n"
     ]
    },
    {
     "name": "stderr",
     "output_type": "stream",
     "text": [
      "\n"
     ]
    },
    {
     "name": "stdout",
     "output_type": "stream",
     "text": [
      "\n",
      "      Epoch    GPU_mem   box_loss   seg_loss   cls_loss   dfl_loss  Instances       Size\n"
     ]
    },
    {
     "name": "stderr",
     "output_type": "stream",
     "text": [
      "     27/200      18.5G      1.125      1.888     0.8419       1.32        134        640: 100%|██████████| 88/88 [01:21<00:00,  1.08it/s]\n",
      "                 Class     Images  Instances      Box(P          R      mAP50  mAP50-95)     Mask(P          R      mAP50  mAP50-95): 100%|██████████| 13/13 [00:13<00:00,  1.02s/it]"
     ]
    },
    {
     "name": "stdout",
     "output_type": "stream",
     "text": [
      "                   all       1600       3868      0.887      0.813      0.889      0.643      0.883      0.806      0.877      0.577\n"
     ]
    },
    {
     "name": "stderr",
     "output_type": "stream",
     "text": [
      "\n"
     ]
    },
    {
     "name": "stdout",
     "output_type": "stream",
     "text": [
      "\n",
      "      Epoch    GPU_mem   box_loss   seg_loss   cls_loss   dfl_loss  Instances       Size\n"
     ]
    },
    {
     "name": "stderr",
     "output_type": "stream",
     "text": [
      "     28/200      18.4G        1.1       1.85     0.8213      1.303        119        640: 100%|██████████| 88/88 [01:21<00:00,  1.08it/s]\n",
      "                 Class     Images  Instances      Box(P          R      mAP50  mAP50-95)     Mask(P          R      mAP50  mAP50-95): 100%|██████████| 13/13 [00:13<00:00,  1.01s/it]"
     ]
    },
    {
     "name": "stdout",
     "output_type": "stream",
     "text": [
      "                   all       1600       3868      0.899       0.82      0.888      0.642      0.899      0.816      0.887      0.581\n"
     ]
    },
    {
     "name": "stderr",
     "output_type": "stream",
     "text": [
      "\n"
     ]
    },
    {
     "name": "stdout",
     "output_type": "stream",
     "text": [
      "\n",
      "      Epoch    GPU_mem   box_loss   seg_loss   cls_loss   dfl_loss  Instances       Size\n"
     ]
    },
    {
     "name": "stderr",
     "output_type": "stream",
     "text": [
      "     29/200      18.5G        1.1      1.853     0.8228      1.303        114        640: 100%|██████████| 88/88 [01:20<00:00,  1.10it/s]\n",
      "                 Class     Images  Instances      Box(P          R      mAP50  mAP50-95)     Mask(P          R      mAP50  mAP50-95): 100%|██████████| 13/13 [00:13<00:00,  1.01s/it]"
     ]
    },
    {
     "name": "stdout",
     "output_type": "stream",
     "text": [
      "                   all       1600       3868      0.905      0.816      0.894      0.655      0.902      0.812       0.89      0.588\n"
     ]
    },
    {
     "name": "stderr",
     "output_type": "stream",
     "text": [
      "\n"
     ]
    },
    {
     "name": "stdout",
     "output_type": "stream",
     "text": [
      "\n",
      "      Epoch    GPU_mem   box_loss   seg_loss   cls_loss   dfl_loss  Instances       Size\n"
     ]
    },
    {
     "name": "stderr",
     "output_type": "stream",
     "text": [
      "     30/200      18.4G      1.078      1.827     0.7894      1.284        113        640: 100%|██████████| 88/88 [01:20<00:00,  1.09it/s]\n",
      "                 Class     Images  Instances      Box(P          R      mAP50  mAP50-95)     Mask(P          R      mAP50  mAP50-95): 100%|██████████| 13/13 [00:13<00:00,  1.03s/it]"
     ]
    },
    {
     "name": "stdout",
     "output_type": "stream",
     "text": [
      "                   all       1600       3868      0.902      0.822      0.896      0.651      0.906      0.815      0.891      0.585\n"
     ]
    },
    {
     "name": "stderr",
     "output_type": "stream",
     "text": [
      "\n"
     ]
    },
    {
     "name": "stdout",
     "output_type": "stream",
     "text": [
      "\n",
      "      Epoch    GPU_mem   box_loss   seg_loss   cls_loss   dfl_loss  Instances       Size\n"
     ]
    },
    {
     "name": "stderr",
     "output_type": "stream",
     "text": [
      "     31/200      18.4G      1.064      1.807     0.8013      1.272         73        640: 100%|██████████| 88/88 [01:21<00:00,  1.08it/s]\n",
      "                 Class     Images  Instances      Box(P          R      mAP50  mAP50-95)     Mask(P          R      mAP50  mAP50-95): 100%|██████████| 13/13 [00:13<00:00,  1.02s/it]"
     ]
    },
    {
     "name": "stdout",
     "output_type": "stream",
     "text": [
      "                   all       1600       3868      0.906      0.821      0.892      0.658      0.901      0.814      0.883       0.59\n"
     ]
    },
    {
     "name": "stderr",
     "output_type": "stream",
     "text": [
      "\n"
     ]
    },
    {
     "name": "stdout",
     "output_type": "stream",
     "text": [
      "\n",
      "      Epoch    GPU_mem   box_loss   seg_loss   cls_loss   dfl_loss  Instances       Size\n"
     ]
    },
    {
     "name": "stderr",
     "output_type": "stream",
     "text": [
      "     32/200      18.5G      1.054      1.786     0.7763      1.261        136        640: 100%|██████████| 88/88 [01:21<00:00,  1.08it/s]\n",
      "                 Class     Images  Instances      Box(P          R      mAP50  mAP50-95)     Mask(P          R      mAP50  mAP50-95): 100%|██████████| 13/13 [00:13<00:00,  1.02s/it]"
     ]
    },
    {
     "name": "stdout",
     "output_type": "stream",
     "text": [
      "                   all       1600       3868      0.897      0.838      0.902      0.666      0.892      0.836      0.895      0.603\n"
     ]
    },
    {
     "name": "stderr",
     "output_type": "stream",
     "text": [
      "\n"
     ]
    },
    {
     "name": "stdout",
     "output_type": "stream",
     "text": [
      "\n",
      "      Epoch    GPU_mem   box_loss   seg_loss   cls_loss   dfl_loss  Instances       Size\n"
     ]
    },
    {
     "name": "stderr",
     "output_type": "stream",
     "text": [
      "     33/200      18.6G      1.052      1.778     0.7821       1.26        148        640: 100%|██████████| 88/88 [01:21<00:00,  1.08it/s]\n",
      "                 Class     Images  Instances      Box(P          R      mAP50  mAP50-95)     Mask(P          R      mAP50  mAP50-95): 100%|██████████| 13/13 [00:13<00:00,  1.02s/it]"
     ]
    },
    {
     "name": "stdout",
     "output_type": "stream",
     "text": [
      "                   all       1600       3868      0.902      0.838      0.906       0.67      0.899      0.839      0.899      0.598\n"
     ]
    },
    {
     "name": "stderr",
     "output_type": "stream",
     "text": [
      "\n"
     ]
    },
    {
     "name": "stdout",
     "output_type": "stream",
     "text": [
      "\n",
      "      Epoch    GPU_mem   box_loss   seg_loss   cls_loss   dfl_loss  Instances       Size\n"
     ]
    },
    {
     "name": "stderr",
     "output_type": "stream",
     "text": [
      "     34/200      18.4G      1.045      1.758     0.7598      1.255         89        640: 100%|██████████| 88/88 [01:21<00:00,  1.08it/s]\n",
      "                 Class     Images  Instances      Box(P          R      mAP50  mAP50-95)     Mask(P          R      mAP50  mAP50-95): 100%|██████████| 13/13 [00:13<00:00,  1.03s/it]"
     ]
    },
    {
     "name": "stdout",
     "output_type": "stream",
     "text": [
      "                   all       1600       3868      0.902      0.834      0.904      0.677      0.901      0.831      0.892      0.607\n"
     ]
    },
    {
     "name": "stderr",
     "output_type": "stream",
     "text": [
      "\n"
     ]
    },
    {
     "name": "stdout",
     "output_type": "stream",
     "text": [
      "\n",
      "      Epoch    GPU_mem   box_loss   seg_loss   cls_loss   dfl_loss  Instances       Size\n"
     ]
    },
    {
     "name": "stderr",
     "output_type": "stream",
     "text": [
      "     35/200      18.4G      1.035      1.745     0.7554       1.25         99        640: 100%|██████████| 88/88 [01:21<00:00,  1.08it/s]\n",
      "                 Class     Images  Instances      Box(P          R      mAP50  mAP50-95)     Mask(P          R      mAP50  mAP50-95): 100%|██████████| 13/13 [00:13<00:00,  1.02s/it]"
     ]
    },
    {
     "name": "stdout",
     "output_type": "stream",
     "text": [
      "                   all       1600       3868      0.914      0.844       0.91      0.682      0.911      0.841      0.905      0.611\n"
     ]
    },
    {
     "name": "stderr",
     "output_type": "stream",
     "text": [
      "\n"
     ]
    },
    {
     "name": "stdout",
     "output_type": "stream",
     "text": [
      "\n",
      "      Epoch    GPU_mem   box_loss   seg_loss   cls_loss   dfl_loss  Instances       Size\n"
     ]
    },
    {
     "name": "stderr",
     "output_type": "stream",
     "text": [
      "     36/200      18.4G      1.034      1.756      0.762      1.254         87        640: 100%|██████████| 88/88 [01:21<00:00,  1.09it/s]\n",
      "                 Class     Images  Instances      Box(P          R      mAP50  mAP50-95)     Mask(P          R      mAP50  mAP50-95): 100%|██████████| 13/13 [00:13<00:00,  1.02s/it]"
     ]
    },
    {
     "name": "stdout",
     "output_type": "stream",
     "text": [
      "                   all       1600       3868      0.918      0.839      0.906      0.675      0.916      0.835      0.902      0.615\n"
     ]
    },
    {
     "name": "stderr",
     "output_type": "stream",
     "text": [
      "\n"
     ]
    },
    {
     "name": "stdout",
     "output_type": "stream",
     "text": [
      "\n",
      "      Epoch    GPU_mem   box_loss   seg_loss   cls_loss   dfl_loss  Instances       Size\n"
     ]
    },
    {
     "name": "stderr",
     "output_type": "stream",
     "text": [
      "     37/200      18.5G      1.022      1.736     0.7461      1.242         81        640: 100%|██████████| 88/88 [01:21<00:00,  1.08it/s]\n",
      "                 Class     Images  Instances      Box(P          R      mAP50  mAP50-95)     Mask(P          R      mAP50  mAP50-95): 100%|██████████| 13/13 [00:13<00:00,  1.02s/it]"
     ]
    },
    {
     "name": "stdout",
     "output_type": "stream",
     "text": [
      "                   all       1600       3868      0.909      0.853      0.907       0.69      0.904       0.85      0.895      0.613\n"
     ]
    },
    {
     "name": "stderr",
     "output_type": "stream",
     "text": [
      "\n"
     ]
    },
    {
     "name": "stdout",
     "output_type": "stream",
     "text": [
      "\n",
      "      Epoch    GPU_mem   box_loss   seg_loss   cls_loss   dfl_loss  Instances       Size\n"
     ]
    },
    {
     "name": "stderr",
     "output_type": "stream",
     "text": [
      "     38/200      18.2G      1.021      1.723     0.7453      1.237        102        640: 100%|██████████| 88/88 [01:21<00:00,  1.08it/s]\n",
      "                 Class     Images  Instances      Box(P          R      mAP50  mAP50-95)     Mask(P          R      mAP50  mAP50-95): 100%|██████████| 13/13 [00:13<00:00,  1.00s/it]"
     ]
    },
    {
     "name": "stdout",
     "output_type": "stream",
     "text": [
      "                   all       1600       3868      0.901       0.83      0.901      0.678        0.9      0.829      0.896       0.61\n"
     ]
    },
    {
     "name": "stderr",
     "output_type": "stream",
     "text": [
      "\n"
     ]
    },
    {
     "name": "stdout",
     "output_type": "stream",
     "text": [
      "\n",
      "      Epoch    GPU_mem   box_loss   seg_loss   cls_loss   dfl_loss  Instances       Size\n"
     ]
    },
    {
     "name": "stderr",
     "output_type": "stream",
     "text": [
      "     39/200      18.5G      1.011      1.717     0.7365      1.225         88        640: 100%|██████████| 88/88 [01:21<00:00,  1.08it/s]\n",
      "                 Class     Images  Instances      Box(P          R      mAP50  mAP50-95)     Mask(P          R      mAP50  mAP50-95): 100%|██████████| 13/13 [00:13<00:00,  1.01s/it]"
     ]
    },
    {
     "name": "stdout",
     "output_type": "stream",
     "text": [
      "                   all       1600       3868      0.918      0.851      0.913      0.693      0.923      0.845       0.91      0.629\n"
     ]
    },
    {
     "name": "stderr",
     "output_type": "stream",
     "text": [
      "\n"
     ]
    },
    {
     "name": "stdout",
     "output_type": "stream",
     "text": [
      "\n",
      "      Epoch    GPU_mem   box_loss   seg_loss   cls_loss   dfl_loss  Instances       Size\n"
     ]
    },
    {
     "name": "stderr",
     "output_type": "stream",
     "text": [
      "     40/200      18.5G      1.001      1.705     0.7258      1.225         91        640: 100%|██████████| 88/88 [01:20<00:00,  1.09it/s]\n",
      "                 Class     Images  Instances      Box(P          R      mAP50  mAP50-95)     Mask(P          R      mAP50  mAP50-95): 100%|██████████| 13/13 [00:13<00:00,  1.02s/it]"
     ]
    },
    {
     "name": "stdout",
     "output_type": "stream",
     "text": [
      "                   all       1600       3868      0.911      0.854      0.915      0.701      0.907      0.849      0.908      0.631\n"
     ]
    },
    {
     "name": "stderr",
     "output_type": "stream",
     "text": [
      "\n"
     ]
    },
    {
     "name": "stdout",
     "output_type": "stream",
     "text": [
      "\n",
      "      Epoch    GPU_mem   box_loss   seg_loss   cls_loss   dfl_loss  Instances       Size\n"
     ]
    },
    {
     "name": "stderr",
     "output_type": "stream",
     "text": [
      "     41/200      18.4G     0.9985      1.699     0.7258      1.213        140        640: 100%|██████████| 88/88 [01:21<00:00,  1.08it/s]\n",
      "                 Class     Images  Instances      Box(P          R      mAP50  mAP50-95)     Mask(P          R      mAP50  mAP50-95): 100%|██████████| 13/13 [00:13<00:00,  1.03s/it]"
     ]
    },
    {
     "name": "stdout",
     "output_type": "stream",
     "text": [
      "                   all       1600       3868      0.923      0.862      0.919      0.702       0.92      0.856      0.909      0.632\n"
     ]
    },
    {
     "name": "stderr",
     "output_type": "stream",
     "text": [
      "\n"
     ]
    },
    {
     "name": "stdout",
     "output_type": "stream",
     "text": [
      "\n",
      "      Epoch    GPU_mem   box_loss   seg_loss   cls_loss   dfl_loss  Instances       Size\n"
     ]
    },
    {
     "name": "stderr",
     "output_type": "stream",
     "text": [
      "     42/200      18.5G     0.9862       1.67     0.7079      1.209        112        640: 100%|██████████| 88/88 [01:21<00:00,  1.09it/s]\n",
      "                 Class     Images  Instances      Box(P          R      mAP50  mAP50-95)     Mask(P          R      mAP50  mAP50-95): 100%|██████████| 13/13 [00:13<00:00,  1.03s/it]"
     ]
    },
    {
     "name": "stdout",
     "output_type": "stream",
     "text": [
      "                   all       1600       3868      0.919      0.855      0.913      0.704      0.915      0.851      0.904      0.635\n"
     ]
    },
    {
     "name": "stderr",
     "output_type": "stream",
     "text": [
      "\n"
     ]
    },
    {
     "name": "stdout",
     "output_type": "stream",
     "text": [
      "\n",
      "      Epoch    GPU_mem   box_loss   seg_loss   cls_loss   dfl_loss  Instances       Size\n"
     ]
    },
    {
     "name": "stderr",
     "output_type": "stream",
     "text": [
      "     43/200      18.5G     0.9833      1.654     0.7045      1.206         84        640: 100%|██████████| 88/88 [01:21<00:00,  1.09it/s]\n",
      "                 Class     Images  Instances      Box(P          R      mAP50  mAP50-95)     Mask(P          R      mAP50  mAP50-95): 100%|██████████| 13/13 [00:13<00:00,  1.01s/it]"
     ]
    },
    {
     "name": "stdout",
     "output_type": "stream",
     "text": [
      "                   all       1600       3868      0.914      0.854      0.914      0.701      0.916      0.851      0.913      0.641\n"
     ]
    },
    {
     "name": "stderr",
     "output_type": "stream",
     "text": [
      "\n"
     ]
    },
    {
     "name": "stdout",
     "output_type": "stream",
     "text": [
      "\n",
      "      Epoch    GPU_mem   box_loss   seg_loss   cls_loss   dfl_loss  Instances       Size\n"
     ]
    },
    {
     "name": "stderr",
     "output_type": "stream",
     "text": [
      "     44/200      18.5G      0.969      1.641     0.6869      1.195        121        640: 100%|██████████| 88/88 [01:20<00:00,  1.09it/s]\n",
      "                 Class     Images  Instances      Box(P          R      mAP50  mAP50-95)     Mask(P          R      mAP50  mAP50-95): 100%|██████████| 13/13 [00:13<00:00,  1.02s/it]"
     ]
    },
    {
     "name": "stdout",
     "output_type": "stream",
     "text": [
      "                   all       1600       3868      0.924      0.848      0.917      0.708      0.924      0.848      0.915      0.637\n"
     ]
    },
    {
     "name": "stderr",
     "output_type": "stream",
     "text": [
      "\n"
     ]
    },
    {
     "name": "stdout",
     "output_type": "stream",
     "text": [
      "\n",
      "      Epoch    GPU_mem   box_loss   seg_loss   cls_loss   dfl_loss  Instances       Size\n"
     ]
    },
    {
     "name": "stderr",
     "output_type": "stream",
     "text": [
      "     45/200      18.4G     0.9786      1.664     0.7028      1.201        120        640: 100%|██████████| 88/88 [01:21<00:00,  1.09it/s]\n",
      "                 Class     Images  Instances      Box(P          R      mAP50  mAP50-95)     Mask(P          R      mAP50  mAP50-95): 100%|██████████| 13/13 [00:13<00:00,  1.02s/it]"
     ]
    },
    {
     "name": "stdout",
     "output_type": "stream",
     "text": [
      "                   all       1600       3868      0.911      0.866      0.917       0.71      0.912       0.86      0.909      0.642\n"
     ]
    },
    {
     "name": "stderr",
     "output_type": "stream",
     "text": [
      "\n"
     ]
    },
    {
     "name": "stdout",
     "output_type": "stream",
     "text": [
      "\n",
      "      Epoch    GPU_mem   box_loss   seg_loss   cls_loss   dfl_loss  Instances       Size\n"
     ]
    },
    {
     "name": "stderr",
     "output_type": "stream",
     "text": [
      "     46/200      18.5G     0.9626      1.655     0.6947       1.19        153        640: 100%|██████████| 88/88 [01:20<00:00,  1.09it/s]\n",
      "                 Class     Images  Instances      Box(P          R      mAP50  mAP50-95)     Mask(P          R      mAP50  mAP50-95): 100%|██████████| 13/13 [00:13<00:00,  1.03s/it]"
     ]
    },
    {
     "name": "stdout",
     "output_type": "stream",
     "text": [
      "                   all       1600       3868      0.932      0.851       0.92      0.716      0.928      0.849      0.913      0.639\n"
     ]
    },
    {
     "name": "stderr",
     "output_type": "stream",
     "text": [
      "\n"
     ]
    },
    {
     "name": "stdout",
     "output_type": "stream",
     "text": [
      "\n",
      "      Epoch    GPU_mem   box_loss   seg_loss   cls_loss   dfl_loss  Instances       Size\n"
     ]
    },
    {
     "name": "stderr",
     "output_type": "stream",
     "text": [
      "     47/200      18.3G     0.9544      1.606      0.679      1.185        123        640: 100%|██████████| 88/88 [01:21<00:00,  1.08it/s]\n",
      "                 Class     Images  Instances      Box(P          R      mAP50  mAP50-95)     Mask(P          R      mAP50  mAP50-95): 100%|██████████| 13/13 [00:13<00:00,  1.02s/it]"
     ]
    },
    {
     "name": "stdout",
     "output_type": "stream",
     "text": [
      "                   all       1600       3868      0.919      0.851      0.914      0.708      0.918      0.847      0.903      0.637\n"
     ]
    },
    {
     "name": "stderr",
     "output_type": "stream",
     "text": [
      "\n"
     ]
    },
    {
     "name": "stdout",
     "output_type": "stream",
     "text": [
      "\n",
      "      Epoch    GPU_mem   box_loss   seg_loss   cls_loss   dfl_loss  Instances       Size\n"
     ]
    },
    {
     "name": "stderr",
     "output_type": "stream",
     "text": [
      "     48/200      18.3G     0.9543      1.609     0.6749      1.178        130        640: 100%|██████████| 88/88 [01:21<00:00,  1.08it/s]\n",
      "                 Class     Images  Instances      Box(P          R      mAP50  mAP50-95)     Mask(P          R      mAP50  mAP50-95): 100%|██████████| 13/13 [00:13<00:00,  1.01s/it]"
     ]
    },
    {
     "name": "stdout",
     "output_type": "stream",
     "text": [
      "                   all       1600       3868      0.921      0.866      0.922      0.722      0.922      0.866      0.921      0.655\n"
     ]
    },
    {
     "name": "stderr",
     "output_type": "stream",
     "text": [
      "\n"
     ]
    },
    {
     "name": "stdout",
     "output_type": "stream",
     "text": [
      "\n",
      "      Epoch    GPU_mem   box_loss   seg_loss   cls_loss   dfl_loss  Instances       Size\n"
     ]
    },
    {
     "name": "stderr",
     "output_type": "stream",
     "text": [
      "     49/200      18.5G     0.9497      1.609     0.6757      1.181        106        640: 100%|██████████| 88/88 [01:20<00:00,  1.09it/s]\n",
      "                 Class     Images  Instances      Box(P          R      mAP50  mAP50-95)     Mask(P          R      mAP50  mAP50-95): 100%|██████████| 13/13 [00:13<00:00,  1.02s/it]"
     ]
    },
    {
     "name": "stdout",
     "output_type": "stream",
     "text": [
      "                   all       1600       3868      0.935      0.859      0.924      0.724      0.932      0.855      0.919      0.652\n"
     ]
    },
    {
     "name": "stderr",
     "output_type": "stream",
     "text": [
      "\n"
     ]
    },
    {
     "name": "stdout",
     "output_type": "stream",
     "text": [
      "\n",
      "      Epoch    GPU_mem   box_loss   seg_loss   cls_loss   dfl_loss  Instances       Size\n"
     ]
    },
    {
     "name": "stderr",
     "output_type": "stream",
     "text": [
      "     50/200      18.2G     0.9469      1.608     0.6713      1.174        134        640: 100%|██████████| 88/88 [01:21<00:00,  1.08it/s]\n",
      "                 Class     Images  Instances      Box(P          R      mAP50  mAP50-95)     Mask(P          R      mAP50  mAP50-95): 100%|██████████| 13/13 [00:13<00:00,  1.00s/it]"
     ]
    },
    {
     "name": "stdout",
     "output_type": "stream",
     "text": [
      "                   all       1600       3868       0.94      0.861      0.928      0.729       0.94      0.861      0.925      0.664\n"
     ]
    },
    {
     "name": "stderr",
     "output_type": "stream",
     "text": [
      "\n"
     ]
    },
    {
     "name": "stdout",
     "output_type": "stream",
     "text": [
      "\n",
      "      Epoch    GPU_mem   box_loss   seg_loss   cls_loss   dfl_loss  Instances       Size\n"
     ]
    },
    {
     "name": "stderr",
     "output_type": "stream",
     "text": [
      "     51/200      18.6G     0.9404      1.588     0.6657      1.173        121        640: 100%|██████████| 88/88 [01:21<00:00,  1.09it/s]\n",
      "                 Class     Images  Instances      Box(P          R      mAP50  mAP50-95)     Mask(P          R      mAP50  mAP50-95): 100%|██████████| 13/13 [00:13<00:00,  1.02s/it]"
     ]
    },
    {
     "name": "stdout",
     "output_type": "stream",
     "text": [
      "                   all       1600       3868      0.924      0.871      0.927      0.732      0.925      0.871      0.924      0.669\n"
     ]
    },
    {
     "name": "stderr",
     "output_type": "stream",
     "text": [
      "\n"
     ]
    },
    {
     "name": "stdout",
     "output_type": "stream",
     "text": [
      "\n",
      "      Epoch    GPU_mem   box_loss   seg_loss   cls_loss   dfl_loss  Instances       Size\n"
     ]
    },
    {
     "name": "stderr",
     "output_type": "stream",
     "text": [
      "     52/200      18.6G      0.936       1.57     0.6589      1.162         82        640: 100%|██████████| 88/88 [01:21<00:00,  1.08it/s]\n",
      "                 Class     Images  Instances      Box(P          R      mAP50  mAP50-95)     Mask(P          R      mAP50  mAP50-95): 100%|██████████| 13/13 [00:13<00:00,  1.02s/it]"
     ]
    },
    {
     "name": "stdout",
     "output_type": "stream",
     "text": [
      "                   all       1600       3868      0.937       0.86      0.926      0.731      0.934      0.856      0.917       0.66\n"
     ]
    },
    {
     "name": "stderr",
     "output_type": "stream",
     "text": [
      "\n"
     ]
    },
    {
     "name": "stdout",
     "output_type": "stream",
     "text": [
      "\n",
      "      Epoch    GPU_mem   box_loss   seg_loss   cls_loss   dfl_loss  Instances       Size\n"
     ]
    },
    {
     "name": "stderr",
     "output_type": "stream",
     "text": [
      "     53/200      18.6G     0.9236      1.565     0.6459      1.154        123        640: 100%|██████████| 88/88 [01:21<00:00,  1.09it/s]\n",
      "                 Class     Images  Instances      Box(P          R      mAP50  mAP50-95)     Mask(P          R      mAP50  mAP50-95): 100%|██████████| 13/13 [00:13<00:00,  1.01s/it]"
     ]
    },
    {
     "name": "stdout",
     "output_type": "stream",
     "text": [
      "                   all       1600       3868      0.931      0.876      0.929      0.738      0.928      0.878      0.929      0.671\n"
     ]
    },
    {
     "name": "stderr",
     "output_type": "stream",
     "text": [
      "\n"
     ]
    },
    {
     "name": "stdout",
     "output_type": "stream",
     "text": [
      "\n",
      "      Epoch    GPU_mem   box_loss   seg_loss   cls_loss   dfl_loss  Instances       Size\n"
     ]
    },
    {
     "name": "stderr",
     "output_type": "stream",
     "text": [
      "     54/200      18.6G     0.9336      1.585     0.6555      1.164        113        640: 100%|██████████| 88/88 [01:21<00:00,  1.08it/s]\n",
      "                 Class     Images  Instances      Box(P          R      mAP50  mAP50-95)     Mask(P          R      mAP50  mAP50-95): 100%|██████████| 13/13 [00:13<00:00,  1.01s/it]"
     ]
    },
    {
     "name": "stdout",
     "output_type": "stream",
     "text": [
      "                   all       1600       3868      0.924      0.878      0.929      0.736      0.922      0.873      0.922      0.664\n"
     ]
    },
    {
     "name": "stderr",
     "output_type": "stream",
     "text": [
      "\n"
     ]
    },
    {
     "name": "stdout",
     "output_type": "stream",
     "text": [
      "\n",
      "      Epoch    GPU_mem   box_loss   seg_loss   cls_loss   dfl_loss  Instances       Size\n"
     ]
    },
    {
     "name": "stderr",
     "output_type": "stream",
     "text": [
      "     55/200      18.4G     0.9172      1.561     0.6374      1.148         89        640: 100%|██████████| 88/88 [01:20<00:00,  1.10it/s]\n",
      "                 Class     Images  Instances      Box(P          R      mAP50  mAP50-95)     Mask(P          R      mAP50  mAP50-95): 100%|██████████| 13/13 [00:13<00:00,  1.01s/it]"
     ]
    },
    {
     "name": "stdout",
     "output_type": "stream",
     "text": [
      "                   all       1600       3868      0.928      0.879      0.928      0.741      0.926      0.876      0.918      0.666\n"
     ]
    },
    {
     "name": "stderr",
     "output_type": "stream",
     "text": [
      "\n"
     ]
    },
    {
     "name": "stdout",
     "output_type": "stream",
     "text": [
      "\n",
      "      Epoch    GPU_mem   box_loss   seg_loss   cls_loss   dfl_loss  Instances       Size\n"
     ]
    },
    {
     "name": "stderr",
     "output_type": "stream",
     "text": [
      "     56/200      18.6G     0.9102      1.533     0.6355      1.146        118        640: 100%|██████████| 88/88 [01:21<00:00,  1.08it/s]\n",
      "                 Class     Images  Instances      Box(P          R      mAP50  mAP50-95)     Mask(P          R      mAP50  mAP50-95): 100%|██████████| 13/13 [00:13<00:00,  1.02s/it]"
     ]
    },
    {
     "name": "stdout",
     "output_type": "stream",
     "text": [
      "                   all       1600       3868      0.936      0.877      0.932      0.743      0.933      0.874      0.925      0.673\n"
     ]
    },
    {
     "name": "stderr",
     "output_type": "stream",
     "text": [
      "\n"
     ]
    },
    {
     "name": "stdout",
     "output_type": "stream",
     "text": [
      "\n",
      "      Epoch    GPU_mem   box_loss   seg_loss   cls_loss   dfl_loss  Instances       Size\n"
     ]
    },
    {
     "name": "stderr",
     "output_type": "stream",
     "text": [
      "     57/200      18.4G     0.9162      1.556     0.6412      1.146         99        640: 100%|██████████| 88/88 [01:20<00:00,  1.09it/s]\n",
      "                 Class     Images  Instances      Box(P          R      mAP50  mAP50-95)     Mask(P          R      mAP50  mAP50-95): 100%|██████████| 13/13 [00:13<00:00,  1.02s/it]"
     ]
    },
    {
     "name": "stdout",
     "output_type": "stream",
     "text": [
      "                   all       1600       3868      0.926      0.868      0.929       0.74      0.927      0.858      0.917       0.67\n"
     ]
    },
    {
     "name": "stderr",
     "output_type": "stream",
     "text": [
      "\n"
     ]
    },
    {
     "name": "stdout",
     "output_type": "stream",
     "text": [
      "\n",
      "      Epoch    GPU_mem   box_loss   seg_loss   cls_loss   dfl_loss  Instances       Size\n"
     ]
    },
    {
     "name": "stderr",
     "output_type": "stream",
     "text": [
      "     58/200      18.3G        0.9      1.528     0.6239      1.134        136        640: 100%|██████████| 88/88 [01:21<00:00,  1.08it/s]\n",
      "                 Class     Images  Instances      Box(P          R      mAP50  mAP50-95)     Mask(P          R      mAP50  mAP50-95): 100%|██████████| 13/13 [00:13<00:00,  1.02s/it]"
     ]
    },
    {
     "name": "stdout",
     "output_type": "stream",
     "text": [
      "                   all       1600       3868      0.921      0.878      0.927      0.744      0.932      0.864      0.926      0.676\n"
     ]
    },
    {
     "name": "stderr",
     "output_type": "stream",
     "text": [
      "\n"
     ]
    },
    {
     "name": "stdout",
     "output_type": "stream",
     "text": [
      "\n",
      "      Epoch    GPU_mem   box_loss   seg_loss   cls_loss   dfl_loss  Instances       Size\n"
     ]
    },
    {
     "name": "stderr",
     "output_type": "stream",
     "text": [
      "     59/200      18.2G     0.8948      1.522     0.6179       1.13        121        640: 100%|██████████| 88/88 [01:21<00:00,  1.08it/s]\n",
      "                 Class     Images  Instances      Box(P          R      mAP50  mAP50-95)     Mask(P          R      mAP50  mAP50-95): 100%|██████████| 13/13 [00:12<00:00,  1.00it/s]"
     ]
    },
    {
     "name": "stdout",
     "output_type": "stream",
     "text": [
      "                   all       1600       3868      0.927      0.879      0.933      0.749      0.923      0.882      0.932      0.679\n"
     ]
    },
    {
     "name": "stderr",
     "output_type": "stream",
     "text": [
      "\n"
     ]
    },
    {
     "name": "stdout",
     "output_type": "stream",
     "text": [
      "\n",
      "      Epoch    GPU_mem   box_loss   seg_loss   cls_loss   dfl_loss  Instances       Size\n"
     ]
    },
    {
     "name": "stderr",
     "output_type": "stream",
     "text": [
      "     60/200      18.4G     0.8975      1.519     0.6214      1.129        120        640: 100%|██████████| 88/88 [01:20<00:00,  1.09it/s]\n",
      "                 Class     Images  Instances      Box(P          R      mAP50  mAP50-95)     Mask(P          R      mAP50  mAP50-95): 100%|██████████| 13/13 [00:13<00:00,  1.02s/it]"
     ]
    },
    {
     "name": "stdout",
     "output_type": "stream",
     "text": [
      "                   all       1600       3868      0.936      0.881      0.932      0.751      0.932      0.876      0.922      0.678\n"
     ]
    },
    {
     "name": "stderr",
     "output_type": "stream",
     "text": [
      "\n"
     ]
    },
    {
     "name": "stdout",
     "output_type": "stream",
     "text": [
      "\n",
      "      Epoch    GPU_mem   box_loss   seg_loss   cls_loss   dfl_loss  Instances       Size\n"
     ]
    },
    {
     "name": "stderr",
     "output_type": "stream",
     "text": [
      "     61/200      18.6G     0.8896      1.502     0.6183      1.127         96        640: 100%|██████████| 88/88 [01:21<00:00,  1.09it/s]\n",
      "                 Class     Images  Instances      Box(P          R      mAP50  mAP50-95)     Mask(P          R      mAP50  mAP50-95): 100%|██████████| 13/13 [00:13<00:00,  1.02s/it]"
     ]
    },
    {
     "name": "stdout",
     "output_type": "stream",
     "text": [
      "                   all       1600       3868      0.937      0.869      0.929      0.749      0.934      0.871      0.928      0.677\n"
     ]
    },
    {
     "name": "stderr",
     "output_type": "stream",
     "text": [
      "\n"
     ]
    },
    {
     "name": "stdout",
     "output_type": "stream",
     "text": [
      "\n",
      "      Epoch    GPU_mem   box_loss   seg_loss   cls_loss   dfl_loss  Instances       Size\n"
     ]
    },
    {
     "name": "stderr",
     "output_type": "stream",
     "text": [
      "     62/200      18.4G     0.8834      1.491       0.61      1.125         87        640: 100%|██████████| 88/88 [01:21<00:00,  1.08it/s]\n",
      "                 Class     Images  Instances      Box(P          R      mAP50  mAP50-95)     Mask(P          R      mAP50  mAP50-95): 100%|██████████| 13/13 [00:13<00:00,  1.02s/it]"
     ]
    },
    {
     "name": "stdout",
     "output_type": "stream",
     "text": [
      "                   all       1600       3868      0.929      0.882      0.932      0.756      0.926      0.879      0.926      0.683\n"
     ]
    },
    {
     "name": "stderr",
     "output_type": "stream",
     "text": [
      "\n"
     ]
    },
    {
     "name": "stdout",
     "output_type": "stream",
     "text": [
      "\n",
      "      Epoch    GPU_mem   box_loss   seg_loss   cls_loss   dfl_loss  Instances       Size\n"
     ]
    },
    {
     "name": "stderr",
     "output_type": "stream",
     "text": [
      "     63/200      18.4G     0.8861      1.504     0.6196      1.127        106        640: 100%|██████████| 88/88 [01:21<00:00,  1.08it/s]\n",
      "                 Class     Images  Instances      Box(P          R      mAP50  mAP50-95)     Mask(P          R      mAP50  mAP50-95): 100%|██████████| 13/13 [00:13<00:00,  1.02s/it]"
     ]
    },
    {
     "name": "stdout",
     "output_type": "stream",
     "text": [
      "                   all       1600       3868      0.931      0.885      0.935      0.756      0.928      0.882      0.926      0.685\n"
     ]
    },
    {
     "name": "stderr",
     "output_type": "stream",
     "text": [
      "\n"
     ]
    },
    {
     "name": "stdout",
     "output_type": "stream",
     "text": [
      "\n",
      "      Epoch    GPU_mem   box_loss   seg_loss   cls_loss   dfl_loss  Instances       Size\n"
     ]
    },
    {
     "name": "stderr",
     "output_type": "stream",
     "text": [
      "     64/200      18.5G     0.8782      1.498     0.6065      1.118        137        640: 100%|██████████| 88/88 [01:21<00:00,  1.08it/s]\n",
      "                 Class     Images  Instances      Box(P          R      mAP50  mAP50-95)     Mask(P          R      mAP50  mAP50-95): 100%|██████████| 13/13 [00:13<00:00,  1.03s/it]"
     ]
    },
    {
     "name": "stdout",
     "output_type": "stream",
     "text": [
      "                   all       1600       3868      0.926       0.89      0.935       0.76      0.924      0.887      0.927      0.689\n"
     ]
    },
    {
     "name": "stderr",
     "output_type": "stream",
     "text": [
      "\n"
     ]
    },
    {
     "name": "stdout",
     "output_type": "stream",
     "text": [
      "\n",
      "      Epoch    GPU_mem   box_loss   seg_loss   cls_loss   dfl_loss  Instances       Size\n"
     ]
    },
    {
     "name": "stderr",
     "output_type": "stream",
     "text": [
      "     65/200      18.3G     0.8785      1.485     0.6078      1.118        117        640: 100%|██████████| 88/88 [01:21<00:00,  1.09it/s]\n",
      "                 Class     Images  Instances      Box(P          R      mAP50  mAP50-95)     Mask(P          R      mAP50  mAP50-95): 100%|██████████| 13/13 [00:13<00:00,  1.01s/it]"
     ]
    },
    {
     "name": "stdout",
     "output_type": "stream",
     "text": [
      "                   all       1600       3868      0.929      0.887      0.935       0.76      0.924      0.882      0.926      0.684\n"
     ]
    },
    {
     "name": "stderr",
     "output_type": "stream",
     "text": [
      "\n"
     ]
    },
    {
     "name": "stdout",
     "output_type": "stream",
     "text": [
      "\n",
      "      Epoch    GPU_mem   box_loss   seg_loss   cls_loss   dfl_loss  Instances       Size\n"
     ]
    },
    {
     "name": "stderr",
     "output_type": "stream",
     "text": [
      "     66/200      18.2G     0.8676      1.463     0.5948       1.11        154        640: 100%|██████████| 88/88 [01:21<00:00,  1.08it/s]\n",
      "                 Class     Images  Instances      Box(P          R      mAP50  mAP50-95)     Mask(P          R      mAP50  mAP50-95): 100%|██████████| 13/13 [00:12<00:00,  1.00it/s]"
     ]
    },
    {
     "name": "stdout",
     "output_type": "stream",
     "text": [
      "                   all       1600       3868      0.943      0.878      0.935      0.765      0.944      0.878      0.934        0.7\n"
     ]
    },
    {
     "name": "stderr",
     "output_type": "stream",
     "text": [
      "\n"
     ]
    },
    {
     "name": "stdout",
     "output_type": "stream",
     "text": [
      "\n",
      "      Epoch    GPU_mem   box_loss   seg_loss   cls_loss   dfl_loss  Instances       Size\n"
     ]
    },
    {
     "name": "stderr",
     "output_type": "stream",
     "text": [
      "     67/200      18.6G     0.8539       1.46     0.5831      1.098        142        640: 100%|██████████| 88/88 [01:21<00:00,  1.08it/s]\n",
      "                 Class     Images  Instances      Box(P          R      mAP50  mAP50-95)     Mask(P          R      mAP50  mAP50-95): 100%|██████████| 13/13 [00:13<00:00,  1.02s/it]"
     ]
    },
    {
     "name": "stdout",
     "output_type": "stream",
     "text": [
      "                   all       1600       3868      0.929      0.885      0.934      0.761      0.926      0.882      0.929      0.692\n"
     ]
    },
    {
     "name": "stderr",
     "output_type": "stream",
     "text": [
      "\n"
     ]
    },
    {
     "name": "stdout",
     "output_type": "stream",
     "text": [
      "\n",
      "      Epoch    GPU_mem   box_loss   seg_loss   cls_loss   dfl_loss  Instances       Size\n"
     ]
    },
    {
     "name": "stderr",
     "output_type": "stream",
     "text": [
      "     68/200      18.5G     0.8615      1.469     0.5912      1.106         89        640: 100%|██████████| 88/88 [01:21<00:00,  1.08it/s]\n",
      "                 Class     Images  Instances      Box(P          R      mAP50  mAP50-95)     Mask(P          R      mAP50  mAP50-95): 100%|██████████| 13/13 [00:13<00:00,  1.01s/it]"
     ]
    },
    {
     "name": "stdout",
     "output_type": "stream",
     "text": [
      "                   all       1600       3868      0.931      0.886      0.931       0.76      0.925      0.878      0.924      0.688\n"
     ]
    },
    {
     "name": "stderr",
     "output_type": "stream",
     "text": [
      "\n"
     ]
    },
    {
     "name": "stdout",
     "output_type": "stream",
     "text": [
      "\n",
      "      Epoch    GPU_mem   box_loss   seg_loss   cls_loss   dfl_loss  Instances       Size\n"
     ]
    },
    {
     "name": "stderr",
     "output_type": "stream",
     "text": [
      "     69/200      18.5G     0.8602       1.46     0.5922      1.106         90        640: 100%|██████████| 88/88 [01:21<00:00,  1.09it/s]\n",
      "                 Class     Images  Instances      Box(P          R      mAP50  mAP50-95)     Mask(P          R      mAP50  mAP50-95): 100%|██████████| 13/13 [00:13<00:00,  1.01s/it]"
     ]
    },
    {
     "name": "stdout",
     "output_type": "stream",
     "text": [
      "                   all       1600       3868      0.942      0.875      0.933      0.764      0.941      0.871      0.924      0.693\n"
     ]
    },
    {
     "name": "stderr",
     "output_type": "stream",
     "text": [
      "\n"
     ]
    },
    {
     "name": "stdout",
     "output_type": "stream",
     "text": [
      "\n",
      "      Epoch    GPU_mem   box_loss   seg_loss   cls_loss   dfl_loss  Instances       Size\n"
     ]
    },
    {
     "name": "stderr",
     "output_type": "stream",
     "text": [
      "     70/200      18.4G     0.8572      1.445     0.5834      1.102         97        640: 100%|██████████| 88/88 [01:20<00:00,  1.09it/s]\n",
      "                 Class     Images  Instances      Box(P          R      mAP50  mAP50-95)     Mask(P          R      mAP50  mAP50-95): 100%|██████████| 13/13 [00:13<00:00,  1.03s/it]"
     ]
    },
    {
     "name": "stdout",
     "output_type": "stream",
     "text": [
      "                   all       1600       3868       0.94       0.88      0.932      0.769      0.941      0.878      0.927      0.698\n"
     ]
    },
    {
     "name": "stderr",
     "output_type": "stream",
     "text": [
      "\n"
     ]
    },
    {
     "name": "stdout",
     "output_type": "stream",
     "text": [
      "\n",
      "      Epoch    GPU_mem   box_loss   seg_loss   cls_loss   dfl_loss  Instances       Size\n"
     ]
    },
    {
     "name": "stderr",
     "output_type": "stream",
     "text": [
      "     71/200      18.7G     0.8527      1.431     0.5838      1.096         80        640: 100%|██████████| 88/88 [01:21<00:00,  1.09it/s]\n",
      "                 Class     Images  Instances      Box(P          R      mAP50  mAP50-95)     Mask(P          R      mAP50  mAP50-95): 100%|██████████| 13/13 [00:13<00:00,  1.02s/it]"
     ]
    },
    {
     "name": "stdout",
     "output_type": "stream",
     "text": [
      "                   all       1600       3868      0.941      0.884      0.935      0.766       0.94      0.882      0.927      0.696\n"
     ]
    },
    {
     "name": "stderr",
     "output_type": "stream",
     "text": [
      "\n"
     ]
    },
    {
     "name": "stdout",
     "output_type": "stream",
     "text": [
      "\n",
      "      Epoch    GPU_mem   box_loss   seg_loss   cls_loss   dfl_loss  Instances       Size\n"
     ]
    },
    {
     "name": "stderr",
     "output_type": "stream",
     "text": [
      "     72/200      18.1G     0.8524      1.436      0.581        1.1        134        640: 100%|██████████| 88/88 [01:21<00:00,  1.08it/s]\n",
      "                 Class     Images  Instances      Box(P          R      mAP50  mAP50-95)     Mask(P          R      mAP50  mAP50-95): 100%|██████████| 13/13 [00:13<00:00,  1.00s/it]"
     ]
    },
    {
     "name": "stdout",
     "output_type": "stream",
     "text": [
      "                   all       1600       3868      0.939      0.888      0.934      0.769      0.934      0.887      0.925      0.695\n"
     ]
    },
    {
     "name": "stderr",
     "output_type": "stream",
     "text": [
      "\n"
     ]
    },
    {
     "name": "stdout",
     "output_type": "stream",
     "text": [
      "\n",
      "      Epoch    GPU_mem   box_loss   seg_loss   cls_loss   dfl_loss  Instances       Size\n"
     ]
    },
    {
     "name": "stderr",
     "output_type": "stream",
     "text": [
      "     73/200      18.5G     0.8536      1.436     0.5824      1.098        133        640: 100%|██████████| 88/88 [01:21<00:00,  1.08it/s]\n",
      "                 Class     Images  Instances      Box(P          R      mAP50  mAP50-95)     Mask(P          R      mAP50  mAP50-95): 100%|██████████| 13/13 [00:13<00:00,  1.02s/it]"
     ]
    },
    {
     "name": "stdout",
     "output_type": "stream",
     "text": [
      "                   all       1600       3868      0.937      0.883      0.934      0.769      0.934      0.881       0.93      0.697\n"
     ]
    },
    {
     "name": "stderr",
     "output_type": "stream",
     "text": [
      "\n"
     ]
    },
    {
     "name": "stdout",
     "output_type": "stream",
     "text": [
      "\n",
      "      Epoch    GPU_mem   box_loss   seg_loss   cls_loss   dfl_loss  Instances       Size\n"
     ]
    },
    {
     "name": "stderr",
     "output_type": "stream",
     "text": [
      "     74/200      18.5G     0.8337      1.416     0.5691      1.088         92        640: 100%|██████████| 88/88 [01:21<00:00,  1.09it/s]\n",
      "                 Class     Images  Instances      Box(P          R      mAP50  mAP50-95)     Mask(P          R      mAP50  mAP50-95): 100%|██████████| 13/13 [00:13<00:00,  1.01s/it]"
     ]
    },
    {
     "name": "stdout",
     "output_type": "stream",
     "text": [
      "                   all       1600       3868      0.936      0.889      0.937      0.775      0.934      0.888      0.935      0.702\n"
     ]
    },
    {
     "name": "stderr",
     "output_type": "stream",
     "text": [
      "\n"
     ]
    },
    {
     "name": "stdout",
     "output_type": "stream",
     "text": [
      "\n",
      "      Epoch    GPU_mem   box_loss   seg_loss   cls_loss   dfl_loss  Instances       Size\n"
     ]
    },
    {
     "name": "stderr",
     "output_type": "stream",
     "text": [
      "     75/200      18.3G     0.8404      1.431     0.5678      1.093        104        640: 100%|██████████| 88/88 [01:20<00:00,  1.09it/s]\n",
      "                 Class     Images  Instances      Box(P          R      mAP50  mAP50-95)     Mask(P          R      mAP50  mAP50-95): 100%|██████████| 13/13 [00:13<00:00,  1.00s/it]"
     ]
    },
    {
     "name": "stdout",
     "output_type": "stream",
     "text": [
      "                   all       1600       3868      0.935      0.882      0.934      0.775      0.932      0.879      0.926      0.699\n"
     ]
    },
    {
     "name": "stderr",
     "output_type": "stream",
     "text": [
      "\n"
     ]
    },
    {
     "name": "stdout",
     "output_type": "stream",
     "text": [
      "\n",
      "      Epoch    GPU_mem   box_loss   seg_loss   cls_loss   dfl_loss  Instances       Size\n"
     ]
    },
    {
     "name": "stderr",
     "output_type": "stream",
     "text": [
      "     76/200      18.6G     0.8236      1.402     0.5603      1.081         98        640: 100%|██████████| 88/88 [01:21<00:00,  1.08it/s]\n",
      "                 Class     Images  Instances      Box(P          R      mAP50  mAP50-95)     Mask(P          R      mAP50  mAP50-95): 100%|██████████| 13/13 [00:13<00:00,  1.03s/it]"
     ]
    },
    {
     "name": "stdout",
     "output_type": "stream",
     "text": [
      "                   all       1600       3868      0.942      0.882      0.936      0.778      0.942      0.882      0.935       0.71\n"
     ]
    },
    {
     "name": "stderr",
     "output_type": "stream",
     "text": [
      "\n"
     ]
    },
    {
     "name": "stdout",
     "output_type": "stream",
     "text": [
      "\n",
      "      Epoch    GPU_mem   box_loss   seg_loss   cls_loss   dfl_loss  Instances       Size\n"
     ]
    },
    {
     "name": "stderr",
     "output_type": "stream",
     "text": [
      "     77/200      18.5G     0.8357      1.401     0.5637      1.087        120        640: 100%|██████████| 88/88 [01:21<00:00,  1.08it/s]\n",
      "                 Class     Images  Instances      Box(P          R      mAP50  mAP50-95)     Mask(P          R      mAP50  mAP50-95): 100%|██████████| 13/13 [00:13<00:00,  1.02s/it]"
     ]
    },
    {
     "name": "stdout",
     "output_type": "stream",
     "text": [
      "                   all       1600       3868      0.943      0.884       0.94      0.779      0.941      0.882      0.936      0.709\n"
     ]
    },
    {
     "name": "stderr",
     "output_type": "stream",
     "text": [
      "\n"
     ]
    },
    {
     "name": "stdout",
     "output_type": "stream",
     "text": [
      "\n",
      "      Epoch    GPU_mem   box_loss   seg_loss   cls_loss   dfl_loss  Instances       Size\n"
     ]
    },
    {
     "name": "stderr",
     "output_type": "stream",
     "text": [
      "     78/200      18.4G     0.8323      1.399     0.5589      1.086        128        640: 100%|██████████| 88/88 [01:21<00:00,  1.09it/s]\n",
      "                 Class     Images  Instances      Box(P          R      mAP50  mAP50-95)     Mask(P          R      mAP50  mAP50-95): 100%|██████████| 13/13 [00:13<00:00,  1.02s/it]"
     ]
    },
    {
     "name": "stdout",
     "output_type": "stream",
     "text": [
      "                   all       1600       3868      0.946      0.887      0.938      0.779      0.941      0.885      0.931      0.709\n"
     ]
    },
    {
     "name": "stderr",
     "output_type": "stream",
     "text": [
      "\n"
     ]
    },
    {
     "name": "stdout",
     "output_type": "stream",
     "text": [
      "\n",
      "      Epoch    GPU_mem   box_loss   seg_loss   cls_loss   dfl_loss  Instances       Size\n"
     ]
    },
    {
     "name": "stderr",
     "output_type": "stream",
     "text": [
      "     79/200      18.5G     0.8261      1.403      0.558      1.082        110        640: 100%|██████████| 88/88 [01:21<00:00,  1.08it/s]\n",
      "                 Class     Images  Instances      Box(P          R      mAP50  mAP50-95)     Mask(P          R      mAP50  mAP50-95): 100%|██████████| 13/13 [00:13<00:00,  1.02s/it]"
     ]
    },
    {
     "name": "stdout",
     "output_type": "stream",
     "text": [
      "                   all       1600       3868      0.948       0.88      0.937      0.777      0.944      0.878      0.929      0.709\n"
     ]
    },
    {
     "name": "stderr",
     "output_type": "stream",
     "text": [
      "\n"
     ]
    },
    {
     "name": "stdout",
     "output_type": "stream",
     "text": [
      "\n",
      "      Epoch    GPU_mem   box_loss   seg_loss   cls_loss   dfl_loss  Instances       Size\n"
     ]
    },
    {
     "name": "stderr",
     "output_type": "stream",
     "text": [
      "     80/200      18.2G     0.8202       1.39     0.5537      1.071        107        640: 100%|██████████| 88/88 [01:21<00:00,  1.08it/s]\n",
      "                 Class     Images  Instances      Box(P          R      mAP50  mAP50-95)     Mask(P          R      mAP50  mAP50-95): 100%|██████████| 13/13 [00:13<00:00,  1.01s/it]"
     ]
    },
    {
     "name": "stdout",
     "output_type": "stream",
     "text": [
      "                   all       1600       3868      0.936      0.886      0.934      0.781      0.927      0.888      0.926      0.709\n"
     ]
    },
    {
     "name": "stderr",
     "output_type": "stream",
     "text": [
      "\n"
     ]
    },
    {
     "name": "stdout",
     "output_type": "stream",
     "text": [
      "\n",
      "      Epoch    GPU_mem   box_loss   seg_loss   cls_loss   dfl_loss  Instances       Size\n"
     ]
    },
    {
     "name": "stderr",
     "output_type": "stream",
     "text": [
      "     81/200      18.4G     0.8098      1.387     0.5582      1.075        113        640: 100%|██████████| 88/88 [01:21<00:00,  1.08it/s]\n",
      "                 Class     Images  Instances      Box(P          R      mAP50  mAP50-95)     Mask(P          R      mAP50  mAP50-95): 100%|██████████| 13/13 [00:13<00:00,  1.02s/it]"
     ]
    },
    {
     "name": "stdout",
     "output_type": "stream",
     "text": [
      "                   all       1600       3868      0.935      0.889      0.936      0.781      0.934      0.887      0.929      0.712\n"
     ]
    },
    {
     "name": "stderr",
     "output_type": "stream",
     "text": [
      "\n"
     ]
    },
    {
     "name": "stdout",
     "output_type": "stream",
     "text": [
      "\n",
      "      Epoch    GPU_mem   box_loss   seg_loss   cls_loss   dfl_loss  Instances       Size\n"
     ]
    },
    {
     "name": "stderr",
     "output_type": "stream",
     "text": [
      "     82/200      18.1G     0.8118      1.373     0.5492      1.071        122        640: 100%|██████████| 88/88 [01:21<00:00,  1.08it/s]\n",
      "                 Class     Images  Instances      Box(P          R      mAP50  mAP50-95)     Mask(P          R      mAP50  mAP50-95): 100%|██████████| 13/13 [00:13<00:00,  1.01s/it]"
     ]
    },
    {
     "name": "stdout",
     "output_type": "stream",
     "text": [
      "                   all       1600       3868      0.939       0.89      0.936      0.782      0.931      0.892      0.929      0.713\n"
     ]
    },
    {
     "name": "stderr",
     "output_type": "stream",
     "text": [
      "\n"
     ]
    },
    {
     "name": "stdout",
     "output_type": "stream",
     "text": [
      "\n",
      "      Epoch    GPU_mem   box_loss   seg_loss   cls_loss   dfl_loss  Instances       Size\n"
     ]
    },
    {
     "name": "stderr",
     "output_type": "stream",
     "text": [
      "     83/200      18.4G     0.8105      1.364      0.548       1.07         89        640: 100%|██████████| 88/88 [01:21<00:00,  1.08it/s]\n",
      "                 Class     Images  Instances      Box(P          R      mAP50  mAP50-95)     Mask(P          R      mAP50  mAP50-95): 100%|██████████| 13/13 [00:13<00:00,  1.02s/it]"
     ]
    },
    {
     "name": "stdout",
     "output_type": "stream",
     "text": [
      "                   all       1600       3868      0.934      0.887      0.934      0.781      0.935      0.889      0.935      0.713\n"
     ]
    },
    {
     "name": "stderr",
     "output_type": "stream",
     "text": [
      "\n"
     ]
    },
    {
     "name": "stdout",
     "output_type": "stream",
     "text": [
      "\n",
      "      Epoch    GPU_mem   box_loss   seg_loss   cls_loss   dfl_loss  Instances       Size\n"
     ]
    },
    {
     "name": "stderr",
     "output_type": "stream",
     "text": [
      "     84/200      18.3G     0.8074      1.369     0.5485       1.07        128        640: 100%|██████████| 88/88 [01:21<00:00,  1.08it/s]\n",
      "                 Class     Images  Instances      Box(P          R      mAP50  mAP50-95)     Mask(P          R      mAP50  mAP50-95): 100%|██████████| 13/13 [00:13<00:00,  1.02s/it]"
     ]
    },
    {
     "name": "stdout",
     "output_type": "stream",
     "text": [
      "                   all       1600       3868      0.942      0.887      0.936      0.785      0.939       0.89      0.934      0.713\n"
     ]
    },
    {
     "name": "stderr",
     "output_type": "stream",
     "text": [
      "\n"
     ]
    },
    {
     "name": "stdout",
     "output_type": "stream",
     "text": [
      "\n",
      "      Epoch    GPU_mem   box_loss   seg_loss   cls_loss   dfl_loss  Instances       Size\n"
     ]
    },
    {
     "name": "stderr",
     "output_type": "stream",
     "text": [
      "     85/200      18.4G     0.8045      1.363     0.5346      1.059        129        640: 100%|██████████| 88/88 [01:21<00:00,  1.08it/s]\n",
      "                 Class     Images  Instances      Box(P          R      mAP50  mAP50-95)     Mask(P          R      mAP50  mAP50-95): 100%|██████████| 13/13 [00:13<00:00,  1.02s/it]"
     ]
    },
    {
     "name": "stdout",
     "output_type": "stream",
     "text": [
      "                   all       1600       3868      0.953      0.882      0.937      0.787      0.951      0.882       0.93      0.714\n"
     ]
    },
    {
     "name": "stderr",
     "output_type": "stream",
     "text": [
      "\n"
     ]
    },
    {
     "name": "stdout",
     "output_type": "stream",
     "text": [
      "\n",
      "      Epoch    GPU_mem   box_loss   seg_loss   cls_loss   dfl_loss  Instances       Size\n"
     ]
    },
    {
     "name": "stderr",
     "output_type": "stream",
     "text": [
      "     86/200      18.3G     0.8045      1.341     0.5346      1.065        107        640: 100%|██████████| 88/88 [01:21<00:00,  1.08it/s]\n",
      "                 Class     Images  Instances      Box(P          R      mAP50  mAP50-95)     Mask(P          R      mAP50  mAP50-95): 100%|██████████| 13/13 [00:13<00:00,  1.00s/it]"
     ]
    },
    {
     "name": "stdout",
     "output_type": "stream",
     "text": [
      "                   all       1600       3868      0.953      0.876      0.938      0.786      0.948       0.88      0.929      0.714\n"
     ]
    },
    {
     "name": "stderr",
     "output_type": "stream",
     "text": [
      "\n"
     ]
    },
    {
     "name": "stdout",
     "output_type": "stream",
     "text": [
      "\n",
      "      Epoch    GPU_mem   box_loss   seg_loss   cls_loss   dfl_loss  Instances       Size\n"
     ]
    },
    {
     "name": "stderr",
     "output_type": "stream",
     "text": [
      "     87/200      18.5G     0.8047      1.361      0.538      1.063        109        640: 100%|██████████| 88/88 [01:21<00:00,  1.08it/s]\n",
      "                 Class     Images  Instances      Box(P          R      mAP50  mAP50-95)     Mask(P          R      mAP50  mAP50-95): 100%|██████████| 13/13 [00:13<00:00,  1.02s/it]"
     ]
    },
    {
     "name": "stdout",
     "output_type": "stream",
     "text": [
      "                   all       1600       3868      0.946       0.89      0.939      0.787      0.943      0.888      0.929      0.716\n"
     ]
    },
    {
     "name": "stderr",
     "output_type": "stream",
     "text": [
      "\n"
     ]
    },
    {
     "name": "stdout",
     "output_type": "stream",
     "text": [
      "\n",
      "      Epoch    GPU_mem   box_loss   seg_loss   cls_loss   dfl_loss  Instances       Size\n"
     ]
    },
    {
     "name": "stderr",
     "output_type": "stream",
     "text": [
      "     88/200      18.6G      0.794      1.349     0.5333      1.061        145        640: 100%|██████████| 88/88 [01:21<00:00,  1.08it/s]\n",
      "                 Class     Images  Instances      Box(P          R      mAP50  mAP50-95)     Mask(P          R      mAP50  mAP50-95): 100%|██████████| 13/13 [00:13<00:00,  1.02s/it]"
     ]
    },
    {
     "name": "stdout",
     "output_type": "stream",
     "text": [
      "                   all       1600       3868      0.952      0.879      0.937      0.788      0.948      0.877      0.929      0.718\n"
     ]
    },
    {
     "name": "stderr",
     "output_type": "stream",
     "text": [
      "\n"
     ]
    },
    {
     "name": "stdout",
     "output_type": "stream",
     "text": [
      "\n",
      "      Epoch    GPU_mem   box_loss   seg_loss   cls_loss   dfl_loss  Instances       Size\n"
     ]
    },
    {
     "name": "stderr",
     "output_type": "stream",
     "text": [
      "     89/200      18.3G     0.7968      1.343     0.5374      1.059         91        640: 100%|██████████| 88/88 [01:21<00:00,  1.08it/s]\n",
      "                 Class     Images  Instances      Box(P          R      mAP50  mAP50-95)     Mask(P          R      mAP50  mAP50-95): 100%|██████████| 13/13 [00:13<00:00,  1.02s/it]"
     ]
    },
    {
     "name": "stdout",
     "output_type": "stream",
     "text": [
      "                   all       1600       3868      0.939       0.89      0.938      0.793      0.935      0.896      0.938      0.725\n"
     ]
    },
    {
     "name": "stderr",
     "output_type": "stream",
     "text": [
      "\n"
     ]
    },
    {
     "name": "stdout",
     "output_type": "stream",
     "text": [
      "\n",
      "      Epoch    GPU_mem   box_loss   seg_loss   cls_loss   dfl_loss  Instances       Size\n"
     ]
    },
    {
     "name": "stderr",
     "output_type": "stream",
     "text": [
      "     90/200      18.4G      0.794      1.335     0.5321      1.057         95        640: 100%|██████████| 88/88 [01:21<00:00,  1.08it/s]\n",
      "                 Class     Images  Instances      Box(P          R      mAP50  mAP50-95)     Mask(P          R      mAP50  mAP50-95): 100%|██████████| 13/13 [00:13<00:00,  1.02s/it]"
     ]
    },
    {
     "name": "stdout",
     "output_type": "stream",
     "text": [
      "                   all       1600       3868      0.942      0.889      0.937      0.792      0.947      0.889      0.937      0.722\n"
     ]
    },
    {
     "name": "stderr",
     "output_type": "stream",
     "text": [
      "\n"
     ]
    },
    {
     "name": "stdout",
     "output_type": "stream",
     "text": [
      "\n",
      "      Epoch    GPU_mem   box_loss   seg_loss   cls_loss   dfl_loss  Instances       Size\n"
     ]
    },
    {
     "name": "stderr",
     "output_type": "stream",
     "text": [
      "     91/200      18.5G     0.7893      1.335     0.5308      1.056        144        640: 100%|██████████| 88/88 [01:21<00:00,  1.08it/s]\n",
      "                 Class     Images  Instances      Box(P          R      mAP50  mAP50-95)     Mask(P          R      mAP50  mAP50-95): 100%|██████████| 13/13 [00:13<00:00,  1.02s/it]"
     ]
    },
    {
     "name": "stdout",
     "output_type": "stream",
     "text": [
      "                   all       1600       3868      0.945      0.885      0.936       0.79      0.947      0.878      0.929      0.717\n"
     ]
    },
    {
     "name": "stderr",
     "output_type": "stream",
     "text": [
      "\n"
     ]
    },
    {
     "name": "stdout",
     "output_type": "stream",
     "text": [
      "\n",
      "      Epoch    GPU_mem   box_loss   seg_loss   cls_loss   dfl_loss  Instances       Size\n"
     ]
    },
    {
     "name": "stderr",
     "output_type": "stream",
     "text": [
      "     92/200      18.5G     0.7893       1.33     0.5292      1.053         95        640: 100%|██████████| 88/88 [01:21<00:00,  1.09it/s]\n",
      "                 Class     Images  Instances      Box(P          R      mAP50  mAP50-95)     Mask(P          R      mAP50  mAP50-95): 100%|██████████| 13/13 [00:13<00:00,  1.00s/it]"
     ]
    },
    {
     "name": "stdout",
     "output_type": "stream",
     "text": [
      "                   all       1600       3868      0.952      0.885      0.939      0.793      0.953      0.883      0.936      0.722\n"
     ]
    },
    {
     "name": "stderr",
     "output_type": "stream",
     "text": [
      "\n"
     ]
    },
    {
     "name": "stdout",
     "output_type": "stream",
     "text": [
      "\n",
      "      Epoch    GPU_mem   box_loss   seg_loss   cls_loss   dfl_loss  Instances       Size\n"
     ]
    },
    {
     "name": "stderr",
     "output_type": "stream",
     "text": [
      "     93/200      18.3G     0.7859      1.323      0.521      1.048        101        640: 100%|██████████| 88/88 [01:21<00:00,  1.09it/s]\n",
      "                 Class     Images  Instances      Box(P          R      mAP50  mAP50-95)     Mask(P          R      mAP50  mAP50-95): 100%|██████████| 13/13 [00:12<00:00,  1.00it/s]"
     ]
    },
    {
     "name": "stdout",
     "output_type": "stream",
     "text": [
      "                   all       1600       3868      0.954      0.885       0.94      0.795      0.951      0.881      0.932      0.723\n"
     ]
    },
    {
     "name": "stderr",
     "output_type": "stream",
     "text": [
      "\n"
     ]
    },
    {
     "name": "stdout",
     "output_type": "stream",
     "text": [
      "\n",
      "      Epoch    GPU_mem   box_loss   seg_loss   cls_loss   dfl_loss  Instances       Size\n"
     ]
    },
    {
     "name": "stderr",
     "output_type": "stream",
     "text": [
      "     94/200      18.3G       0.77      1.312     0.5174      1.039        118        640: 100%|██████████| 88/88 [01:21<00:00,  1.08it/s]\n",
      "                 Class     Images  Instances      Box(P          R      mAP50  mAP50-95)     Mask(P          R      mAP50  mAP50-95): 100%|██████████| 13/13 [00:12<00:00,  1.00it/s]"
     ]
    },
    {
     "name": "stdout",
     "output_type": "stream",
     "text": [
      "                   all       1600       3868       0.95      0.886      0.939      0.794      0.948      0.883      0.931      0.722\n"
     ]
    },
    {
     "name": "stderr",
     "output_type": "stream",
     "text": [
      "\n"
     ]
    },
    {
     "name": "stdout",
     "output_type": "stream",
     "text": [
      "\n",
      "      Epoch    GPU_mem   box_loss   seg_loss   cls_loss   dfl_loss  Instances       Size\n"
     ]
    },
    {
     "name": "stderr",
     "output_type": "stream",
     "text": [
      "     95/200      18.5G     0.7823      1.319     0.5249      1.046         88        640: 100%|██████████| 88/88 [01:21<00:00,  1.08it/s]\n",
      "                 Class     Images  Instances      Box(P          R      mAP50  mAP50-95)     Mask(P          R      mAP50  mAP50-95): 100%|██████████| 13/13 [00:13<00:00,  1.01s/it]"
     ]
    },
    {
     "name": "stdout",
     "output_type": "stream",
     "text": [
      "                   all       1600       3868      0.945      0.889      0.939      0.795      0.941      0.892      0.932      0.723\n"
     ]
    },
    {
     "name": "stderr",
     "output_type": "stream",
     "text": [
      "\n"
     ]
    },
    {
     "name": "stdout",
     "output_type": "stream",
     "text": [
      "\n",
      "      Epoch    GPU_mem   box_loss   seg_loss   cls_loss   dfl_loss  Instances       Size\n"
     ]
    },
    {
     "name": "stderr",
     "output_type": "stream",
     "text": [
      "     96/200      18.3G     0.7734      1.313     0.5158      1.044        109        640: 100%|██████████| 88/88 [01:21<00:00,  1.08it/s]\n",
      "                 Class     Images  Instances      Box(P          R      mAP50  mAP50-95)     Mask(P          R      mAP50  mAP50-95): 100%|██████████| 13/13 [00:13<00:00,  1.02s/it]"
     ]
    },
    {
     "name": "stdout",
     "output_type": "stream",
     "text": [
      "                   all       1600       3868      0.949      0.888      0.939      0.794      0.947      0.888      0.931      0.723\n"
     ]
    },
    {
     "name": "stderr",
     "output_type": "stream",
     "text": [
      "\n"
     ]
    },
    {
     "name": "stdout",
     "output_type": "stream",
     "text": [
      "\n",
      "      Epoch    GPU_mem   box_loss   seg_loss   cls_loss   dfl_loss  Instances       Size\n"
     ]
    },
    {
     "name": "stderr",
     "output_type": "stream",
     "text": [
      "     97/200      18.5G     0.7784      1.313     0.5149      1.043        113        640: 100%|██████████| 88/88 [01:21<00:00,  1.08it/s]\n",
      "                 Class     Images  Instances      Box(P          R      mAP50  mAP50-95)     Mask(P          R      mAP50  mAP50-95): 100%|██████████| 13/13 [00:13<00:00,  1.02s/it]"
     ]
    },
    {
     "name": "stdout",
     "output_type": "stream",
     "text": [
      "                   all       1600       3868      0.934      0.895      0.939      0.796      0.935      0.893      0.931      0.724\n"
     ]
    },
    {
     "name": "stderr",
     "output_type": "stream",
     "text": [
      "\n"
     ]
    },
    {
     "name": "stdout",
     "output_type": "stream",
     "text": [
      "\n",
      "      Epoch    GPU_mem   box_loss   seg_loss   cls_loss   dfl_loss  Instances       Size\n"
     ]
    },
    {
     "name": "stderr",
     "output_type": "stream",
     "text": [
      "     98/200      18.5G     0.7725      1.312     0.5183      1.042        115        640: 100%|██████████| 88/88 [01:21<00:00,  1.08it/s]\n",
      "                 Class     Images  Instances      Box(P          R      mAP50  mAP50-95)     Mask(P          R      mAP50  mAP50-95): 100%|██████████| 13/13 [00:13<00:00,  1.01s/it]"
     ]
    },
    {
     "name": "stdout",
     "output_type": "stream",
     "text": [
      "                   all       1600       3868      0.937      0.898       0.94      0.796      0.939      0.892      0.933      0.727\n"
     ]
    },
    {
     "name": "stderr",
     "output_type": "stream",
     "text": [
      "\n"
     ]
    },
    {
     "name": "stdout",
     "output_type": "stream",
     "text": [
      "\n",
      "      Epoch    GPU_mem   box_loss   seg_loss   cls_loss   dfl_loss  Instances       Size\n"
     ]
    },
    {
     "name": "stderr",
     "output_type": "stream",
     "text": [
      "     99/200      18.6G     0.7673      1.298     0.5136       1.04        108        640: 100%|██████████| 88/88 [01:21<00:00,  1.09it/s]\n",
      "                 Class     Images  Instances      Box(P          R      mAP50  mAP50-95)     Mask(P          R      mAP50  mAP50-95): 100%|██████████| 13/13 [00:13<00:00,  1.01s/it]"
     ]
    },
    {
     "name": "stdout",
     "output_type": "stream",
     "text": [
      "                   all       1600       3868       0.94      0.896      0.942        0.8      0.936      0.894      0.933      0.731\n"
     ]
    },
    {
     "name": "stderr",
     "output_type": "stream",
     "text": [
      "\n"
     ]
    },
    {
     "name": "stdout",
     "output_type": "stream",
     "text": [
      "\n",
      "      Epoch    GPU_mem   box_loss   seg_loss   cls_loss   dfl_loss  Instances       Size\n"
     ]
    },
    {
     "name": "stderr",
     "output_type": "stream",
     "text": [
      "    100/200      18.5G     0.7611      1.283     0.5049      1.035        107        640: 100%|██████████| 88/88 [01:20<00:00,  1.09it/s]\n",
      "                 Class     Images  Instances      Box(P          R      mAP50  mAP50-95)     Mask(P          R      mAP50  mAP50-95): 100%|██████████| 13/13 [00:13<00:00,  1.02s/it]"
     ]
    },
    {
     "name": "stdout",
     "output_type": "stream",
     "text": [
      "                   all       1600       3868      0.945       0.89       0.94      0.799      0.947      0.892      0.934      0.731\n"
     ]
    },
    {
     "name": "stderr",
     "output_type": "stream",
     "text": [
      "\n"
     ]
    },
    {
     "name": "stdout",
     "output_type": "stream",
     "text": [
      "\n",
      "      Epoch    GPU_mem   box_loss   seg_loss   cls_loss   dfl_loss  Instances       Size\n"
     ]
    },
    {
     "name": "stderr",
     "output_type": "stream",
     "text": [
      "    101/200      18.5G      0.766      1.305     0.5109      1.041         94        640: 100%|██████████| 88/88 [01:21<00:00,  1.08it/s]\n",
      "                 Class     Images  Instances      Box(P          R      mAP50  mAP50-95)     Mask(P          R      mAP50  mAP50-95): 100%|██████████| 13/13 [00:13<00:00,  1.02s/it]"
     ]
    },
    {
     "name": "stdout",
     "output_type": "stream",
     "text": [
      "                   all       1600       3868      0.942      0.892       0.94        0.8       0.94      0.894      0.934      0.732\n"
     ]
    },
    {
     "name": "stderr",
     "output_type": "stream",
     "text": [
      "\n"
     ]
    },
    {
     "name": "stdout",
     "output_type": "stream",
     "text": [
      "\n",
      "      Epoch    GPU_mem   box_loss   seg_loss   cls_loss   dfl_loss  Instances       Size\n"
     ]
    },
    {
     "name": "stderr",
     "output_type": "stream",
     "text": [
      "    102/200      18.3G     0.7673      1.291     0.5067      1.038         92        640: 100%|██████████| 88/88 [01:21<00:00,  1.08it/s]\n",
      "                 Class     Images  Instances      Box(P          R      mAP50  mAP50-95)     Mask(P          R      mAP50  mAP50-95): 100%|██████████| 13/13 [00:12<00:00,  1.01it/s]"
     ]
    },
    {
     "name": "stdout",
     "output_type": "stream",
     "text": [
      "                   all       1600       3868      0.954      0.887       0.94        0.8      0.954      0.888      0.937      0.734\n"
     ]
    },
    {
     "name": "stderr",
     "output_type": "stream",
     "text": [
      "\n"
     ]
    },
    {
     "name": "stdout",
     "output_type": "stream",
     "text": [
      "\n",
      "      Epoch    GPU_mem   box_loss   seg_loss   cls_loss   dfl_loss  Instances       Size\n"
     ]
    },
    {
     "name": "stderr",
     "output_type": "stream",
     "text": [
      "    103/200      18.6G     0.7572      1.288     0.5031      1.032         89        640: 100%|██████████| 88/88 [01:21<00:00,  1.08it/s]\n",
      "                 Class     Images  Instances      Box(P          R      mAP50  mAP50-95)     Mask(P          R      mAP50  mAP50-95): 100%|██████████| 13/13 [00:13<00:00,  1.01s/it]"
     ]
    },
    {
     "name": "stdout",
     "output_type": "stream",
     "text": [
      "                   all       1600       3868      0.945      0.894      0.941      0.804      0.945      0.897       0.94      0.738\n"
     ]
    },
    {
     "name": "stderr",
     "output_type": "stream",
     "text": [
      "\n"
     ]
    },
    {
     "name": "stdout",
     "output_type": "stream",
     "text": [
      "\n",
      "      Epoch    GPU_mem   box_loss   seg_loss   cls_loss   dfl_loss  Instances       Size\n"
     ]
    },
    {
     "name": "stderr",
     "output_type": "stream",
     "text": [
      "    104/200      18.4G     0.7519       1.27     0.4963      1.031        106        640: 100%|██████████| 88/88 [01:21<00:00,  1.08it/s]\n",
      "                 Class     Images  Instances      Box(P          R      mAP50  mAP50-95)     Mask(P          R      mAP50  mAP50-95): 100%|██████████| 13/13 [00:13<00:00,  1.01s/it]"
     ]
    },
    {
     "name": "stdout",
     "output_type": "stream",
     "text": [
      "                   all       1600       3868      0.953      0.887      0.941      0.805      0.952      0.894       0.94      0.736\n"
     ]
    },
    {
     "name": "stderr",
     "output_type": "stream",
     "text": [
      "\n"
     ]
    },
    {
     "name": "stdout",
     "output_type": "stream",
     "text": [
      "\n",
      "      Epoch    GPU_mem   box_loss   seg_loss   cls_loss   dfl_loss  Instances       Size\n"
     ]
    },
    {
     "name": "stderr",
     "output_type": "stream",
     "text": [
      "    105/200      18.6G     0.7435      1.253     0.4897      1.023        105        640: 100%|██████████| 88/88 [01:20<00:00,  1.09it/s]\n",
      "                 Class     Images  Instances      Box(P          R      mAP50  mAP50-95)     Mask(P          R      mAP50  mAP50-95): 100%|██████████| 13/13 [00:13<00:00,  1.01s/it]"
     ]
    },
    {
     "name": "stdout",
     "output_type": "stream",
     "text": [
      "                   all       1600       3868      0.954      0.888      0.941      0.803      0.956      0.889       0.94      0.739\n"
     ]
    },
    {
     "name": "stderr",
     "output_type": "stream",
     "text": [
      "\n"
     ]
    },
    {
     "name": "stdout",
     "output_type": "stream",
     "text": [
      "\n",
      "      Epoch    GPU_mem   box_loss   seg_loss   cls_loss   dfl_loss  Instances       Size\n"
     ]
    },
    {
     "name": "stderr",
     "output_type": "stream",
     "text": [
      "    106/200      18.4G     0.7536      1.268      0.502      1.032        121        640: 100%|██████████| 88/88 [01:21<00:00,  1.08it/s]\n",
      "                 Class     Images  Instances      Box(P          R      mAP50  mAP50-95)     Mask(P          R      mAP50  mAP50-95): 100%|██████████| 13/13 [00:13<00:00,  1.02s/it]"
     ]
    },
    {
     "name": "stdout",
     "output_type": "stream",
     "text": [
      "                   all       1600       3868      0.955      0.887       0.94      0.808       0.95      0.896      0.941      0.738\n"
     ]
    },
    {
     "name": "stderr",
     "output_type": "stream",
     "text": [
      "\n"
     ]
    },
    {
     "name": "stdout",
     "output_type": "stream",
     "text": [
      "\n",
      "      Epoch    GPU_mem   box_loss   seg_loss   cls_loss   dfl_loss  Instances       Size\n"
     ]
    },
    {
     "name": "stderr",
     "output_type": "stream",
     "text": [
      "    107/200      18.5G     0.7533      1.278     0.5041       1.03        103        640: 100%|██████████| 88/88 [01:21<00:00,  1.08it/s]\n",
      "                 Class     Images  Instances      Box(P          R      mAP50  mAP50-95)     Mask(P          R      mAP50  mAP50-95): 100%|██████████| 13/13 [00:13<00:00,  1.01s/it]"
     ]
    },
    {
     "name": "stdout",
     "output_type": "stream",
     "text": [
      "                   all       1600       3868      0.956      0.887      0.942      0.808      0.956      0.889      0.941      0.741\n"
     ]
    },
    {
     "name": "stderr",
     "output_type": "stream",
     "text": [
      "\n"
     ]
    },
    {
     "name": "stdout",
     "output_type": "stream",
     "text": [
      "\n",
      "      Epoch    GPU_mem   box_loss   seg_loss   cls_loss   dfl_loss  Instances       Size\n"
     ]
    },
    {
     "name": "stderr",
     "output_type": "stream",
     "text": [
      "    108/200      18.4G     0.7516      1.276     0.4982       1.03        123        640: 100%|██████████| 88/88 [01:21<00:00,  1.08it/s]\n",
      "                 Class     Images  Instances      Box(P          R      mAP50  mAP50-95)     Mask(P          R      mAP50  mAP50-95): 100%|██████████| 13/13 [00:13<00:00,  1.02s/it]"
     ]
    },
    {
     "name": "stdout",
     "output_type": "stream",
     "text": [
      "                   all       1600       3868      0.952       0.89      0.942      0.809      0.952       0.89      0.941      0.741\n"
     ]
    },
    {
     "name": "stderr",
     "output_type": "stream",
     "text": [
      "\n"
     ]
    },
    {
     "name": "stdout",
     "output_type": "stream",
     "text": [
      "\n",
      "      Epoch    GPU_mem   box_loss   seg_loss   cls_loss   dfl_loss  Instances       Size\n"
     ]
    },
    {
     "name": "stderr",
     "output_type": "stream",
     "text": [
      "    109/200      18.6G     0.7417      1.259     0.4955      1.024        124        640: 100%|██████████| 88/88 [01:21<00:00,  1.08it/s]\n",
      "                 Class     Images  Instances      Box(P          R      mAP50  mAP50-95)     Mask(P          R      mAP50  mAP50-95): 100%|██████████| 13/13 [00:13<00:00,  1.02s/it]"
     ]
    },
    {
     "name": "stdout",
     "output_type": "stream",
     "text": [
      "                   all       1600       3868      0.954      0.886      0.941      0.809      0.952      0.891      0.941      0.741\n"
     ]
    },
    {
     "name": "stderr",
     "output_type": "stream",
     "text": [
      "\n"
     ]
    },
    {
     "name": "stdout",
     "output_type": "stream",
     "text": [
      "\n",
      "      Epoch    GPU_mem   box_loss   seg_loss   cls_loss   dfl_loss  Instances       Size\n"
     ]
    },
    {
     "name": "stderr",
     "output_type": "stream",
     "text": [
      "    110/200      18.1G     0.7433      1.262     0.4924      1.024        110        640: 100%|██████████| 88/88 [01:21<00:00,  1.08it/s]\n",
      "                 Class     Images  Instances      Box(P          R      mAP50  mAP50-95)     Mask(P          R      mAP50  mAP50-95): 100%|██████████| 13/13 [00:13<00:00,  1.01s/it]"
     ]
    },
    {
     "name": "stdout",
     "output_type": "stream",
     "text": [
      "                   all       1600       3868      0.954      0.885      0.941      0.807      0.948      0.883      0.934      0.738\n"
     ]
    },
    {
     "name": "stderr",
     "output_type": "stream",
     "text": [
      "\n"
     ]
    },
    {
     "name": "stdout",
     "output_type": "stream",
     "text": [
      "\n",
      "      Epoch    GPU_mem   box_loss   seg_loss   cls_loss   dfl_loss  Instances       Size\n"
     ]
    },
    {
     "name": "stderr",
     "output_type": "stream",
     "text": [
      "    111/200      18.4G     0.7358      1.252     0.4852      1.017        105        640: 100%|██████████| 88/88 [01:21<00:00,  1.08it/s]\n",
      "                 Class     Images  Instances      Box(P          R      mAP50  mAP50-95)     Mask(P          R      mAP50  mAP50-95): 100%|██████████| 13/13 [00:13<00:00,  1.01s/it]"
     ]
    },
    {
     "name": "stdout",
     "output_type": "stream",
     "text": [
      "                   all       1600       3868       0.95      0.888      0.941      0.809      0.944      0.884      0.934       0.74\n"
     ]
    },
    {
     "name": "stderr",
     "output_type": "stream",
     "text": [
      "\n"
     ]
    },
    {
     "name": "stdout",
     "output_type": "stream",
     "text": [
      "\n",
      "      Epoch    GPU_mem   box_loss   seg_loss   cls_loss   dfl_loss  Instances       Size\n"
     ]
    },
    {
     "name": "stderr",
     "output_type": "stream",
     "text": [
      "    112/200      18.3G     0.7283       1.23     0.4786      1.016        103        640: 100%|██████████| 88/88 [01:21<00:00,  1.08it/s]\n",
      "                 Class     Images  Instances      Box(P          R      mAP50  mAP50-95)     Mask(P          R      mAP50  mAP50-95): 100%|██████████| 13/13 [00:13<00:00,  1.00s/it]"
     ]
    },
    {
     "name": "stdout",
     "output_type": "stream",
     "text": [
      "                   all       1600       3868      0.953      0.888      0.942      0.809      0.946      0.888      0.934      0.741\n"
     ]
    },
    {
     "name": "stderr",
     "output_type": "stream",
     "text": [
      "\n"
     ]
    },
    {
     "name": "stdout",
     "output_type": "stream",
     "text": [
      "\n",
      "      Epoch    GPU_mem   box_loss   seg_loss   cls_loss   dfl_loss  Instances       Size\n"
     ]
    },
    {
     "name": "stderr",
     "output_type": "stream",
     "text": [
      "    113/200      18.5G     0.7348      1.249     0.4822      1.024        104        640: 100%|██████████| 88/88 [01:21<00:00,  1.08it/s]\n",
      "                 Class     Images  Instances      Box(P          R      mAP50  mAP50-95)     Mask(P          R      mAP50  mAP50-95): 100%|██████████| 13/13 [00:13<00:00,  1.01s/it]"
     ]
    },
    {
     "name": "stdout",
     "output_type": "stream",
     "text": [
      "                   all       1600       3868      0.958      0.888      0.941      0.808       0.95      0.885      0.935      0.741\n"
     ]
    },
    {
     "name": "stderr",
     "output_type": "stream",
     "text": [
      "\n"
     ]
    },
    {
     "name": "stdout",
     "output_type": "stream",
     "text": [
      "\n",
      "      Epoch    GPU_mem   box_loss   seg_loss   cls_loss   dfl_loss  Instances       Size\n"
     ]
    },
    {
     "name": "stderr",
     "output_type": "stream",
     "text": [
      "    114/200      18.3G     0.7307      1.238     0.4819      1.021         95        640: 100%|██████████| 88/88 [01:21<00:00,  1.08it/s]\n",
      "                 Class     Images  Instances      Box(P          R      mAP50  mAP50-95)     Mask(P          R      mAP50  mAP50-95): 100%|██████████| 13/13 [00:13<00:00,  1.02s/it]"
     ]
    },
    {
     "name": "stdout",
     "output_type": "stream",
     "text": [
      "                   all       1600       3868      0.959      0.889      0.942      0.811      0.954      0.885      0.935      0.741\n"
     ]
    },
    {
     "name": "stderr",
     "output_type": "stream",
     "text": [
      "\n"
     ]
    },
    {
     "name": "stdout",
     "output_type": "stream",
     "text": [
      "\n",
      "      Epoch    GPU_mem   box_loss   seg_loss   cls_loss   dfl_loss  Instances       Size\n"
     ]
    },
    {
     "name": "stderr",
     "output_type": "stream",
     "text": [
      "    115/200      18.6G     0.7271      1.242     0.4767      1.011        130        640: 100%|██████████| 88/88 [01:21<00:00,  1.08it/s]\n",
      "                 Class     Images  Instances      Box(P          R      mAP50  mAP50-95)     Mask(P          R      mAP50  mAP50-95): 100%|██████████| 13/13 [00:13<00:00,  1.03s/it]"
     ]
    },
    {
     "name": "stdout",
     "output_type": "stream",
     "text": [
      "                   all       1600       3868      0.952      0.891      0.943       0.81      0.949      0.887      0.934      0.742\n"
     ]
    },
    {
     "name": "stderr",
     "output_type": "stream",
     "text": [
      "\n"
     ]
    },
    {
     "name": "stdout",
     "output_type": "stream",
     "text": [
      "\n",
      "      Epoch    GPU_mem   box_loss   seg_loss   cls_loss   dfl_loss  Instances       Size\n"
     ]
    },
    {
     "name": "stderr",
     "output_type": "stream",
     "text": [
      "    116/200      18.5G     0.7174      1.223     0.4702      1.005         96        640: 100%|██████████| 88/88 [01:20<00:00,  1.09it/s]\n",
      "                 Class     Images  Instances      Box(P          R      mAP50  mAP50-95)     Mask(P          R      mAP50  mAP50-95): 100%|██████████| 13/13 [00:13<00:00,  1.02s/it]"
     ]
    },
    {
     "name": "stdout",
     "output_type": "stream",
     "text": [
      "                   all       1600       3868      0.952      0.892      0.942      0.809      0.953      0.884      0.935      0.742\n"
     ]
    },
    {
     "name": "stderr",
     "output_type": "stream",
     "text": [
      "\n"
     ]
    },
    {
     "name": "stdout",
     "output_type": "stream",
     "text": [
      "\n",
      "      Epoch    GPU_mem   box_loss   seg_loss   cls_loss   dfl_loss  Instances       Size\n"
     ]
    },
    {
     "name": "stderr",
     "output_type": "stream",
     "text": [
      "    117/200      18.5G     0.7206      1.227     0.4716      1.012        120        640: 100%|██████████| 88/88 [01:21<00:00,  1.08it/s]\n",
      "                 Class     Images  Instances      Box(P          R      mAP50  mAP50-95)     Mask(P          R      mAP50  mAP50-95): 100%|██████████| 13/13 [00:13<00:00,  1.02s/it]"
     ]
    },
    {
     "name": "stdout",
     "output_type": "stream",
     "text": [
      "                   all       1600       3868      0.956       0.89      0.944      0.811      0.953      0.886      0.934      0.742\n"
     ]
    },
    {
     "name": "stderr",
     "output_type": "stream",
     "text": [
      "\n"
     ]
    },
    {
     "name": "stdout",
     "output_type": "stream",
     "text": [
      "\n",
      "      Epoch    GPU_mem   box_loss   seg_loss   cls_loss   dfl_loss  Instances       Size\n"
     ]
    },
    {
     "name": "stderr",
     "output_type": "stream",
     "text": [
      "    118/200      18.6G     0.7207      1.227     0.4762      1.009        121        640: 100%|██████████| 88/88 [01:21<00:00,  1.08it/s]\n",
      "                 Class     Images  Instances      Box(P          R      mAP50  mAP50-95)     Mask(P          R      mAP50  mAP50-95): 100%|██████████| 13/13 [00:13<00:00,  1.02s/it]"
     ]
    },
    {
     "name": "stdout",
     "output_type": "stream",
     "text": [
      "                   all       1600       3868      0.954      0.892      0.943       0.81      0.947      0.893      0.941      0.744\n"
     ]
    },
    {
     "name": "stderr",
     "output_type": "stream",
     "text": [
      "\n"
     ]
    },
    {
     "name": "stdout",
     "output_type": "stream",
     "text": [
      "\n",
      "      Epoch    GPU_mem   box_loss   seg_loss   cls_loss   dfl_loss  Instances       Size\n"
     ]
    },
    {
     "name": "stderr",
     "output_type": "stream",
     "text": [
      "    119/200      18.4G     0.7273      1.241     0.4761      1.013        121        640: 100%|██████████| 88/88 [01:21<00:00,  1.08it/s]\n",
      "                 Class     Images  Instances      Box(P          R      mAP50  mAP50-95)     Mask(P          R      mAP50  mAP50-95): 100%|██████████| 13/13 [00:13<00:00,  1.02s/it]"
     ]
    },
    {
     "name": "stdout",
     "output_type": "stream",
     "text": [
      "                   all       1600       3868      0.944      0.895      0.943      0.811      0.945      0.896      0.941      0.746\n"
     ]
    },
    {
     "name": "stderr",
     "output_type": "stream",
     "text": [
      "\n"
     ]
    },
    {
     "name": "stdout",
     "output_type": "stream",
     "text": [
      "\n",
      "      Epoch    GPU_mem   box_loss   seg_loss   cls_loss   dfl_loss  Instances       Size\n"
     ]
    },
    {
     "name": "stderr",
     "output_type": "stream",
     "text": [
      "    120/200      18.3G      0.713      1.218     0.4668      1.002         91        640: 100%|██████████| 88/88 [01:21<00:00,  1.08it/s]\n",
      "                 Class     Images  Instances      Box(P          R      mAP50  mAP50-95)     Mask(P          R      mAP50  mAP50-95): 100%|██████████| 13/13 [00:13<00:00,  1.03s/it]"
     ]
    },
    {
     "name": "stdout",
     "output_type": "stream",
     "text": [
      "                   all       1600       3868      0.947      0.893      0.942      0.811      0.943       0.89      0.934      0.743\n"
     ]
    },
    {
     "name": "stderr",
     "output_type": "stream",
     "text": [
      "\n"
     ]
    },
    {
     "name": "stdout",
     "output_type": "stream",
     "text": [
      "\n",
      "      Epoch    GPU_mem   box_loss   seg_loss   cls_loss   dfl_loss  Instances       Size\n"
     ]
    },
    {
     "name": "stderr",
     "output_type": "stream",
     "text": [
      "    121/200      18.6G     0.7181      1.216     0.4697      1.007        125        640: 100%|██████████| 88/88 [01:20<00:00,  1.09it/s]\n",
      "                 Class     Images  Instances      Box(P          R      mAP50  mAP50-95)     Mask(P          R      mAP50  mAP50-95): 100%|██████████| 13/13 [00:13<00:00,  1.02s/it]"
     ]
    },
    {
     "name": "stdout",
     "output_type": "stream",
     "text": [
      "                   all       1600       3868      0.949      0.893      0.942      0.813      0.946       0.89      0.934      0.743\n"
     ]
    },
    {
     "name": "stderr",
     "output_type": "stream",
     "text": [
      "\n"
     ]
    },
    {
     "name": "stdout",
     "output_type": "stream",
     "text": [
      "\n",
      "      Epoch    GPU_mem   box_loss   seg_loss   cls_loss   dfl_loss  Instances       Size\n"
     ]
    },
    {
     "name": "stderr",
     "output_type": "stream",
     "text": [
      "    122/200      18.5G      0.716      1.205     0.4623      1.004        111        640: 100%|██████████| 88/88 [01:21<00:00,  1.08it/s]\n",
      "                 Class     Images  Instances      Box(P          R      mAP50  mAP50-95)     Mask(P          R      mAP50  mAP50-95): 100%|██████████| 13/13 [00:13<00:00,  1.02s/it]"
     ]
    },
    {
     "name": "stdout",
     "output_type": "stream",
     "text": [
      "                   all       1600       3868      0.951       0.89      0.941      0.813      0.949      0.886      0.934      0.744\n"
     ]
    },
    {
     "name": "stderr",
     "output_type": "stream",
     "text": [
      "\n"
     ]
    },
    {
     "name": "stdout",
     "output_type": "stream",
     "text": [
      "\n",
      "      Epoch    GPU_mem   box_loss   seg_loss   cls_loss   dfl_loss  Instances       Size\n"
     ]
    },
    {
     "name": "stderr",
     "output_type": "stream",
     "text": [
      "    123/200      18.5G     0.7108      1.207     0.4656     0.9991        100        640: 100%|██████████| 88/88 [01:21<00:00,  1.08it/s]\n",
      "                 Class     Images  Instances      Box(P          R      mAP50  mAP50-95)     Mask(P          R      mAP50  mAP50-95): 100%|██████████| 13/13 [00:13<00:00,  1.02s/it]"
     ]
    },
    {
     "name": "stdout",
     "output_type": "stream",
     "text": [
      "                   all       1600       3868      0.948      0.891      0.941      0.813      0.944      0.888      0.932      0.744\n"
     ]
    },
    {
     "name": "stderr",
     "output_type": "stream",
     "text": [
      "\n"
     ]
    },
    {
     "name": "stdout",
     "output_type": "stream",
     "text": [
      "\n",
      "      Epoch    GPU_mem   box_loss   seg_loss   cls_loss   dfl_loss  Instances       Size\n"
     ]
    },
    {
     "name": "stderr",
     "output_type": "stream",
     "text": [
      "    124/200      18.6G     0.7002      1.198     0.4608     0.9987        102        640: 100%|██████████| 88/88 [01:21<00:00,  1.08it/s]\n",
      "                 Class     Images  Instances      Box(P          R      mAP50  mAP50-95)     Mask(P          R      mAP50  mAP50-95): 100%|██████████| 13/13 [00:13<00:00,  1.02s/it]"
     ]
    },
    {
     "name": "stdout",
     "output_type": "stream",
     "text": [
      "                   all       1600       3868      0.948      0.895      0.941      0.813      0.948      0.889      0.932      0.745\n"
     ]
    },
    {
     "name": "stderr",
     "output_type": "stream",
     "text": [
      "\n"
     ]
    },
    {
     "name": "stdout",
     "output_type": "stream",
     "text": [
      "\n",
      "      Epoch    GPU_mem   box_loss   seg_loss   cls_loss   dfl_loss  Instances       Size\n"
     ]
    },
    {
     "name": "stderr",
     "output_type": "stream",
     "text": [
      "    125/200      18.5G     0.7067      1.203     0.4593      1.002        108        640: 100%|██████████| 88/88 [01:21<00:00,  1.08it/s]\n",
      "                 Class     Images  Instances      Box(P          R      mAP50  mAP50-95)     Mask(P          R      mAP50  mAP50-95): 100%|██████████| 13/13 [00:13<00:00,  1.02s/it]"
     ]
    },
    {
     "name": "stdout",
     "output_type": "stream",
     "text": [
      "                   all       1600       3868      0.951      0.891       0.94      0.814      0.948       0.89      0.933      0.746\n"
     ]
    },
    {
     "name": "stderr",
     "output_type": "stream",
     "text": [
      "\n"
     ]
    },
    {
     "name": "stdout",
     "output_type": "stream",
     "text": [
      "\n",
      "      Epoch    GPU_mem   box_loss   seg_loss   cls_loss   dfl_loss  Instances       Size\n"
     ]
    },
    {
     "name": "stderr",
     "output_type": "stream",
     "text": [
      "    126/200      18.5G      0.709      1.207     0.4611      1.001        127        640: 100%|██████████| 88/88 [01:21<00:00,  1.08it/s]\n",
      "                 Class     Images  Instances      Box(P          R      mAP50  mAP50-95)     Mask(P          R      mAP50  mAP50-95): 100%|██████████| 13/13 [00:13<00:00,  1.02s/it]"
     ]
    },
    {
     "name": "stdout",
     "output_type": "stream",
     "text": [
      "                   all       1600       3868      0.948      0.896      0.941      0.814      0.946      0.894      0.934      0.747\n"
     ]
    },
    {
     "name": "stderr",
     "output_type": "stream",
     "text": [
      "\n"
     ]
    },
    {
     "name": "stdout",
     "output_type": "stream",
     "text": [
      "\n",
      "      Epoch    GPU_mem   box_loss   seg_loss   cls_loss   dfl_loss  Instances       Size\n"
     ]
    },
    {
     "name": "stderr",
     "output_type": "stream",
     "text": [
      "    127/200      18.3G     0.6977      1.198     0.4584     0.9981        113        640: 100%|██████████| 88/88 [01:21<00:00,  1.08it/s]\n",
      "                 Class     Images  Instances      Box(P          R      mAP50  mAP50-95)     Mask(P          R      mAP50  mAP50-95): 100%|██████████| 13/13 [00:13<00:00,  1.01s/it]"
     ]
    },
    {
     "name": "stdout",
     "output_type": "stream",
     "text": [
      "                   all       1600       3868      0.953      0.891      0.942      0.815      0.949      0.891      0.934      0.747\n"
     ]
    },
    {
     "name": "stderr",
     "output_type": "stream",
     "text": [
      "\n"
     ]
    },
    {
     "name": "stdout",
     "output_type": "stream",
     "text": [
      "\n",
      "      Epoch    GPU_mem   box_loss   seg_loss   cls_loss   dfl_loss  Instances       Size\n"
     ]
    },
    {
     "name": "stderr",
     "output_type": "stream",
     "text": [
      "    128/200      18.5G     0.6949      1.182      0.449     0.9913        124        640: 100%|██████████| 88/88 [01:21<00:00,  1.08it/s]\n",
      "                 Class     Images  Instances      Box(P          R      mAP50  mAP50-95)     Mask(P          R      mAP50  mAP50-95): 100%|██████████| 13/13 [00:13<00:00,  1.01s/it]"
     ]
    },
    {
     "name": "stdout",
     "output_type": "stream",
     "text": [
      "                   all       1600       3868      0.956       0.89      0.942      0.816      0.953      0.887      0.934      0.748\n"
     ]
    },
    {
     "name": "stderr",
     "output_type": "stream",
     "text": [
      "\n"
     ]
    },
    {
     "name": "stdout",
     "output_type": "stream",
     "text": [
      "\n",
      "      Epoch    GPU_mem   box_loss   seg_loss   cls_loss   dfl_loss  Instances       Size\n"
     ]
    },
    {
     "name": "stderr",
     "output_type": "stream",
     "text": [
      "    129/200      18.5G     0.6942      1.178     0.4481     0.9952        106        640: 100%|██████████| 88/88 [01:21<00:00,  1.08it/s]\n",
      "                 Class     Images  Instances      Box(P          R      mAP50  mAP50-95)     Mask(P          R      mAP50  mAP50-95): 100%|██████████| 13/13 [00:13<00:00,  1.01s/it]"
     ]
    },
    {
     "name": "stdout",
     "output_type": "stream",
     "text": [
      "                   all       1600       3868      0.954      0.888      0.942      0.816      0.952      0.885      0.934      0.749\n"
     ]
    },
    {
     "name": "stderr",
     "output_type": "stream",
     "text": [
      "\n"
     ]
    },
    {
     "name": "stdout",
     "output_type": "stream",
     "text": [
      "\n",
      "      Epoch    GPU_mem   box_loss   seg_loss   cls_loss   dfl_loss  Instances       Size\n"
     ]
    },
    {
     "name": "stderr",
     "output_type": "stream",
     "text": [
      "    130/200      18.3G     0.6956      1.181     0.4511     0.9949        133        640: 100%|██████████| 88/88 [01:21<00:00,  1.08it/s]\n",
      "                 Class     Images  Instances      Box(P          R      mAP50  mAP50-95)     Mask(P          R      mAP50  mAP50-95): 100%|██████████| 13/13 [00:12<00:00,  1.01it/s]"
     ]
    },
    {
     "name": "stdout",
     "output_type": "stream",
     "text": [
      "                   all       1600       3868      0.947      0.896      0.942      0.816      0.943      0.893      0.933      0.748\n"
     ]
    },
    {
     "name": "stderr",
     "output_type": "stream",
     "text": [
      "\n"
     ]
    },
    {
     "name": "stdout",
     "output_type": "stream",
     "text": [
      "\n",
      "      Epoch    GPU_mem   box_loss   seg_loss   cls_loss   dfl_loss  Instances       Size\n"
     ]
    },
    {
     "name": "stderr",
     "output_type": "stream",
     "text": [
      "    131/200      18.5G      0.699       1.18     0.4471     0.9895         83        640: 100%|██████████| 88/88 [01:20<00:00,  1.09it/s]\n",
      "                 Class     Images  Instances      Box(P          R      mAP50  mAP50-95)     Mask(P          R      mAP50  mAP50-95): 100%|██████████| 13/13 [00:13<00:00,  1.02s/it]"
     ]
    },
    {
     "name": "stdout",
     "output_type": "stream",
     "text": [
      "                   all       1600       3868       0.95      0.896      0.943      0.817      0.945      0.893      0.933      0.748\n"
     ]
    },
    {
     "name": "stderr",
     "output_type": "stream",
     "text": [
      "\n"
     ]
    },
    {
     "name": "stdout",
     "output_type": "stream",
     "text": [
      "\n",
      "      Epoch    GPU_mem   box_loss   seg_loss   cls_loss   dfl_loss  Instances       Size\n"
     ]
    },
    {
     "name": "stderr",
     "output_type": "stream",
     "text": [
      "    132/200      18.4G     0.6885      1.174     0.4502     0.9925        130        640: 100%|██████████| 88/88 [01:21<00:00,  1.08it/s]\n",
      "                 Class     Images  Instances      Box(P          R      mAP50  mAP50-95)     Mask(P          R      mAP50  mAP50-95): 100%|██████████| 13/13 [00:13<00:00,  1.01s/it]"
     ]
    },
    {
     "name": "stdout",
     "output_type": "stream",
     "text": [
      "                   all       1600       3868      0.947      0.898      0.943      0.819      0.943      0.892      0.933      0.751\n"
     ]
    },
    {
     "name": "stderr",
     "output_type": "stream",
     "text": [
      "\n"
     ]
    },
    {
     "name": "stdout",
     "output_type": "stream",
     "text": [
      "\n",
      "      Epoch    GPU_mem   box_loss   seg_loss   cls_loss   dfl_loss  Instances       Size\n"
     ]
    },
    {
     "name": "stderr",
     "output_type": "stream",
     "text": [
      "    133/200      18.6G      0.691      1.184      0.446     0.9912        125        640: 100%|██████████| 88/88 [01:21<00:00,  1.09it/s]\n",
      "                 Class     Images  Instances      Box(P          R      mAP50  mAP50-95)     Mask(P          R      mAP50  mAP50-95): 100%|██████████| 13/13 [00:13<00:00,  1.02s/it]"
     ]
    },
    {
     "name": "stdout",
     "output_type": "stream",
     "text": [
      "                   all       1600       3868      0.947      0.897      0.942      0.818      0.955      0.881      0.932      0.751\n"
     ]
    },
    {
     "name": "stderr",
     "output_type": "stream",
     "text": [
      "\n"
     ]
    },
    {
     "name": "stdout",
     "output_type": "stream",
     "text": [
      "\n",
      "      Epoch    GPU_mem   box_loss   seg_loss   cls_loss   dfl_loss  Instances       Size\n"
     ]
    },
    {
     "name": "stderr",
     "output_type": "stream",
     "text": [
      "    134/200      18.6G     0.6814      1.168     0.4398     0.9846         88        640: 100%|██████████| 88/88 [01:21<00:00,  1.08it/s]\n",
      "                 Class     Images  Instances      Box(P          R      mAP50  mAP50-95)     Mask(P          R      mAP50  mAP50-95): 100%|██████████| 13/13 [00:13<00:00,  1.02s/it]"
     ]
    },
    {
     "name": "stdout",
     "output_type": "stream",
     "text": [
      "                   all       1600       3868      0.945      0.897      0.942      0.819      0.956      0.881      0.933      0.752\n"
     ]
    },
    {
     "name": "stderr",
     "output_type": "stream",
     "text": [
      "\n"
     ]
    },
    {
     "name": "stdout",
     "output_type": "stream",
     "text": [
      "\n",
      "      Epoch    GPU_mem   box_loss   seg_loss   cls_loss   dfl_loss  Instances       Size\n"
     ]
    },
    {
     "name": "stderr",
     "output_type": "stream",
     "text": [
      "    135/200      18.6G     0.6869      1.163     0.4415     0.9905        100        640: 100%|██████████| 88/88 [01:20<00:00,  1.09it/s]\n",
      "                 Class     Images  Instances      Box(P          R      mAP50  mAP50-95)     Mask(P          R      mAP50  mAP50-95): 100%|██████████| 13/13 [00:13<00:00,  1.01s/it]"
     ]
    },
    {
     "name": "stdout",
     "output_type": "stream",
     "text": [
      "                   all       1600       3868      0.952      0.891      0.942      0.819      0.954      0.882      0.932      0.752\n"
     ]
    },
    {
     "name": "stderr",
     "output_type": "stream",
     "text": [
      "\n"
     ]
    },
    {
     "name": "stdout",
     "output_type": "stream",
     "text": [
      "\n",
      "      Epoch    GPU_mem   box_loss   seg_loss   cls_loss   dfl_loss  Instances       Size\n"
     ]
    },
    {
     "name": "stderr",
     "output_type": "stream",
     "text": [
      "    136/200      18.5G     0.6765      1.161     0.4397     0.9854        104        640: 100%|██████████| 88/88 [01:21<00:00,  1.08it/s]\n",
      "                 Class     Images  Instances      Box(P          R      mAP50  mAP50-95)     Mask(P          R      mAP50  mAP50-95): 100%|██████████| 13/13 [00:13<00:00,  1.02s/it]"
     ]
    },
    {
     "name": "stdout",
     "output_type": "stream",
     "text": [
      "                   all       1600       3868      0.956      0.884      0.942       0.82      0.953      0.882      0.934      0.753\n"
     ]
    },
    {
     "name": "stderr",
     "output_type": "stream",
     "text": [
      "\n"
     ]
    },
    {
     "name": "stdout",
     "output_type": "stream",
     "text": [
      "\n",
      "      Epoch    GPU_mem   box_loss   seg_loss   cls_loss   dfl_loss  Instances       Size\n"
     ]
    },
    {
     "name": "stderr",
     "output_type": "stream",
     "text": [
      "    137/200      18.5G     0.6884      1.165      0.444     0.9882        110        640: 100%|██████████| 88/88 [01:21<00:00,  1.08it/s]\n",
      "                 Class     Images  Instances      Box(P          R      mAP50  mAP50-95)     Mask(P          R      mAP50  mAP50-95): 100%|██████████| 13/13 [00:13<00:00,  1.02s/it]"
     ]
    },
    {
     "name": "stdout",
     "output_type": "stream",
     "text": [
      "                   all       1600       3868      0.955      0.889      0.942       0.82      0.952      0.887      0.934      0.753\n"
     ]
    },
    {
     "name": "stderr",
     "output_type": "stream",
     "text": [
      "\n"
     ]
    },
    {
     "name": "stdout",
     "output_type": "stream",
     "text": [
      "\n",
      "      Epoch    GPU_mem   box_loss   seg_loss   cls_loss   dfl_loss  Instances       Size\n"
     ]
    },
    {
     "name": "stderr",
     "output_type": "stream",
     "text": [
      "    138/200      18.6G      0.685      1.163      0.443     0.9856        135        640: 100%|██████████| 88/88 [01:20<00:00,  1.09it/s]\n",
      "                 Class     Images  Instances      Box(P          R      mAP50  mAP50-95)     Mask(P          R      mAP50  mAP50-95): 100%|██████████| 13/13 [00:13<00:00,  1.02s/it]"
     ]
    },
    {
     "name": "stdout",
     "output_type": "stream",
     "text": [
      "                   all       1600       3868      0.959      0.885      0.941      0.819      0.957      0.884      0.934      0.753\n"
     ]
    },
    {
     "name": "stderr",
     "output_type": "stream",
     "text": [
      "\n"
     ]
    },
    {
     "name": "stdout",
     "output_type": "stream",
     "text": [
      "\n",
      "      Epoch    GPU_mem   box_loss   seg_loss   cls_loss   dfl_loss  Instances       Size\n"
     ]
    },
    {
     "name": "stderr",
     "output_type": "stream",
     "text": [
      "    139/200      18.3G     0.6743      1.144     0.4334     0.9794        116        640: 100%|██████████| 88/88 [01:21<00:00,  1.08it/s]\n",
      "                 Class     Images  Instances      Box(P          R      mAP50  mAP50-95)     Mask(P          R      mAP50  mAP50-95): 100%|██████████| 13/13 [00:13<00:00,  1.02s/it]"
     ]
    },
    {
     "name": "stdout",
     "output_type": "stream",
     "text": [
      "                   all       1600       3868      0.962      0.883      0.941      0.819      0.956      0.884      0.934      0.753\n"
     ]
    },
    {
     "name": "stderr",
     "output_type": "stream",
     "text": [
      "\n"
     ]
    },
    {
     "name": "stdout",
     "output_type": "stream",
     "text": [
      "\n",
      "      Epoch    GPU_mem   box_loss   seg_loss   cls_loss   dfl_loss  Instances       Size\n"
     ]
    },
    {
     "name": "stderr",
     "output_type": "stream",
     "text": [
      "    140/200      18.5G     0.6678      1.145     0.4351     0.9787        169        640: 100%|██████████| 88/88 [01:21<00:00,  1.08it/s]\n",
      "                 Class     Images  Instances      Box(P          R      mAP50  mAP50-95)     Mask(P          R      mAP50  mAP50-95): 100%|██████████| 13/13 [00:13<00:00,  1.01s/it]"
     ]
    },
    {
     "name": "stdout",
     "output_type": "stream",
     "text": [
      "                   all       1600       3868       0.96      0.885      0.941      0.819      0.958      0.884      0.933      0.753\n"
     ]
    },
    {
     "name": "stderr",
     "output_type": "stream",
     "text": [
      "\n"
     ]
    },
    {
     "name": "stdout",
     "output_type": "stream",
     "text": [
      "\n",
      "      Epoch    GPU_mem   box_loss   seg_loss   cls_loss   dfl_loss  Instances       Size\n"
     ]
    },
    {
     "name": "stderr",
     "output_type": "stream",
     "text": [
      "    141/200      18.5G     0.6681      1.136     0.4351      0.979        137        640: 100%|██████████| 88/88 [01:21<00:00,  1.08it/s]\n",
      "                 Class     Images  Instances      Box(P          R      mAP50  mAP50-95)     Mask(P          R      mAP50  mAP50-95): 100%|██████████| 13/13 [00:13<00:00,  1.02s/it]"
     ]
    },
    {
     "name": "stdout",
     "output_type": "stream",
     "text": [
      "                   all       1600       3868      0.958      0.885      0.942      0.819      0.953      0.884      0.934      0.753\n"
     ]
    },
    {
     "name": "stderr",
     "output_type": "stream",
     "text": [
      "\n"
     ]
    },
    {
     "name": "stdout",
     "output_type": "stream",
     "text": [
      "\n",
      "      Epoch    GPU_mem   box_loss   seg_loss   cls_loss   dfl_loss  Instances       Size\n"
     ]
    },
    {
     "name": "stderr",
     "output_type": "stream",
     "text": [
      "    142/200      18.6G     0.6626      1.134     0.4248     0.9767        143        640: 100%|██████████| 88/88 [01:21<00:00,  1.08it/s]\n",
      "                 Class     Images  Instances      Box(P          R      mAP50  mAP50-95)     Mask(P          R      mAP50  mAP50-95): 100%|██████████| 13/13 [00:13<00:00,  1.02s/it]"
     ]
    },
    {
     "name": "stdout",
     "output_type": "stream",
     "text": [
      "                   all       1600       3868      0.959      0.885      0.941      0.819      0.953      0.883      0.933      0.753\n"
     ]
    },
    {
     "name": "stderr",
     "output_type": "stream",
     "text": [
      "\n"
     ]
    },
    {
     "name": "stdout",
     "output_type": "stream",
     "text": [
      "\n",
      "      Epoch    GPU_mem   box_loss   seg_loss   cls_loss   dfl_loss  Instances       Size\n"
     ]
    },
    {
     "name": "stderr",
     "output_type": "stream",
     "text": [
      "    143/200      18.5G     0.6598      1.123     0.4209     0.9733        140        640: 100%|██████████| 88/88 [01:21<00:00,  1.08it/s]\n",
      "                 Class     Images  Instances      Box(P          R      mAP50  mAP50-95)     Mask(P          R      mAP50  mAP50-95): 100%|██████████| 13/13 [00:13<00:00,  1.02s/it]"
     ]
    },
    {
     "name": "stdout",
     "output_type": "stream",
     "text": [
      "                   all       1600       3868      0.959      0.882      0.941      0.819      0.955      0.882      0.937      0.753\n"
     ]
    },
    {
     "name": "stderr",
     "output_type": "stream",
     "text": [
      "\n"
     ]
    },
    {
     "name": "stdout",
     "output_type": "stream",
     "text": [
      "\n",
      "      Epoch    GPU_mem   box_loss   seg_loss   cls_loss   dfl_loss  Instances       Size\n"
     ]
    },
    {
     "name": "stderr",
     "output_type": "stream",
     "text": [
      "    144/200      18.5G     0.6628      1.128     0.4276     0.9745        118        640: 100%|██████████| 88/88 [01:21<00:00,  1.08it/s]\n",
      "                 Class     Images  Instances      Box(P          R      mAP50  mAP50-95)     Mask(P          R      mAP50  mAP50-95): 100%|██████████| 13/13 [00:13<00:00,  1.02s/it]"
     ]
    },
    {
     "name": "stdout",
     "output_type": "stream",
     "text": [
      "                   all       1600       3868      0.961      0.881      0.941       0.82      0.944      0.896      0.939      0.754\n"
     ]
    },
    {
     "name": "stderr",
     "output_type": "stream",
     "text": [
      "\n"
     ]
    },
    {
     "name": "stdout",
     "output_type": "stream",
     "text": [
      "\n",
      "      Epoch    GPU_mem   box_loss   seg_loss   cls_loss   dfl_loss  Instances       Size\n"
     ]
    },
    {
     "name": "stderr",
     "output_type": "stream",
     "text": [
      "    145/200      18.5G     0.6545      1.122     0.4196     0.9726        155        640: 100%|██████████| 88/88 [01:21<00:00,  1.08it/s]\n",
      "                 Class     Images  Instances      Box(P          R      mAP50  mAP50-95)     Mask(P          R      mAP50  mAP50-95): 100%|██████████| 13/13 [00:13<00:00,  1.01s/it]"
     ]
    },
    {
     "name": "stdout",
     "output_type": "stream",
     "text": [
      "                   all       1600       3868      0.957      0.886      0.941      0.819      0.957      0.887      0.941      0.754\n"
     ]
    },
    {
     "name": "stderr",
     "output_type": "stream",
     "text": [
      "\n"
     ]
    },
    {
     "name": "stdout",
     "output_type": "stream",
     "text": [
      "\n",
      "      Epoch    GPU_mem   box_loss   seg_loss   cls_loss   dfl_loss  Instances       Size\n"
     ]
    },
    {
     "name": "stderr",
     "output_type": "stream",
     "text": [
      "    146/200      18.5G     0.6558      1.121     0.4212     0.9725         97        640: 100%|██████████| 88/88 [01:21<00:00,  1.08it/s]\n",
      "                 Class     Images  Instances      Box(P          R      mAP50  mAP50-95)     Mask(P          R      mAP50  mAP50-95): 100%|██████████| 13/13 [00:13<00:00,  1.01s/it]"
     ]
    },
    {
     "name": "stdout",
     "output_type": "stream",
     "text": [
      "                   all       1600       3868      0.957      0.886      0.941       0.82       0.95      0.891      0.938      0.755\n"
     ]
    },
    {
     "name": "stderr",
     "output_type": "stream",
     "text": [
      "\n"
     ]
    },
    {
     "name": "stdout",
     "output_type": "stream",
     "text": [
      "\n",
      "      Epoch    GPU_mem   box_loss   seg_loss   cls_loss   dfl_loss  Instances       Size\n"
     ]
    },
    {
     "name": "stderr",
     "output_type": "stream",
     "text": [
      "    147/200      18.4G     0.6586      1.123     0.4207     0.9735        106        640: 100%|██████████| 88/88 [01:21<00:00,  1.09it/s]\n",
      "                 Class     Images  Instances      Box(P          R      mAP50  mAP50-95)     Mask(P          R      mAP50  mAP50-95): 100%|██████████| 13/13 [00:13<00:00,  1.02s/it]"
     ]
    },
    {
     "name": "stdout",
     "output_type": "stream",
     "text": [
      "                   all       1600       3868      0.958      0.886      0.941       0.82      0.951      0.888      0.934      0.754\n"
     ]
    },
    {
     "name": "stderr",
     "output_type": "stream",
     "text": [
      "\n"
     ]
    },
    {
     "name": "stdout",
     "output_type": "stream",
     "text": [
      "\n",
      "      Epoch    GPU_mem   box_loss   seg_loss   cls_loss   dfl_loss  Instances       Size\n"
     ]
    },
    {
     "name": "stderr",
     "output_type": "stream",
     "text": [
      "    148/200      18.2G     0.6547       1.13     0.4212     0.9724        131        640: 100%|██████████| 88/88 [01:21<00:00,  1.09it/s]\n",
      "                 Class     Images  Instances      Box(P          R      mAP50  mAP50-95)     Mask(P          R      mAP50  mAP50-95): 100%|██████████| 13/13 [00:12<00:00,  1.01it/s]"
     ]
    },
    {
     "name": "stdout",
     "output_type": "stream",
     "text": [
      "                   all       1600       3868      0.964      0.879      0.941      0.822       0.95      0.888      0.934      0.755\n"
     ]
    },
    {
     "name": "stderr",
     "output_type": "stream",
     "text": [
      "\n"
     ]
    },
    {
     "name": "stdout",
     "output_type": "stream",
     "text": [
      "\n",
      "      Epoch    GPU_mem   box_loss   seg_loss   cls_loss   dfl_loss  Instances       Size\n"
     ]
    },
    {
     "name": "stderr",
     "output_type": "stream",
     "text": [
      "    149/200      18.3G     0.6592      1.132     0.4237     0.9759        117        640: 100%|██████████| 88/88 [01:21<00:00,  1.09it/s]\n",
      "                 Class     Images  Instances      Box(P          R      mAP50  mAP50-95)     Mask(P          R      mAP50  mAP50-95): 100%|██████████| 13/13 [00:13<00:00,  1.02s/it]"
     ]
    },
    {
     "name": "stdout",
     "output_type": "stream",
     "text": [
      "                   all       1600       3868      0.961      0.881      0.941      0.822      0.948       0.89      0.934      0.755\n"
     ]
    },
    {
     "name": "stderr",
     "output_type": "stream",
     "text": [
      "\n"
     ]
    },
    {
     "name": "stdout",
     "output_type": "stream",
     "text": [
      "\n",
      "      Epoch    GPU_mem   box_loss   seg_loss   cls_loss   dfl_loss  Instances       Size\n"
     ]
    },
    {
     "name": "stderr",
     "output_type": "stream",
     "text": [
      "    150/200      18.4G     0.6549      1.121     0.4206     0.9722        111        640: 100%|██████████| 88/88 [01:21<00:00,  1.08it/s]\n",
      "                 Class     Images  Instances      Box(P          R      mAP50  mAP50-95)     Mask(P          R      mAP50  mAP50-95): 100%|██████████| 13/13 [00:13<00:00,  1.00s/it]"
     ]
    },
    {
     "name": "stdout",
     "output_type": "stream",
     "text": [
      "                   all       1600       3868      0.957      0.883      0.942      0.822      0.954      0.885      0.934      0.756\n"
     ]
    },
    {
     "name": "stderr",
     "output_type": "stream",
     "text": [
      "\n"
     ]
    },
    {
     "name": "stdout",
     "output_type": "stream",
     "text": [
      "\n",
      "      Epoch    GPU_mem   box_loss   seg_loss   cls_loss   dfl_loss  Instances       Size\n"
     ]
    },
    {
     "name": "stderr",
     "output_type": "stream",
     "text": [
      "    151/200      18.5G     0.6463      1.107     0.4155     0.9697         76        640: 100%|██████████| 88/88 [01:21<00:00,  1.08it/s]\n",
      "                 Class     Images  Instances      Box(P          R      mAP50  mAP50-95)     Mask(P          R      mAP50  mAP50-95): 100%|██████████| 13/13 [00:13<00:00,  1.02s/it]"
     ]
    },
    {
     "name": "stdout",
     "output_type": "stream",
     "text": [
      "                   all       1600       3868      0.957      0.884      0.941      0.822      0.956      0.886      0.935      0.757\n"
     ]
    },
    {
     "name": "stderr",
     "output_type": "stream",
     "text": [
      "\n"
     ]
    },
    {
     "name": "stdout",
     "output_type": "stream",
     "text": [
      "\n",
      "      Epoch    GPU_mem   box_loss   seg_loss   cls_loss   dfl_loss  Instances       Size\n"
     ]
    },
    {
     "name": "stderr",
     "output_type": "stream",
     "text": [
      "    152/200      18.6G     0.6453      1.102     0.4113     0.9651         97        640: 100%|██████████| 88/88 [01:20<00:00,  1.09it/s]\n",
      "                 Class     Images  Instances      Box(P          R      mAP50  mAP50-95)     Mask(P          R      mAP50  mAP50-95): 100%|██████████| 13/13 [00:13<00:00,  1.01s/it]"
     ]
    },
    {
     "name": "stdout",
     "output_type": "stream",
     "text": [
      "                   all       1600       3868      0.959      0.883      0.942      0.822      0.954      0.886      0.934      0.757\n"
     ]
    },
    {
     "name": "stderr",
     "output_type": "stream",
     "text": [
      "\n"
     ]
    },
    {
     "name": "stdout",
     "output_type": "stream",
     "text": [
      "\n",
      "      Epoch    GPU_mem   box_loss   seg_loss   cls_loss   dfl_loss  Instances       Size\n"
     ]
    },
    {
     "name": "stderr",
     "output_type": "stream",
     "text": [
      "    153/200      18.4G     0.6418        1.1     0.4119     0.9674        130        640: 100%|██████████| 88/88 [01:21<00:00,  1.08it/s]\n",
      "                 Class     Images  Instances      Box(P          R      mAP50  mAP50-95)     Mask(P          R      mAP50  mAP50-95): 100%|██████████| 13/13 [00:13<00:00,  1.02s/it]"
     ]
    },
    {
     "name": "stdout",
     "output_type": "stream",
     "text": [
      "                   all       1600       3868      0.961      0.882      0.941      0.822      0.956      0.884      0.934      0.758\n"
     ]
    },
    {
     "name": "stderr",
     "output_type": "stream",
     "text": [
      "\n"
     ]
    },
    {
     "name": "stdout",
     "output_type": "stream",
     "text": [
      "\n",
      "      Epoch    GPU_mem   box_loss   seg_loss   cls_loss   dfl_loss  Instances       Size\n"
     ]
    },
    {
     "name": "stderr",
     "output_type": "stream",
     "text": [
      "    154/200      18.4G     0.6429      1.107     0.4116     0.9664        121        640: 100%|██████████| 88/88 [01:21<00:00,  1.08it/s]\n",
      "                 Class     Images  Instances      Box(P          R      mAP50  mAP50-95)     Mask(P          R      mAP50  mAP50-95): 100%|██████████| 13/13 [00:13<00:00,  1.02s/it]"
     ]
    },
    {
     "name": "stdout",
     "output_type": "stream",
     "text": [
      "                   all       1600       3868       0.96      0.883      0.942      0.823      0.954      0.886      0.934      0.758\n"
     ]
    },
    {
     "name": "stderr",
     "output_type": "stream",
     "text": [
      "\n"
     ]
    },
    {
     "name": "stdout",
     "output_type": "stream",
     "text": [
      "\n",
      "      Epoch    GPU_mem   box_loss   seg_loss   cls_loss   dfl_loss  Instances       Size\n"
     ]
    },
    {
     "name": "stderr",
     "output_type": "stream",
     "text": [
      "    155/200      18.5G     0.6367      1.096     0.4075     0.9641         93        640: 100%|██████████| 88/88 [01:21<00:00,  1.08it/s]\n",
      "                 Class     Images  Instances      Box(P          R      mAP50  mAP50-95)     Mask(P          R      mAP50  mAP50-95): 100%|██████████| 13/13 [00:13<00:00,  1.02s/it]"
     ]
    },
    {
     "name": "stdout",
     "output_type": "stream",
     "text": [
      "                   all       1600       3868       0.96      0.883      0.942      0.824      0.952      0.888      0.933      0.758\n"
     ]
    },
    {
     "name": "stderr",
     "output_type": "stream",
     "text": [
      "\n"
     ]
    },
    {
     "name": "stdout",
     "output_type": "stream",
     "text": [
      "\n",
      "      Epoch    GPU_mem   box_loss   seg_loss   cls_loss   dfl_loss  Instances       Size\n"
     ]
    },
    {
     "name": "stderr",
     "output_type": "stream",
     "text": [
      "    156/200      18.2G     0.6397      1.092      0.406     0.9627        126        640: 100%|██████████| 88/88 [01:21<00:00,  1.08it/s]\n",
      "                 Class     Images  Instances      Box(P          R      mAP50  mAP50-95)     Mask(P          R      mAP50  mAP50-95): 100%|██████████| 13/13 [00:12<00:00,  1.00it/s]"
     ]
    },
    {
     "name": "stdout",
     "output_type": "stream",
     "text": [
      "                   all       1600       3868      0.961      0.883      0.942      0.823      0.957      0.883      0.933      0.759\n"
     ]
    },
    {
     "name": "stderr",
     "output_type": "stream",
     "text": [
      "\n"
     ]
    },
    {
     "name": "stdout",
     "output_type": "stream",
     "text": [
      "\n",
      "      Epoch    GPU_mem   box_loss   seg_loss   cls_loss   dfl_loss  Instances       Size\n"
     ]
    },
    {
     "name": "stderr",
     "output_type": "stream",
     "text": [
      "    157/200      18.5G     0.6379      1.089     0.4043     0.9621        107        640: 100%|██████████| 88/88 [01:21<00:00,  1.08it/s]\n",
      "                 Class     Images  Instances      Box(P          R      mAP50  mAP50-95)     Mask(P          R      mAP50  mAP50-95): 100%|██████████| 13/13 [00:13<00:00,  1.02s/it]"
     ]
    },
    {
     "name": "stdout",
     "output_type": "stream",
     "text": [
      "                   all       1600       3868      0.963      0.883      0.942      0.824      0.957      0.884      0.933      0.759\n"
     ]
    },
    {
     "name": "stderr",
     "output_type": "stream",
     "text": [
      "\n"
     ]
    },
    {
     "name": "stdout",
     "output_type": "stream",
     "text": [
      "\n",
      "      Epoch    GPU_mem   box_loss   seg_loss   cls_loss   dfl_loss  Instances       Size\n"
     ]
    },
    {
     "name": "stderr",
     "output_type": "stream",
     "text": [
      "    158/200      18.5G     0.6313      1.087     0.4086     0.9619         95        640: 100%|██████████| 88/88 [01:21<00:00,  1.08it/s]\n",
      "                 Class     Images  Instances      Box(P          R      mAP50  mAP50-95)     Mask(P          R      mAP50  mAP50-95): 100%|██████████| 13/13 [00:13<00:00,  1.02s/it]"
     ]
    },
    {
     "name": "stdout",
     "output_type": "stream",
     "text": [
      "                   all       1600       3868      0.964      0.885      0.942      0.824      0.959      0.884      0.933       0.76\n"
     ]
    },
    {
     "name": "stderr",
     "output_type": "stream",
     "text": [
      "\n"
     ]
    },
    {
     "name": "stdout",
     "output_type": "stream",
     "text": [
      "\n",
      "      Epoch    GPU_mem   box_loss   seg_loss   cls_loss   dfl_loss  Instances       Size\n"
     ]
    },
    {
     "name": "stderr",
     "output_type": "stream",
     "text": [
      "    159/200      18.5G     0.6276      1.091     0.4042     0.9611        119        640: 100%|██████████| 88/88 [01:21<00:00,  1.08it/s]\n",
      "                 Class     Images  Instances      Box(P          R      mAP50  mAP50-95)     Mask(P          R      mAP50  mAP50-95): 100%|██████████| 13/13 [00:13<00:00,  1.01s/it]"
     ]
    },
    {
     "name": "stdout",
     "output_type": "stream",
     "text": [
      "                   all       1600       3868      0.963      0.886      0.942      0.825       0.96      0.886      0.934       0.76\n"
     ]
    },
    {
     "name": "stderr",
     "output_type": "stream",
     "text": [
      "\n"
     ]
    },
    {
     "name": "stdout",
     "output_type": "stream",
     "text": [
      "\n",
      "      Epoch    GPU_mem   box_loss   seg_loss   cls_loss   dfl_loss  Instances       Size\n"
     ]
    },
    {
     "name": "stderr",
     "output_type": "stream",
     "text": [
      "    160/200      18.1G     0.6263      1.069     0.3999     0.9607        110        640: 100%|██████████| 88/88 [01:20<00:00,  1.09it/s]\n",
      "                 Class     Images  Instances      Box(P          R      mAP50  mAP50-95)     Mask(P          R      mAP50  mAP50-95): 100%|██████████| 13/13 [00:13<00:00,  1.00s/it]"
     ]
    },
    {
     "name": "stdout",
     "output_type": "stream",
     "text": [
      "                   all       1600       3868      0.961      0.889      0.942      0.825      0.957      0.888      0.934       0.76\n"
     ]
    },
    {
     "name": "stderr",
     "output_type": "stream",
     "text": [
      "\n"
     ]
    },
    {
     "name": "stdout",
     "output_type": "stream",
     "text": [
      "\n",
      "      Epoch    GPU_mem   box_loss   seg_loss   cls_loss   dfl_loss  Instances       Size\n"
     ]
    },
    {
     "name": "stderr",
     "output_type": "stream",
     "text": [
      "    161/200      18.5G     0.6206      1.069      0.396      0.954        129        640: 100%|██████████| 88/88 [01:21<00:00,  1.08it/s]\n",
      "                 Class     Images  Instances      Box(P          R      mAP50  mAP50-95)     Mask(P          R      mAP50  mAP50-95): 100%|██████████| 13/13 [00:13<00:00,  1.01s/it]"
     ]
    },
    {
     "name": "stdout",
     "output_type": "stream",
     "text": [
      "                   all       1600       3868      0.961      0.888      0.942      0.825      0.958      0.886      0.934      0.761\n"
     ]
    },
    {
     "name": "stderr",
     "output_type": "stream",
     "text": [
      "\n"
     ]
    },
    {
     "name": "stdout",
     "output_type": "stream",
     "text": [
      "\n",
      "      Epoch    GPU_mem   box_loss   seg_loss   cls_loss   dfl_loss  Instances       Size\n"
     ]
    },
    {
     "name": "stderr",
     "output_type": "stream",
     "text": [
      "    162/200      18.3G     0.6305      1.082      0.403     0.9596        105        640: 100%|██████████| 88/88 [01:21<00:00,  1.08it/s]\n",
      "                 Class     Images  Instances      Box(P          R      mAP50  mAP50-95)     Mask(P          R      mAP50  mAP50-95): 100%|██████████| 13/13 [00:13<00:00,  1.02s/it]"
     ]
    },
    {
     "name": "stdout",
     "output_type": "stream",
     "text": [
      "                   all       1600       3868      0.962      0.887      0.941      0.827      0.957      0.888      0.934      0.761\n"
     ]
    },
    {
     "name": "stderr",
     "output_type": "stream",
     "text": [
      "\n"
     ]
    },
    {
     "name": "stdout",
     "output_type": "stream",
     "text": [
      "\n",
      "      Epoch    GPU_mem   box_loss   seg_loss   cls_loss   dfl_loss  Instances       Size\n"
     ]
    },
    {
     "name": "stderr",
     "output_type": "stream",
     "text": [
      "    163/200      18.5G     0.6253      1.075      0.399     0.9556        105        640: 100%|██████████| 88/88 [01:21<00:00,  1.08it/s]\n",
      "                 Class     Images  Instances      Box(P          R      mAP50  mAP50-95)     Mask(P          R      mAP50  mAP50-95): 100%|██████████| 13/13 [00:13<00:00,  1.02s/it]"
     ]
    },
    {
     "name": "stdout",
     "output_type": "stream",
     "text": [
      "                   all       1600       3868       0.96      0.888      0.941      0.827      0.957      0.887      0.934      0.761\n"
     ]
    },
    {
     "name": "stderr",
     "output_type": "stream",
     "text": [
      "\n"
     ]
    },
    {
     "name": "stdout",
     "output_type": "stream",
     "text": [
      "\n",
      "      Epoch    GPU_mem   box_loss   seg_loss   cls_loss   dfl_loss  Instances       Size\n"
     ]
    },
    {
     "name": "stderr",
     "output_type": "stream",
     "text": [
      "    164/200      18.5G     0.6259      1.075     0.4019     0.9535        103        640: 100%|██████████| 88/88 [01:21<00:00,  1.08it/s]\n",
      "                 Class     Images  Instances      Box(P          R      mAP50  mAP50-95)     Mask(P          R      mAP50  mAP50-95): 100%|██████████| 13/13 [00:13<00:00,  1.02s/it]"
     ]
    },
    {
     "name": "stdout",
     "output_type": "stream",
     "text": [
      "                   all       1600       3868      0.959      0.888      0.941      0.827      0.957      0.888      0.934      0.762\n"
     ]
    },
    {
     "name": "stderr",
     "output_type": "stream",
     "text": [
      "\n"
     ]
    },
    {
     "name": "stdout",
     "output_type": "stream",
     "text": [
      "\n",
      "      Epoch    GPU_mem   box_loss   seg_loss   cls_loss   dfl_loss  Instances       Size\n"
     ]
    },
    {
     "name": "stderr",
     "output_type": "stream",
     "text": [
      "    165/200      18.4G      0.612      1.047     0.3907      0.954        111        640: 100%|██████████| 88/88 [01:21<00:00,  1.07it/s]\n",
      "                 Class     Images  Instances      Box(P          R      mAP50  mAP50-95)     Mask(P          R      mAP50  mAP50-95): 100%|██████████| 13/13 [00:13<00:00,  1.02s/it]"
     ]
    },
    {
     "name": "stdout",
     "output_type": "stream",
     "text": [
      "                   all       1600       3868       0.96      0.888      0.941      0.827      0.958      0.888      0.934      0.762\n"
     ]
    },
    {
     "name": "stderr",
     "output_type": "stream",
     "text": [
      "\n"
     ]
    },
    {
     "name": "stdout",
     "output_type": "stream",
     "text": [
      "\n",
      "      Epoch    GPU_mem   box_loss   seg_loss   cls_loss   dfl_loss  Instances       Size\n"
     ]
    },
    {
     "name": "stderr",
     "output_type": "stream",
     "text": [
      "    166/200      18.4G     0.6222      1.062     0.3933     0.9547        103        640: 100%|██████████| 88/88 [01:21<00:00,  1.08it/s]\n",
      "                 Class     Images  Instances      Box(P          R      mAP50  mAP50-95)     Mask(P          R      mAP50  mAP50-95): 100%|██████████| 13/13 [00:13<00:00,  1.02s/it]"
     ]
    },
    {
     "name": "stdout",
     "output_type": "stream",
     "text": [
      "                   all       1600       3868      0.962      0.887      0.941      0.827      0.957      0.887      0.934      0.762\n"
     ]
    },
    {
     "name": "stderr",
     "output_type": "stream",
     "text": [
      "\n"
     ]
    },
    {
     "name": "stdout",
     "output_type": "stream",
     "text": [
      "\n",
      "      Epoch    GPU_mem   box_loss   seg_loss   cls_loss   dfl_loss  Instances       Size\n"
     ]
    },
    {
     "name": "stderr",
     "output_type": "stream",
     "text": [
      "    167/200      18.5G     0.6115      1.047     0.3875     0.9487        117        640: 100%|██████████| 88/88 [01:21<00:00,  1.08it/s]\n",
      "                 Class     Images  Instances      Box(P          R      mAP50  mAP50-95)     Mask(P          R      mAP50  mAP50-95): 100%|██████████| 13/13 [00:13<00:00,  1.02s/it]"
     ]
    },
    {
     "name": "stdout",
     "output_type": "stream",
     "text": [
      "                   all       1600       3868      0.962      0.886      0.941      0.827      0.957      0.886      0.935      0.763\n"
     ]
    },
    {
     "name": "stderr",
     "output_type": "stream",
     "text": [
      "\n"
     ]
    },
    {
     "name": "stdout",
     "output_type": "stream",
     "text": [
      "\n",
      "      Epoch    GPU_mem   box_loss   seg_loss   cls_loss   dfl_loss  Instances       Size\n"
     ]
    },
    {
     "name": "stderr",
     "output_type": "stream",
     "text": [
      "    168/200      18.3G      0.614      1.056     0.3911      0.953        145        640: 100%|██████████| 88/88 [01:21<00:00,  1.08it/s]\n",
      "                 Class     Images  Instances      Box(P          R      mAP50  mAP50-95)     Mask(P          R      mAP50  mAP50-95): 100%|██████████| 13/13 [00:13<00:00,  1.02s/it]"
     ]
    },
    {
     "name": "stdout",
     "output_type": "stream",
     "text": [
      "                   all       1600       3868      0.962      0.885      0.941      0.827      0.958      0.884      0.934      0.763\n"
     ]
    },
    {
     "name": "stderr",
     "output_type": "stream",
     "text": [
      "\n"
     ]
    },
    {
     "name": "stdout",
     "output_type": "stream",
     "text": [
      "\n",
      "      Epoch    GPU_mem   box_loss   seg_loss   cls_loss   dfl_loss  Instances       Size\n"
     ]
    },
    {
     "name": "stderr",
     "output_type": "stream",
     "text": [
      "    169/200      18.3G     0.6107      1.063     0.3878     0.9512        104        640: 100%|██████████| 88/88 [01:20<00:00,  1.09it/s]\n",
      "                 Class     Images  Instances      Box(P          R      mAP50  mAP50-95)     Mask(P          R      mAP50  mAP50-95): 100%|██████████| 13/13 [00:13<00:00,  1.02s/it]"
     ]
    },
    {
     "name": "stdout",
     "output_type": "stream",
     "text": [
      "                   all       1600       3868      0.962      0.884      0.941      0.828      0.958      0.884      0.934      0.763\n"
     ]
    },
    {
     "name": "stderr",
     "output_type": "stream",
     "text": [
      "\n"
     ]
    },
    {
     "name": "stdout",
     "output_type": "stream",
     "text": [
      "\n",
      "      Epoch    GPU_mem   box_loss   seg_loss   cls_loss   dfl_loss  Instances       Size\n"
     ]
    },
    {
     "name": "stderr",
     "output_type": "stream",
     "text": [
      "    170/200      18.4G     0.6045      1.051     0.3834     0.9472        127        640: 100%|██████████| 88/88 [01:21<00:00,  1.08it/s]\n",
      "                 Class     Images  Instances      Box(P          R      mAP50  mAP50-95)     Mask(P          R      mAP50  mAP50-95): 100%|██████████| 13/13 [00:13<00:00,  1.03s/it]"
     ]
    },
    {
     "name": "stdout",
     "output_type": "stream",
     "text": [
      "                   all       1600       3868      0.962      0.883      0.942      0.828      0.957      0.883      0.934      0.763\n"
     ]
    },
    {
     "name": "stderr",
     "output_type": "stream",
     "text": [
      "\n"
     ]
    },
    {
     "name": "stdout",
     "output_type": "stream",
     "text": [
      "\n",
      "      Epoch    GPU_mem   box_loss   seg_loss   cls_loss   dfl_loss  Instances       Size\n"
     ]
    },
    {
     "name": "stderr",
     "output_type": "stream",
     "text": [
      "    171/200      18.6G     0.6076      1.052     0.3865     0.9497         86        640: 100%|██████████| 88/88 [01:21<00:00,  1.08it/s]\n",
      "                 Class     Images  Instances      Box(P          R      mAP50  mAP50-95)     Mask(P          R      mAP50  mAP50-95): 100%|██████████| 13/13 [00:13<00:00,  1.02s/it]"
     ]
    },
    {
     "name": "stdout",
     "output_type": "stream",
     "text": [
      "                   all       1600       3868       0.96      0.885      0.942      0.829      0.956      0.884      0.934      0.763\n"
     ]
    },
    {
     "name": "stderr",
     "output_type": "stream",
     "text": [
      "\n"
     ]
    },
    {
     "name": "stdout",
     "output_type": "stream",
     "text": [
      "\n",
      "      Epoch    GPU_mem   box_loss   seg_loss   cls_loss   dfl_loss  Instances       Size\n"
     ]
    },
    {
     "name": "stderr",
     "output_type": "stream",
     "text": [
      "    172/200      18.4G     0.6029       1.05      0.382      0.946        110        640: 100%|██████████| 88/88 [01:21<00:00,  1.08it/s]\n",
      "                 Class     Images  Instances      Box(P          R      mAP50  mAP50-95)     Mask(P          R      mAP50  mAP50-95): 100%|██████████| 13/13 [00:13<00:00,  1.02s/it]"
     ]
    },
    {
     "name": "stdout",
     "output_type": "stream",
     "text": [
      "                   all       1600       3868       0.96      0.883      0.942      0.829      0.957      0.884      0.934      0.763\n"
     ]
    },
    {
     "name": "stderr",
     "output_type": "stream",
     "text": [
      "\n"
     ]
    },
    {
     "name": "stdout",
     "output_type": "stream",
     "text": [
      "\n",
      "      Epoch    GPU_mem   box_loss   seg_loss   cls_loss   dfl_loss  Instances       Size\n"
     ]
    },
    {
     "name": "stderr",
     "output_type": "stream",
     "text": [
      "    173/200      18.5G     0.6039      1.044     0.3809     0.9492         81        640: 100%|██████████| 88/88 [01:21<00:00,  1.08it/s]\n",
      "                 Class     Images  Instances      Box(P          R      mAP50  mAP50-95)     Mask(P          R      mAP50  mAP50-95): 100%|██████████| 13/13 [00:13<00:00,  1.01s/it]"
     ]
    },
    {
     "name": "stdout",
     "output_type": "stream",
     "text": [
      "                   all       1600       3868      0.959      0.884      0.942       0.83      0.957      0.884      0.934      0.764\n"
     ]
    },
    {
     "name": "stderr",
     "output_type": "stream",
     "text": [
      "\n"
     ]
    },
    {
     "name": "stdout",
     "output_type": "stream",
     "text": [
      "\n",
      "      Epoch    GPU_mem   box_loss   seg_loss   cls_loss   dfl_loss  Instances       Size\n"
     ]
    },
    {
     "name": "stderr",
     "output_type": "stream",
     "text": [
      "    174/200      18.1G      0.597      1.032       0.38     0.9453        146        640: 100%|██████████| 88/88 [01:21<00:00,  1.08it/s]\n",
      "                 Class     Images  Instances      Box(P          R      mAP50  mAP50-95)     Mask(P          R      mAP50  mAP50-95): 100%|██████████| 13/13 [00:13<00:00,  1.00s/it]"
     ]
    },
    {
     "name": "stdout",
     "output_type": "stream",
     "text": [
      "                   all       1600       3868      0.959      0.885      0.942      0.829      0.957      0.885      0.934      0.764\n"
     ]
    },
    {
     "name": "stderr",
     "output_type": "stream",
     "text": [
      "\n"
     ]
    },
    {
     "name": "stdout",
     "output_type": "stream",
     "text": [
      "\n",
      "      Epoch    GPU_mem   box_loss   seg_loss   cls_loss   dfl_loss  Instances       Size\n"
     ]
    },
    {
     "name": "stderr",
     "output_type": "stream",
     "text": [
      "    175/200      18.6G     0.5983      1.037     0.3811     0.9462        105        640: 100%|██████████| 88/88 [01:21<00:00,  1.08it/s]\n",
      "                 Class     Images  Instances      Box(P          R      mAP50  mAP50-95)     Mask(P          R      mAP50  mAP50-95): 100%|██████████| 13/13 [00:13<00:00,  1.02s/it]"
     ]
    },
    {
     "name": "stdout",
     "output_type": "stream",
     "text": [
      "                   all       1600       3868      0.959      0.885      0.942       0.83      0.956      0.886      0.934      0.764\n"
     ]
    },
    {
     "name": "stderr",
     "output_type": "stream",
     "text": [
      "\n"
     ]
    },
    {
     "name": "stdout",
     "output_type": "stream",
     "text": [
      "\n",
      "      Epoch    GPU_mem   box_loss   seg_loss   cls_loss   dfl_loss  Instances       Size\n"
     ]
    },
    {
     "name": "stderr",
     "output_type": "stream",
     "text": [
      "    176/200      18.3G     0.5984      1.039     0.3805     0.9445        125        640: 100%|██████████| 88/88 [01:21<00:00,  1.08it/s]\n",
      "                 Class     Images  Instances      Box(P          R      mAP50  mAP50-95)     Mask(P          R      mAP50  mAP50-95): 100%|██████████| 13/13 [00:13<00:00,  1.01s/it]"
     ]
    },
    {
     "name": "stdout",
     "output_type": "stream",
     "text": [
      "                   all       1600       3868      0.961      0.883      0.942       0.83      0.956      0.886      0.934      0.764\n"
     ]
    },
    {
     "name": "stderr",
     "output_type": "stream",
     "text": [
      "\n"
     ]
    },
    {
     "name": "stdout",
     "output_type": "stream",
     "text": [
      "\n",
      "      Epoch    GPU_mem   box_loss   seg_loss   cls_loss   dfl_loss  Instances       Size\n"
     ]
    },
    {
     "name": "stderr",
     "output_type": "stream",
     "text": [
      "    177/200      18.4G     0.5898       1.03      0.377      0.942        112        640: 100%|██████████| 88/88 [01:21<00:00,  1.08it/s]\n",
      "                 Class     Images  Instances      Box(P          R      mAP50  mAP50-95)     Mask(P          R      mAP50  mAP50-95): 100%|██████████| 13/13 [00:13<00:00,  1.02s/it]"
     ]
    },
    {
     "name": "stdout",
     "output_type": "stream",
     "text": [
      "                   all       1600       3868      0.961      0.882      0.941       0.83      0.952       0.89      0.934      0.764\n"
     ]
    },
    {
     "name": "stderr",
     "output_type": "stream",
     "text": [
      "\n"
     ]
    },
    {
     "name": "stdout",
     "output_type": "stream",
     "text": [
      "\n",
      "      Epoch    GPU_mem   box_loss   seg_loss   cls_loss   dfl_loss  Instances       Size\n"
     ]
    },
    {
     "name": "stderr",
     "output_type": "stream",
     "text": [
      "    178/200      18.3G     0.5866      1.029     0.3777     0.9403        155        640: 100%|██████████| 88/88 [01:20<00:00,  1.09it/s]\n",
      "                 Class     Images  Instances      Box(P          R      mAP50  mAP50-95)     Mask(P          R      mAP50  mAP50-95): 100%|██████████| 13/13 [00:13<00:00,  1.01s/it]"
     ]
    },
    {
     "name": "stdout",
     "output_type": "stream",
     "text": [
      "                   all       1600       3868      0.961      0.882      0.941       0.83      0.957      0.885      0.934      0.765\n"
     ]
    },
    {
     "name": "stderr",
     "output_type": "stream",
     "text": [
      "\n"
     ]
    },
    {
     "name": "stdout",
     "output_type": "stream",
     "text": [
      "\n",
      "      Epoch    GPU_mem   box_loss   seg_loss   cls_loss   dfl_loss  Instances       Size\n"
     ]
    },
    {
     "name": "stderr",
     "output_type": "stream",
     "text": [
      "    179/200      18.5G     0.5897      1.022     0.3756     0.9388        112        640: 100%|██████████| 88/88 [01:21<00:00,  1.08it/s]\n",
      "                 Class     Images  Instances      Box(P          R      mAP50  mAP50-95)     Mask(P          R      mAP50  mAP50-95): 100%|██████████| 13/13 [00:13<00:00,  1.02s/it]"
     ]
    },
    {
     "name": "stdout",
     "output_type": "stream",
     "text": [
      "                   all       1600       3868      0.956      0.888      0.941       0.83      0.955      0.885      0.934      0.764\n"
     ]
    },
    {
     "name": "stderr",
     "output_type": "stream",
     "text": [
      "\n"
     ]
    },
    {
     "name": "stdout",
     "output_type": "stream",
     "text": [
      "\n",
      "      Epoch    GPU_mem   box_loss   seg_loss   cls_loss   dfl_loss  Instances       Size\n"
     ]
    },
    {
     "name": "stderr",
     "output_type": "stream",
     "text": [
      "    180/200      18.5G     0.5945      1.027      0.377     0.9436        118        640: 100%|██████████| 88/88 [01:21<00:00,  1.08it/s]\n",
      "                 Class     Images  Instances      Box(P          R      mAP50  mAP50-95)     Mask(P          R      mAP50  mAP50-95): 100%|██████████| 13/13 [00:13<00:00,  1.02s/it]"
     ]
    },
    {
     "name": "stdout",
     "output_type": "stream",
     "text": [
      "                   all       1600       3868      0.957      0.887      0.942       0.83      0.955      0.886      0.934      0.765\n"
     ]
    },
    {
     "name": "stderr",
     "output_type": "stream",
     "text": [
      "\n"
     ]
    },
    {
     "name": "stdout",
     "output_type": "stream",
     "text": [
      "\n",
      "      Epoch    GPU_mem   box_loss   seg_loss   cls_loss   dfl_loss  Instances       Size\n"
     ]
    },
    {
     "name": "stderr",
     "output_type": "stream",
     "text": [
      "    181/200      18.4G     0.5856       1.02     0.3725     0.9389         99        640: 100%|██████████| 88/88 [01:21<00:00,  1.08it/s]\n",
      "                 Class     Images  Instances      Box(P          R      mAP50  mAP50-95)     Mask(P          R      mAP50  mAP50-95): 100%|██████████| 13/13 [00:13<00:00,  1.02s/it]"
     ]
    },
    {
     "name": "stdout",
     "output_type": "stream",
     "text": [
      "                   all       1600       3868      0.958      0.886      0.942      0.831      0.956      0.884      0.934      0.765\n"
     ]
    },
    {
     "name": "stderr",
     "output_type": "stream",
     "text": [
      "\n"
     ]
    },
    {
     "name": "stdout",
     "output_type": "stream",
     "text": [
      "\n",
      "      Epoch    GPU_mem   box_loss   seg_loss   cls_loss   dfl_loss  Instances       Size\n"
     ]
    },
    {
     "name": "stderr",
     "output_type": "stream",
     "text": [
      "    182/200      18.5G     0.5876      1.032      0.373     0.9402         99        640: 100%|██████████| 88/88 [01:21<00:00,  1.08it/s]\n",
      "                 Class     Images  Instances      Box(P          R      mAP50  mAP50-95)     Mask(P          R      mAP50  mAP50-95): 100%|██████████| 13/13 [00:13<00:00,  1.02s/it]"
     ]
    },
    {
     "name": "stdout",
     "output_type": "stream",
     "text": [
      "                   all       1600       3868      0.959      0.885      0.941      0.831      0.955      0.884      0.933      0.765\n"
     ]
    },
    {
     "name": "stderr",
     "output_type": "stream",
     "text": [
      "\n"
     ]
    },
    {
     "name": "stdout",
     "output_type": "stream",
     "text": [
      "\n",
      "      Epoch    GPU_mem   box_loss   seg_loss   cls_loss   dfl_loss  Instances       Size\n"
     ]
    },
    {
     "name": "stderr",
     "output_type": "stream",
     "text": [
      "    183/200      18.5G     0.5858      1.014     0.3707      0.941        100        640: 100%|██████████| 88/88 [01:21<00:00,  1.08it/s]\n",
      "                 Class     Images  Instances      Box(P          R      mAP50  mAP50-95)     Mask(P          R      mAP50  mAP50-95): 100%|██████████| 13/13 [00:13<00:00,  1.01s/it]"
     ]
    },
    {
     "name": "stdout",
     "output_type": "stream",
     "text": [
      "                   all       1600       3868      0.956      0.888      0.941      0.831      0.954      0.886      0.933      0.765\n"
     ]
    },
    {
     "name": "stderr",
     "output_type": "stream",
     "text": [
      "\n"
     ]
    },
    {
     "name": "stdout",
     "output_type": "stream",
     "text": [
      "\n",
      "      Epoch    GPU_mem   box_loss   seg_loss   cls_loss   dfl_loss  Instances       Size\n"
     ]
    },
    {
     "name": "stderr",
     "output_type": "stream",
     "text": [
      "    184/200      18.5G     0.5856      1.016     0.3692     0.9374        122        640: 100%|██████████| 88/88 [01:21<00:00,  1.08it/s]\n",
      "                 Class     Images  Instances      Box(P          R      mAP50  mAP50-95)     Mask(P          R      mAP50  mAP50-95): 100%|██████████| 13/13 [00:13<00:00,  1.02s/it]"
     ]
    },
    {
     "name": "stdout",
     "output_type": "stream",
     "text": [
      "                   all       1600       3868      0.957      0.888      0.941       0.83      0.954      0.886      0.933      0.765\n"
     ]
    },
    {
     "name": "stderr",
     "output_type": "stream",
     "text": [
      "\n"
     ]
    },
    {
     "name": "stdout",
     "output_type": "stream",
     "text": [
      "\n",
      "      Epoch    GPU_mem   box_loss   seg_loss   cls_loss   dfl_loss  Instances       Size\n"
     ]
    },
    {
     "name": "stderr",
     "output_type": "stream",
     "text": [
      "    185/200      18.1G     0.5867      1.021     0.3689     0.9444        143        640: 100%|██████████| 88/88 [01:21<00:00,  1.08it/s]\n",
      "                 Class     Images  Instances      Box(P          R      mAP50  mAP50-95)     Mask(P          R      mAP50  mAP50-95): 100%|██████████| 13/13 [00:13<00:00,  1.00s/it]"
     ]
    },
    {
     "name": "stdout",
     "output_type": "stream",
     "text": [
      "                   all       1600       3868      0.956      0.888      0.941      0.831      0.954      0.887      0.933      0.765\n"
     ]
    },
    {
     "name": "stderr",
     "output_type": "stream",
     "text": [
      "\n"
     ]
    },
    {
     "name": "stdout",
     "output_type": "stream",
     "text": [
      "\n",
      "      Epoch    GPU_mem   box_loss   seg_loss   cls_loss   dfl_loss  Instances       Size\n"
     ]
    },
    {
     "name": "stderr",
     "output_type": "stream",
     "text": [
      "    186/200      18.4G     0.5831      1.015     0.3683     0.9401        100        640: 100%|██████████| 88/88 [01:21<00:00,  1.08it/s]\n",
      "                 Class     Images  Instances      Box(P          R      mAP50  mAP50-95)     Mask(P          R      mAP50  mAP50-95): 100%|██████████| 13/13 [00:13<00:00,  1.02s/it]"
     ]
    },
    {
     "name": "stdout",
     "output_type": "stream",
     "text": [
      "                   all       1600       3868      0.963      0.882      0.941      0.831      0.953      0.886      0.933      0.765\n"
     ]
    },
    {
     "name": "stderr",
     "output_type": "stream",
     "text": [
      "\n"
     ]
    },
    {
     "name": "stdout",
     "output_type": "stream",
     "text": [
      "\n",
      "      Epoch    GPU_mem   box_loss   seg_loss   cls_loss   dfl_loss  Instances       Size\n"
     ]
    },
    {
     "name": "stderr",
     "output_type": "stream",
     "text": [
      "    187/200      18.5G     0.5726      1.008     0.3679     0.9355        103        640: 100%|██████████| 88/88 [01:21<00:00,  1.08it/s]\n",
      "                 Class     Images  Instances      Box(P          R      mAP50  mAP50-95)     Mask(P          R      mAP50  mAP50-95): 100%|██████████| 13/13 [00:13<00:00,  1.02s/it]"
     ]
    },
    {
     "name": "stdout",
     "output_type": "stream",
     "text": [
      "                   all       1600       3868      0.962      0.883      0.941      0.831      0.953      0.887      0.933      0.765\n"
     ]
    },
    {
     "name": "stderr",
     "output_type": "stream",
     "text": [
      "\n"
     ]
    },
    {
     "name": "stdout",
     "output_type": "stream",
     "text": [
      "\n",
      "      Epoch    GPU_mem   box_loss   seg_loss   cls_loss   dfl_loss  Instances       Size\n"
     ]
    },
    {
     "name": "stderr",
     "output_type": "stream",
     "text": [
      "    188/200      18.3G     0.5733      1.004     0.3633     0.9346        122        640: 100%|██████████| 88/88 [01:21<00:00,  1.08it/s]\n",
      "                 Class     Images  Instances      Box(P          R      mAP50  mAP50-95)     Mask(P          R      mAP50  mAP50-95): 100%|██████████| 13/13 [00:13<00:00,  1.02s/it]"
     ]
    },
    {
     "name": "stdout",
     "output_type": "stream",
     "text": [
      "                   all       1600       3868      0.962      0.882      0.941      0.831      0.953      0.888      0.933      0.765\n"
     ]
    },
    {
     "name": "stderr",
     "output_type": "stream",
     "text": [
      "\n"
     ]
    },
    {
     "name": "stdout",
     "output_type": "stream",
     "text": [
      "\n",
      "      Epoch    GPU_mem   box_loss   seg_loss   cls_loss   dfl_loss  Instances       Size\n"
     ]
    },
    {
     "name": "stderr",
     "output_type": "stream",
     "text": [
      "    189/200      18.6G      0.575      1.009     0.3602     0.9352        129        640: 100%|██████████| 88/88 [01:21<00:00,  1.08it/s]\n",
      "                 Class     Images  Instances      Box(P          R      mAP50  mAP50-95)     Mask(P          R      mAP50  mAP50-95): 100%|██████████| 13/13 [00:13<00:00,  1.02s/it]"
     ]
    },
    {
     "name": "stdout",
     "output_type": "stream",
     "text": [
      "                   all       1600       3868      0.962      0.882      0.941      0.831      0.954      0.887      0.933      0.766\n"
     ]
    },
    {
     "name": "stderr",
     "output_type": "stream",
     "text": [
      "\n"
     ]
    },
    {
     "name": "stdout",
     "output_type": "stream",
     "text": [
      "\n",
      "      Epoch    GPU_mem   box_loss   seg_loss   cls_loss   dfl_loss  Instances       Size\n"
     ]
    },
    {
     "name": "stderr",
     "output_type": "stream",
     "text": [
      "    190/200      18.2G     0.5662     0.9929     0.3564     0.9319        143        640: 100%|██████████| 88/88 [01:21<00:00,  1.08it/s]\n",
      "                 Class     Images  Instances      Box(P          R      mAP50  mAP50-95)     Mask(P          R      mAP50  mAP50-95): 100%|██████████| 13/13 [00:13<00:00,  1.00s/it]"
     ]
    },
    {
     "name": "stdout",
     "output_type": "stream",
     "text": [
      "                   all       1600       3868      0.963      0.882      0.941      0.831      0.954      0.886      0.933      0.766\n"
     ]
    },
    {
     "name": "stderr",
     "output_type": "stream",
     "text": [
      "\n"
     ]
    },
    {
     "name": "stdout",
     "output_type": "stream",
     "text": [
      "Closing dataloader mosaic\n",
      "\n",
      "      Epoch    GPU_mem   box_loss   seg_loss   cls_loss   dfl_loss  Instances       Size\n"
     ]
    },
    {
     "name": "stderr",
     "output_type": "stream",
     "text": [
      "    191/200      18.1G     0.5112     0.9126     0.3124     0.8973         50        640: 100%|██████████| 88/88 [01:21<00:00,  1.08it/s]\n",
      "                 Class     Images  Instances      Box(P          R      mAP50  mAP50-95)     Mask(P          R      mAP50  mAP50-95): 100%|██████████| 13/13 [00:12<00:00,  1.00it/s]"
     ]
    },
    {
     "name": "stdout",
     "output_type": "stream",
     "text": [
      "                   all       1600       3868      0.958      0.887      0.941      0.831      0.954      0.886      0.933      0.766\n"
     ]
    },
    {
     "name": "stderr",
     "output_type": "stream",
     "text": [
      "\n"
     ]
    },
    {
     "name": "stdout",
     "output_type": "stream",
     "text": [
      "\n",
      "      Epoch    GPU_mem   box_loss   seg_loss   cls_loss   dfl_loss  Instances       Size\n"
     ]
    },
    {
     "name": "stderr",
     "output_type": "stream",
     "text": [
      "    192/200      18.1G     0.4922     0.8897      0.299     0.8915         73        640: 100%|██████████| 88/88 [01:20<00:00,  1.10it/s]\n",
      "                 Class     Images  Instances      Box(P          R      mAP50  mAP50-95)     Mask(P          R      mAP50  mAP50-95): 100%|██████████| 13/13 [00:12<00:00,  1.01it/s]"
     ]
    },
    {
     "name": "stdout",
     "output_type": "stream",
     "text": [
      "                   all       1600       3868      0.958      0.886      0.941      0.831      0.955      0.886      0.933      0.766\n"
     ]
    },
    {
     "name": "stderr",
     "output_type": "stream",
     "text": [
      "\n"
     ]
    },
    {
     "name": "stdout",
     "output_type": "stream",
     "text": [
      "\n",
      "      Epoch    GPU_mem   box_loss   seg_loss   cls_loss   dfl_loss  Instances       Size\n"
     ]
    },
    {
     "name": "stderr",
     "output_type": "stream",
     "text": [
      "    193/200      18.1G     0.4899     0.8828     0.2995     0.8901         70        640: 100%|██████████| 88/88 [01:20<00:00,  1.10it/s]\n",
      "                 Class     Images  Instances      Box(P          R      mAP50  mAP50-95)     Mask(P          R      mAP50  mAP50-95): 100%|██████████| 13/13 [00:12<00:00,  1.02it/s]"
     ]
    },
    {
     "name": "stdout",
     "output_type": "stream",
     "text": [
      "                   all       1600       3868      0.958      0.886       0.94      0.832      0.956      0.885      0.933      0.766\n"
     ]
    },
    {
     "name": "stderr",
     "output_type": "stream",
     "text": [
      "\n"
     ]
    },
    {
     "name": "stdout",
     "output_type": "stream",
     "text": [
      "\n",
      "      Epoch    GPU_mem   box_loss   seg_loss   cls_loss   dfl_loss  Instances       Size\n"
     ]
    },
    {
     "name": "stderr",
     "output_type": "stream",
     "text": [
      "    194/200      18.1G     0.4853     0.8796     0.2983     0.8877         81        640: 100%|██████████| 88/88 [01:20<00:00,  1.10it/s]\n",
      "                 Class     Images  Instances      Box(P          R      mAP50  mAP50-95)     Mask(P          R      mAP50  mAP50-95): 100%|██████████| 13/13 [00:12<00:00,  1.00it/s]"
     ]
    },
    {
     "name": "stdout",
     "output_type": "stream",
     "text": [
      "                   all       1600       3868      0.958      0.886       0.94      0.832      0.955      0.885      0.933      0.766\n"
     ]
    },
    {
     "name": "stderr",
     "output_type": "stream",
     "text": [
      "\n"
     ]
    },
    {
     "name": "stdout",
     "output_type": "stream",
     "text": [
      "\n",
      "      Epoch    GPU_mem   box_loss   seg_loss   cls_loss   dfl_loss  Instances       Size\n"
     ]
    },
    {
     "name": "stderr",
     "output_type": "stream",
     "text": [
      "    195/200      18.4G     0.4836     0.8685     0.2948     0.8856         62        640: 100%|██████████| 88/88 [01:20<00:00,  1.10it/s]\n",
      "                 Class     Images  Instances      Box(P          R      mAP50  mAP50-95)     Mask(P          R      mAP50  mAP50-95): 100%|██████████| 13/13 [00:13<00:00,  1.02s/it]"
     ]
    },
    {
     "name": "stdout",
     "output_type": "stream",
     "text": [
      "                   all       1600       3868      0.958      0.886       0.94      0.832      0.955      0.885      0.933      0.767\n"
     ]
    },
    {
     "name": "stderr",
     "output_type": "stream",
     "text": [
      "\n"
     ]
    },
    {
     "name": "stdout",
     "output_type": "stream",
     "text": [
      "\n",
      "      Epoch    GPU_mem   box_loss   seg_loss   cls_loss   dfl_loss  Instances       Size\n"
     ]
    },
    {
     "name": "stderr",
     "output_type": "stream",
     "text": [
      "    196/200      18.1G     0.4749     0.8633     0.2907      0.879         60        640: 100%|██████████| 88/88 [01:19<00:00,  1.10it/s]\n",
      "                 Class     Images  Instances      Box(P          R      mAP50  mAP50-95)     Mask(P          R      mAP50  mAP50-95): 100%|██████████| 13/13 [00:12<00:00,  1.00it/s]"
     ]
    },
    {
     "name": "stdout",
     "output_type": "stream",
     "text": [
      "                   all       1600       3868      0.958      0.886       0.94      0.833      0.955      0.885      0.933      0.767\n"
     ]
    },
    {
     "name": "stderr",
     "output_type": "stream",
     "text": [
      "\n"
     ]
    },
    {
     "name": "stdout",
     "output_type": "stream",
     "text": [
      "\n",
      "      Epoch    GPU_mem   box_loss   seg_loss   cls_loss   dfl_loss  Instances       Size\n"
     ]
    },
    {
     "name": "stderr",
     "output_type": "stream",
     "text": [
      "    197/200      18.3G     0.4727     0.8559     0.2873     0.8838         73        640: 100%|██████████| 88/88 [01:20<00:00,  1.10it/s]\n",
      "                 Class     Images  Instances      Box(P          R      mAP50  mAP50-95)     Mask(P          R      mAP50  mAP50-95): 100%|██████████| 13/13 [00:13<00:00,  1.01s/it]"
     ]
    },
    {
     "name": "stdout",
     "output_type": "stream",
     "text": [
      "                   all       1600       3868      0.958      0.886       0.94      0.832      0.955      0.886      0.934      0.767\n"
     ]
    },
    {
     "name": "stderr",
     "output_type": "stream",
     "text": [
      "\n"
     ]
    },
    {
     "name": "stdout",
     "output_type": "stream",
     "text": [
      "\n",
      "      Epoch    GPU_mem   box_loss   seg_loss   cls_loss   dfl_loss  Instances       Size\n"
     ]
    },
    {
     "name": "stderr",
     "output_type": "stream",
     "text": [
      "    198/200      18.1G     0.4729     0.8646      0.289     0.8838         61        640: 100%|██████████| 88/88 [01:20<00:00,  1.10it/s]\n",
      "                 Class     Images  Instances      Box(P          R      mAP50  mAP50-95)     Mask(P          R      mAP50  mAP50-95): 100%|██████████| 13/13 [00:13<00:00,  1.00s/it]"
     ]
    },
    {
     "name": "stdout",
     "output_type": "stream",
     "text": [
      "                   all       1600       3868      0.958      0.887       0.94      0.833      0.954      0.886      0.934      0.768\n"
     ]
    },
    {
     "name": "stderr",
     "output_type": "stream",
     "text": [
      "\n"
     ]
    },
    {
     "name": "stdout",
     "output_type": "stream",
     "text": [
      "\n",
      "      Epoch    GPU_mem   box_loss   seg_loss   cls_loss   dfl_loss  Instances       Size\n"
     ]
    },
    {
     "name": "stderr",
     "output_type": "stream",
     "text": [
      "    199/200      18.3G     0.4691     0.8552     0.2897     0.8815         54        640: 100%|██████████| 88/88 [01:19<00:00,  1.10it/s]\n",
      "                 Class     Images  Instances      Box(P          R      mAP50  mAP50-95)     Mask(P          R      mAP50  mAP50-95): 100%|██████████| 13/13 [00:13<00:00,  1.01s/it]"
     ]
    },
    {
     "name": "stdout",
     "output_type": "stream",
     "text": [
      "                   all       1600       3868       0.96      0.885      0.941      0.833      0.955      0.886      0.934      0.768\n"
     ]
    },
    {
     "name": "stderr",
     "output_type": "stream",
     "text": [
      "\n"
     ]
    },
    {
     "name": "stdout",
     "output_type": "stream",
     "text": [
      "\n",
      "      Epoch    GPU_mem   box_loss   seg_loss   cls_loss   dfl_loss  Instances       Size\n"
     ]
    },
    {
     "name": "stderr",
     "output_type": "stream",
     "text": [
      "    200/200      18.1G     0.4696     0.8581     0.2872     0.8828         53        640: 100%|██████████| 88/88 [01:20<00:00,  1.10it/s]\n",
      "                 Class     Images  Instances      Box(P          R      mAP50  mAP50-95)     Mask(P          R      mAP50  mAP50-95): 100%|██████████| 13/13 [00:12<00:00,  1.01it/s]"
     ]
    },
    {
     "name": "stdout",
     "output_type": "stream",
     "text": [
      "                   all       1600       3868      0.961      0.885      0.941      0.832      0.955      0.886      0.934      0.768\n"
     ]
    },
    {
     "name": "stderr",
     "output_type": "stream",
     "text": [
      "\n"
     ]
    },
    {
     "name": "stdout",
     "output_type": "stream",
     "text": [
      "\n",
      "200 epochs completed in 5.284 hours.\n",
      "Optimizer stripped from runs/segment/train/weights/last.pt, 23.9MB\n",
      "Optimizer stripped from runs/segment/train/weights/best.pt, 23.9MB\n",
      "\n",
      "Validating runs/segment/train/weights/best.pt...\n",
      "Ultralytics YOLOv8.2.98 🚀 Python-3.10.10 torch-2.2.1+cu121 CUDA:0 (NVIDIA L4, 22700MiB)\n",
      "YOLOv8s-seg summary (fused): 195 layers, 11,779,987 parameters, 0 gradients, 42.4 GFLOPs\n"
     ]
    },
    {
     "name": "stderr",
     "output_type": "stream",
     "text": [
      "                 Class     Images  Instances      Box(P          R      mAP50  mAP50-95)     Mask(P          R      mAP50  mAP50-95): 100%|██████████| 13/13 [00:13<00:00,  1.01s/it]\n"
     ]
    },
    {
     "name": "stdout",
     "output_type": "stream",
     "text": [
      "                   all       1600       3868      0.958      0.887      0.941      0.832      0.956      0.886      0.934      0.768\n",
      "Speed: 0.2ms preprocess, 3.9ms inference, 0.0ms loss, 0.6ms postprocess per image\n",
      "Results saved to \u001b[1mruns/segment/train\u001b[0m\n"
     ]
    },
    {
     "data": {
      "text/plain": [
       "ultralytics.utils.metrics.SegmentMetrics object with attributes:\n",
       "\n",
       "ap_class_index: array([0])\n",
       "box: ultralytics.utils.metrics.Metric object\n",
       "confusion_matrix: <ultralytics.utils.metrics.ConfusionMatrix object at 0x7f62a594af50>\n",
       "curves: ['Precision-Recall(B)', 'F1-Confidence(B)', 'Precision-Confidence(B)', 'Recall-Confidence(B)', 'Precision-Recall(M)', 'F1-Confidence(M)', 'Precision-Confidence(M)', 'Recall-Confidence(M)']\n",
       "curves_results: [[array([          0,    0.001001,    0.002002,    0.003003,    0.004004,    0.005005,    0.006006,    0.007007,    0.008008,    0.009009,     0.01001,    0.011011,    0.012012,    0.013013,    0.014014,    0.015015,    0.016016,    0.017017,    0.018018,    0.019019,     0.02002,    0.021021,    0.022022,    0.023023,\n",
       "          0.024024,    0.025025,    0.026026,    0.027027,    0.028028,    0.029029,     0.03003,    0.031031,    0.032032,    0.033033,    0.034034,    0.035035,    0.036036,    0.037037,    0.038038,    0.039039,     0.04004,    0.041041,    0.042042,    0.043043,    0.044044,    0.045045,    0.046046,    0.047047,\n",
       "          0.048048,    0.049049,     0.05005,    0.051051,    0.052052,    0.053053,    0.054054,    0.055055,    0.056056,    0.057057,    0.058058,    0.059059,     0.06006,    0.061061,    0.062062,    0.063063,    0.064064,    0.065065,    0.066066,    0.067067,    0.068068,    0.069069,     0.07007,    0.071071,\n",
       "          0.072072,    0.073073,    0.074074,    0.075075,    0.076076,    0.077077,    0.078078,    0.079079,     0.08008,    0.081081,    0.082082,    0.083083,    0.084084,    0.085085,    0.086086,    0.087087,    0.088088,    0.089089,     0.09009,    0.091091,    0.092092,    0.093093,    0.094094,    0.095095,\n",
       "          0.096096,    0.097097,    0.098098,    0.099099,      0.1001,      0.1011,      0.1021,      0.1031,      0.1041,     0.10511,     0.10611,     0.10711,     0.10811,     0.10911,     0.11011,     0.11111,     0.11211,     0.11311,     0.11411,     0.11512,     0.11612,     0.11712,     0.11812,     0.11912,\n",
       "           0.12012,     0.12112,     0.12212,     0.12312,     0.12412,     0.12513,     0.12613,     0.12713,     0.12813,     0.12913,     0.13013,     0.13113,     0.13213,     0.13313,     0.13413,     0.13514,     0.13614,     0.13714,     0.13814,     0.13914,     0.14014,     0.14114,     0.14214,     0.14314,\n",
       "           0.14414,     0.14515,     0.14615,     0.14715,     0.14815,     0.14915,     0.15015,     0.15115,     0.15215,     0.15315,     0.15415,     0.15516,     0.15616,     0.15716,     0.15816,     0.15916,     0.16016,     0.16116,     0.16216,     0.16316,     0.16416,     0.16517,     0.16617,     0.16717,\n",
       "           0.16817,     0.16917,     0.17017,     0.17117,     0.17217,     0.17317,     0.17417,     0.17518,     0.17618,     0.17718,     0.17818,     0.17918,     0.18018,     0.18118,     0.18218,     0.18318,     0.18418,     0.18519,     0.18619,     0.18719,     0.18819,     0.18919,     0.19019,     0.19119,\n",
       "           0.19219,     0.19319,     0.19419,      0.1952,      0.1962,      0.1972,      0.1982,      0.1992,      0.2002,      0.2012,      0.2022,      0.2032,      0.2042,     0.20521,     0.20621,     0.20721,     0.20821,     0.20921,     0.21021,     0.21121,     0.21221,     0.21321,     0.21421,     0.21522,\n",
       "           0.21622,     0.21722,     0.21822,     0.21922,     0.22022,     0.22122,     0.22222,     0.22322,     0.22422,     0.22523,     0.22623,     0.22723,     0.22823,     0.22923,     0.23023,     0.23123,     0.23223,     0.23323,     0.23423,     0.23524,     0.23624,     0.23724,     0.23824,     0.23924,\n",
       "           0.24024,     0.24124,     0.24224,     0.24324,     0.24424,     0.24525,     0.24625,     0.24725,     0.24825,     0.24925,     0.25025,     0.25125,     0.25225,     0.25325,     0.25425,     0.25526,     0.25626,     0.25726,     0.25826,     0.25926,     0.26026,     0.26126,     0.26226,     0.26326,\n",
       "           0.26426,     0.26527,     0.26627,     0.26727,     0.26827,     0.26927,     0.27027,     0.27127,     0.27227,     0.27327,     0.27427,     0.27528,     0.27628,     0.27728,     0.27828,     0.27928,     0.28028,     0.28128,     0.28228,     0.28328,     0.28428,     0.28529,     0.28629,     0.28729,\n",
       "           0.28829,     0.28929,     0.29029,     0.29129,     0.29229,     0.29329,     0.29429,      0.2953,      0.2963,      0.2973,      0.2983,      0.2993,      0.3003,      0.3013,      0.3023,      0.3033,      0.3043,     0.30531,     0.30631,     0.30731,     0.30831,     0.30931,     0.31031,     0.31131,\n",
       "           0.31231,     0.31331,     0.31431,     0.31532,     0.31632,     0.31732,     0.31832,     0.31932,     0.32032,     0.32132,     0.32232,     0.32332,     0.32432,     0.32533,     0.32633,     0.32733,     0.32833,     0.32933,     0.33033,     0.33133,     0.33233,     0.33333,     0.33433,     0.33534,\n",
       "           0.33634,     0.33734,     0.33834,     0.33934,     0.34034,     0.34134,     0.34234,     0.34334,     0.34434,     0.34535,     0.34635,     0.34735,     0.34835,     0.34935,     0.35035,     0.35135,     0.35235,     0.35335,     0.35435,     0.35536,     0.35636,     0.35736,     0.35836,     0.35936,\n",
       "           0.36036,     0.36136,     0.36236,     0.36336,     0.36436,     0.36537,     0.36637,     0.36737,     0.36837,     0.36937,     0.37037,     0.37137,     0.37237,     0.37337,     0.37437,     0.37538,     0.37638,     0.37738,     0.37838,     0.37938,     0.38038,     0.38138,     0.38238,     0.38338,\n",
       "           0.38438,     0.38539,     0.38639,     0.38739,     0.38839,     0.38939,     0.39039,     0.39139,     0.39239,     0.39339,     0.39439,      0.3954,      0.3964,      0.3974,      0.3984,      0.3994,      0.4004,      0.4014,      0.4024,      0.4034,      0.4044,     0.40541,     0.40641,     0.40741,\n",
       "           0.40841,     0.40941,     0.41041,     0.41141,     0.41241,     0.41341,     0.41441,     0.41542,     0.41642,     0.41742,     0.41842,     0.41942,     0.42042,     0.42142,     0.42242,     0.42342,     0.42442,     0.42543,     0.42643,     0.42743,     0.42843,     0.42943,     0.43043,     0.43143,\n",
       "           0.43243,     0.43343,     0.43443,     0.43544,     0.43644,     0.43744,     0.43844,     0.43944,     0.44044,     0.44144,     0.44244,     0.44344,     0.44444,     0.44545,     0.44645,     0.44745,     0.44845,     0.44945,     0.45045,     0.45145,     0.45245,     0.45345,     0.45445,     0.45546,\n",
       "           0.45646,     0.45746,     0.45846,     0.45946,     0.46046,     0.46146,     0.46246,     0.46346,     0.46446,     0.46547,     0.46647,     0.46747,     0.46847,     0.46947,     0.47047,     0.47147,     0.47247,     0.47347,     0.47447,     0.47548,     0.47648,     0.47748,     0.47848,     0.47948,\n",
       "           0.48048,     0.48148,     0.48248,     0.48348,     0.48448,     0.48549,     0.48649,     0.48749,     0.48849,     0.48949,     0.49049,     0.49149,     0.49249,     0.49349,     0.49449,      0.4955,      0.4965,      0.4975,      0.4985,      0.4995,      0.5005,      0.5015,      0.5025,      0.5035,\n",
       "            0.5045,     0.50551,     0.50651,     0.50751,     0.50851,     0.50951,     0.51051,     0.51151,     0.51251,     0.51351,     0.51451,     0.51552,     0.51652,     0.51752,     0.51852,     0.51952,     0.52052,     0.52152,     0.52252,     0.52352,     0.52452,     0.52553,     0.52653,     0.52753,\n",
       "           0.52853,     0.52953,     0.53053,     0.53153,     0.53253,     0.53353,     0.53453,     0.53554,     0.53654,     0.53754,     0.53854,     0.53954,     0.54054,     0.54154,     0.54254,     0.54354,     0.54454,     0.54555,     0.54655,     0.54755,     0.54855,     0.54955,     0.55055,     0.55155,\n",
       "           0.55255,     0.55355,     0.55455,     0.55556,     0.55656,     0.55756,     0.55856,     0.55956,     0.56056,     0.56156,     0.56256,     0.56356,     0.56456,     0.56557,     0.56657,     0.56757,     0.56857,     0.56957,     0.57057,     0.57157,     0.57257,     0.57357,     0.57457,     0.57558,\n",
       "           0.57658,     0.57758,     0.57858,     0.57958,     0.58058,     0.58158,     0.58258,     0.58358,     0.58458,     0.58559,     0.58659,     0.58759,     0.58859,     0.58959,     0.59059,     0.59159,     0.59259,     0.59359,     0.59459,      0.5956,      0.5966,      0.5976,      0.5986,      0.5996,\n",
       "            0.6006,      0.6016,      0.6026,      0.6036,      0.6046,     0.60561,     0.60661,     0.60761,     0.60861,     0.60961,     0.61061,     0.61161,     0.61261,     0.61361,     0.61461,     0.61562,     0.61662,     0.61762,     0.61862,     0.61962,     0.62062,     0.62162,     0.62262,     0.62362,\n",
       "           0.62462,     0.62563,     0.62663,     0.62763,     0.62863,     0.62963,     0.63063,     0.63163,     0.63263,     0.63363,     0.63463,     0.63564,     0.63664,     0.63764,     0.63864,     0.63964,     0.64064,     0.64164,     0.64264,     0.64364,     0.64464,     0.64565,     0.64665,     0.64765,\n",
       "           0.64865,     0.64965,     0.65065,     0.65165,     0.65265,     0.65365,     0.65465,     0.65566,     0.65666,     0.65766,     0.65866,     0.65966,     0.66066,     0.66166,     0.66266,     0.66366,     0.66466,     0.66567,     0.66667,     0.66767,     0.66867,     0.66967,     0.67067,     0.67167,\n",
       "           0.67267,     0.67367,     0.67467,     0.67568,     0.67668,     0.67768,     0.67868,     0.67968,     0.68068,     0.68168,     0.68268,     0.68368,     0.68468,     0.68569,     0.68669,     0.68769,     0.68869,     0.68969,     0.69069,     0.69169,     0.69269,     0.69369,     0.69469,      0.6957,\n",
       "            0.6967,      0.6977,      0.6987,      0.6997,      0.7007,      0.7017,      0.7027,      0.7037,      0.7047,     0.70571,     0.70671,     0.70771,     0.70871,     0.70971,     0.71071,     0.71171,     0.71271,     0.71371,     0.71471,     0.71572,     0.71672,     0.71772,     0.71872,     0.71972,\n",
       "           0.72072,     0.72172,     0.72272,     0.72372,     0.72472,     0.72573,     0.72673,     0.72773,     0.72873,     0.72973,     0.73073,     0.73173,     0.73273,     0.73373,     0.73473,     0.73574,     0.73674,     0.73774,     0.73874,     0.73974,     0.74074,     0.74174,     0.74274,     0.74374,\n",
       "           0.74474,     0.74575,     0.74675,     0.74775,     0.74875,     0.74975,     0.75075,     0.75175,     0.75275,     0.75375,     0.75475,     0.75576,     0.75676,     0.75776,     0.75876,     0.75976,     0.76076,     0.76176,     0.76276,     0.76376,     0.76476,     0.76577,     0.76677,     0.76777,\n",
       "           0.76877,     0.76977,     0.77077,     0.77177,     0.77277,     0.77377,     0.77477,     0.77578,     0.77678,     0.77778,     0.77878,     0.77978,     0.78078,     0.78178,     0.78278,     0.78378,     0.78478,     0.78579,     0.78679,     0.78779,     0.78879,     0.78979,     0.79079,     0.79179,\n",
       "           0.79279,     0.79379,     0.79479,      0.7958,      0.7968,      0.7978,      0.7988,      0.7998,      0.8008,      0.8018,      0.8028,      0.8038,      0.8048,     0.80581,     0.80681,     0.80781,     0.80881,     0.80981,     0.81081,     0.81181,     0.81281,     0.81381,     0.81481,     0.81582,\n",
       "           0.81682,     0.81782,     0.81882,     0.81982,     0.82082,     0.82182,     0.82282,     0.82382,     0.82482,     0.82583,     0.82683,     0.82783,     0.82883,     0.82983,     0.83083,     0.83183,     0.83283,     0.83383,     0.83483,     0.83584,     0.83684,     0.83784,     0.83884,     0.83984,\n",
       "           0.84084,     0.84184,     0.84284,     0.84384,     0.84484,     0.84585,     0.84685,     0.84785,     0.84885,     0.84985,     0.85085,     0.85185,     0.85285,     0.85385,     0.85485,     0.85586,     0.85686,     0.85786,     0.85886,     0.85986,     0.86086,     0.86186,     0.86286,     0.86386,\n",
       "           0.86486,     0.86587,     0.86687,     0.86787,     0.86887,     0.86987,     0.87087,     0.87187,     0.87287,     0.87387,     0.87487,     0.87588,     0.87688,     0.87788,     0.87888,     0.87988,     0.88088,     0.88188,     0.88288,     0.88388,     0.88488,     0.88589,     0.88689,     0.88789,\n",
       "           0.88889,     0.88989,     0.89089,     0.89189,     0.89289,     0.89389,     0.89489,      0.8959,      0.8969,      0.8979,      0.8989,      0.8999,      0.9009,      0.9019,      0.9029,      0.9039,      0.9049,     0.90591,     0.90691,     0.90791,     0.90891,     0.90991,     0.91091,     0.91191,\n",
       "           0.91291,     0.91391,     0.91491,     0.91592,     0.91692,     0.91792,     0.91892,     0.91992,     0.92092,     0.92192,     0.92292,     0.92392,     0.92492,     0.92593,     0.92693,     0.92793,     0.92893,     0.92993,     0.93093,     0.93193,     0.93293,     0.93393,     0.93493,     0.93594,\n",
       "           0.93694,     0.93794,     0.93894,     0.93994,     0.94094,     0.94194,     0.94294,     0.94394,     0.94494,     0.94595,     0.94695,     0.94795,     0.94895,     0.94995,     0.95095,     0.95195,     0.95295,     0.95395,     0.95495,     0.95596,     0.95696,     0.95796,     0.95896,     0.95996,\n",
       "           0.96096,     0.96196,     0.96296,     0.96396,     0.96496,     0.96597,     0.96697,     0.96797,     0.96897,     0.96997,     0.97097,     0.97197,     0.97297,     0.97397,     0.97497,     0.97598,     0.97698,     0.97798,     0.97898,     0.97998,     0.98098,     0.98198,     0.98298,     0.98398,\n",
       "           0.98498,     0.98599,     0.98699,     0.98799,     0.98899,     0.98999,     0.99099,     0.99199,     0.99299,     0.99399,     0.99499,       0.996,       0.997,       0.998,       0.999,           1]), array([[          1,           1,           1,           1,           1,           1,           1,           1,           1,           1,           1,           1,           1,           1,           1,           1,           1,           1,           1,           1,           1,           1,           1,\n",
       "                  1,           1,           1,           1,           1,           1,           1,           1,           1,           1,           1,           1,           1,           1,           1,           1,           1,           1,           1,           1,           1,           1,           1,\n",
       "                  1,           1,           1,           1,           1,           1,     0.99731,     0.99731,     0.99731,     0.99731,     0.99731,     0.99731,     0.99731,     0.99731,     0.99731,     0.99731,     0.99731,     0.99731,     0.99731,     0.99731,     0.99731,     0.99731,     0.99731,\n",
       "            0.99731,     0.99731,     0.99731,     0.99731,     0.99731,     0.99731,     0.99731,     0.99731,     0.99731,     0.99731,     0.99731,     0.99731,     0.99731,     0.99731,     0.99731,     0.99731,     0.99731,     0.99731,     0.99731,     0.99731,     0.99731,     0.99731,     0.99731,\n",
       "            0.99731,     0.99731,     0.99731,     0.99731,     0.99731,     0.99731,     0.99731,     0.99731,     0.99731,     0.99731,     0.99731,     0.99731,     0.99731,     0.99731,     0.99731,     0.99731,     0.99731,     0.99731,     0.99731,     0.99731,     0.99731,     0.99731,     0.99731,\n",
       "            0.99731,     0.99731,     0.99731,     0.99731,     0.99731,     0.99731,     0.99731,     0.99731,     0.99731,     0.99731,     0.99731,     0.99731,     0.99731,     0.99731,     0.99731,     0.99731,     0.99731,     0.99731,     0.99731,     0.99731,     0.99731,     0.99731,     0.99731,\n",
       "            0.99731,     0.99731,     0.99731,     0.99731,     0.99731,     0.99731,     0.99731,     0.99731,     0.99731,     0.99731,     0.99731,     0.99731,     0.99731,     0.99731,     0.99731,     0.99731,     0.99731,     0.99731,     0.99731,     0.99731,     0.99731,     0.99731,     0.99731,\n",
       "            0.99731,     0.99731,     0.99731,     0.99731,     0.99731,     0.99731,     0.99731,     0.99731,     0.99731,     0.99731,     0.99731,     0.99731,     0.99731,     0.99731,     0.99731,     0.99731,     0.99731,     0.99731,     0.99731,     0.99731,     0.99731,     0.99731,     0.99731,\n",
       "            0.99731,     0.99731,     0.99731,     0.99731,     0.99731,     0.99731,     0.99731,     0.99731,     0.99731,     0.99731,     0.99731,     0.99731,     0.99731,     0.99731,     0.99731,     0.99731,     0.99731,     0.99731,     0.99731,     0.99731,     0.99731,     0.99731,     0.99731,\n",
       "            0.99731,     0.99731,     0.99731,     0.99731,     0.99731,     0.99731,     0.99731,     0.99731,     0.99731,     0.99731,     0.99731,     0.99731,     0.99731,     0.99731,     0.99731,     0.99731,     0.99731,     0.99731,     0.99731,     0.99731,     0.99731,     0.99731,     0.99731,\n",
       "            0.99731,     0.99731,     0.99731,     0.99731,     0.99731,     0.99731,     0.99731,     0.99731,     0.99731,     0.99731,     0.99731,     0.99731,     0.99731,     0.99731,     0.99731,     0.99731,     0.99731,     0.99731,     0.99731,     0.99731,     0.99731,     0.99731,     0.99731,\n",
       "            0.99731,     0.99731,     0.99731,     0.99731,     0.99731,     0.99731,     0.99731,     0.99731,     0.99731,     0.99731,     0.99731,     0.99731,     0.99731,     0.99731,     0.99731,     0.99731,     0.99731,     0.99731,     0.99731,     0.99731,     0.99731,     0.99731,     0.99731,\n",
       "            0.99731,     0.99731,     0.99731,     0.99731,     0.99731,     0.99731,     0.99731,     0.99731,     0.99731,     0.99731,     0.99731,     0.99731,     0.99731,     0.99731,     0.99731,     0.99731,     0.99731,     0.99731,     0.99731,     0.99731,     0.99731,     0.99731,     0.99731,\n",
       "            0.99731,     0.99731,     0.99731,     0.99731,     0.99731,     0.99731,     0.99731,     0.99731,     0.99731,     0.99731,     0.99731,     0.99731,     0.99731,     0.99731,     0.99731,     0.99731,     0.99731,     0.99731,     0.99731,     0.99731,     0.99731,     0.99731,     0.99731,\n",
       "            0.99731,     0.99731,     0.99731,     0.99731,     0.99731,     0.99731,     0.99731,     0.99731,     0.99731,     0.99731,     0.99731,     0.99731,     0.99731,     0.99731,     0.99731,     0.99731,     0.99731,     0.99731,     0.99731,     0.99731,     0.99731,     0.99731,     0.99731,\n",
       "            0.99731,     0.99731,     0.99731,     0.99731,     0.99731,     0.99731,     0.99731,     0.99731,     0.99731,     0.99731,     0.99731,     0.99731,     0.99731,     0.99731,     0.99731,     0.99731,     0.99731,     0.99731,     0.99731,     0.99731,     0.99731,     0.99731,     0.99731,\n",
       "            0.99731,     0.99731,     0.99731,     0.99731,     0.99731,     0.99731,     0.99731,     0.99731,     0.99731,     0.99731,     0.99731,     0.99731,     0.99731,     0.99731,     0.99731,     0.99704,     0.99704,     0.99704,     0.99704,     0.99704,     0.99704,     0.99704,     0.99704,\n",
       "            0.99704,     0.99704,     0.99704,     0.99704,     0.99704,     0.99704,     0.99704,     0.99704,     0.99704,     0.99704,     0.99704,     0.99704,     0.99704,     0.99704,     0.99704,     0.99704,     0.99704,     0.99704,     0.99704,     0.99704,     0.99704,     0.99704,     0.99704,\n",
       "            0.99704,     0.99704,     0.99704,     0.99704,     0.99704,     0.99704,     0.99704,     0.99704,     0.99704,     0.99704,     0.99704,     0.99704,     0.99704,     0.99704,     0.99704,     0.99704,     0.99704,     0.99704,     0.99704,     0.99704,     0.99704,     0.99704,     0.99649,\n",
       "            0.99649,     0.99649,     0.99649,     0.99649,     0.99592,     0.99537,     0.99537,     0.99537,     0.99487,     0.99487,     0.99487,     0.99487,     0.99487,     0.99487,     0.99487,     0.99447,     0.99447,     0.99447,     0.99447,     0.99447,     0.99447,     0.99447,     0.99447,\n",
       "            0.99447,     0.99447,     0.99447,     0.99447,     0.99447,     0.99393,     0.99351,     0.99351,     0.99351,     0.99351,     0.99351,     0.99351,     0.99351,     0.99351,     0.99351,     0.99334,     0.99334,     0.99334,     0.99334,     0.99334,     0.99334,     0.99334,     0.99334,\n",
       "            0.99334,     0.99334,     0.99334,     0.99334,     0.99334,     0.99334,     0.99334,     0.99334,     0.99334,     0.99334,     0.99334,     0.99334,     0.99334,     0.99334,     0.99334,     0.99334,     0.99334,     0.99334,     0.99334,       0.993,       0.993,       0.993,       0.993,\n",
       "              0.993,       0.993,       0.993,       0.993,       0.993,       0.993,       0.993,     0.99253,     0.99253,     0.99214,     0.99214,     0.99214,     0.99214,     0.99214,     0.99214,     0.99214,     0.99167,     0.99167,     0.99163,     0.99163,     0.99163,     0.99163,     0.99163,\n",
       "            0.99163,     0.99163,     0.99163,     0.99163,     0.99163,     0.99163,     0.99163,     0.99163,     0.99163,     0.99163,     0.99163,     0.99163,     0.99163,     0.99163,     0.99163,     0.99163,     0.99163,     0.99163,     0.99163,     0.99163,     0.99163,     0.99163,     0.99147,\n",
       "            0.99147,     0.99147,     0.99147,     0.99147,     0.99147,     0.99147,     0.99147,     0.99147,     0.99147,     0.99147,     0.99147,     0.99147,     0.99147,     0.99147,     0.99147,     0.99147,     0.99147,     0.99147,     0.99147,     0.99147,     0.99147,     0.99147,     0.99147,\n",
       "            0.99147,     0.99147,     0.99147,     0.99147,     0.99147,     0.99147,     0.99147,     0.99147,     0.99147,     0.99147,     0.99147,     0.99147,     0.99147,     0.99147,     0.99147,     0.99147,     0.99147,     0.99147,     0.99147,     0.99147,     0.99147,     0.99147,     0.99147,\n",
       "            0.99147,     0.99147,     0.99147,     0.99113,     0.99113,     0.99113,     0.99113,     0.99113,     0.99113,     0.99081,     0.99081,     0.99081,     0.99081,     0.99081,     0.99081,      0.9904,      0.9901,      0.9901,      0.9901,      0.9901,      0.9901,      0.9901,      0.9901,\n",
       "             0.9901,      0.9901,      0.9901,      0.9901,      0.9901,      0.9901,      0.9901,      0.9901,      0.9901,      0.9901,      0.9901,      0.9901,      0.9901,      0.9901,      0.9901,      0.9901,      0.9901,      0.9901,      0.9901,      0.9901,      0.9901,      0.9901,      0.9901,\n",
       "             0.9901,      0.9901,     0.98988,     0.98988,     0.98988,     0.98988,     0.98988,     0.98988,     0.98988,     0.98988,     0.98988,     0.98988,     0.98988,     0.98988,      0.9898,      0.9898,      0.9898,      0.9898,      0.9898,      0.9898,      0.9898,      0.9898,      0.9898,\n",
       "             0.9898,      0.9898,      0.9898,      0.9898,      0.9898,      0.9898,      0.9898,      0.9898,      0.9898,      0.9898,     0.98909,     0.98909,     0.98873,     0.98857,     0.98857,     0.98857,     0.98857,     0.98857,     0.98857,     0.98857,     0.98857,     0.98857,     0.98857,\n",
       "            0.98857,     0.98857,     0.98857,      0.9884,      0.9884,      0.9884,      0.9884,      0.9884,      0.9884,      0.9884,      0.9884,      0.9884,      0.9884,      0.9884,      0.9884,     0.98807,     0.98807,     0.98781,     0.98781,     0.98781,     0.98781,     0.98781,      0.9878,\n",
       "             0.9878,      0.9878,      0.9878,      0.9878,      0.9878,      0.9878,      0.9878,      0.9878,      0.9878,      0.9878,      0.9878,      0.9878,      0.9878,      0.9878,      0.9878,      0.9878,      0.9878,      0.9878,      0.9878,      0.9878,      0.9878,      0.9878,      0.9878,\n",
       "             0.9878,      0.9878,      0.9878,      0.9878,      0.9878,      0.9878,      0.9878,      0.9878,      0.9878,      0.9878,      0.9878,      0.9878,      0.9878,      0.9878,      0.9878,      0.9878,      0.9878,     0.98749,     0.98749,     0.98727,     0.98727,     0.98727,     0.98727,\n",
       "            0.98727,     0.98727,     0.98727,     0.98717,     0.98717,     0.98717,     0.98717,     0.98717,     0.98717,     0.98717,     0.98717,     0.98717,     0.98717,     0.98717,     0.98717,     0.98717,      0.9869,      0.9869,      0.9869,      0.9869,     0.98683,     0.98683,     0.98683,\n",
       "            0.98683,     0.98683,     0.98683,     0.98683,     0.98683,     0.98683,     0.98683,     0.98683,     0.98683,     0.98683,     0.98683,     0.98683,     0.98653,     0.98601,     0.98601,     0.98601,     0.98601,     0.98601,     0.98601,     0.98598,     0.98598,     0.98598,     0.98598,\n",
       "            0.98598,     0.98598,     0.98598,     0.98598,     0.98598,     0.98598,     0.98598,     0.98598,     0.98598,     0.98598,     0.98598,     0.98598,     0.98598,     0.98571,     0.98571,     0.98511,     0.98424,     0.98424,     0.98407,     0.98407,     0.98407,     0.98407,     0.98407,\n",
       "            0.98407,     0.98407,      0.9835,      0.9835,     0.98322,     0.98298,     0.98298,     0.98298,     0.98275,     0.98275,     0.98275,     0.98218,     0.98189,     0.98162,      0.9814,      0.9814,      0.9814,     0.98114,     0.98114,      0.9809,      0.9809,     0.98061,     0.98036,\n",
       "            0.98036,     0.97986,     0.97986,     0.97986,     0.97877,     0.97877,     0.97877,     0.97793,     0.97769,     0.97769,     0.97717,     0.97717,     0.97614,     0.97614,     0.97614,     0.97614,     0.97559,      0.9745,     0.97339,     0.97233,     0.97233,     0.97153,     0.97018,\n",
       "            0.96964,     0.96859,     0.96859,      0.9678,     0.96674,     0.96652,     0.96517,     0.96441,     0.96387,     0.96174,     0.96045,     0.95942,     0.95811,     0.95762,     0.95554,     0.95321,     0.95246,     0.95172,     0.95152,     0.94849,     0.94849,     0.94544,     0.94346,\n",
       "            0.94225,     0.94126,     0.93903,     0.93787,     0.93664,     0.93499,     0.93303,     0.93186,     0.92823,     0.92733,     0.92251,     0.91754,     0.91452,      0.9125,     0.90627,     0.90194,     0.89701,     0.89391,     0.89267,      0.8841,      0.8818,     0.87973,     0.87491,\n",
       "            0.87051,     0.86743,     0.85941,     0.85564,     0.84807,     0.84006,     0.83454,     0.82742,     0.82545,     0.80524,     0.79987,      0.7904,     0.78286,     0.76644,     0.74058,     0.72319,     0.71344,     0.70419,     0.69685,      0.6776,     0.65942,     0.63941,     0.61642,\n",
       "            0.58733,     0.55749,     0.54628,     0.51906,     0.48537,     0.44379,     0.41947,     0.38669,     0.33721,     0.31387,     0.29725,     0.27398,      0.2679,     0.26181,     0.25572,     0.24963,     0.24354,     0.23745,     0.23137,     0.22528,     0.21919,      0.2131,     0.20701,\n",
       "            0.20092,     0.19483,     0.18875,     0.18266,     0.17657,     0.17048,     0.16439,      0.1583,     0.15221,     0.14613,     0.14004,     0.13395,     0.12786,     0.12177,     0.11568,     0.10959,     0.10351,    0.097417,    0.091328,     0.08524,    0.079151,    0.073063,    0.066974,\n",
       "           0.060886,    0.054797,    0.048708,     0.04262,    0.036531,    0.030443,    0.024354,    0.018266,    0.012177,   0.0060886,           0]]), 'Recall', 'Precision'], [array([          0,    0.001001,    0.002002,    0.003003,    0.004004,    0.005005,    0.006006,    0.007007,    0.008008,    0.009009,     0.01001,    0.011011,    0.012012,    0.013013,    0.014014,    0.015015,    0.016016,    0.017017,    0.018018,    0.019019,     0.02002,    0.021021,    0.022022,    0.023023,\n",
       "          0.024024,    0.025025,    0.026026,    0.027027,    0.028028,    0.029029,     0.03003,    0.031031,    0.032032,    0.033033,    0.034034,    0.035035,    0.036036,    0.037037,    0.038038,    0.039039,     0.04004,    0.041041,    0.042042,    0.043043,    0.044044,    0.045045,    0.046046,    0.047047,\n",
       "          0.048048,    0.049049,     0.05005,    0.051051,    0.052052,    0.053053,    0.054054,    0.055055,    0.056056,    0.057057,    0.058058,    0.059059,     0.06006,    0.061061,    0.062062,    0.063063,    0.064064,    0.065065,    0.066066,    0.067067,    0.068068,    0.069069,     0.07007,    0.071071,\n",
       "          0.072072,    0.073073,    0.074074,    0.075075,    0.076076,    0.077077,    0.078078,    0.079079,     0.08008,    0.081081,    0.082082,    0.083083,    0.084084,    0.085085,    0.086086,    0.087087,    0.088088,    0.089089,     0.09009,    0.091091,    0.092092,    0.093093,    0.094094,    0.095095,\n",
       "          0.096096,    0.097097,    0.098098,    0.099099,      0.1001,      0.1011,      0.1021,      0.1031,      0.1041,     0.10511,     0.10611,     0.10711,     0.10811,     0.10911,     0.11011,     0.11111,     0.11211,     0.11311,     0.11411,     0.11512,     0.11612,     0.11712,     0.11812,     0.11912,\n",
       "           0.12012,     0.12112,     0.12212,     0.12312,     0.12412,     0.12513,     0.12613,     0.12713,     0.12813,     0.12913,     0.13013,     0.13113,     0.13213,     0.13313,     0.13413,     0.13514,     0.13614,     0.13714,     0.13814,     0.13914,     0.14014,     0.14114,     0.14214,     0.14314,\n",
       "           0.14414,     0.14515,     0.14615,     0.14715,     0.14815,     0.14915,     0.15015,     0.15115,     0.15215,     0.15315,     0.15415,     0.15516,     0.15616,     0.15716,     0.15816,     0.15916,     0.16016,     0.16116,     0.16216,     0.16316,     0.16416,     0.16517,     0.16617,     0.16717,\n",
       "           0.16817,     0.16917,     0.17017,     0.17117,     0.17217,     0.17317,     0.17417,     0.17518,     0.17618,     0.17718,     0.17818,     0.17918,     0.18018,     0.18118,     0.18218,     0.18318,     0.18418,     0.18519,     0.18619,     0.18719,     0.18819,     0.18919,     0.19019,     0.19119,\n",
       "           0.19219,     0.19319,     0.19419,      0.1952,      0.1962,      0.1972,      0.1982,      0.1992,      0.2002,      0.2012,      0.2022,      0.2032,      0.2042,     0.20521,     0.20621,     0.20721,     0.20821,     0.20921,     0.21021,     0.21121,     0.21221,     0.21321,     0.21421,     0.21522,\n",
       "           0.21622,     0.21722,     0.21822,     0.21922,     0.22022,     0.22122,     0.22222,     0.22322,     0.22422,     0.22523,     0.22623,     0.22723,     0.22823,     0.22923,     0.23023,     0.23123,     0.23223,     0.23323,     0.23423,     0.23524,     0.23624,     0.23724,     0.23824,     0.23924,\n",
       "           0.24024,     0.24124,     0.24224,     0.24324,     0.24424,     0.24525,     0.24625,     0.24725,     0.24825,     0.24925,     0.25025,     0.25125,     0.25225,     0.25325,     0.25425,     0.25526,     0.25626,     0.25726,     0.25826,     0.25926,     0.26026,     0.26126,     0.26226,     0.26326,\n",
       "           0.26426,     0.26527,     0.26627,     0.26727,     0.26827,     0.26927,     0.27027,     0.27127,     0.27227,     0.27327,     0.27427,     0.27528,     0.27628,     0.27728,     0.27828,     0.27928,     0.28028,     0.28128,     0.28228,     0.28328,     0.28428,     0.28529,     0.28629,     0.28729,\n",
       "           0.28829,     0.28929,     0.29029,     0.29129,     0.29229,     0.29329,     0.29429,      0.2953,      0.2963,      0.2973,      0.2983,      0.2993,      0.3003,      0.3013,      0.3023,      0.3033,      0.3043,     0.30531,     0.30631,     0.30731,     0.30831,     0.30931,     0.31031,     0.31131,\n",
       "           0.31231,     0.31331,     0.31431,     0.31532,     0.31632,     0.31732,     0.31832,     0.31932,     0.32032,     0.32132,     0.32232,     0.32332,     0.32432,     0.32533,     0.32633,     0.32733,     0.32833,     0.32933,     0.33033,     0.33133,     0.33233,     0.33333,     0.33433,     0.33534,\n",
       "           0.33634,     0.33734,     0.33834,     0.33934,     0.34034,     0.34134,     0.34234,     0.34334,     0.34434,     0.34535,     0.34635,     0.34735,     0.34835,     0.34935,     0.35035,     0.35135,     0.35235,     0.35335,     0.35435,     0.35536,     0.35636,     0.35736,     0.35836,     0.35936,\n",
       "           0.36036,     0.36136,     0.36236,     0.36336,     0.36436,     0.36537,     0.36637,     0.36737,     0.36837,     0.36937,     0.37037,     0.37137,     0.37237,     0.37337,     0.37437,     0.37538,     0.37638,     0.37738,     0.37838,     0.37938,     0.38038,     0.38138,     0.38238,     0.38338,\n",
       "           0.38438,     0.38539,     0.38639,     0.38739,     0.38839,     0.38939,     0.39039,     0.39139,     0.39239,     0.39339,     0.39439,      0.3954,      0.3964,      0.3974,      0.3984,      0.3994,      0.4004,      0.4014,      0.4024,      0.4034,      0.4044,     0.40541,     0.40641,     0.40741,\n",
       "           0.40841,     0.40941,     0.41041,     0.41141,     0.41241,     0.41341,     0.41441,     0.41542,     0.41642,     0.41742,     0.41842,     0.41942,     0.42042,     0.42142,     0.42242,     0.42342,     0.42442,     0.42543,     0.42643,     0.42743,     0.42843,     0.42943,     0.43043,     0.43143,\n",
       "           0.43243,     0.43343,     0.43443,     0.43544,     0.43644,     0.43744,     0.43844,     0.43944,     0.44044,     0.44144,     0.44244,     0.44344,     0.44444,     0.44545,     0.44645,     0.44745,     0.44845,     0.44945,     0.45045,     0.45145,     0.45245,     0.45345,     0.45445,     0.45546,\n",
       "           0.45646,     0.45746,     0.45846,     0.45946,     0.46046,     0.46146,     0.46246,     0.46346,     0.46446,     0.46547,     0.46647,     0.46747,     0.46847,     0.46947,     0.47047,     0.47147,     0.47247,     0.47347,     0.47447,     0.47548,     0.47648,     0.47748,     0.47848,     0.47948,\n",
       "           0.48048,     0.48148,     0.48248,     0.48348,     0.48448,     0.48549,     0.48649,     0.48749,     0.48849,     0.48949,     0.49049,     0.49149,     0.49249,     0.49349,     0.49449,      0.4955,      0.4965,      0.4975,      0.4985,      0.4995,      0.5005,      0.5015,      0.5025,      0.5035,\n",
       "            0.5045,     0.50551,     0.50651,     0.50751,     0.50851,     0.50951,     0.51051,     0.51151,     0.51251,     0.51351,     0.51451,     0.51552,     0.51652,     0.51752,     0.51852,     0.51952,     0.52052,     0.52152,     0.52252,     0.52352,     0.52452,     0.52553,     0.52653,     0.52753,\n",
       "           0.52853,     0.52953,     0.53053,     0.53153,     0.53253,     0.53353,     0.53453,     0.53554,     0.53654,     0.53754,     0.53854,     0.53954,     0.54054,     0.54154,     0.54254,     0.54354,     0.54454,     0.54555,     0.54655,     0.54755,     0.54855,     0.54955,     0.55055,     0.55155,\n",
       "           0.55255,     0.55355,     0.55455,     0.55556,     0.55656,     0.55756,     0.55856,     0.55956,     0.56056,     0.56156,     0.56256,     0.56356,     0.56456,     0.56557,     0.56657,     0.56757,     0.56857,     0.56957,     0.57057,     0.57157,     0.57257,     0.57357,     0.57457,     0.57558,\n",
       "           0.57658,     0.57758,     0.57858,     0.57958,     0.58058,     0.58158,     0.58258,     0.58358,     0.58458,     0.58559,     0.58659,     0.58759,     0.58859,     0.58959,     0.59059,     0.59159,     0.59259,     0.59359,     0.59459,      0.5956,      0.5966,      0.5976,      0.5986,      0.5996,\n",
       "            0.6006,      0.6016,      0.6026,      0.6036,      0.6046,     0.60561,     0.60661,     0.60761,     0.60861,     0.60961,     0.61061,     0.61161,     0.61261,     0.61361,     0.61461,     0.61562,     0.61662,     0.61762,     0.61862,     0.61962,     0.62062,     0.62162,     0.62262,     0.62362,\n",
       "           0.62462,     0.62563,     0.62663,     0.62763,     0.62863,     0.62963,     0.63063,     0.63163,     0.63263,     0.63363,     0.63463,     0.63564,     0.63664,     0.63764,     0.63864,     0.63964,     0.64064,     0.64164,     0.64264,     0.64364,     0.64464,     0.64565,     0.64665,     0.64765,\n",
       "           0.64865,     0.64965,     0.65065,     0.65165,     0.65265,     0.65365,     0.65465,     0.65566,     0.65666,     0.65766,     0.65866,     0.65966,     0.66066,     0.66166,     0.66266,     0.66366,     0.66466,     0.66567,     0.66667,     0.66767,     0.66867,     0.66967,     0.67067,     0.67167,\n",
       "           0.67267,     0.67367,     0.67467,     0.67568,     0.67668,     0.67768,     0.67868,     0.67968,     0.68068,     0.68168,     0.68268,     0.68368,     0.68468,     0.68569,     0.68669,     0.68769,     0.68869,     0.68969,     0.69069,     0.69169,     0.69269,     0.69369,     0.69469,      0.6957,\n",
       "            0.6967,      0.6977,      0.6987,      0.6997,      0.7007,      0.7017,      0.7027,      0.7037,      0.7047,     0.70571,     0.70671,     0.70771,     0.70871,     0.70971,     0.71071,     0.71171,     0.71271,     0.71371,     0.71471,     0.71572,     0.71672,     0.71772,     0.71872,     0.71972,\n",
       "           0.72072,     0.72172,     0.72272,     0.72372,     0.72472,     0.72573,     0.72673,     0.72773,     0.72873,     0.72973,     0.73073,     0.73173,     0.73273,     0.73373,     0.73473,     0.73574,     0.73674,     0.73774,     0.73874,     0.73974,     0.74074,     0.74174,     0.74274,     0.74374,\n",
       "           0.74474,     0.74575,     0.74675,     0.74775,     0.74875,     0.74975,     0.75075,     0.75175,     0.75275,     0.75375,     0.75475,     0.75576,     0.75676,     0.75776,     0.75876,     0.75976,     0.76076,     0.76176,     0.76276,     0.76376,     0.76476,     0.76577,     0.76677,     0.76777,\n",
       "           0.76877,     0.76977,     0.77077,     0.77177,     0.77277,     0.77377,     0.77477,     0.77578,     0.77678,     0.77778,     0.77878,     0.77978,     0.78078,     0.78178,     0.78278,     0.78378,     0.78478,     0.78579,     0.78679,     0.78779,     0.78879,     0.78979,     0.79079,     0.79179,\n",
       "           0.79279,     0.79379,     0.79479,      0.7958,      0.7968,      0.7978,      0.7988,      0.7998,      0.8008,      0.8018,      0.8028,      0.8038,      0.8048,     0.80581,     0.80681,     0.80781,     0.80881,     0.80981,     0.81081,     0.81181,     0.81281,     0.81381,     0.81481,     0.81582,\n",
       "           0.81682,     0.81782,     0.81882,     0.81982,     0.82082,     0.82182,     0.82282,     0.82382,     0.82482,     0.82583,     0.82683,     0.82783,     0.82883,     0.82983,     0.83083,     0.83183,     0.83283,     0.83383,     0.83483,     0.83584,     0.83684,     0.83784,     0.83884,     0.83984,\n",
       "           0.84084,     0.84184,     0.84284,     0.84384,     0.84484,     0.84585,     0.84685,     0.84785,     0.84885,     0.84985,     0.85085,     0.85185,     0.85285,     0.85385,     0.85485,     0.85586,     0.85686,     0.85786,     0.85886,     0.85986,     0.86086,     0.86186,     0.86286,     0.86386,\n",
       "           0.86486,     0.86587,     0.86687,     0.86787,     0.86887,     0.86987,     0.87087,     0.87187,     0.87287,     0.87387,     0.87487,     0.87588,     0.87688,     0.87788,     0.87888,     0.87988,     0.88088,     0.88188,     0.88288,     0.88388,     0.88488,     0.88589,     0.88689,     0.88789,\n",
       "           0.88889,     0.88989,     0.89089,     0.89189,     0.89289,     0.89389,     0.89489,      0.8959,      0.8969,      0.8979,      0.8989,      0.8999,      0.9009,      0.9019,      0.9029,      0.9039,      0.9049,     0.90591,     0.90691,     0.90791,     0.90891,     0.90991,     0.91091,     0.91191,\n",
       "           0.91291,     0.91391,     0.91491,     0.91592,     0.91692,     0.91792,     0.91892,     0.91992,     0.92092,     0.92192,     0.92292,     0.92392,     0.92492,     0.92593,     0.92693,     0.92793,     0.92893,     0.92993,     0.93093,     0.93193,     0.93293,     0.93393,     0.93493,     0.93594,\n",
       "           0.93694,     0.93794,     0.93894,     0.93994,     0.94094,     0.94194,     0.94294,     0.94394,     0.94494,     0.94595,     0.94695,     0.94795,     0.94895,     0.94995,     0.95095,     0.95195,     0.95295,     0.95395,     0.95495,     0.95596,     0.95696,     0.95796,     0.95896,     0.95996,\n",
       "           0.96096,     0.96196,     0.96296,     0.96396,     0.96496,     0.96597,     0.96697,     0.96797,     0.96897,     0.96997,     0.97097,     0.97197,     0.97297,     0.97397,     0.97497,     0.97598,     0.97698,     0.97798,     0.97898,     0.97998,     0.98098,     0.98198,     0.98298,     0.98398,\n",
       "           0.98498,     0.98599,     0.98699,     0.98799,     0.98899,     0.98999,     0.99099,     0.99199,     0.99299,     0.99399,     0.99499,       0.996,       0.997,       0.998,       0.999,           1]), array([[     0.4291,      0.4291,     0.54369,     0.60576,     0.64181,      0.6685,     0.68772,      0.7047,     0.71903,     0.72991,     0.73807,     0.74499,     0.75287,     0.76121,     0.76714,      0.7734,     0.77839,      0.7827,     0.78658,     0.79118,     0.79471,     0.79778,     0.80104,\n",
       "            0.80421,     0.80687,     0.80939,     0.81155,     0.81417,      0.8175,      0.8194,     0.82123,     0.82363,     0.82531,     0.82686,     0.82813,     0.83033,     0.83141,     0.83277,     0.83471,     0.83691,     0.83863,     0.84086,      0.8419,     0.84305,     0.84438,     0.84564,\n",
       "            0.84767,     0.84843,     0.84922,     0.85006,     0.85083,     0.85154,      0.8524,     0.85253,     0.85325,     0.85367,     0.85463,     0.85525,      0.8557,     0.85677,     0.85725,     0.85848,     0.85914,     0.86005,      0.8604,     0.86082,     0.86171,     0.86244,     0.86277,\n",
       "            0.86312,      0.8639,      0.8647,     0.86494,     0.86543,     0.86592,     0.86661,     0.86688,     0.86719,     0.86743,     0.86768,     0.86822,     0.86851,     0.86916,     0.87024,     0.87078,     0.87092,     0.87115,     0.87151,     0.87187,     0.87222,     0.87328,     0.87361,\n",
       "            0.87382,     0.87404,      0.8742,     0.87449,     0.87492,     0.87491,     0.87518,     0.87526,     0.87549,     0.87556,     0.87608,     0.87655,     0.87658,     0.87677,      0.8772,     0.87759,     0.87774,     0.87789,     0.87828,     0.87842,     0.87911,      0.8799,     0.88017,\n",
       "            0.88044,     0.88049,     0.88074,      0.8807,     0.88079,     0.88119,     0.88154,     0.88205,     0.88251,     0.88269,     0.88311,     0.88331,     0.88336,     0.88368,     0.88414,     0.88451,     0.88477,     0.88505,     0.88519,     0.88543,     0.88572,     0.88578,     0.88579,\n",
       "            0.88613,     0.88627,     0.88668,     0.88676,     0.88709,     0.88734,      0.8875,     0.88758,      0.8879,      0.8884,     0.88849,     0.88846,     0.88854,     0.88866,     0.88878,     0.88893,     0.88918,     0.88941,     0.88967,     0.89005,     0.88998,     0.88992,     0.89044,\n",
       "            0.89076,     0.89143,     0.89182,     0.89189,     0.89212,     0.89211,     0.89222,     0.89264,     0.89271,     0.89325,      0.8935,     0.89371,      0.8938,     0.89408,      0.8944,     0.89489,     0.89499,     0.89516,     0.89528,     0.89538,     0.89552,     0.89589,     0.89596,\n",
       "            0.89616,     0.89636,     0.89646,     0.89666,     0.89654,     0.89659,     0.89675,     0.89693,     0.89686,     0.89685,      0.8971,     0.89718,     0.89724,     0.89733,     0.89781,      0.8979,     0.89808,     0.89807,     0.89815,     0.89836,     0.89847,     0.89875,     0.89864,\n",
       "            0.89869,     0.89887,     0.89895,     0.89872,     0.89911,     0.89908,     0.89921,     0.89945,     0.89962,     0.89951,     0.89981,     0.89998,     0.90002,     0.90007,     0.90016,     0.90007,     0.90011,     0.90026,     0.90038,     0.90043,     0.90051,     0.90072,     0.90074,\n",
       "            0.90064,     0.90089,     0.90097,     0.90124,     0.90135,      0.9014,     0.90161,     0.90184,     0.90195,     0.90206,     0.90238,     0.90251,     0.90259,     0.90275,     0.90291,     0.90293,     0.90305,     0.90313,     0.90339,     0.90341,     0.90343,     0.90345,     0.90348,\n",
       "            0.90361,     0.90377,     0.90415,     0.90398,     0.90391,       0.904,     0.90408,     0.90403,     0.90396,     0.90403,     0.90424,     0.90419,      0.9043,     0.90443,     0.90451,     0.90451,     0.90487,     0.90503,      0.9053,     0.90524,     0.90518,     0.90532,     0.90541,\n",
       "            0.90543,     0.90576,     0.90583,     0.90588,     0.90593,     0.90595,     0.90585,     0.90607,     0.90617,     0.90624,     0.90639,     0.90665,     0.90698,     0.90706,     0.90698,      0.9072,     0.90745,     0.90744,     0.90764,     0.90771,     0.90775,      0.9078,     0.90815,\n",
       "            0.90814,     0.90816,     0.90819,     0.90821,     0.90823,     0.90849,     0.90853,     0.90856,      0.9086,     0.90876,     0.90881,     0.90887,     0.90894,     0.90919,     0.90915,     0.90918,     0.90928,     0.90935,     0.90951,     0.90955,     0.90958,     0.90965,     0.90979,\n",
       "            0.90991,     0.91003,     0.91089,     0.91098,      0.9109,     0.91116,     0.91158,     0.91162,     0.91165,     0.91171,     0.91171,      0.9117,     0.91189,     0.91194,     0.91198,     0.91236,      0.9124,     0.91223,     0.91223,     0.91215,     0.91207,     0.91211,     0.91217,\n",
       "            0.91222,     0.91213,     0.91212,     0.91234,      0.9124,     0.91247,     0.91266,     0.91273,     0.91281,     0.91293,     0.91307,     0.91322,     0.91318,     0.91314,     0.91311,     0.91334,     0.91341,     0.91348,     0.91355,     0.91351,     0.91359,     0.91363,     0.91367,\n",
       "            0.91403,     0.91439,     0.91434,     0.91429,     0.91452,     0.91466,     0.91476,     0.91482,     0.91492,     0.91507,     0.91513,     0.91506,     0.91518,      0.9151,     0.91507,      0.9152,     0.91542,     0.91549,     0.91555,     0.91562,     0.91584,     0.91596,     0.91621,\n",
       "            0.91645,     0.91656,     0.91644,     0.91704,     0.91712,     0.91705,      0.9168,     0.91666,     0.91661,     0.91668,     0.91675,     0.91681,     0.91692,     0.91704,     0.91697,     0.91703,     0.91696,      0.9169,       0.917,     0.91747,     0.91753,     0.91759,     0.91765,\n",
       "            0.91775,     0.91789,     0.91813,     0.91826,     0.91791,     0.91796,     0.91808,      0.9182,     0.91829,     0.91818,     0.91811,     0.91829,     0.91832,     0.91835,     0.91838,     0.91842,     0.91848,     0.91854,     0.91858,     0.91862,     0.91869,     0.91895,     0.91896,\n",
       "            0.91889,     0.91877,     0.91868,     0.91864,     0.91861,     0.91857,     0.91864,      0.9186,     0.91855,     0.91889,     0.91889,     0.91891,     0.91894,     0.91897,       0.919,     0.91887,     0.91899,      0.9191,     0.91906,     0.91902,     0.91898,     0.91902,     0.91911,\n",
       "            0.91917,     0.91896,     0.91897,     0.91903,      0.9191,     0.91919,     0.91912,     0.91905,     0.91898,     0.91897,     0.91899,       0.919,     0.91902,     0.91904,     0.91906,     0.91907,     0.91904,     0.91911,     0.91917,      0.9193,     0.91952,     0.91938,     0.91935,\n",
       "            0.91932,     0.91929,     0.91926,     0.91925,     0.91938,     0.91955,     0.91945,     0.91951,     0.91969,     0.91972,     0.91975,     0.91978,     0.91977,      0.9197,     0.91959,     0.91957,     0.91966,     0.91973,     0.91968,     0.91968,     0.91977,     0.91983,     0.91981,\n",
       "            0.91974,     0.91974,     0.91959,      0.9195,     0.91956,      0.9196,     0.91964,     0.91968,     0.91974,     0.91969,     0.91961,     0.91984,     0.91991,     0.91997,     0.92009,     0.92005,        0.92,     0.91996,        0.92,     0.92004,     0.92009,     0.92059,     0.92053,\n",
       "             0.9205,     0.92046,     0.92042,     0.92072,     0.92066,     0.92091,     0.92097,     0.92092,     0.92087,     0.92081,     0.92074,     0.92067,     0.92059,     0.92033,     0.92019,      0.9202,     0.92029,     0.92035,      0.9204,      0.9204,     0.92046,     0.92069,     0.92082,\n",
       "            0.92101,     0.92108,     0.92103,     0.92095,     0.92102,     0.92109,     0.92116,     0.92125,     0.92124,     0.92084,     0.92077,     0.92077,     0.92061,     0.92052,     0.92047,     0.92042,     0.92049,     0.92072,     0.92064,     0.92056,     0.92047,     0.92035,     0.92041,\n",
       "            0.92066,     0.92078,     0.92072,     0.92065,     0.92071,      0.9209,     0.92098,     0.92091,     0.92097,     0.92102,     0.92105,     0.92108,     0.92111,     0.92107,     0.92099,     0.92115,     0.92121,     0.92122,     0.92124,     0.92126,     0.92127,     0.92129,     0.92131,\n",
       "            0.92138,     0.92141,     0.92134,      0.9213,     0.92133,     0.92136,     0.92139,     0.92145,     0.92151,     0.92146,     0.92109,     0.92115,     0.92118,      0.9211,      0.9208,     0.92105,     0.92133,     0.92118,     0.92105,     0.92095,     0.92119,     0.92132,     0.92124,\n",
       "            0.92129,     0.92114,     0.92124,      0.9211,       0.921,      0.9209,     0.92115,     0.92109,     0.92139,     0.92151,      0.9215,     0.92152,     0.92158,     0.92157,     0.92153,     0.92156,     0.92146,     0.92158,     0.92171,     0.92107,     0.92102,     0.92099,     0.92108,\n",
       "            0.92103,     0.92116,     0.92114,     0.92134,     0.92139,      0.9214,      0.9213,     0.92137,     0.92144,     0.92152,     0.92137,     0.92134,     0.92131,     0.92129,     0.92126,     0.92103,     0.92088,     0.92088,      0.9205,     0.92053,     0.92056,     0.92059,     0.92049,\n",
       "            0.92057,     0.92048,     0.92051,     0.92055,     0.92026,     0.92032,     0.92045,     0.92036,     0.92006,     0.91996,     0.91973,     0.91968,     0.91963,     0.91974,     0.91986,      0.9199,     0.91993,     0.91997,     0.92006,     0.91999,     0.91989,     0.91996,     0.92004,\n",
       "            0.92001,     0.91993,     0.91967,     0.91956,     0.91948,     0.91953,     0.91974,     0.91981,     0.91957,     0.91955,     0.91959,     0.91954,     0.91949,     0.91912,     0.91906,       0.919,     0.91894,     0.91888,     0.91881,     0.91873,     0.91874,     0.91879,     0.91883,\n",
       "            0.91878,      0.9187,     0.91876,     0.91868,     0.91877,      0.9187,     0.91878,     0.91884,     0.91877,     0.91896,     0.91874,     0.91845,     0.91848,     0.91857,     0.91849,     0.91848,     0.91853,      0.9184,      0.9183,     0.91821,     0.91816,     0.91811,     0.91782,\n",
       "            0.91749,     0.91744,     0.91739,     0.91719,     0.91714,     0.91709,     0.91702,     0.91695,     0.91656,     0.91654,     0.91644,     0.91646,     0.91636,     0.91626,     0.91586,     0.91564,     0.91572,     0.91551,     0.91473,     0.91456,     0.91459,     0.91452,      0.9144,\n",
       "            0.91445,     0.91405,     0.91377,     0.91311,      0.9132,     0.91298,     0.91307,     0.91315,     0.91313,     0.91282,     0.91237,     0.91218,     0.91154,     0.91151,     0.91159,     0.91152,     0.91096,     0.91086,     0.91036,     0.91028,      0.9102,     0.90929,     0.90919,\n",
       "             0.9091,     0.90872,     0.90837,     0.90846,     0.90793,     0.90735,     0.90679,     0.90669,     0.90639,      0.9061,     0.90606,     0.90614,     0.90554,     0.90557,      0.9051,     0.90463,     0.90441,     0.90368,     0.90322,     0.90217,     0.90177,     0.90157,     0.90147,\n",
       "             0.9013,     0.90087,     0.90075,     0.90073,     0.90063,     0.89972,     0.89883,     0.89743,     0.89696,      0.8968,     0.89681,     0.89591,     0.89543,     0.89514,      0.8941,     0.89354,     0.89259,     0.89212,     0.89118,     0.89107,     0.89077,     0.88982,     0.88938,\n",
       "            0.88879,     0.88831,     0.88673,     0.88658,     0.88647,     0.88521,     0.88489,     0.88441,     0.88343,     0.88253,     0.88157,     0.88039,     0.87994,     0.87953,     0.87831,      0.8775,     0.87588,     0.87439,     0.87248,     0.87216,     0.87163,     0.87048,     0.86917,\n",
       "            0.86744,     0.86535,     0.86347,     0.86187,     0.86037,     0.85892,     0.85724,      0.8556,     0.85396,     0.84905,     0.84752,     0.84649,      0.8446,     0.84236,     0.83891,      0.8372,     0.83491,     0.83246,        0.83,     0.82721,     0.82406,     0.81914,     0.81686,\n",
       "             0.8135,     0.81222,     0.80912,     0.80602,     0.80398,     0.79914,     0.79709,     0.79149,     0.78915,     0.78574,     0.78346,     0.78167,      0.7736,     0.77068,     0.76698,     0.76226,     0.75688,     0.75468,     0.75076,     0.74546,     0.74078,     0.73645,     0.73098,\n",
       "            0.72569,     0.72181,      0.7143,     0.70991,     0.70778,     0.70227,     0.69768,     0.69156,      0.6882,     0.68568,      0.6786,     0.67605,     0.66907,     0.65889,     0.65579,     0.64884,     0.64403,      0.6324,     0.62922,     0.62106,     0.61185,     0.60634,     0.59623,\n",
       "            0.58365,     0.57921,     0.57134,     0.56444,     0.55586,     0.55045,     0.54399,     0.53461,     0.51975,     0.51234,     0.50342,     0.49292,     0.48375,     0.47538,     0.46813,     0.45805,     0.44783,     0.43496,     0.42667,     0.41149,     0.39101,      0.3803,     0.36627,\n",
       "            0.34211,     0.32777,     0.30765,     0.29871,     0.28518,     0.27253,      0.2542,     0.23749,     0.21717,     0.20182,     0.18918,     0.17507,     0.16296,     0.14976,     0.13051,     0.11501,     0.10483,    0.083228,    0.071737,    0.063508,    0.055696,    0.044861,      0.0364,\n",
       "           0.029874,    0.021788,    0.015164,    0.010545,    0.008983,   0.0076236,   0.0072729,   0.0047978,   0.0027115,   0.0010856,           0,           0,           0,           0,           0,           0,           0,           0,           0,           0,           0,           0,           0,\n",
       "                  0,           0,           0,           0,           0,           0,           0,           0,           0,           0,           0]]), 'Confidence', 'F1'], [array([          0,    0.001001,    0.002002,    0.003003,    0.004004,    0.005005,    0.006006,    0.007007,    0.008008,    0.009009,     0.01001,    0.011011,    0.012012,    0.013013,    0.014014,    0.015015,    0.016016,    0.017017,    0.018018,    0.019019,     0.02002,    0.021021,    0.022022,    0.023023,\n",
       "          0.024024,    0.025025,    0.026026,    0.027027,    0.028028,    0.029029,     0.03003,    0.031031,    0.032032,    0.033033,    0.034034,    0.035035,    0.036036,    0.037037,    0.038038,    0.039039,     0.04004,    0.041041,    0.042042,    0.043043,    0.044044,    0.045045,    0.046046,    0.047047,\n",
       "          0.048048,    0.049049,     0.05005,    0.051051,    0.052052,    0.053053,    0.054054,    0.055055,    0.056056,    0.057057,    0.058058,    0.059059,     0.06006,    0.061061,    0.062062,    0.063063,    0.064064,    0.065065,    0.066066,    0.067067,    0.068068,    0.069069,     0.07007,    0.071071,\n",
       "          0.072072,    0.073073,    0.074074,    0.075075,    0.076076,    0.077077,    0.078078,    0.079079,     0.08008,    0.081081,    0.082082,    0.083083,    0.084084,    0.085085,    0.086086,    0.087087,    0.088088,    0.089089,     0.09009,    0.091091,    0.092092,    0.093093,    0.094094,    0.095095,\n",
       "          0.096096,    0.097097,    0.098098,    0.099099,      0.1001,      0.1011,      0.1021,      0.1031,      0.1041,     0.10511,     0.10611,     0.10711,     0.10811,     0.10911,     0.11011,     0.11111,     0.11211,     0.11311,     0.11411,     0.11512,     0.11612,     0.11712,     0.11812,     0.11912,\n",
       "           0.12012,     0.12112,     0.12212,     0.12312,     0.12412,     0.12513,     0.12613,     0.12713,     0.12813,     0.12913,     0.13013,     0.13113,     0.13213,     0.13313,     0.13413,     0.13514,     0.13614,     0.13714,     0.13814,     0.13914,     0.14014,     0.14114,     0.14214,     0.14314,\n",
       "           0.14414,     0.14515,     0.14615,     0.14715,     0.14815,     0.14915,     0.15015,     0.15115,     0.15215,     0.15315,     0.15415,     0.15516,     0.15616,     0.15716,     0.15816,     0.15916,     0.16016,     0.16116,     0.16216,     0.16316,     0.16416,     0.16517,     0.16617,     0.16717,\n",
       "           0.16817,     0.16917,     0.17017,     0.17117,     0.17217,     0.17317,     0.17417,     0.17518,     0.17618,     0.17718,     0.17818,     0.17918,     0.18018,     0.18118,     0.18218,     0.18318,     0.18418,     0.18519,     0.18619,     0.18719,     0.18819,     0.18919,     0.19019,     0.19119,\n",
       "           0.19219,     0.19319,     0.19419,      0.1952,      0.1962,      0.1972,      0.1982,      0.1992,      0.2002,      0.2012,      0.2022,      0.2032,      0.2042,     0.20521,     0.20621,     0.20721,     0.20821,     0.20921,     0.21021,     0.21121,     0.21221,     0.21321,     0.21421,     0.21522,\n",
       "           0.21622,     0.21722,     0.21822,     0.21922,     0.22022,     0.22122,     0.22222,     0.22322,     0.22422,     0.22523,     0.22623,     0.22723,     0.22823,     0.22923,     0.23023,     0.23123,     0.23223,     0.23323,     0.23423,     0.23524,     0.23624,     0.23724,     0.23824,     0.23924,\n",
       "           0.24024,     0.24124,     0.24224,     0.24324,     0.24424,     0.24525,     0.24625,     0.24725,     0.24825,     0.24925,     0.25025,     0.25125,     0.25225,     0.25325,     0.25425,     0.25526,     0.25626,     0.25726,     0.25826,     0.25926,     0.26026,     0.26126,     0.26226,     0.26326,\n",
       "           0.26426,     0.26527,     0.26627,     0.26727,     0.26827,     0.26927,     0.27027,     0.27127,     0.27227,     0.27327,     0.27427,     0.27528,     0.27628,     0.27728,     0.27828,     0.27928,     0.28028,     0.28128,     0.28228,     0.28328,     0.28428,     0.28529,     0.28629,     0.28729,\n",
       "           0.28829,     0.28929,     0.29029,     0.29129,     0.29229,     0.29329,     0.29429,      0.2953,      0.2963,      0.2973,      0.2983,      0.2993,      0.3003,      0.3013,      0.3023,      0.3033,      0.3043,     0.30531,     0.30631,     0.30731,     0.30831,     0.30931,     0.31031,     0.31131,\n",
       "           0.31231,     0.31331,     0.31431,     0.31532,     0.31632,     0.31732,     0.31832,     0.31932,     0.32032,     0.32132,     0.32232,     0.32332,     0.32432,     0.32533,     0.32633,     0.32733,     0.32833,     0.32933,     0.33033,     0.33133,     0.33233,     0.33333,     0.33433,     0.33534,\n",
       "           0.33634,     0.33734,     0.33834,     0.33934,     0.34034,     0.34134,     0.34234,     0.34334,     0.34434,     0.34535,     0.34635,     0.34735,     0.34835,     0.34935,     0.35035,     0.35135,     0.35235,     0.35335,     0.35435,     0.35536,     0.35636,     0.35736,     0.35836,     0.35936,\n",
       "           0.36036,     0.36136,     0.36236,     0.36336,     0.36436,     0.36537,     0.36637,     0.36737,     0.36837,     0.36937,     0.37037,     0.37137,     0.37237,     0.37337,     0.37437,     0.37538,     0.37638,     0.37738,     0.37838,     0.37938,     0.38038,     0.38138,     0.38238,     0.38338,\n",
       "           0.38438,     0.38539,     0.38639,     0.38739,     0.38839,     0.38939,     0.39039,     0.39139,     0.39239,     0.39339,     0.39439,      0.3954,      0.3964,      0.3974,      0.3984,      0.3994,      0.4004,      0.4014,      0.4024,      0.4034,      0.4044,     0.40541,     0.40641,     0.40741,\n",
       "           0.40841,     0.40941,     0.41041,     0.41141,     0.41241,     0.41341,     0.41441,     0.41542,     0.41642,     0.41742,     0.41842,     0.41942,     0.42042,     0.42142,     0.42242,     0.42342,     0.42442,     0.42543,     0.42643,     0.42743,     0.42843,     0.42943,     0.43043,     0.43143,\n",
       "           0.43243,     0.43343,     0.43443,     0.43544,     0.43644,     0.43744,     0.43844,     0.43944,     0.44044,     0.44144,     0.44244,     0.44344,     0.44444,     0.44545,     0.44645,     0.44745,     0.44845,     0.44945,     0.45045,     0.45145,     0.45245,     0.45345,     0.45445,     0.45546,\n",
       "           0.45646,     0.45746,     0.45846,     0.45946,     0.46046,     0.46146,     0.46246,     0.46346,     0.46446,     0.46547,     0.46647,     0.46747,     0.46847,     0.46947,     0.47047,     0.47147,     0.47247,     0.47347,     0.47447,     0.47548,     0.47648,     0.47748,     0.47848,     0.47948,\n",
       "           0.48048,     0.48148,     0.48248,     0.48348,     0.48448,     0.48549,     0.48649,     0.48749,     0.48849,     0.48949,     0.49049,     0.49149,     0.49249,     0.49349,     0.49449,      0.4955,      0.4965,      0.4975,      0.4985,      0.4995,      0.5005,      0.5015,      0.5025,      0.5035,\n",
       "            0.5045,     0.50551,     0.50651,     0.50751,     0.50851,     0.50951,     0.51051,     0.51151,     0.51251,     0.51351,     0.51451,     0.51552,     0.51652,     0.51752,     0.51852,     0.51952,     0.52052,     0.52152,     0.52252,     0.52352,     0.52452,     0.52553,     0.52653,     0.52753,\n",
       "           0.52853,     0.52953,     0.53053,     0.53153,     0.53253,     0.53353,     0.53453,     0.53554,     0.53654,     0.53754,     0.53854,     0.53954,     0.54054,     0.54154,     0.54254,     0.54354,     0.54454,     0.54555,     0.54655,     0.54755,     0.54855,     0.54955,     0.55055,     0.55155,\n",
       "           0.55255,     0.55355,     0.55455,     0.55556,     0.55656,     0.55756,     0.55856,     0.55956,     0.56056,     0.56156,     0.56256,     0.56356,     0.56456,     0.56557,     0.56657,     0.56757,     0.56857,     0.56957,     0.57057,     0.57157,     0.57257,     0.57357,     0.57457,     0.57558,\n",
       "           0.57658,     0.57758,     0.57858,     0.57958,     0.58058,     0.58158,     0.58258,     0.58358,     0.58458,     0.58559,     0.58659,     0.58759,     0.58859,     0.58959,     0.59059,     0.59159,     0.59259,     0.59359,     0.59459,      0.5956,      0.5966,      0.5976,      0.5986,      0.5996,\n",
       "            0.6006,      0.6016,      0.6026,      0.6036,      0.6046,     0.60561,     0.60661,     0.60761,     0.60861,     0.60961,     0.61061,     0.61161,     0.61261,     0.61361,     0.61461,     0.61562,     0.61662,     0.61762,     0.61862,     0.61962,     0.62062,     0.62162,     0.62262,     0.62362,\n",
       "           0.62462,     0.62563,     0.62663,     0.62763,     0.62863,     0.62963,     0.63063,     0.63163,     0.63263,     0.63363,     0.63463,     0.63564,     0.63664,     0.63764,     0.63864,     0.63964,     0.64064,     0.64164,     0.64264,     0.64364,     0.64464,     0.64565,     0.64665,     0.64765,\n",
       "           0.64865,     0.64965,     0.65065,     0.65165,     0.65265,     0.65365,     0.65465,     0.65566,     0.65666,     0.65766,     0.65866,     0.65966,     0.66066,     0.66166,     0.66266,     0.66366,     0.66466,     0.66567,     0.66667,     0.66767,     0.66867,     0.66967,     0.67067,     0.67167,\n",
       "           0.67267,     0.67367,     0.67467,     0.67568,     0.67668,     0.67768,     0.67868,     0.67968,     0.68068,     0.68168,     0.68268,     0.68368,     0.68468,     0.68569,     0.68669,     0.68769,     0.68869,     0.68969,     0.69069,     0.69169,     0.69269,     0.69369,     0.69469,      0.6957,\n",
       "            0.6967,      0.6977,      0.6987,      0.6997,      0.7007,      0.7017,      0.7027,      0.7037,      0.7047,     0.70571,     0.70671,     0.70771,     0.70871,     0.70971,     0.71071,     0.71171,     0.71271,     0.71371,     0.71471,     0.71572,     0.71672,     0.71772,     0.71872,     0.71972,\n",
       "           0.72072,     0.72172,     0.72272,     0.72372,     0.72472,     0.72573,     0.72673,     0.72773,     0.72873,     0.72973,     0.73073,     0.73173,     0.73273,     0.73373,     0.73473,     0.73574,     0.73674,     0.73774,     0.73874,     0.73974,     0.74074,     0.74174,     0.74274,     0.74374,\n",
       "           0.74474,     0.74575,     0.74675,     0.74775,     0.74875,     0.74975,     0.75075,     0.75175,     0.75275,     0.75375,     0.75475,     0.75576,     0.75676,     0.75776,     0.75876,     0.75976,     0.76076,     0.76176,     0.76276,     0.76376,     0.76476,     0.76577,     0.76677,     0.76777,\n",
       "           0.76877,     0.76977,     0.77077,     0.77177,     0.77277,     0.77377,     0.77477,     0.77578,     0.77678,     0.77778,     0.77878,     0.77978,     0.78078,     0.78178,     0.78278,     0.78378,     0.78478,     0.78579,     0.78679,     0.78779,     0.78879,     0.78979,     0.79079,     0.79179,\n",
       "           0.79279,     0.79379,     0.79479,      0.7958,      0.7968,      0.7978,      0.7988,      0.7998,      0.8008,      0.8018,      0.8028,      0.8038,      0.8048,     0.80581,     0.80681,     0.80781,     0.80881,     0.80981,     0.81081,     0.81181,     0.81281,     0.81381,     0.81481,     0.81582,\n",
       "           0.81682,     0.81782,     0.81882,     0.81982,     0.82082,     0.82182,     0.82282,     0.82382,     0.82482,     0.82583,     0.82683,     0.82783,     0.82883,     0.82983,     0.83083,     0.83183,     0.83283,     0.83383,     0.83483,     0.83584,     0.83684,     0.83784,     0.83884,     0.83984,\n",
       "           0.84084,     0.84184,     0.84284,     0.84384,     0.84484,     0.84585,     0.84685,     0.84785,     0.84885,     0.84985,     0.85085,     0.85185,     0.85285,     0.85385,     0.85485,     0.85586,     0.85686,     0.85786,     0.85886,     0.85986,     0.86086,     0.86186,     0.86286,     0.86386,\n",
       "           0.86486,     0.86587,     0.86687,     0.86787,     0.86887,     0.86987,     0.87087,     0.87187,     0.87287,     0.87387,     0.87487,     0.87588,     0.87688,     0.87788,     0.87888,     0.87988,     0.88088,     0.88188,     0.88288,     0.88388,     0.88488,     0.88589,     0.88689,     0.88789,\n",
       "           0.88889,     0.88989,     0.89089,     0.89189,     0.89289,     0.89389,     0.89489,      0.8959,      0.8969,      0.8979,      0.8989,      0.8999,      0.9009,      0.9019,      0.9029,      0.9039,      0.9049,     0.90591,     0.90691,     0.90791,     0.90891,     0.90991,     0.91091,     0.91191,\n",
       "           0.91291,     0.91391,     0.91491,     0.91592,     0.91692,     0.91792,     0.91892,     0.91992,     0.92092,     0.92192,     0.92292,     0.92392,     0.92492,     0.92593,     0.92693,     0.92793,     0.92893,     0.92993,     0.93093,     0.93193,     0.93293,     0.93393,     0.93493,     0.93594,\n",
       "           0.93694,     0.93794,     0.93894,     0.93994,     0.94094,     0.94194,     0.94294,     0.94394,     0.94494,     0.94595,     0.94695,     0.94795,     0.94895,     0.94995,     0.95095,     0.95195,     0.95295,     0.95395,     0.95495,     0.95596,     0.95696,     0.95796,     0.95896,     0.95996,\n",
       "           0.96096,     0.96196,     0.96296,     0.96396,     0.96496,     0.96597,     0.96697,     0.96797,     0.96897,     0.96997,     0.97097,     0.97197,     0.97297,     0.97397,     0.97497,     0.97598,     0.97698,     0.97798,     0.97898,     0.97998,     0.98098,     0.98198,     0.98298,     0.98398,\n",
       "           0.98498,     0.98599,     0.98699,     0.98799,     0.98899,     0.98999,     0.99099,     0.99199,     0.99299,     0.99399,     0.99499,       0.996,       0.997,       0.998,       0.999,           1]), array([[    0.27676,     0.27676,     0.38059,      0.4449,     0.48511,     0.51659,     0.54015,     0.56186,      0.5805,     0.59511,     0.60615,     0.61565,     0.62684,      0.6386,     0.64735,     0.65645,      0.6638,     0.67036,      0.6762,     0.68316,     0.68872,     0.69349,     0.69871,\n",
       "            0.70385,     0.70809,     0.71228,     0.71592,     0.72017,     0.72585,     0.72887,     0.73176,     0.73558,     0.73859,     0.74123,     0.74329,     0.74683,     0.74907,     0.75129,     0.75445,     0.75805,     0.76089,     0.76455,      0.7664,     0.76836,     0.77057,     0.77268,\n",
       "            0.77625,     0.77752,     0.77887,     0.78046,     0.78193,     0.78331,     0.78478,      0.7853,     0.78659,      0.7873,     0.78911,     0.79035,     0.79131,     0.79314,     0.79417,     0.79627,     0.79759,     0.79916,     0.79985,     0.80069,     0.80243,      0.8037,     0.80426,\n",
       "            0.80509,     0.80682,      0.8082,     0.80863,     0.80948,     0.81055,     0.81176,     0.81222,     0.81296,     0.81339,     0.81383,     0.81478,     0.81529,     0.81644,     0.81835,     0.81931,     0.81955,     0.81996,      0.8206,     0.82123,     0.82185,     0.82375,     0.82432,\n",
       "             0.8247,     0.82508,     0.82544,     0.82651,      0.8274,     0.82766,     0.82816,     0.82829,     0.82871,     0.82883,     0.82997,     0.83083,     0.83108,     0.83142,     0.83219,      0.8329,     0.83317,     0.83365,     0.83434,     0.83481,     0.83626,     0.83791,      0.8384,\n",
       "             0.8389,     0.83919,     0.83965,        0.84,     0.84017,     0.84089,     0.84152,     0.84246,     0.84331,     0.84362,     0.84462,     0.84498,     0.84527,     0.84588,     0.84671,      0.8474,     0.84804,     0.84863,     0.84908,     0.84953,     0.85005,     0.85016,      0.8504,\n",
       "            0.85103,     0.85128,     0.85204,     0.85219,      0.8528,     0.85348,     0.85379,     0.85393,     0.85452,     0.85546,     0.85584,       0.856,     0.85638,     0.85659,     0.85682,     0.85709,     0.85778,     0.85822,      0.8587,     0.85941,      0.8594,     0.85938,     0.86036,\n",
       "            0.86096,      0.8622,     0.86294,     0.86307,     0.86353,     0.86372,     0.86391,      0.8647,     0.86506,     0.86607,     0.86661,     0.86741,     0.86758,     0.86833,     0.86893,     0.87009,     0.87028,     0.87083,     0.87105,     0.87124,     0.87151,     0.87222,     0.87235,\n",
       "            0.87271,     0.87311,      0.8733,     0.87368,     0.87365,     0.87385,     0.87431,     0.87466,     0.87486,     0.87497,     0.87544,     0.87559,     0.87571,     0.87589,      0.8768,     0.87698,     0.87731,     0.87742,     0.87769,     0.87808,     0.87847,      0.8791,     0.87908,\n",
       "            0.87919,     0.87953,     0.87969,     0.87971,     0.88047,     0.88064,     0.88089,     0.88184,     0.88216,     0.88242,       0.883,     0.88332,      0.8834,     0.88351,     0.88367,     0.88367,     0.88383,     0.88436,     0.88459,     0.88472,     0.88507,     0.88549,     0.88558,\n",
       "            0.88556,     0.88605,     0.88621,     0.88673,     0.88694,     0.88704,     0.88745,     0.88789,      0.8881,     0.88831,     0.88894,     0.88919,     0.88935,     0.88966,     0.88996,     0.89024,     0.89049,     0.89064,     0.89114,     0.89118,     0.89122,     0.89127,     0.89131,\n",
       "            0.89157,     0.89188,     0.89263,     0.89263,     0.89262,     0.89283,     0.89299,     0.89305,     0.89324,     0.89337,     0.89379,     0.89389,     0.89415,      0.8944,     0.89455,     0.89481,     0.89551,     0.89582,     0.89635,     0.89634,     0.89633,     0.89664,     0.89682,\n",
       "            0.89699,     0.89775,     0.89789,     0.89799,      0.8981,     0.89833,     0.89831,     0.89885,     0.89906,      0.8992,     0.89949,         0.9,     0.90066,     0.90081,      0.9008,     0.90134,     0.90209,     0.90231,     0.90271,     0.90285,     0.90294,     0.90304,     0.90373,\n",
       "            0.90396,       0.904,     0.90405,      0.9041,     0.90415,     0.90466,     0.90473,      0.9048,     0.90487,     0.90519,     0.90529,      0.9054,     0.90554,     0.90605,     0.90624,     0.90653,     0.90673,     0.90687,      0.9072,     0.90726,     0.90733,     0.90746,     0.90774,\n",
       "            0.90823,     0.90849,      0.9102,      0.9104,     0.91039,     0.91099,     0.91184,     0.91191,     0.91198,      0.9121,     0.91247,      0.9126,     0.91298,     0.91307,     0.91316,     0.91392,     0.91432,      0.9143,     0.91452,      0.9145,     0.91449,     0.91473,     0.91485,\n",
       "            0.91495,     0.91494,     0.91516,     0.91571,     0.91583,     0.91597,     0.91635,     0.91649,     0.91666,      0.9169,     0.91718,     0.91753,     0.91753,     0.91752,     0.91752,       0.918,     0.91814,     0.91828,     0.91842,      0.9186,     0.91875,     0.91884,     0.91893,\n",
       "            0.91964,     0.92037,     0.92037,     0.92036,     0.92091,     0.92119,      0.9214,     0.92152,     0.92172,     0.92203,     0.92228,     0.92227,     0.92251,      0.9225,     0.92257,     0.92281,     0.92327,     0.92341,     0.92354,     0.92367,     0.92412,     0.92437,     0.92515,\n",
       "            0.92564,     0.92588,     0.92588,     0.92712,     0.92732,     0.92731,     0.92728,     0.92726,     0.92732,     0.92746,     0.92759,     0.92772,     0.92794,      0.9282,     0.92832,     0.92845,     0.92845,     0.92872,      0.9292,     0.93016,     0.93029,     0.93041,     0.93054,\n",
       "            0.93074,     0.93103,     0.93153,     0.93178,     0.93181,     0.93199,     0.93224,      0.9325,     0.93279,     0.93301,       0.933,      0.9335,     0.93357,     0.93363,     0.93369,     0.93377,      0.9339,     0.93402,      0.9341,     0.93419,     0.93433,     0.93487,     0.93499,\n",
       "            0.93498,     0.93496,     0.93519,     0.93518,     0.93518,     0.93517,     0.93542,     0.93541,     0.93541,     0.93614,     0.93639,     0.93645,     0.93652,     0.93658,     0.93664,     0.93664,      0.9369,     0.93713,     0.93713,     0.93712,     0.93712,     0.93723,     0.93743,\n",
       "            0.93756,     0.93783,     0.93796,     0.93838,     0.93851,     0.93881,      0.9388,     0.93879,     0.93878,     0.93881,     0.93884,     0.93888,     0.93892,     0.93896,     0.93899,     0.93903,     0.93925,     0.93939,     0.93952,     0.93978,     0.94052,     0.94051,      0.9405,\n",
       "             0.9405,      0.9405,      0.9405,     0.94053,     0.94079,     0.94149,     0.94151,     0.94164,     0.94201,     0.94207,     0.94214,      0.9422,     0.94224,     0.94223,     0.94222,     0.94233,     0.94253,     0.94266,     0.94272,     0.94285,     0.94304,     0.94317,     0.94322,\n",
       "            0.94321,     0.94345,     0.94344,     0.94361,     0.94374,     0.94383,     0.94391,     0.94428,     0.94441,     0.94442,     0.94441,     0.94491,     0.94505,     0.94519,     0.94544,     0.94544,     0.94543,     0.94544,     0.94553,     0.94561,     0.94573,     0.94677,     0.94696,\n",
       "            0.94696,     0.94696,     0.94695,     0.94772,      0.9478,     0.94833,     0.94849,     0.94849,     0.94848,     0.94848,     0.94847,     0.94846,     0.94845,     0.94843,     0.94841,     0.94857,     0.94875,     0.94889,     0.94918,     0.94927,      0.9494,      0.9499,     0.95016,\n",
       "            0.95059,     0.95072,     0.95074,     0.95073,     0.95089,     0.95105,     0.95118,     0.95138,     0.95151,     0.95147,     0.95146,     0.95172,     0.95195,     0.95194,     0.95194,     0.95194,     0.95212,      0.9529,     0.95296,     0.95316,      0.9532,      0.9533,     0.95343,\n",
       "            0.95395,     0.95422,     0.95424,     0.95423,     0.95436,     0.95476,     0.95494,     0.95509,     0.95522,     0.95532,     0.95539,     0.95545,     0.95552,     0.95554,     0.95553,      0.9559,     0.95603,     0.95635,     0.95639,     0.95643,     0.95648,     0.95652,     0.95656,\n",
       "            0.95671,     0.95685,     0.95684,     0.95713,      0.9572,     0.95726,     0.95733,     0.95744,     0.95758,     0.95762,     0.95787,     0.95801,     0.95811,      0.9581,     0.95816,      0.9587,     0.95941,      0.9594,     0.95939,     0.95938,     0.95991,     0.96019,     0.96032,\n",
       "            0.96045,     0.96071,     0.96097,     0.96095,     0.96095,     0.96111,     0.96166,     0.96174,     0.96248,     0.96275,     0.96302,     0.96338,     0.96352,     0.96361,     0.96371,     0.96387,     0.96386,     0.96413,      0.9644,     0.96436,     0.96436,     0.96437,     0.96463,\n",
       "            0.96479,     0.96507,     0.96534,     0.96578,     0.96589,     0.96597,       0.966,     0.96614,      0.9663,     0.96649,      0.9665,      0.9665,      0.9665,      0.9665,      0.9665,     0.96648,     0.96647,     0.96674,     0.96672,     0.96679,     0.96686,     0.96693,     0.96701,\n",
       "             0.9672,      0.9673,     0.96738,     0.96746,     0.96808,     0.96822,      0.9685,     0.96858,     0.96856,     0.96856,     0.96854,     0.96854,     0.96854,     0.96882,     0.96909,     0.96917,     0.96926,     0.96934,     0.96964,     0.96964,     0.96963,     0.96995,     0.97014,\n",
       "            0.97018,     0.97018,     0.97058,      0.9707,     0.97069,     0.97091,     0.97138,     0.97152,     0.97151,     0.97192,     0.97206,     0.97206,     0.97206,     0.97231,     0.97231,      0.9723,      0.9723,      0.9723,     0.97229,     0.97229,     0.97236,     0.97245,     0.97255,\n",
       "            0.97256,     0.97256,     0.97273,     0.97318,     0.97338,     0.97356,     0.97373,     0.97388,     0.97404,      0.9745,     0.97449,     0.97475,     0.97533,     0.97553,     0.97558,     0.97566,     0.97578,     0.97586,     0.97585,     0.97613,     0.97612,     0.97612,     0.97611,\n",
       "            0.97609,     0.97609,     0.97609,     0.97608,     0.97608,     0.97607,     0.97607,     0.97607,     0.97605,     0.97689,     0.97688,     0.97716,     0.97716,     0.97715,     0.97714,     0.97746,     0.97766,     0.97768,     0.97765,     0.97764,     0.97849,     0.97849,     0.97848,\n",
       "            0.97876,     0.97875,     0.97874,     0.97872,     0.97892,     0.97911,     0.97931,      0.9795,     0.97985,     0.97984,     0.97982,     0.97981,     0.97979,     0.98013,     0.98033,     0.98036,     0.98034,     0.98033,     0.98089,     0.98089,     0.98088,     0.98085,     0.98085,\n",
       "            0.98113,     0.98112,     0.98113,     0.98133,     0.98138,     0.98136,     0.98134,     0.98133,     0.98132,      0.9816,     0.98166,     0.98186,     0.98217,     0.98263,     0.98274,     0.98272,     0.98271,     0.98298,     0.98297,     0.98293,     0.98294,     0.98321,      0.9832,\n",
       "            0.98349,     0.98348,     0.98348,     0.98377,     0.98377,     0.98404,     0.98401,     0.98396,     0.98395,     0.98394,     0.98418,     0.98422,     0.98494,      0.9857,     0.98582,     0.98596,     0.98593,     0.98592,     0.98589,     0.98589,     0.98588,     0.98585,     0.98584,\n",
       "            0.98583,     0.98581,     0.98577,     0.98576,     0.98576,     0.98572,     0.98571,      0.9857,     0.98598,     0.98596,     0.98593,     0.98637,     0.98683,     0.98681,     0.98678,     0.98676,     0.98672,     0.98668,     0.98663,     0.98662,      0.9866,     0.98689,     0.98686,\n",
       "            0.98713,     0.98708,     0.98703,     0.98699,     0.98695,     0.98724,      0.9872,     0.98749,     0.98778,     0.98765,     0.98762,     0.98759,     0.98754,     0.98749,      0.9874,     0.98735,      0.9873,     0.98723,     0.98717,      0.9878,     0.98772,     0.98831,     0.98826,\n",
       "            0.98854,     0.98851,     0.98843,     0.98836,      0.9894,     0.98969,     0.98965,     0.98953,     0.98986,     0.98979,     0.98974,     0.99009,     0.98992,     0.98986,     0.98978,     0.98968,      0.9908,     0.99075,     0.99109,     0.99142,     0.99133,     0.99125,     0.99115,\n",
       "            0.99105,     0.99142,     0.99128,      0.9912,     0.99161,     0.99151,     0.99143,     0.99131,     0.99125,      0.9912,     0.99204,     0.99299,     0.99288,     0.99323,     0.99318,     0.99307,       0.993,     0.99445,     0.99441,     0.99487,     0.99586,     0.99704,     0.99697,\n",
       "            0.99688,     0.99684,     0.99678,     0.99673,     0.99666,     0.99729,     0.99724,     0.99718,     0.99707,     0.99701,     0.99694,     0.99685,     0.99677,      0.9967,     0.99663,     0.99653,     0.99643,      0.9963,     0.99621,     0.99603,     0.99577,     0.99671,     0.99656,\n",
       "            0.99626,     0.99606,     0.99575,     0.99561,      0.9969,     0.99673,     0.99646,     0.99618,     0.99578,     0.99542,     0.99508,     0.99464,     0.99709,     0.99682,     0.99631,     0.99578,     0.99535,           1,           1,           1,           1,           1,           1,\n",
       "                  1,           1,           1,           1,           1,           1,           1,           1,           1,           1,           1,           1,           1,           1,           1,           1,           1,           1,           1,           1,           1,           1,           1,\n",
       "                  1,           1,           1,           1,           1,           1,           1,           1,           1,           1,           1]]), 'Confidence', 'Precision'], [array([          0,    0.001001,    0.002002,    0.003003,    0.004004,    0.005005,    0.006006,    0.007007,    0.008008,    0.009009,     0.01001,    0.011011,    0.012012,    0.013013,    0.014014,    0.015015,    0.016016,    0.017017,    0.018018,    0.019019,     0.02002,    0.021021,    0.022022,    0.023023,\n",
       "          0.024024,    0.025025,    0.026026,    0.027027,    0.028028,    0.029029,     0.03003,    0.031031,    0.032032,    0.033033,    0.034034,    0.035035,    0.036036,    0.037037,    0.038038,    0.039039,     0.04004,    0.041041,    0.042042,    0.043043,    0.044044,    0.045045,    0.046046,    0.047047,\n",
       "          0.048048,    0.049049,     0.05005,    0.051051,    0.052052,    0.053053,    0.054054,    0.055055,    0.056056,    0.057057,    0.058058,    0.059059,     0.06006,    0.061061,    0.062062,    0.063063,    0.064064,    0.065065,    0.066066,    0.067067,    0.068068,    0.069069,     0.07007,    0.071071,\n",
       "          0.072072,    0.073073,    0.074074,    0.075075,    0.076076,    0.077077,    0.078078,    0.079079,     0.08008,    0.081081,    0.082082,    0.083083,    0.084084,    0.085085,    0.086086,    0.087087,    0.088088,    0.089089,     0.09009,    0.091091,    0.092092,    0.093093,    0.094094,    0.095095,\n",
       "          0.096096,    0.097097,    0.098098,    0.099099,      0.1001,      0.1011,      0.1021,      0.1031,      0.1041,     0.10511,     0.10611,     0.10711,     0.10811,     0.10911,     0.11011,     0.11111,     0.11211,     0.11311,     0.11411,     0.11512,     0.11612,     0.11712,     0.11812,     0.11912,\n",
       "           0.12012,     0.12112,     0.12212,     0.12312,     0.12412,     0.12513,     0.12613,     0.12713,     0.12813,     0.12913,     0.13013,     0.13113,     0.13213,     0.13313,     0.13413,     0.13514,     0.13614,     0.13714,     0.13814,     0.13914,     0.14014,     0.14114,     0.14214,     0.14314,\n",
       "           0.14414,     0.14515,     0.14615,     0.14715,     0.14815,     0.14915,     0.15015,     0.15115,     0.15215,     0.15315,     0.15415,     0.15516,     0.15616,     0.15716,     0.15816,     0.15916,     0.16016,     0.16116,     0.16216,     0.16316,     0.16416,     0.16517,     0.16617,     0.16717,\n",
       "           0.16817,     0.16917,     0.17017,     0.17117,     0.17217,     0.17317,     0.17417,     0.17518,     0.17618,     0.17718,     0.17818,     0.17918,     0.18018,     0.18118,     0.18218,     0.18318,     0.18418,     0.18519,     0.18619,     0.18719,     0.18819,     0.18919,     0.19019,     0.19119,\n",
       "           0.19219,     0.19319,     0.19419,      0.1952,      0.1962,      0.1972,      0.1982,      0.1992,      0.2002,      0.2012,      0.2022,      0.2032,      0.2042,     0.20521,     0.20621,     0.20721,     0.20821,     0.20921,     0.21021,     0.21121,     0.21221,     0.21321,     0.21421,     0.21522,\n",
       "           0.21622,     0.21722,     0.21822,     0.21922,     0.22022,     0.22122,     0.22222,     0.22322,     0.22422,     0.22523,     0.22623,     0.22723,     0.22823,     0.22923,     0.23023,     0.23123,     0.23223,     0.23323,     0.23423,     0.23524,     0.23624,     0.23724,     0.23824,     0.23924,\n",
       "           0.24024,     0.24124,     0.24224,     0.24324,     0.24424,     0.24525,     0.24625,     0.24725,     0.24825,     0.24925,     0.25025,     0.25125,     0.25225,     0.25325,     0.25425,     0.25526,     0.25626,     0.25726,     0.25826,     0.25926,     0.26026,     0.26126,     0.26226,     0.26326,\n",
       "           0.26426,     0.26527,     0.26627,     0.26727,     0.26827,     0.26927,     0.27027,     0.27127,     0.27227,     0.27327,     0.27427,     0.27528,     0.27628,     0.27728,     0.27828,     0.27928,     0.28028,     0.28128,     0.28228,     0.28328,     0.28428,     0.28529,     0.28629,     0.28729,\n",
       "           0.28829,     0.28929,     0.29029,     0.29129,     0.29229,     0.29329,     0.29429,      0.2953,      0.2963,      0.2973,      0.2983,      0.2993,      0.3003,      0.3013,      0.3023,      0.3033,      0.3043,     0.30531,     0.30631,     0.30731,     0.30831,     0.30931,     0.31031,     0.31131,\n",
       "           0.31231,     0.31331,     0.31431,     0.31532,     0.31632,     0.31732,     0.31832,     0.31932,     0.32032,     0.32132,     0.32232,     0.32332,     0.32432,     0.32533,     0.32633,     0.32733,     0.32833,     0.32933,     0.33033,     0.33133,     0.33233,     0.33333,     0.33433,     0.33534,\n",
       "           0.33634,     0.33734,     0.33834,     0.33934,     0.34034,     0.34134,     0.34234,     0.34334,     0.34434,     0.34535,     0.34635,     0.34735,     0.34835,     0.34935,     0.35035,     0.35135,     0.35235,     0.35335,     0.35435,     0.35536,     0.35636,     0.35736,     0.35836,     0.35936,\n",
       "           0.36036,     0.36136,     0.36236,     0.36336,     0.36436,     0.36537,     0.36637,     0.36737,     0.36837,     0.36937,     0.37037,     0.37137,     0.37237,     0.37337,     0.37437,     0.37538,     0.37638,     0.37738,     0.37838,     0.37938,     0.38038,     0.38138,     0.38238,     0.38338,\n",
       "           0.38438,     0.38539,     0.38639,     0.38739,     0.38839,     0.38939,     0.39039,     0.39139,     0.39239,     0.39339,     0.39439,      0.3954,      0.3964,      0.3974,      0.3984,      0.3994,      0.4004,      0.4014,      0.4024,      0.4034,      0.4044,     0.40541,     0.40641,     0.40741,\n",
       "           0.40841,     0.40941,     0.41041,     0.41141,     0.41241,     0.41341,     0.41441,     0.41542,     0.41642,     0.41742,     0.41842,     0.41942,     0.42042,     0.42142,     0.42242,     0.42342,     0.42442,     0.42543,     0.42643,     0.42743,     0.42843,     0.42943,     0.43043,     0.43143,\n",
       "           0.43243,     0.43343,     0.43443,     0.43544,     0.43644,     0.43744,     0.43844,     0.43944,     0.44044,     0.44144,     0.44244,     0.44344,     0.44444,     0.44545,     0.44645,     0.44745,     0.44845,     0.44945,     0.45045,     0.45145,     0.45245,     0.45345,     0.45445,     0.45546,\n",
       "           0.45646,     0.45746,     0.45846,     0.45946,     0.46046,     0.46146,     0.46246,     0.46346,     0.46446,     0.46547,     0.46647,     0.46747,     0.46847,     0.46947,     0.47047,     0.47147,     0.47247,     0.47347,     0.47447,     0.47548,     0.47648,     0.47748,     0.47848,     0.47948,\n",
       "           0.48048,     0.48148,     0.48248,     0.48348,     0.48448,     0.48549,     0.48649,     0.48749,     0.48849,     0.48949,     0.49049,     0.49149,     0.49249,     0.49349,     0.49449,      0.4955,      0.4965,      0.4975,      0.4985,      0.4995,      0.5005,      0.5015,      0.5025,      0.5035,\n",
       "            0.5045,     0.50551,     0.50651,     0.50751,     0.50851,     0.50951,     0.51051,     0.51151,     0.51251,     0.51351,     0.51451,     0.51552,     0.51652,     0.51752,     0.51852,     0.51952,     0.52052,     0.52152,     0.52252,     0.52352,     0.52452,     0.52553,     0.52653,     0.52753,\n",
       "           0.52853,     0.52953,     0.53053,     0.53153,     0.53253,     0.53353,     0.53453,     0.53554,     0.53654,     0.53754,     0.53854,     0.53954,     0.54054,     0.54154,     0.54254,     0.54354,     0.54454,     0.54555,     0.54655,     0.54755,     0.54855,     0.54955,     0.55055,     0.55155,\n",
       "           0.55255,     0.55355,     0.55455,     0.55556,     0.55656,     0.55756,     0.55856,     0.55956,     0.56056,     0.56156,     0.56256,     0.56356,     0.56456,     0.56557,     0.56657,     0.56757,     0.56857,     0.56957,     0.57057,     0.57157,     0.57257,     0.57357,     0.57457,     0.57558,\n",
       "           0.57658,     0.57758,     0.57858,     0.57958,     0.58058,     0.58158,     0.58258,     0.58358,     0.58458,     0.58559,     0.58659,     0.58759,     0.58859,     0.58959,     0.59059,     0.59159,     0.59259,     0.59359,     0.59459,      0.5956,      0.5966,      0.5976,      0.5986,      0.5996,\n",
       "            0.6006,      0.6016,      0.6026,      0.6036,      0.6046,     0.60561,     0.60661,     0.60761,     0.60861,     0.60961,     0.61061,     0.61161,     0.61261,     0.61361,     0.61461,     0.61562,     0.61662,     0.61762,     0.61862,     0.61962,     0.62062,     0.62162,     0.62262,     0.62362,\n",
       "           0.62462,     0.62563,     0.62663,     0.62763,     0.62863,     0.62963,     0.63063,     0.63163,     0.63263,     0.63363,     0.63463,     0.63564,     0.63664,     0.63764,     0.63864,     0.63964,     0.64064,     0.64164,     0.64264,     0.64364,     0.64464,     0.64565,     0.64665,     0.64765,\n",
       "           0.64865,     0.64965,     0.65065,     0.65165,     0.65265,     0.65365,     0.65465,     0.65566,     0.65666,     0.65766,     0.65866,     0.65966,     0.66066,     0.66166,     0.66266,     0.66366,     0.66466,     0.66567,     0.66667,     0.66767,     0.66867,     0.66967,     0.67067,     0.67167,\n",
       "           0.67267,     0.67367,     0.67467,     0.67568,     0.67668,     0.67768,     0.67868,     0.67968,     0.68068,     0.68168,     0.68268,     0.68368,     0.68468,     0.68569,     0.68669,     0.68769,     0.68869,     0.68969,     0.69069,     0.69169,     0.69269,     0.69369,     0.69469,      0.6957,\n",
       "            0.6967,      0.6977,      0.6987,      0.6997,      0.7007,      0.7017,      0.7027,      0.7037,      0.7047,     0.70571,     0.70671,     0.70771,     0.70871,     0.70971,     0.71071,     0.71171,     0.71271,     0.71371,     0.71471,     0.71572,     0.71672,     0.71772,     0.71872,     0.71972,\n",
       "           0.72072,     0.72172,     0.72272,     0.72372,     0.72472,     0.72573,     0.72673,     0.72773,     0.72873,     0.72973,     0.73073,     0.73173,     0.73273,     0.73373,     0.73473,     0.73574,     0.73674,     0.73774,     0.73874,     0.73974,     0.74074,     0.74174,     0.74274,     0.74374,\n",
       "           0.74474,     0.74575,     0.74675,     0.74775,     0.74875,     0.74975,     0.75075,     0.75175,     0.75275,     0.75375,     0.75475,     0.75576,     0.75676,     0.75776,     0.75876,     0.75976,     0.76076,     0.76176,     0.76276,     0.76376,     0.76476,     0.76577,     0.76677,     0.76777,\n",
       "           0.76877,     0.76977,     0.77077,     0.77177,     0.77277,     0.77377,     0.77477,     0.77578,     0.77678,     0.77778,     0.77878,     0.77978,     0.78078,     0.78178,     0.78278,     0.78378,     0.78478,     0.78579,     0.78679,     0.78779,     0.78879,     0.78979,     0.79079,     0.79179,\n",
       "           0.79279,     0.79379,     0.79479,      0.7958,      0.7968,      0.7978,      0.7988,      0.7998,      0.8008,      0.8018,      0.8028,      0.8038,      0.8048,     0.80581,     0.80681,     0.80781,     0.80881,     0.80981,     0.81081,     0.81181,     0.81281,     0.81381,     0.81481,     0.81582,\n",
       "           0.81682,     0.81782,     0.81882,     0.81982,     0.82082,     0.82182,     0.82282,     0.82382,     0.82482,     0.82583,     0.82683,     0.82783,     0.82883,     0.82983,     0.83083,     0.83183,     0.83283,     0.83383,     0.83483,     0.83584,     0.83684,     0.83784,     0.83884,     0.83984,\n",
       "           0.84084,     0.84184,     0.84284,     0.84384,     0.84484,     0.84585,     0.84685,     0.84785,     0.84885,     0.84985,     0.85085,     0.85185,     0.85285,     0.85385,     0.85485,     0.85586,     0.85686,     0.85786,     0.85886,     0.85986,     0.86086,     0.86186,     0.86286,     0.86386,\n",
       "           0.86486,     0.86587,     0.86687,     0.86787,     0.86887,     0.86987,     0.87087,     0.87187,     0.87287,     0.87387,     0.87487,     0.87588,     0.87688,     0.87788,     0.87888,     0.87988,     0.88088,     0.88188,     0.88288,     0.88388,     0.88488,     0.88589,     0.88689,     0.88789,\n",
       "           0.88889,     0.88989,     0.89089,     0.89189,     0.89289,     0.89389,     0.89489,      0.8959,      0.8969,      0.8979,      0.8989,      0.8999,      0.9009,      0.9019,      0.9029,      0.9039,      0.9049,     0.90591,     0.90691,     0.90791,     0.90891,     0.90991,     0.91091,     0.91191,\n",
       "           0.91291,     0.91391,     0.91491,     0.91592,     0.91692,     0.91792,     0.91892,     0.91992,     0.92092,     0.92192,     0.92292,     0.92392,     0.92492,     0.92593,     0.92693,     0.92793,     0.92893,     0.92993,     0.93093,     0.93193,     0.93293,     0.93393,     0.93493,     0.93594,\n",
       "           0.93694,     0.93794,     0.93894,     0.93994,     0.94094,     0.94194,     0.94294,     0.94394,     0.94494,     0.94595,     0.94695,     0.94795,     0.94895,     0.94995,     0.95095,     0.95195,     0.95295,     0.95395,     0.95495,     0.95596,     0.95696,     0.95796,     0.95896,     0.95996,\n",
       "           0.96096,     0.96196,     0.96296,     0.96396,     0.96496,     0.96597,     0.96697,     0.96797,     0.96897,     0.96997,     0.97097,     0.97197,     0.97297,     0.97397,     0.97497,     0.97598,     0.97698,     0.97798,     0.97898,     0.97998,     0.98098,     0.98198,     0.98298,     0.98398,\n",
       "           0.98498,     0.98599,     0.98699,     0.98799,     0.98899,     0.98999,     0.99099,     0.99199,     0.99299,     0.99399,     0.99499,       0.996,       0.997,       0.998,       0.999,           1]), array([[     0.9545,      0.9545,      0.9514,     0.94881,     0.94804,       0.947,     0.94623,     0.94493,     0.94442,     0.94364,     0.94338,     0.94312,     0.94235,     0.94209,     0.94131,     0.94105,      0.9408,     0.94028,     0.94002,     0.93976,     0.93925,     0.93899,     0.93847,\n",
       "            0.93795,     0.93769,     0.93718,     0.93666,      0.9364,     0.93563,     0.93563,     0.93563,     0.93563,     0.93511,     0.93485,     0.93485,     0.93485,     0.93407,     0.93407,     0.93407,     0.93407,     0.93407,     0.93407,     0.93389,     0.93382,     0.93382,     0.93382,\n",
       "            0.93356,     0.93356,     0.93356,      0.9333,     0.93304,     0.93278,     0.93278,     0.93236,     0.93226,     0.93226,     0.93201,     0.93176,     0.93149,     0.93149,     0.93123,     0.93123,     0.93097,     0.93097,     0.93087,     0.93071,     0.93046,     0.93046,     0.93046,\n",
       "            0.93016,     0.92968,     0.92968,     0.92968,     0.92968,     0.92942,     0.92942,     0.92942,     0.92916,     0.92916,     0.92916,     0.92916,     0.92916,     0.92916,     0.92916,     0.92916,     0.92916,     0.92916,     0.92916,     0.92916,     0.92916,     0.92916,     0.92916,\n",
       "            0.92916,     0.92916,     0.92909,     0.92839,     0.92824,     0.92787,     0.92787,     0.92787,     0.92787,     0.92787,     0.92761,     0.92761,     0.92735,     0.92735,     0.92735,     0.92735,     0.92735,     0.92709,     0.92709,     0.92684,     0.92658,     0.92632,     0.92632,\n",
       "            0.92632,     0.92606,     0.92606,     0.92554,     0.92554,     0.92554,     0.92554,     0.92554,     0.92554,     0.92554,     0.92528,     0.92528,     0.92505,     0.92503,     0.92503,     0.92503,     0.92482,     0.92474,     0.92451,     0.92451,     0.92451,     0.92451,     0.92425,\n",
       "            0.92425,     0.92425,     0.92425,     0.92425,     0.92425,     0.92399,     0.92399,     0.92399,     0.92399,     0.92399,     0.92373,     0.92347,     0.92322,     0.92322,     0.92322,     0.92322,     0.92296,     0.92296,     0.92296,     0.92295,     0.92283,      0.9227,      0.9227,\n",
       "             0.9227,      0.9227,      0.9227,      0.9227,     0.92267,     0.92244,     0.92244,     0.92244,     0.92218,     0.92218,     0.92212,     0.92166,     0.92166,     0.92141,     0.92141,     0.92115,     0.92115,     0.92089,     0.92089,     0.92089,     0.92089,     0.92089,     0.92089,\n",
       "            0.92089,     0.92089,     0.92089,     0.92088,     0.92067,     0.92054,     0.92037,     0.92037,     0.91999,     0.91986,     0.91986,     0.91986,     0.91986,     0.91986,     0.91986,     0.91986,     0.91986,     0.91972,      0.9196,      0.9196,      0.9194,     0.91929,      0.9191,\n",
       "            0.91908,     0.91908,     0.91908,     0.91856,     0.91856,      0.9183,      0.9183,     0.91779,     0.91779,     0.91727,     0.91727,     0.91727,     0.91727,     0.91727,     0.91727,     0.91709,     0.91701,     0.91675,     0.91675,      0.9167,     0.91649,     0.91649,     0.91643,\n",
       "            0.91624,     0.91624,     0.91624,     0.91624,     0.91624,     0.91624,     0.91624,     0.91624,     0.91624,     0.91624,     0.91624,     0.91624,     0.91624,     0.91624,     0.91624,     0.91598,     0.91598,     0.91598,     0.91598,     0.91598,     0.91598,     0.91598,     0.91598,\n",
       "            0.91598,     0.91598,     0.91598,     0.91561,      0.9155,     0.91546,     0.91546,     0.91529,     0.91494,     0.91494,     0.91494,     0.91473,     0.91468,     0.91468,     0.91468,     0.91443,     0.91443,     0.91443,     0.91442,     0.91432,     0.91421,     0.91417,     0.91417,\n",
       "            0.91403,     0.91391,     0.91391,     0.91391,     0.91391,     0.91371,     0.91351,     0.91339,     0.91339,     0.91339,     0.91339,     0.91339,     0.91339,     0.91339,     0.91324,     0.91313,     0.91287,     0.91262,     0.91262,     0.91262,     0.91262,     0.91262,     0.91262,\n",
       "            0.91236,     0.91236,     0.91236,     0.91236,     0.91236,     0.91236,     0.91236,     0.91236,     0.91236,     0.91236,     0.91236,     0.91236,     0.91236,     0.91236,     0.91207,     0.91184,     0.91184,     0.91184,     0.91184,     0.91184,     0.91184,     0.91184,     0.91184,\n",
       "            0.91158,     0.91158,     0.91158,     0.91156,     0.91141,     0.91132,     0.91132,     0.91132,     0.91132,     0.91132,     0.91096,     0.91081,     0.91081,     0.91081,     0.91081,     0.91081,     0.91048,     0.91016,     0.90996,      0.9098,     0.90965,     0.90951,     0.90951,\n",
       "            0.90949,     0.90934,     0.90911,       0.909,       0.909,       0.909,       0.909,       0.909,       0.909,       0.909,       0.909,     0.90895,     0.90888,     0.90881,     0.90874,     0.90874,     0.90874,     0.90874,     0.90874,     0.90848,     0.90848,     0.90848,     0.90848,\n",
       "            0.90848,     0.90848,     0.90838,     0.90829,     0.90822,     0.90822,     0.90822,     0.90822,     0.90822,     0.90822,      0.9081,     0.90796,     0.90796,     0.90781,      0.9077,      0.9077,      0.9077,      0.9077,      0.9077,      0.9077,      0.9077,      0.9077,     0.90745,\n",
       "            0.90745,     0.90743,     0.90719,     0.90719,     0.90714,       0.907,     0.90656,     0.90629,     0.90615,     0.90615,     0.90615,     0.90615,     0.90615,     0.90615,     0.90589,     0.90589,     0.90576,     0.90538,     0.90512,     0.90512,     0.90512,     0.90512,     0.90512,\n",
       "            0.90512,     0.90512,     0.90512,     0.90512,     0.90442,     0.90434,     0.90434,     0.90434,     0.90422,     0.90382,     0.90368,     0.90357,     0.90357,     0.90357,     0.90357,     0.90357,     0.90357,     0.90357,     0.90357,     0.90357,     0.90357,     0.90357,     0.90348,\n",
       "            0.90335,     0.90313,     0.90274,     0.90268,     0.90261,     0.90255,     0.90246,     0.90237,     0.90228,     0.90228,     0.90203,     0.90202,     0.90202,     0.90202,     0.90201,     0.90176,     0.90176,     0.90175,     0.90168,     0.90161,     0.90154,      0.9015,      0.9015,\n",
       "             0.9015,     0.90084,     0.90072,     0.90047,     0.90047,     0.90038,     0.90025,     0.90012,     0.89999,     0.89995,     0.89995,     0.89995,     0.89995,     0.89995,     0.89995,     0.89995,     0.89969,     0.89969,     0.89969,     0.89969,     0.89943,     0.89917,     0.89912,\n",
       "            0.89906,     0.89901,     0.89896,     0.89891,     0.89891,      0.8986,      0.8984,      0.8984,      0.8984,      0.8984,      0.8984,      0.8984,     0.89835,     0.89821,     0.89803,     0.89788,     0.89788,     0.89788,     0.89774,     0.89762,     0.89762,     0.89762,     0.89754,\n",
       "            0.89741,     0.89719,     0.89692,     0.89659,     0.89659,     0.89659,     0.89659,     0.89633,     0.89633,     0.89621,     0.89608,     0.89607,     0.89607,     0.89607,     0.89607,     0.89598,     0.89589,     0.89581,     0.89581,     0.89581,     0.89581,     0.89581,     0.89554,\n",
       "            0.89547,     0.89541,     0.89534,     0.89521,     0.89504,     0.89504,       0.895,     0.89491,     0.89483,     0.89472,     0.89459,     0.89445,     0.89432,     0.89386,     0.89359,     0.89349,     0.89349,     0.89349,     0.89331,     0.89323,     0.89323,     0.89323,     0.89323,\n",
       "            0.89323,     0.89323,     0.89311,     0.89298,     0.89297,     0.89297,     0.89297,     0.89297,     0.89284,     0.89212,     0.89199,     0.89178,     0.89126,      0.8911,     0.89101,     0.89093,      0.8909,     0.89064,     0.89044,     0.89012,     0.88991,     0.88961,     0.88961,\n",
       "            0.88961,     0.88961,     0.88949,     0.88935,     0.88935,     0.88935,     0.88935,     0.88909,     0.88909,     0.88909,     0.88909,     0.88909,     0.88909,       0.889,     0.88887,     0.88883,     0.88883,     0.88857,     0.88857,     0.88857,     0.88857,     0.88857,     0.88857,\n",
       "            0.88857,     0.88851,     0.88838,     0.88806,     0.88806,     0.88806,     0.88806,     0.88806,     0.88806,     0.88794,     0.88702,     0.88702,     0.88699,     0.88685,     0.88625,     0.88625,     0.88615,     0.88589,     0.88566,     0.88548,     0.88547,     0.88547,     0.88521,\n",
       "             0.8852,     0.88469,     0.88467,     0.88442,     0.88424,     0.88392,     0.88392,     0.88373,     0.88366,     0.88366,      0.8834,     0.88314,     0.88314,     0.88305,     0.88289,     0.88281,     0.88264,     0.88263,     0.88263,      0.8815,     0.88142,     0.88133,     0.88129,\n",
       "            0.88108,     0.88108,     0.88082,     0.88082,     0.88082,     0.88075,     0.88056,     0.88056,     0.88056,     0.88056,     0.88026,     0.88021,     0.88016,     0.88011,     0.88007,     0.87966,     0.87939,     0.87917,     0.87849,     0.87849,     0.87849,     0.87849,     0.87823,\n",
       "            0.87823,     0.87797,     0.87797,     0.87797,     0.87694,     0.87694,     0.87694,     0.87671,     0.87619,     0.87601,     0.87561,     0.87552,     0.87543,     0.87539,     0.87539,     0.87539,     0.87539,     0.87539,      0.8753,     0.87517,     0.87501,     0.87487,     0.87487,\n",
       "            0.87477,     0.87464,     0.87384,     0.87353,      0.8734,     0.87332,     0.87332,     0.87332,     0.87289,     0.87254,      0.8725,     0.87241,     0.87232,     0.87145,     0.87134,     0.87124,     0.87113,     0.87102,      0.8709,     0.87077,     0.87073,     0.87073,     0.87073,\n",
       "            0.87063,     0.87049,     0.87048,     0.86996,     0.86996,      0.8697,      0.8697,      0.8697,     0.86944,     0.86941,     0.86903,      0.8683,     0.86789,     0.86789,     0.86771,     0.86763,     0.86763,     0.86733,     0.86715,     0.86679,      0.8667,     0.86661,     0.86611,\n",
       "            0.86553,     0.86544,     0.86535,       0.865,     0.86492,     0.86483,     0.86471,     0.86458,     0.86391,     0.86321,     0.86304,     0.86286,     0.86268,     0.86251,     0.86181,     0.86117,     0.86117,     0.86076,     0.85943,     0.85913,     0.85853,      0.8584,      0.8582,\n",
       "            0.85807,     0.85737,     0.85689,     0.85574,     0.85574,     0.85522,     0.85522,     0.85522,     0.85491,     0.85439,     0.85361,     0.85327,     0.85217,     0.85186,     0.85186,     0.85171,     0.85076,     0.85058,     0.84929,     0.84915,     0.84902,     0.84746,     0.84729,\n",
       "            0.84691,     0.84628,     0.84566,     0.84566,     0.84471,     0.84373,     0.84277,      0.8426,      0.8421,     0.84138,     0.84126,     0.84126,        0.84,     0.83971,     0.83883,     0.83804,     0.83766,     0.83622,     0.83544,     0.83367,     0.83299,     0.83246,     0.83228,\n",
       "            0.83179,     0.83106,     0.83087,     0.83062,     0.83045,     0.82871,     0.82722,     0.82489,     0.82411,     0.82384,     0.82368,     0.82215,     0.82084,     0.81982,     0.81799,     0.81695,      0.8154,     0.81461,     0.81307,     0.81289,      0.8124,     0.81084,     0.81012,\n",
       "            0.80915,     0.80836,     0.80577,     0.80553,     0.80536,      0.8033,     0.80277,     0.80199,      0.8002,     0.79875,     0.79719,     0.79498,     0.79394,     0.79329,     0.79133,     0.79002,     0.78742,     0.78505,     0.78201,     0.78149,     0.78065,     0.77863,     0.77656,\n",
       "            0.77363,     0.77034,      0.7674,      0.7649,     0.76257,     0.76012,     0.75753,     0.75479,     0.75207,     0.74457,     0.74223,     0.74067,      0.7378,     0.73443,     0.72924,     0.72669,     0.72327,     0.71964,       0.716,     0.71154,     0.70693,     0.69942,     0.69614,\n",
       "            0.69112,      0.6893,     0.68487,     0.68048,     0.67709,     0.67012,     0.66726,      0.6595,     0.65612,     0.65145,     0.64833,     0.64574,     0.63486,     0.63097,     0.62605,     0.61983,     0.61232,     0.60946,     0.60423,     0.59729,     0.59133,     0.58586,       0.579,\n",
       "            0.57242,     0.56748,      0.5583,     0.55299,     0.55027,     0.54367,     0.53821,     0.53099,     0.52707,     0.52413,     0.51567,     0.51248,     0.50453,     0.49295,      0.4895,     0.48182,     0.47655,     0.46361,     0.46021,     0.45144,     0.44157,     0.43563,     0.42529,\n",
       "            0.41261,      0.4082,     0.40043,     0.39369,     0.38541,     0.38013,     0.37401,      0.3652,     0.35149,     0.34475,     0.33673,     0.32741,     0.31938,     0.31213,     0.30591,     0.29736,     0.28882,     0.27821,     0.27147,     0.25931,     0.24327,     0.23498,     0.22437,\n",
       "            0.20652,     0.19616,     0.18193,     0.17571,     0.16639,     0.15785,     0.14568,     0.13481,     0.12187,     0.11229,     0.10452,     0.09598,    0.088729,     0.08096,     0.06983,    0.061027,    0.055326,    0.043421,    0.037203,    0.032795,    0.028646,    0.022945,    0.018537,\n",
       "           0.015163,    0.011014,     0.00764,   0.0053003,   0.0045118,   0.0038264,   0.0036497,   0.0024047,   0.0013576,  0.00054307,           0,           0,           0,           0,           0,           0,           0,           0,           0,           0,           0,           0,           0,\n",
       "                  0,           0,           0,           0,           0,           0,           0,           0,           0,           0,           0]]), 'Confidence', 'Recall'], [array([          0,    0.001001,    0.002002,    0.003003,    0.004004,    0.005005,    0.006006,    0.007007,    0.008008,    0.009009,     0.01001,    0.011011,    0.012012,    0.013013,    0.014014,    0.015015,    0.016016,    0.017017,    0.018018,    0.019019,     0.02002,    0.021021,    0.022022,    0.023023,\n",
       "          0.024024,    0.025025,    0.026026,    0.027027,    0.028028,    0.029029,     0.03003,    0.031031,    0.032032,    0.033033,    0.034034,    0.035035,    0.036036,    0.037037,    0.038038,    0.039039,     0.04004,    0.041041,    0.042042,    0.043043,    0.044044,    0.045045,    0.046046,    0.047047,\n",
       "          0.048048,    0.049049,     0.05005,    0.051051,    0.052052,    0.053053,    0.054054,    0.055055,    0.056056,    0.057057,    0.058058,    0.059059,     0.06006,    0.061061,    0.062062,    0.063063,    0.064064,    0.065065,    0.066066,    0.067067,    0.068068,    0.069069,     0.07007,    0.071071,\n",
       "          0.072072,    0.073073,    0.074074,    0.075075,    0.076076,    0.077077,    0.078078,    0.079079,     0.08008,    0.081081,    0.082082,    0.083083,    0.084084,    0.085085,    0.086086,    0.087087,    0.088088,    0.089089,     0.09009,    0.091091,    0.092092,    0.093093,    0.094094,    0.095095,\n",
       "          0.096096,    0.097097,    0.098098,    0.099099,      0.1001,      0.1011,      0.1021,      0.1031,      0.1041,     0.10511,     0.10611,     0.10711,     0.10811,     0.10911,     0.11011,     0.11111,     0.11211,     0.11311,     0.11411,     0.11512,     0.11612,     0.11712,     0.11812,     0.11912,\n",
       "           0.12012,     0.12112,     0.12212,     0.12312,     0.12412,     0.12513,     0.12613,     0.12713,     0.12813,     0.12913,     0.13013,     0.13113,     0.13213,     0.13313,     0.13413,     0.13514,     0.13614,     0.13714,     0.13814,     0.13914,     0.14014,     0.14114,     0.14214,     0.14314,\n",
       "           0.14414,     0.14515,     0.14615,     0.14715,     0.14815,     0.14915,     0.15015,     0.15115,     0.15215,     0.15315,     0.15415,     0.15516,     0.15616,     0.15716,     0.15816,     0.15916,     0.16016,     0.16116,     0.16216,     0.16316,     0.16416,     0.16517,     0.16617,     0.16717,\n",
       "           0.16817,     0.16917,     0.17017,     0.17117,     0.17217,     0.17317,     0.17417,     0.17518,     0.17618,     0.17718,     0.17818,     0.17918,     0.18018,     0.18118,     0.18218,     0.18318,     0.18418,     0.18519,     0.18619,     0.18719,     0.18819,     0.18919,     0.19019,     0.19119,\n",
       "           0.19219,     0.19319,     0.19419,      0.1952,      0.1962,      0.1972,      0.1982,      0.1992,      0.2002,      0.2012,      0.2022,      0.2032,      0.2042,     0.20521,     0.20621,     0.20721,     0.20821,     0.20921,     0.21021,     0.21121,     0.21221,     0.21321,     0.21421,     0.21522,\n",
       "           0.21622,     0.21722,     0.21822,     0.21922,     0.22022,     0.22122,     0.22222,     0.22322,     0.22422,     0.22523,     0.22623,     0.22723,     0.22823,     0.22923,     0.23023,     0.23123,     0.23223,     0.23323,     0.23423,     0.23524,     0.23624,     0.23724,     0.23824,     0.23924,\n",
       "           0.24024,     0.24124,     0.24224,     0.24324,     0.24424,     0.24525,     0.24625,     0.24725,     0.24825,     0.24925,     0.25025,     0.25125,     0.25225,     0.25325,     0.25425,     0.25526,     0.25626,     0.25726,     0.25826,     0.25926,     0.26026,     0.26126,     0.26226,     0.26326,\n",
       "           0.26426,     0.26527,     0.26627,     0.26727,     0.26827,     0.26927,     0.27027,     0.27127,     0.27227,     0.27327,     0.27427,     0.27528,     0.27628,     0.27728,     0.27828,     0.27928,     0.28028,     0.28128,     0.28228,     0.28328,     0.28428,     0.28529,     0.28629,     0.28729,\n",
       "           0.28829,     0.28929,     0.29029,     0.29129,     0.29229,     0.29329,     0.29429,      0.2953,      0.2963,      0.2973,      0.2983,      0.2993,      0.3003,      0.3013,      0.3023,      0.3033,      0.3043,     0.30531,     0.30631,     0.30731,     0.30831,     0.30931,     0.31031,     0.31131,\n",
       "           0.31231,     0.31331,     0.31431,     0.31532,     0.31632,     0.31732,     0.31832,     0.31932,     0.32032,     0.32132,     0.32232,     0.32332,     0.32432,     0.32533,     0.32633,     0.32733,     0.32833,     0.32933,     0.33033,     0.33133,     0.33233,     0.33333,     0.33433,     0.33534,\n",
       "           0.33634,     0.33734,     0.33834,     0.33934,     0.34034,     0.34134,     0.34234,     0.34334,     0.34434,     0.34535,     0.34635,     0.34735,     0.34835,     0.34935,     0.35035,     0.35135,     0.35235,     0.35335,     0.35435,     0.35536,     0.35636,     0.35736,     0.35836,     0.35936,\n",
       "           0.36036,     0.36136,     0.36236,     0.36336,     0.36436,     0.36537,     0.36637,     0.36737,     0.36837,     0.36937,     0.37037,     0.37137,     0.37237,     0.37337,     0.37437,     0.37538,     0.37638,     0.37738,     0.37838,     0.37938,     0.38038,     0.38138,     0.38238,     0.38338,\n",
       "           0.38438,     0.38539,     0.38639,     0.38739,     0.38839,     0.38939,     0.39039,     0.39139,     0.39239,     0.39339,     0.39439,      0.3954,      0.3964,      0.3974,      0.3984,      0.3994,      0.4004,      0.4014,      0.4024,      0.4034,      0.4044,     0.40541,     0.40641,     0.40741,\n",
       "           0.40841,     0.40941,     0.41041,     0.41141,     0.41241,     0.41341,     0.41441,     0.41542,     0.41642,     0.41742,     0.41842,     0.41942,     0.42042,     0.42142,     0.42242,     0.42342,     0.42442,     0.42543,     0.42643,     0.42743,     0.42843,     0.42943,     0.43043,     0.43143,\n",
       "           0.43243,     0.43343,     0.43443,     0.43544,     0.43644,     0.43744,     0.43844,     0.43944,     0.44044,     0.44144,     0.44244,     0.44344,     0.44444,     0.44545,     0.44645,     0.44745,     0.44845,     0.44945,     0.45045,     0.45145,     0.45245,     0.45345,     0.45445,     0.45546,\n",
       "           0.45646,     0.45746,     0.45846,     0.45946,     0.46046,     0.46146,     0.46246,     0.46346,     0.46446,     0.46547,     0.46647,     0.46747,     0.46847,     0.46947,     0.47047,     0.47147,     0.47247,     0.47347,     0.47447,     0.47548,     0.47648,     0.47748,     0.47848,     0.47948,\n",
       "           0.48048,     0.48148,     0.48248,     0.48348,     0.48448,     0.48549,     0.48649,     0.48749,     0.48849,     0.48949,     0.49049,     0.49149,     0.49249,     0.49349,     0.49449,      0.4955,      0.4965,      0.4975,      0.4985,      0.4995,      0.5005,      0.5015,      0.5025,      0.5035,\n",
       "            0.5045,     0.50551,     0.50651,     0.50751,     0.50851,     0.50951,     0.51051,     0.51151,     0.51251,     0.51351,     0.51451,     0.51552,     0.51652,     0.51752,     0.51852,     0.51952,     0.52052,     0.52152,     0.52252,     0.52352,     0.52452,     0.52553,     0.52653,     0.52753,\n",
       "           0.52853,     0.52953,     0.53053,     0.53153,     0.53253,     0.53353,     0.53453,     0.53554,     0.53654,     0.53754,     0.53854,     0.53954,     0.54054,     0.54154,     0.54254,     0.54354,     0.54454,     0.54555,     0.54655,     0.54755,     0.54855,     0.54955,     0.55055,     0.55155,\n",
       "           0.55255,     0.55355,     0.55455,     0.55556,     0.55656,     0.55756,     0.55856,     0.55956,     0.56056,     0.56156,     0.56256,     0.56356,     0.56456,     0.56557,     0.56657,     0.56757,     0.56857,     0.56957,     0.57057,     0.57157,     0.57257,     0.57357,     0.57457,     0.57558,\n",
       "           0.57658,     0.57758,     0.57858,     0.57958,     0.58058,     0.58158,     0.58258,     0.58358,     0.58458,     0.58559,     0.58659,     0.58759,     0.58859,     0.58959,     0.59059,     0.59159,     0.59259,     0.59359,     0.59459,      0.5956,      0.5966,      0.5976,      0.5986,      0.5996,\n",
       "            0.6006,      0.6016,      0.6026,      0.6036,      0.6046,     0.60561,     0.60661,     0.60761,     0.60861,     0.60961,     0.61061,     0.61161,     0.61261,     0.61361,     0.61461,     0.61562,     0.61662,     0.61762,     0.61862,     0.61962,     0.62062,     0.62162,     0.62262,     0.62362,\n",
       "           0.62462,     0.62563,     0.62663,     0.62763,     0.62863,     0.62963,     0.63063,     0.63163,     0.63263,     0.63363,     0.63463,     0.63564,     0.63664,     0.63764,     0.63864,     0.63964,     0.64064,     0.64164,     0.64264,     0.64364,     0.64464,     0.64565,     0.64665,     0.64765,\n",
       "           0.64865,     0.64965,     0.65065,     0.65165,     0.65265,     0.65365,     0.65465,     0.65566,     0.65666,     0.65766,     0.65866,     0.65966,     0.66066,     0.66166,     0.66266,     0.66366,     0.66466,     0.66567,     0.66667,     0.66767,     0.66867,     0.66967,     0.67067,     0.67167,\n",
       "           0.67267,     0.67367,     0.67467,     0.67568,     0.67668,     0.67768,     0.67868,     0.67968,     0.68068,     0.68168,     0.68268,     0.68368,     0.68468,     0.68569,     0.68669,     0.68769,     0.68869,     0.68969,     0.69069,     0.69169,     0.69269,     0.69369,     0.69469,      0.6957,\n",
       "            0.6967,      0.6977,      0.6987,      0.6997,      0.7007,      0.7017,      0.7027,      0.7037,      0.7047,     0.70571,     0.70671,     0.70771,     0.70871,     0.70971,     0.71071,     0.71171,     0.71271,     0.71371,     0.71471,     0.71572,     0.71672,     0.71772,     0.71872,     0.71972,\n",
       "           0.72072,     0.72172,     0.72272,     0.72372,     0.72472,     0.72573,     0.72673,     0.72773,     0.72873,     0.72973,     0.73073,     0.73173,     0.73273,     0.73373,     0.73473,     0.73574,     0.73674,     0.73774,     0.73874,     0.73974,     0.74074,     0.74174,     0.74274,     0.74374,\n",
       "           0.74474,     0.74575,     0.74675,     0.74775,     0.74875,     0.74975,     0.75075,     0.75175,     0.75275,     0.75375,     0.75475,     0.75576,     0.75676,     0.75776,     0.75876,     0.75976,     0.76076,     0.76176,     0.76276,     0.76376,     0.76476,     0.76577,     0.76677,     0.76777,\n",
       "           0.76877,     0.76977,     0.77077,     0.77177,     0.77277,     0.77377,     0.77477,     0.77578,     0.77678,     0.77778,     0.77878,     0.77978,     0.78078,     0.78178,     0.78278,     0.78378,     0.78478,     0.78579,     0.78679,     0.78779,     0.78879,     0.78979,     0.79079,     0.79179,\n",
       "           0.79279,     0.79379,     0.79479,      0.7958,      0.7968,      0.7978,      0.7988,      0.7998,      0.8008,      0.8018,      0.8028,      0.8038,      0.8048,     0.80581,     0.80681,     0.80781,     0.80881,     0.80981,     0.81081,     0.81181,     0.81281,     0.81381,     0.81481,     0.81582,\n",
       "           0.81682,     0.81782,     0.81882,     0.81982,     0.82082,     0.82182,     0.82282,     0.82382,     0.82482,     0.82583,     0.82683,     0.82783,     0.82883,     0.82983,     0.83083,     0.83183,     0.83283,     0.83383,     0.83483,     0.83584,     0.83684,     0.83784,     0.83884,     0.83984,\n",
       "           0.84084,     0.84184,     0.84284,     0.84384,     0.84484,     0.84585,     0.84685,     0.84785,     0.84885,     0.84985,     0.85085,     0.85185,     0.85285,     0.85385,     0.85485,     0.85586,     0.85686,     0.85786,     0.85886,     0.85986,     0.86086,     0.86186,     0.86286,     0.86386,\n",
       "           0.86486,     0.86587,     0.86687,     0.86787,     0.86887,     0.86987,     0.87087,     0.87187,     0.87287,     0.87387,     0.87487,     0.87588,     0.87688,     0.87788,     0.87888,     0.87988,     0.88088,     0.88188,     0.88288,     0.88388,     0.88488,     0.88589,     0.88689,     0.88789,\n",
       "           0.88889,     0.88989,     0.89089,     0.89189,     0.89289,     0.89389,     0.89489,      0.8959,      0.8969,      0.8979,      0.8989,      0.8999,      0.9009,      0.9019,      0.9029,      0.9039,      0.9049,     0.90591,     0.90691,     0.90791,     0.90891,     0.90991,     0.91091,     0.91191,\n",
       "           0.91291,     0.91391,     0.91491,     0.91592,     0.91692,     0.91792,     0.91892,     0.91992,     0.92092,     0.92192,     0.92292,     0.92392,     0.92492,     0.92593,     0.92693,     0.92793,     0.92893,     0.92993,     0.93093,     0.93193,     0.93293,     0.93393,     0.93493,     0.93594,\n",
       "           0.93694,     0.93794,     0.93894,     0.93994,     0.94094,     0.94194,     0.94294,     0.94394,     0.94494,     0.94595,     0.94695,     0.94795,     0.94895,     0.94995,     0.95095,     0.95195,     0.95295,     0.95395,     0.95495,     0.95596,     0.95696,     0.95796,     0.95896,     0.95996,\n",
       "           0.96096,     0.96196,     0.96296,     0.96396,     0.96496,     0.96597,     0.96697,     0.96797,     0.96897,     0.96997,     0.97097,     0.97197,     0.97297,     0.97397,     0.97497,     0.97598,     0.97698,     0.97798,     0.97898,     0.97998,     0.98098,     0.98198,     0.98298,     0.98398,\n",
       "           0.98498,     0.98599,     0.98699,     0.98799,     0.98899,     0.98999,     0.99099,     0.99199,     0.99299,     0.99399,     0.99499,       0.996,       0.997,       0.998,       0.999,           1]), array([[          1,           1,           1,           1,           1,           1,           1,           1,           1,           1,           1,           1,           1,           1,           1,           1,           1,           1,           1,     0.99232,     0.99232,     0.99232,     0.99232,\n",
       "            0.99232,     0.99232,     0.99232,     0.99232,     0.99232,     0.99232,     0.99232,     0.99232,     0.99232,     0.99232,     0.99232,     0.99232,     0.99232,     0.99232,     0.99232,     0.99232,     0.99232,     0.99232,     0.99232,     0.99232,     0.99232,     0.99232,     0.99232,\n",
       "            0.99232,     0.99232,     0.99232,     0.99232,     0.99232,     0.99232,     0.99232,     0.99232,     0.99232,     0.99232,     0.99232,     0.99232,     0.99232,     0.99232,     0.99232,     0.99232,     0.99232,     0.99232,     0.99232,     0.99232,     0.99232,     0.99232,     0.99232,\n",
       "            0.99232,     0.99232,     0.99232,     0.99232,     0.99232,     0.99232,     0.99232,     0.99232,     0.99232,     0.99232,     0.99232,     0.99232,     0.99232,     0.99232,     0.99232,     0.99232,     0.99232,     0.99232,     0.99232,     0.99232,     0.99232,     0.99232,     0.99232,\n",
       "            0.99232,     0.99232,     0.99232,     0.99232,     0.99232,     0.99232,     0.99232,     0.99232,     0.99232,     0.99232,     0.99232,     0.99232,     0.99232,     0.99232,     0.99232,     0.99232,     0.99232,     0.99232,     0.99232,     0.99232,     0.99232,     0.99232,     0.99232,\n",
       "            0.99232,     0.99232,     0.99232,     0.99232,     0.99232,     0.99232,     0.99232,     0.99232,     0.99232,     0.99232,     0.99232,     0.99232,     0.99232,     0.99232,     0.99232,     0.99232,     0.99232,     0.99232,     0.99232,     0.99232,     0.99232,     0.99232,     0.99232,\n",
       "            0.99232,     0.99232,     0.99232,     0.99232,     0.99232,     0.99232,     0.99232,     0.99232,     0.99232,     0.99232,     0.99232,     0.99232,     0.99232,     0.99232,     0.99232,     0.99232,     0.99232,     0.99232,     0.99232,     0.99232,     0.99232,     0.99232,     0.99232,\n",
       "            0.99232,     0.99232,     0.99232,     0.99232,     0.99232,     0.99232,     0.99232,     0.99232,     0.99232,     0.99232,     0.99232,     0.99232,     0.99232,     0.99232,     0.99232,     0.99232,     0.99232,     0.99232,     0.99232,     0.99232,     0.99232,     0.99232,     0.99232,\n",
       "            0.99232,     0.99232,     0.99232,     0.99232,     0.99232,     0.99232,     0.99232,     0.99232,     0.99232,     0.99232,     0.99232,     0.99232,     0.99232,     0.99232,     0.99232,     0.99232,     0.99232,     0.99232,     0.99232,     0.99232,     0.99232,     0.99232,     0.99232,\n",
       "            0.99232,     0.99232,     0.99232,     0.99232,     0.99232,     0.99232,     0.99232,     0.99232,     0.99232,     0.99232,     0.99232,     0.99232,     0.99232,     0.99232,     0.99232,     0.99232,     0.99232,     0.99232,     0.99232,     0.99232,     0.99232,     0.99232,     0.99232,\n",
       "            0.99232,     0.99232,     0.99232,     0.99232,     0.99232,     0.99232,     0.99232,     0.99232,     0.99232,     0.99232,     0.99232,     0.99232,     0.99232,     0.99232,     0.99232,     0.99232,     0.99232,     0.99232,     0.99232,     0.99232,     0.99232,     0.99232,     0.99232,\n",
       "            0.99232,     0.99232,     0.99232,     0.99232,     0.99232,     0.99232,     0.99232,     0.99232,     0.99232,     0.99232,     0.99232,     0.99232,     0.99232,     0.99232,     0.99232,     0.99232,     0.99232,     0.99232,     0.99232,     0.99232,     0.99232,     0.99232,     0.99232,\n",
       "            0.99232,     0.99232,     0.99232,     0.99232,     0.99232,     0.99232,     0.99232,     0.99232,     0.99232,     0.99232,     0.99232,     0.99232,     0.99232,     0.99232,     0.99232,     0.99232,     0.99232,     0.99232,     0.99232,     0.99232,     0.99232,     0.99232,     0.99232,\n",
       "            0.99232,     0.99232,     0.99232,     0.99232,     0.99232,     0.99232,     0.99232,     0.99232,     0.99232,     0.99232,     0.99232,     0.99232,     0.99232,     0.99232,     0.99232,     0.99232,     0.99232,     0.99232,     0.99232,     0.99232,     0.99232,     0.99232,     0.99232,\n",
       "            0.99232,     0.99232,     0.99232,     0.99232,     0.99232,     0.99232,     0.99232,     0.99232,     0.99232,     0.99232,     0.99232,     0.99232,     0.99232,     0.99232,     0.99232,     0.99232,     0.99232,     0.99232,     0.99232,     0.99232,     0.99232,     0.99232,     0.99232,\n",
       "            0.99232,     0.99232,     0.99232,     0.99232,     0.99232,     0.99232,     0.99232,     0.99232,     0.99232,     0.99232,     0.99232,     0.99232,     0.99232,     0.99232,     0.99232,     0.99232,     0.99232,     0.99232,     0.99232,     0.99232,     0.99232,     0.99232,     0.99232,\n",
       "            0.99232,     0.99232,     0.99232,     0.99232,     0.99232,     0.99232,     0.99232,     0.99232,     0.99232,     0.99232,     0.99232,     0.99232,     0.99232,     0.99232,     0.99232,     0.99232,     0.99232,     0.99232,     0.99232,     0.99232,     0.99232,     0.99232,     0.99232,\n",
       "            0.99232,     0.99232,     0.99232,     0.99232,     0.99232,     0.99232,     0.99232,     0.99232,     0.99232,     0.99232,     0.99232,     0.99232,     0.99232,     0.99232,     0.99232,     0.99232,     0.99232,     0.99232,     0.99232,     0.99232,     0.99232,     0.99232,     0.99232,\n",
       "            0.99232,     0.99232,     0.99232,     0.99232,     0.99232,     0.99232,     0.99232,     0.99232,     0.99232,     0.99232,     0.99232,     0.99232,     0.99232,     0.99232,     0.99232,     0.99232,     0.99232,     0.99232,     0.99232,     0.99232,     0.99182,     0.99182,     0.99182,\n",
       "            0.99182,     0.99182,     0.99125,     0.99074,     0.99074,     0.99074,     0.99032,     0.99032,     0.99032,     0.99032,     0.99032,     0.99032,     0.99032,     0.99004,     0.99004,     0.99004,     0.99004,     0.99004,     0.99004,     0.99004,     0.99004,     0.99004,     0.99004,\n",
       "            0.99004,     0.99004,     0.99004,     0.98952,     0.98925,     0.98925,     0.98925,     0.98925,     0.98925,     0.98925,     0.98925,     0.98925,     0.98925,     0.98925,     0.98925,     0.98925,     0.98925,     0.98925,     0.98925,     0.98925,     0.98925,     0.98925,     0.98925,\n",
       "            0.98925,     0.98925,     0.98925,     0.98925,     0.98925,     0.98925,     0.98925,     0.98925,     0.98925,     0.98925,     0.98925,     0.98925,     0.98925,     0.98925,     0.98925,     0.98925,     0.98899,     0.98899,     0.98899,     0.98899,     0.98899,     0.98899,     0.98899,\n",
       "            0.98899,     0.98899,     0.98899,     0.98899,     0.98899,     0.98855,     0.98855,     0.98821,     0.98821,     0.98821,     0.98821,     0.98821,     0.98821,     0.98821,     0.98805,     0.98805,     0.98805,     0.98805,     0.98805,     0.98805,     0.98805,     0.98805,     0.98805,\n",
       "            0.98805,     0.98805,     0.98805,     0.98805,     0.98805,     0.98805,     0.98805,     0.98805,     0.98805,     0.98805,     0.98805,     0.98805,     0.98805,     0.98805,     0.98805,     0.98805,     0.98805,     0.98805,     0.98805,     0.98805,     0.98805,     0.98805,     0.98805,\n",
       "            0.98805,     0.98805,     0.98805,     0.98805,     0.98805,     0.98805,     0.98805,     0.98805,     0.98805,     0.98805,     0.98805,     0.98805,     0.98805,     0.98805,     0.98805,     0.98805,     0.98805,     0.98805,     0.98805,     0.98805,     0.98805,     0.98805,     0.98805,\n",
       "            0.98805,     0.98805,     0.98805,     0.98805,     0.98805,     0.98805,     0.98805,     0.98805,     0.98805,     0.98805,     0.98805,     0.98805,     0.98805,     0.98805,     0.98805,     0.98805,     0.98805,     0.98805,     0.98805,     0.98805,     0.98805,     0.98805,     0.98805,\n",
       "            0.98805,     0.98775,     0.98775,     0.98775,     0.98775,     0.98775,     0.98775,     0.98747,     0.98747,     0.98747,     0.98747,     0.98747,     0.98747,     0.98707,     0.98668,     0.98653,     0.98653,     0.98653,     0.98653,     0.98653,     0.98653,     0.98653,     0.98653,\n",
       "            0.98653,     0.98653,     0.98653,     0.98653,     0.98653,     0.98653,     0.98653,     0.98653,     0.98653,     0.98653,     0.98653,     0.98653,     0.98653,     0.98653,     0.98653,     0.98653,     0.98653,     0.98653,     0.98653,     0.98653,     0.98653,     0.98653,     0.98653,\n",
       "            0.98639,     0.98639,     0.98639,     0.98639,     0.98639,     0.98639,     0.98639,     0.98639,     0.98639,     0.98639,     0.98639,     0.98639,     0.98639,     0.98639,     0.98639,     0.98639,     0.98639,     0.98639,     0.98639,     0.98639,     0.98639,     0.98639,     0.98639,\n",
       "            0.98639,     0.98639,     0.98639,     0.98639,     0.98639,     0.98639,     0.98639,     0.98639,      0.9857,      0.9857,     0.98535,     0.98525,     0.98525,     0.98525,     0.98525,     0.98525,     0.98525,     0.98525,     0.98525,     0.98525,     0.98525,     0.98525,     0.98525,\n",
       "            0.98525,     0.98513,     0.98513,     0.98513,     0.98513,     0.98513,     0.98513,     0.98513,     0.98513,     0.98513,     0.98513,     0.98513,     0.98482,     0.98482,     0.98475,     0.98475,     0.98475,     0.98475,     0.98475,     0.98475,     0.98475,     0.98475,     0.98475,\n",
       "            0.98475,     0.98475,     0.98475,     0.98475,     0.98475,     0.98475,     0.98475,     0.98475,     0.98475,     0.98475,     0.98475,     0.98475,     0.98475,     0.98475,     0.98475,     0.98475,     0.98475,     0.98475,     0.98475,     0.98475,     0.98475,     0.98475,     0.98475,\n",
       "            0.98475,     0.98475,     0.98475,     0.98475,     0.98475,     0.98475,     0.98475,     0.98475,     0.98475,     0.98475,     0.98475,     0.98475,     0.98475,     0.98475,     0.98475,     0.98445,     0.98445,     0.98433,     0.98433,     0.98433,     0.98433,     0.98433,     0.98433,\n",
       "            0.98433,     0.98433,     0.98433,     0.98433,     0.98421,     0.98421,     0.98421,     0.98421,     0.98421,     0.98421,     0.98421,     0.98421,     0.98421,     0.98421,     0.98396,     0.98396,     0.98396,     0.98396,     0.98394,     0.98394,     0.98394,     0.98394,     0.98394,\n",
       "            0.98394,     0.98394,     0.98394,     0.98394,     0.98394,     0.98394,     0.98394,     0.98394,     0.98394,     0.98394,     0.98333,     0.98315,     0.98315,     0.98315,     0.98315,     0.98315,     0.98315,     0.98303,     0.98303,     0.98303,     0.98303,     0.98303,     0.98303,\n",
       "            0.98303,     0.98303,     0.98303,     0.98303,     0.98255,     0.98255,     0.98255,     0.98255,     0.98255,     0.98255,     0.98229,     0.98229,     0.98169,     0.98085,     0.98085,     0.98085,     0.98059,     0.98039,     0.98039,     0.98039,     0.98039,     0.98039,     0.97995,\n",
       "            0.97995,     0.97995,     0.97995,     0.97995,     0.97995,     0.97973,     0.97973,     0.97973,     0.97973,     0.97916,      0.9786,     0.97834,      0.9781,      0.9781,     0.97784,     0.97784,     0.97761,     0.97761,     0.97704,      0.9765,      0.9763,      0.9763,      0.9763,\n",
       "             0.9763,     0.97523,     0.97523,     0.97523,      0.9744,     0.97417,     0.97417,     0.97365,     0.97365,     0.97264,     0.97264,     0.97264,     0.97264,     0.97098,     0.97074,     0.96937,     0.96889,     0.96889,     0.96862,     0.96755,     0.96732,     0.96574,     0.96574,\n",
       "             0.9655,     0.96469,     0.96418,     0.96396,     0.96318,     0.96215,     0.96135,     0.95977,       0.959,     0.95746,     0.95616,     0.95567,     0.95438,     0.95364,      0.9521,     0.95058,     0.94931,     0.94658,     0.94658,     0.94534,      0.9423,     0.94083,     0.93936,\n",
       "            0.93666,     0.93572,      0.9345,     0.93285,      0.9309,     0.92973,     0.92495,      0.9235,     0.91802,     0.91354,     0.91244,     0.91017,     0.89934,     0.89396,     0.89004,     0.88699,      0.8807,     0.87882,     0.87503,     0.87043,      0.8642,     0.86015,     0.85327,\n",
       "            0.85036,     0.84784,     0.84139,     0.83505,     0.83074,     0.82535,      0.8104,     0.79991,     0.79215,     0.78315,     0.77826,     0.74622,     0.72238,     0.71108,     0.69813,     0.68853,     0.66734,     0.64682,     0.63563,      0.6144,     0.58399,     0.54641,     0.52085,\n",
       "            0.48719,     0.45849,     0.43669,     0.41441,     0.39253,     0.31368,     0.31247,     0.28857,     0.27119,     0.26554,     0.25989,     0.25424,     0.24859,     0.24294,     0.23729,     0.23164,     0.22599,     0.22034,     0.21469,     0.20904,     0.20339,     0.19774,     0.19209,\n",
       "            0.18644,     0.18079,     0.17514,     0.16949,     0.16384,     0.15819,     0.15254,     0.14689,     0.14125,      0.1356,     0.12995,      0.1243,     0.11865,       0.113,     0.10735,      0.1017,    0.096047,    0.090397,    0.084747,    0.079097,    0.073447,    0.067798,    0.062148,\n",
       "           0.056498,    0.050848,    0.045198,    0.039549,    0.033899,    0.028249,    0.022599,    0.016949,      0.0113,   0.0056498,           0]]), 'Recall', 'Precision'], [array([          0,    0.001001,    0.002002,    0.003003,    0.004004,    0.005005,    0.006006,    0.007007,    0.008008,    0.009009,     0.01001,    0.011011,    0.012012,    0.013013,    0.014014,    0.015015,    0.016016,    0.017017,    0.018018,    0.019019,     0.02002,    0.021021,    0.022022,    0.023023,\n",
       "          0.024024,    0.025025,    0.026026,    0.027027,    0.028028,    0.029029,     0.03003,    0.031031,    0.032032,    0.033033,    0.034034,    0.035035,    0.036036,    0.037037,    0.038038,    0.039039,     0.04004,    0.041041,    0.042042,    0.043043,    0.044044,    0.045045,    0.046046,    0.047047,\n",
       "          0.048048,    0.049049,     0.05005,    0.051051,    0.052052,    0.053053,    0.054054,    0.055055,    0.056056,    0.057057,    0.058058,    0.059059,     0.06006,    0.061061,    0.062062,    0.063063,    0.064064,    0.065065,    0.066066,    0.067067,    0.068068,    0.069069,     0.07007,    0.071071,\n",
       "          0.072072,    0.073073,    0.074074,    0.075075,    0.076076,    0.077077,    0.078078,    0.079079,     0.08008,    0.081081,    0.082082,    0.083083,    0.084084,    0.085085,    0.086086,    0.087087,    0.088088,    0.089089,     0.09009,    0.091091,    0.092092,    0.093093,    0.094094,    0.095095,\n",
       "          0.096096,    0.097097,    0.098098,    0.099099,      0.1001,      0.1011,      0.1021,      0.1031,      0.1041,     0.10511,     0.10611,     0.10711,     0.10811,     0.10911,     0.11011,     0.11111,     0.11211,     0.11311,     0.11411,     0.11512,     0.11612,     0.11712,     0.11812,     0.11912,\n",
       "           0.12012,     0.12112,     0.12212,     0.12312,     0.12412,     0.12513,     0.12613,     0.12713,     0.12813,     0.12913,     0.13013,     0.13113,     0.13213,     0.13313,     0.13413,     0.13514,     0.13614,     0.13714,     0.13814,     0.13914,     0.14014,     0.14114,     0.14214,     0.14314,\n",
       "           0.14414,     0.14515,     0.14615,     0.14715,     0.14815,     0.14915,     0.15015,     0.15115,     0.15215,     0.15315,     0.15415,     0.15516,     0.15616,     0.15716,     0.15816,     0.15916,     0.16016,     0.16116,     0.16216,     0.16316,     0.16416,     0.16517,     0.16617,     0.16717,\n",
       "           0.16817,     0.16917,     0.17017,     0.17117,     0.17217,     0.17317,     0.17417,     0.17518,     0.17618,     0.17718,     0.17818,     0.17918,     0.18018,     0.18118,     0.18218,     0.18318,     0.18418,     0.18519,     0.18619,     0.18719,     0.18819,     0.18919,     0.19019,     0.19119,\n",
       "           0.19219,     0.19319,     0.19419,      0.1952,      0.1962,      0.1972,      0.1982,      0.1992,      0.2002,      0.2012,      0.2022,      0.2032,      0.2042,     0.20521,     0.20621,     0.20721,     0.20821,     0.20921,     0.21021,     0.21121,     0.21221,     0.21321,     0.21421,     0.21522,\n",
       "           0.21622,     0.21722,     0.21822,     0.21922,     0.22022,     0.22122,     0.22222,     0.22322,     0.22422,     0.22523,     0.22623,     0.22723,     0.22823,     0.22923,     0.23023,     0.23123,     0.23223,     0.23323,     0.23423,     0.23524,     0.23624,     0.23724,     0.23824,     0.23924,\n",
       "           0.24024,     0.24124,     0.24224,     0.24324,     0.24424,     0.24525,     0.24625,     0.24725,     0.24825,     0.24925,     0.25025,     0.25125,     0.25225,     0.25325,     0.25425,     0.25526,     0.25626,     0.25726,     0.25826,     0.25926,     0.26026,     0.26126,     0.26226,     0.26326,\n",
       "           0.26426,     0.26527,     0.26627,     0.26727,     0.26827,     0.26927,     0.27027,     0.27127,     0.27227,     0.27327,     0.27427,     0.27528,     0.27628,     0.27728,     0.27828,     0.27928,     0.28028,     0.28128,     0.28228,     0.28328,     0.28428,     0.28529,     0.28629,     0.28729,\n",
       "           0.28829,     0.28929,     0.29029,     0.29129,     0.29229,     0.29329,     0.29429,      0.2953,      0.2963,      0.2973,      0.2983,      0.2993,      0.3003,      0.3013,      0.3023,      0.3033,      0.3043,     0.30531,     0.30631,     0.30731,     0.30831,     0.30931,     0.31031,     0.31131,\n",
       "           0.31231,     0.31331,     0.31431,     0.31532,     0.31632,     0.31732,     0.31832,     0.31932,     0.32032,     0.32132,     0.32232,     0.32332,     0.32432,     0.32533,     0.32633,     0.32733,     0.32833,     0.32933,     0.33033,     0.33133,     0.33233,     0.33333,     0.33433,     0.33534,\n",
       "           0.33634,     0.33734,     0.33834,     0.33934,     0.34034,     0.34134,     0.34234,     0.34334,     0.34434,     0.34535,     0.34635,     0.34735,     0.34835,     0.34935,     0.35035,     0.35135,     0.35235,     0.35335,     0.35435,     0.35536,     0.35636,     0.35736,     0.35836,     0.35936,\n",
       "           0.36036,     0.36136,     0.36236,     0.36336,     0.36436,     0.36537,     0.36637,     0.36737,     0.36837,     0.36937,     0.37037,     0.37137,     0.37237,     0.37337,     0.37437,     0.37538,     0.37638,     0.37738,     0.37838,     0.37938,     0.38038,     0.38138,     0.38238,     0.38338,\n",
       "           0.38438,     0.38539,     0.38639,     0.38739,     0.38839,     0.38939,     0.39039,     0.39139,     0.39239,     0.39339,     0.39439,      0.3954,      0.3964,      0.3974,      0.3984,      0.3994,      0.4004,      0.4014,      0.4024,      0.4034,      0.4044,     0.40541,     0.40641,     0.40741,\n",
       "           0.40841,     0.40941,     0.41041,     0.41141,     0.41241,     0.41341,     0.41441,     0.41542,     0.41642,     0.41742,     0.41842,     0.41942,     0.42042,     0.42142,     0.42242,     0.42342,     0.42442,     0.42543,     0.42643,     0.42743,     0.42843,     0.42943,     0.43043,     0.43143,\n",
       "           0.43243,     0.43343,     0.43443,     0.43544,     0.43644,     0.43744,     0.43844,     0.43944,     0.44044,     0.44144,     0.44244,     0.44344,     0.44444,     0.44545,     0.44645,     0.44745,     0.44845,     0.44945,     0.45045,     0.45145,     0.45245,     0.45345,     0.45445,     0.45546,\n",
       "           0.45646,     0.45746,     0.45846,     0.45946,     0.46046,     0.46146,     0.46246,     0.46346,     0.46446,     0.46547,     0.46647,     0.46747,     0.46847,     0.46947,     0.47047,     0.47147,     0.47247,     0.47347,     0.47447,     0.47548,     0.47648,     0.47748,     0.47848,     0.47948,\n",
       "           0.48048,     0.48148,     0.48248,     0.48348,     0.48448,     0.48549,     0.48649,     0.48749,     0.48849,     0.48949,     0.49049,     0.49149,     0.49249,     0.49349,     0.49449,      0.4955,      0.4965,      0.4975,      0.4985,      0.4995,      0.5005,      0.5015,      0.5025,      0.5035,\n",
       "            0.5045,     0.50551,     0.50651,     0.50751,     0.50851,     0.50951,     0.51051,     0.51151,     0.51251,     0.51351,     0.51451,     0.51552,     0.51652,     0.51752,     0.51852,     0.51952,     0.52052,     0.52152,     0.52252,     0.52352,     0.52452,     0.52553,     0.52653,     0.52753,\n",
       "           0.52853,     0.52953,     0.53053,     0.53153,     0.53253,     0.53353,     0.53453,     0.53554,     0.53654,     0.53754,     0.53854,     0.53954,     0.54054,     0.54154,     0.54254,     0.54354,     0.54454,     0.54555,     0.54655,     0.54755,     0.54855,     0.54955,     0.55055,     0.55155,\n",
       "           0.55255,     0.55355,     0.55455,     0.55556,     0.55656,     0.55756,     0.55856,     0.55956,     0.56056,     0.56156,     0.56256,     0.56356,     0.56456,     0.56557,     0.56657,     0.56757,     0.56857,     0.56957,     0.57057,     0.57157,     0.57257,     0.57357,     0.57457,     0.57558,\n",
       "           0.57658,     0.57758,     0.57858,     0.57958,     0.58058,     0.58158,     0.58258,     0.58358,     0.58458,     0.58559,     0.58659,     0.58759,     0.58859,     0.58959,     0.59059,     0.59159,     0.59259,     0.59359,     0.59459,      0.5956,      0.5966,      0.5976,      0.5986,      0.5996,\n",
       "            0.6006,      0.6016,      0.6026,      0.6036,      0.6046,     0.60561,     0.60661,     0.60761,     0.60861,     0.60961,     0.61061,     0.61161,     0.61261,     0.61361,     0.61461,     0.61562,     0.61662,     0.61762,     0.61862,     0.61962,     0.62062,     0.62162,     0.62262,     0.62362,\n",
       "           0.62462,     0.62563,     0.62663,     0.62763,     0.62863,     0.62963,     0.63063,     0.63163,     0.63263,     0.63363,     0.63463,     0.63564,     0.63664,     0.63764,     0.63864,     0.63964,     0.64064,     0.64164,     0.64264,     0.64364,     0.64464,     0.64565,     0.64665,     0.64765,\n",
       "           0.64865,     0.64965,     0.65065,     0.65165,     0.65265,     0.65365,     0.65465,     0.65566,     0.65666,     0.65766,     0.65866,     0.65966,     0.66066,     0.66166,     0.66266,     0.66366,     0.66466,     0.66567,     0.66667,     0.66767,     0.66867,     0.66967,     0.67067,     0.67167,\n",
       "           0.67267,     0.67367,     0.67467,     0.67568,     0.67668,     0.67768,     0.67868,     0.67968,     0.68068,     0.68168,     0.68268,     0.68368,     0.68468,     0.68569,     0.68669,     0.68769,     0.68869,     0.68969,     0.69069,     0.69169,     0.69269,     0.69369,     0.69469,      0.6957,\n",
       "            0.6967,      0.6977,      0.6987,      0.6997,      0.7007,      0.7017,      0.7027,      0.7037,      0.7047,     0.70571,     0.70671,     0.70771,     0.70871,     0.70971,     0.71071,     0.71171,     0.71271,     0.71371,     0.71471,     0.71572,     0.71672,     0.71772,     0.71872,     0.71972,\n",
       "           0.72072,     0.72172,     0.72272,     0.72372,     0.72472,     0.72573,     0.72673,     0.72773,     0.72873,     0.72973,     0.73073,     0.73173,     0.73273,     0.73373,     0.73473,     0.73574,     0.73674,     0.73774,     0.73874,     0.73974,     0.74074,     0.74174,     0.74274,     0.74374,\n",
       "           0.74474,     0.74575,     0.74675,     0.74775,     0.74875,     0.74975,     0.75075,     0.75175,     0.75275,     0.75375,     0.75475,     0.75576,     0.75676,     0.75776,     0.75876,     0.75976,     0.76076,     0.76176,     0.76276,     0.76376,     0.76476,     0.76577,     0.76677,     0.76777,\n",
       "           0.76877,     0.76977,     0.77077,     0.77177,     0.77277,     0.77377,     0.77477,     0.77578,     0.77678,     0.77778,     0.77878,     0.77978,     0.78078,     0.78178,     0.78278,     0.78378,     0.78478,     0.78579,     0.78679,     0.78779,     0.78879,     0.78979,     0.79079,     0.79179,\n",
       "           0.79279,     0.79379,     0.79479,      0.7958,      0.7968,      0.7978,      0.7988,      0.7998,      0.8008,      0.8018,      0.8028,      0.8038,      0.8048,     0.80581,     0.80681,     0.80781,     0.80881,     0.80981,     0.81081,     0.81181,     0.81281,     0.81381,     0.81481,     0.81582,\n",
       "           0.81682,     0.81782,     0.81882,     0.81982,     0.82082,     0.82182,     0.82282,     0.82382,     0.82482,     0.82583,     0.82683,     0.82783,     0.82883,     0.82983,     0.83083,     0.83183,     0.83283,     0.83383,     0.83483,     0.83584,     0.83684,     0.83784,     0.83884,     0.83984,\n",
       "           0.84084,     0.84184,     0.84284,     0.84384,     0.84484,     0.84585,     0.84685,     0.84785,     0.84885,     0.84985,     0.85085,     0.85185,     0.85285,     0.85385,     0.85485,     0.85586,     0.85686,     0.85786,     0.85886,     0.85986,     0.86086,     0.86186,     0.86286,     0.86386,\n",
       "           0.86486,     0.86587,     0.86687,     0.86787,     0.86887,     0.86987,     0.87087,     0.87187,     0.87287,     0.87387,     0.87487,     0.87588,     0.87688,     0.87788,     0.87888,     0.87988,     0.88088,     0.88188,     0.88288,     0.88388,     0.88488,     0.88589,     0.88689,     0.88789,\n",
       "           0.88889,     0.88989,     0.89089,     0.89189,     0.89289,     0.89389,     0.89489,      0.8959,      0.8969,      0.8979,      0.8989,      0.8999,      0.9009,      0.9019,      0.9029,      0.9039,      0.9049,     0.90591,     0.90691,     0.90791,     0.90891,     0.90991,     0.91091,     0.91191,\n",
       "           0.91291,     0.91391,     0.91491,     0.91592,     0.91692,     0.91792,     0.91892,     0.91992,     0.92092,     0.92192,     0.92292,     0.92392,     0.92492,     0.92593,     0.92693,     0.92793,     0.92893,     0.92993,     0.93093,     0.93193,     0.93293,     0.93393,     0.93493,     0.93594,\n",
       "           0.93694,     0.93794,     0.93894,     0.93994,     0.94094,     0.94194,     0.94294,     0.94394,     0.94494,     0.94595,     0.94695,     0.94795,     0.94895,     0.94995,     0.95095,     0.95195,     0.95295,     0.95395,     0.95495,     0.95596,     0.95696,     0.95796,     0.95896,     0.95996,\n",
       "           0.96096,     0.96196,     0.96296,     0.96396,     0.96496,     0.96597,     0.96697,     0.96797,     0.96897,     0.96997,     0.97097,     0.97197,     0.97297,     0.97397,     0.97497,     0.97598,     0.97698,     0.97798,     0.97898,     0.97998,     0.98098,     0.98198,     0.98298,     0.98398,\n",
       "           0.98498,     0.98599,     0.98699,     0.98799,     0.98899,     0.98999,     0.99099,     0.99199,     0.99299,     0.99399,     0.99499,       0.996,       0.997,       0.998,       0.999,           1]), array([[    0.42759,     0.42759,     0.54207,     0.60361,     0.63936,     0.66613,     0.68471,      0.7022,     0.71648,     0.72751,     0.73564,     0.74254,     0.75019,      0.7585,     0.76461,     0.77042,     0.77561,      0.7799,     0.78398,     0.78856,     0.79208,     0.79514,     0.79839,\n",
       "            0.80155,      0.8042,     0.80671,     0.80909,      0.8117,     0.81501,     0.81691,     0.81873,     0.82113,     0.82303,     0.82457,     0.82584,     0.82803,     0.82911,     0.83046,      0.8324,     0.83459,     0.83631,     0.83853,     0.83974,     0.84095,     0.84227,     0.84353,\n",
       "            0.84555,     0.84631,     0.84687,     0.84771,     0.84847,     0.84918,     0.85004,     0.85017,     0.85089,     0.85131,     0.85226,      0.8531,     0.85356,     0.85463,     0.85511,     0.85633,     0.85675,     0.85766,     0.85801,     0.85843,     0.85932,     0.86005,     0.86037,\n",
       "            0.86096,     0.86174,     0.86253,     0.86278,     0.86326,     0.86376,     0.86444,     0.86471,     0.86502,     0.86526,     0.86551,     0.86605,     0.86633,     0.86699,     0.86806,      0.8686,     0.86874,     0.86897,     0.86933,     0.86969,     0.87003,      0.8711,     0.87142,\n",
       "            0.87163,     0.87185,     0.87208,      0.8723,     0.87273,     0.87296,     0.87323,     0.87331,     0.87354,     0.87361,     0.87412,      0.8746,     0.87463,     0.87481,       0.875,      0.8753,     0.87529,     0.87545,     0.87583,     0.87597,     0.87665,     0.87744,     0.87771,\n",
       "            0.87799,     0.87803,     0.87828,     0.87824,     0.87833,     0.87873,     0.87907,     0.87958,     0.88005,     0.88022,     0.88064,     0.88084,     0.88089,     0.88121,     0.88167,     0.88204,     0.88229,     0.88258,     0.88272,     0.88296,     0.88324,      0.8833,     0.88329,\n",
       "            0.88316,     0.88329,      0.8837,     0.88378,     0.88411,     0.88436,     0.88452,      0.8846,     0.88467,     0.88517,     0.88526,     0.88522,     0.88531,     0.88542,     0.88555,     0.88569,     0.88594,     0.88617,     0.88643,     0.88681,     0.88674,     0.88667,     0.88695,\n",
       "            0.88727,     0.88793,     0.88832,     0.88839,     0.88862,     0.88861,     0.88872,     0.88914,      0.8892,     0.88974,        0.89,      0.8902,     0.89029,     0.89057,     0.89089,     0.89138,     0.89148,     0.89164,     0.89176,     0.89186,       0.892,     0.89237,     0.89244,\n",
       "            0.89263,     0.89284,     0.89294,     0.89313,     0.89302,     0.89306,     0.89322,     0.89341,     0.89333,     0.89332,     0.89357,     0.89365,     0.89371,      0.8938,     0.89428,     0.89437,     0.89454,     0.89454,     0.89462,     0.89482,     0.89493,     0.89526,     0.89534,\n",
       "             0.8954,     0.89558,     0.89567,     0.89568,     0.89608,     0.89604,     0.89617,     0.89641,     0.89658,     0.89647,     0.89677,     0.89693,     0.89697,     0.89703,     0.89711,     0.89703,     0.89707,     0.89747,     0.89759,     0.89763,     0.89772,     0.89793,     0.89794,\n",
       "            0.89784,     0.89809,     0.89818,     0.89844,     0.89855,     0.89861,     0.89856,     0.89878,     0.89889,       0.899,     0.89932,     0.89945,     0.89954,     0.89969,     0.89985,     0.89987,     0.89999,     0.90007,     0.90033,     0.90035,     0.90037,     0.90039,     0.90042,\n",
       "            0.90055,     0.90071,     0.90109,     0.90091,     0.90085,     0.90094,     0.90102,     0.90096,      0.9009,     0.90096,     0.90118,     0.90113,     0.90123,     0.90136,     0.90144,     0.90144,      0.9018,     0.90196,     0.90222,     0.90217,     0.90211,     0.90225,     0.90234,\n",
       "            0.90236,     0.90268,     0.90275,     0.90281,     0.90286,     0.90288,     0.90277,     0.90299,     0.90309,     0.90316,     0.90331,     0.90357,      0.9039,     0.90398,      0.9039,     0.90411,     0.90462,     0.90461,     0.90481,     0.90488,     0.90493,     0.90497,     0.90532,\n",
       "            0.90531,     0.90533,     0.90535,     0.90538,      0.9054,     0.90566,      0.9057,     0.90573,     0.90577,     0.90593,     0.90598,     0.90603,      0.9061,     0.90636,      0.9066,     0.90686,     0.90696,     0.90703,     0.90719,     0.90723,     0.90726,     0.90733,     0.90747,\n",
       "            0.90758,     0.90771,     0.90856,     0.90866,     0.90857,     0.90883,     0.90926,     0.90929,     0.90932,     0.90938,     0.90939,     0.90937,     0.90956,     0.90961,     0.90965,     0.91003,     0.91032,     0.91015,     0.91016,     0.91007,     0.90999,     0.91004,      0.9101,\n",
       "            0.91014,     0.91006,     0.91005,     0.91017,      0.9101,     0.91013,     0.91032,     0.91039,     0.91048,      0.9106,     0.91073,     0.91088,     0.91085,     0.91081,     0.91077,       0.911,     0.91107,     0.91114,     0.91121,     0.91117,     0.91125,     0.91129,     0.91133,\n",
       "            0.91169,     0.91205,       0.912,     0.91194,     0.91218,     0.91232,     0.91242,     0.91248,     0.91258,     0.91273,     0.91279,     0.91272,     0.91283,     0.91275,     0.91273,     0.91285,     0.91307,     0.91314,     0.91321,     0.91327,     0.91349,     0.91361,     0.91386,\n",
       "             0.9141,     0.91421,     0.91409,     0.91469,     0.91477,     0.91469,     0.91445,      0.9143,     0.91426,     0.91433,     0.91439,     0.91445,     0.91456,     0.91469,     0.91462,     0.91468,     0.91475,      0.9148,     0.91491,     0.91537,     0.91543,     0.91549,     0.91556,\n",
       "            0.91565,     0.91579,     0.91604,     0.91616,     0.91581,     0.91586,     0.91598,      0.9161,     0.91619,     0.91608,     0.91601,     0.91619,     0.91622,     0.91625,     0.91628,     0.91632,     0.91638,     0.91644,     0.91648,     0.91652,     0.91659,     0.91685,     0.91686,\n",
       "            0.91679,     0.91666,     0.91657,     0.91654,      0.9165,     0.91647,     0.91654,     0.91649,     0.91644,     0.91679,     0.91679,     0.91681,     0.91684,     0.91687,     0.91689,     0.91676,     0.91689,     0.91699,     0.91695,     0.91691,     0.91687,     0.91691,       0.917,\n",
       "            0.91707,     0.91685,     0.91686,     0.91692,     0.91698,     0.91708,     0.91701,     0.91694,     0.91686,     0.91686,     0.91687,     0.91689,     0.91691,     0.91693,     0.91694,     0.91696,     0.91693,       0.917,     0.91706,     0.91718,     0.91767,     0.91752,      0.9175,\n",
       "            0.91747,     0.91744,     0.91741,      0.9174,     0.91753,     0.91769,      0.9176,     0.91766,     0.91783,     0.91786,      0.9179,     0.91793,     0.91792,     0.91784,     0.91774,     0.91772,     0.91781,     0.91787,     0.91783,     0.91783,     0.91792,     0.91798,     0.91796,\n",
       "            0.91788,     0.91788,     0.91792,     0.91791,     0.91797,     0.91801,     0.91805,     0.91809,     0.91815,      0.9181,     0.91802,     0.91825,     0.91832,     0.91838,      0.9185,     0.91845,      0.9184,     0.91836,      0.9184,     0.91845,      0.9185,     0.91899,     0.91894,\n",
       "             0.9189,     0.91887,     0.91883,     0.91913,     0.91898,     0.91905,     0.91911,     0.91906,     0.91901,     0.91895,     0.91888,      0.9188,     0.91873,     0.91847,     0.91832,     0.91818,     0.91816,     0.91822,     0.91827,     0.91826,     0.91833,     0.91856,     0.91868,\n",
       "            0.91888,     0.91895,     0.91889,     0.91882,     0.91889,     0.91896,     0.91902,     0.91912,      0.9191,     0.91931,     0.91938,     0.91944,     0.91927,     0.91918,     0.91913,     0.91909,     0.91916,     0.91965,     0.91957,     0.91949,      0.9194,     0.91917,     0.91909,\n",
       "            0.91932,     0.91944,     0.91939,     0.91931,     0.91937,     0.91956,     0.91964,     0.91957,     0.91963,     0.91968,     0.91971,     0.91974,     0.91977,     0.91973,     0.91965,     0.91944,     0.91936,     0.91934,     0.91936,     0.91938,      0.9194,     0.91942,     0.91944,\n",
       "            0.91951,     0.91954,     0.91946,     0.91942,     0.91945,     0.91948,     0.91952,     0.91957,     0.91963,     0.91958,     0.91921,     0.91927,      0.9193,     0.91922,     0.91892,     0.91917,     0.91945,      0.9193,     0.91917,     0.91907,     0.91931,     0.91943,     0.91935,\n",
       "            0.91941,     0.91925,     0.91936,     0.91921,     0.91911,     0.91902,     0.91927,      0.9192,     0.91923,     0.91936,     0.91934,     0.91936,     0.91942,     0.91941,     0.91937,      0.9194,      0.9193,     0.91942,     0.91955,     0.91918,     0.91913,      0.9191,     0.91918,\n",
       "            0.91914,     0.91927,     0.91907,     0.91891,     0.91896,     0.91896,     0.91887,     0.91893,       0.919,     0.91909,     0.91893,     0.91891,     0.91888,     0.91885,     0.91882,     0.91859,     0.91844,     0.91844,     0.91806,     0.91809,     0.91812,     0.91815,     0.91805,\n",
       "            0.91813,     0.91804,     0.91807,     0.91811,     0.91782,     0.91788,     0.91782,     0.91765,     0.91735,     0.91724,     0.91702,     0.91697,     0.91692,     0.91702,     0.91714,     0.91718,     0.91722,     0.91725,     0.91734,     0.91727,     0.91718,     0.91724,     0.91732,\n",
       "            0.91729,     0.91721,     0.91668,     0.91656,     0.91649,     0.91654,     0.91675,     0.91681,     0.91657,     0.91656,      0.9166,     0.91655,     0.91649,     0.91585,     0.91579,     0.91573,     0.91567,     0.91561,     0.91553,     0.91546,     0.91547,     0.91551,     0.91556,\n",
       "             0.9155,     0.91543,     0.91549,      0.9154,     0.91549,     0.91543,      0.9155,     0.91557,     0.91549,     0.91541,     0.91519,      0.9149,     0.91492,     0.91501,     0.91512,      0.9152,     0.91525,     0.91511,     0.91501,     0.91493,     0.91488,     0.91482,     0.91454,\n",
       "             0.9142,     0.91415,      0.9141,      0.9139,     0.91385,      0.9138,     0.91373,     0.91366,     0.91327,     0.91324,     0.91314,     0.91317,     0.91306,     0.91296,     0.91256,     0.91234,     0.91242,     0.91221,     0.91143,     0.91126,     0.91129,     0.91121,      0.9111,\n",
       "            0.91114,     0.91074,     0.91046,      0.9098,     0.90988,     0.90967,     0.90976,     0.90984,     0.90981,     0.90951,     0.90905,     0.90886,     0.90822,     0.90791,       0.908,     0.90792,     0.90737,     0.90726,     0.90731,     0.90723,     0.90715,     0.90624,     0.90614,\n",
       "            0.90604,     0.90567,     0.90531,      0.9054,     0.90487,     0.90429,     0.90401,     0.90391,     0.90361,     0.90332,     0.90327,     0.90336,     0.90275,     0.90278,     0.90231,     0.90184,     0.90161,     0.90089,     0.90042,     0.89937,     0.89895,     0.89849,     0.89839,\n",
       "            0.89794,     0.89751,     0.89739,     0.89737,     0.89726,     0.89635,     0.89546,     0.89434,     0.89387,     0.89371,     0.89371,     0.89281,     0.89233,     0.89203,     0.89099,     0.89043,     0.88948,       0.889,     0.88806,     0.88795,     0.88765,     0.88727,     0.88683,\n",
       "            0.88624,     0.88576,     0.88417,     0.88402,     0.88391,     0.88265,     0.88232,     0.88184,     0.88086,     0.87996,       0.879,     0.87782,     0.87736,     0.87695,     0.87573,     0.87492,     0.87329,      0.8718,     0.86989,     0.86956,     0.86903,     0.86788,     0.86656,\n",
       "            0.86483,     0.86273,     0.86085,     0.85954,     0.85804,     0.85629,     0.85461,     0.85296,     0.85131,      0.8464,     0.84486,     0.84383,     0.84193,     0.83969,     0.83623,     0.83452,     0.83222,     0.82977,      0.8273,     0.82451,     0.82135,     0.81642,     0.81413,\n",
       "            0.81076,     0.80948,     0.80637,     0.80327,     0.80122,     0.79636,     0.79431,      0.7887,     0.78635,     0.78294,     0.78065,     0.77885,     0.77076,     0.76784,     0.76413,      0.7594,     0.75433,     0.75212,     0.74819,     0.74288,     0.73819,     0.73385,     0.72837,\n",
       "            0.72306,     0.71918,     0.71165,     0.70726,     0.70512,      0.6996,       0.695,     0.68886,      0.6855,     0.68297,     0.67588,     0.67332,     0.66632,     0.65612,     0.65302,     0.64605,     0.64123,     0.62958,     0.62639,     0.61821,     0.60898,     0.60346,     0.59333,\n",
       "            0.58072,     0.57628,     0.56839,     0.56147,     0.55288,     0.54708,     0.54061,      0.5312,     0.51631,     0.50889,     0.49994,     0.48941,     0.48023,     0.47184,     0.46457,     0.45446,     0.44422,     0.43132,     0.42302,      0.4078,     0.38727,     0.37654,     0.36247,\n",
       "            0.33826,     0.32388,     0.30371,     0.29475,      0.2812,     0.26852,     0.25014,     0.23339,     0.21302,     0.19764,     0.18497,     0.17082,     0.15916,     0.14593,     0.12761,     0.11208,     0.10189,    0.079759,    0.069245,    0.061004,    0.053282,    0.042839,      0.0364,\n",
       "           0.029874,    0.021788,    0.015164,    0.010545,    0.008983,   0.0076236,   0.0072729,   0.0047978,   0.0027115,   0.0010856,           0,           0,           0,           0,           0,           0,           0,           0,           0,           0,           0,           0,           0,\n",
       "                  0,           0,           0,           0,           0,           0,           0,           0,           0,           0,           0]]), 'Confidence', 'F1'], [array([          0,    0.001001,    0.002002,    0.003003,    0.004004,    0.005005,    0.006006,    0.007007,    0.008008,    0.009009,     0.01001,    0.011011,    0.012012,    0.013013,    0.014014,    0.015015,    0.016016,    0.017017,    0.018018,    0.019019,     0.02002,    0.021021,    0.022022,    0.023023,\n",
       "          0.024024,    0.025025,    0.026026,    0.027027,    0.028028,    0.029029,     0.03003,    0.031031,    0.032032,    0.033033,    0.034034,    0.035035,    0.036036,    0.037037,    0.038038,    0.039039,     0.04004,    0.041041,    0.042042,    0.043043,    0.044044,    0.045045,    0.046046,    0.047047,\n",
       "          0.048048,    0.049049,     0.05005,    0.051051,    0.052052,    0.053053,    0.054054,    0.055055,    0.056056,    0.057057,    0.058058,    0.059059,     0.06006,    0.061061,    0.062062,    0.063063,    0.064064,    0.065065,    0.066066,    0.067067,    0.068068,    0.069069,     0.07007,    0.071071,\n",
       "          0.072072,    0.073073,    0.074074,    0.075075,    0.076076,    0.077077,    0.078078,    0.079079,     0.08008,    0.081081,    0.082082,    0.083083,    0.084084,    0.085085,    0.086086,    0.087087,    0.088088,    0.089089,     0.09009,    0.091091,    0.092092,    0.093093,    0.094094,    0.095095,\n",
       "          0.096096,    0.097097,    0.098098,    0.099099,      0.1001,      0.1011,      0.1021,      0.1031,      0.1041,     0.10511,     0.10611,     0.10711,     0.10811,     0.10911,     0.11011,     0.11111,     0.11211,     0.11311,     0.11411,     0.11512,     0.11612,     0.11712,     0.11812,     0.11912,\n",
       "           0.12012,     0.12112,     0.12212,     0.12312,     0.12412,     0.12513,     0.12613,     0.12713,     0.12813,     0.12913,     0.13013,     0.13113,     0.13213,     0.13313,     0.13413,     0.13514,     0.13614,     0.13714,     0.13814,     0.13914,     0.14014,     0.14114,     0.14214,     0.14314,\n",
       "           0.14414,     0.14515,     0.14615,     0.14715,     0.14815,     0.14915,     0.15015,     0.15115,     0.15215,     0.15315,     0.15415,     0.15516,     0.15616,     0.15716,     0.15816,     0.15916,     0.16016,     0.16116,     0.16216,     0.16316,     0.16416,     0.16517,     0.16617,     0.16717,\n",
       "           0.16817,     0.16917,     0.17017,     0.17117,     0.17217,     0.17317,     0.17417,     0.17518,     0.17618,     0.17718,     0.17818,     0.17918,     0.18018,     0.18118,     0.18218,     0.18318,     0.18418,     0.18519,     0.18619,     0.18719,     0.18819,     0.18919,     0.19019,     0.19119,\n",
       "           0.19219,     0.19319,     0.19419,      0.1952,      0.1962,      0.1972,      0.1982,      0.1992,      0.2002,      0.2012,      0.2022,      0.2032,      0.2042,     0.20521,     0.20621,     0.20721,     0.20821,     0.20921,     0.21021,     0.21121,     0.21221,     0.21321,     0.21421,     0.21522,\n",
       "           0.21622,     0.21722,     0.21822,     0.21922,     0.22022,     0.22122,     0.22222,     0.22322,     0.22422,     0.22523,     0.22623,     0.22723,     0.22823,     0.22923,     0.23023,     0.23123,     0.23223,     0.23323,     0.23423,     0.23524,     0.23624,     0.23724,     0.23824,     0.23924,\n",
       "           0.24024,     0.24124,     0.24224,     0.24324,     0.24424,     0.24525,     0.24625,     0.24725,     0.24825,     0.24925,     0.25025,     0.25125,     0.25225,     0.25325,     0.25425,     0.25526,     0.25626,     0.25726,     0.25826,     0.25926,     0.26026,     0.26126,     0.26226,     0.26326,\n",
       "           0.26426,     0.26527,     0.26627,     0.26727,     0.26827,     0.26927,     0.27027,     0.27127,     0.27227,     0.27327,     0.27427,     0.27528,     0.27628,     0.27728,     0.27828,     0.27928,     0.28028,     0.28128,     0.28228,     0.28328,     0.28428,     0.28529,     0.28629,     0.28729,\n",
       "           0.28829,     0.28929,     0.29029,     0.29129,     0.29229,     0.29329,     0.29429,      0.2953,      0.2963,      0.2973,      0.2983,      0.2993,      0.3003,      0.3013,      0.3023,      0.3033,      0.3043,     0.30531,     0.30631,     0.30731,     0.30831,     0.30931,     0.31031,     0.31131,\n",
       "           0.31231,     0.31331,     0.31431,     0.31532,     0.31632,     0.31732,     0.31832,     0.31932,     0.32032,     0.32132,     0.32232,     0.32332,     0.32432,     0.32533,     0.32633,     0.32733,     0.32833,     0.32933,     0.33033,     0.33133,     0.33233,     0.33333,     0.33433,     0.33534,\n",
       "           0.33634,     0.33734,     0.33834,     0.33934,     0.34034,     0.34134,     0.34234,     0.34334,     0.34434,     0.34535,     0.34635,     0.34735,     0.34835,     0.34935,     0.35035,     0.35135,     0.35235,     0.35335,     0.35435,     0.35536,     0.35636,     0.35736,     0.35836,     0.35936,\n",
       "           0.36036,     0.36136,     0.36236,     0.36336,     0.36436,     0.36537,     0.36637,     0.36737,     0.36837,     0.36937,     0.37037,     0.37137,     0.37237,     0.37337,     0.37437,     0.37538,     0.37638,     0.37738,     0.37838,     0.37938,     0.38038,     0.38138,     0.38238,     0.38338,\n",
       "           0.38438,     0.38539,     0.38639,     0.38739,     0.38839,     0.38939,     0.39039,     0.39139,     0.39239,     0.39339,     0.39439,      0.3954,      0.3964,      0.3974,      0.3984,      0.3994,      0.4004,      0.4014,      0.4024,      0.4034,      0.4044,     0.40541,     0.40641,     0.40741,\n",
       "           0.40841,     0.40941,     0.41041,     0.41141,     0.41241,     0.41341,     0.41441,     0.41542,     0.41642,     0.41742,     0.41842,     0.41942,     0.42042,     0.42142,     0.42242,     0.42342,     0.42442,     0.42543,     0.42643,     0.42743,     0.42843,     0.42943,     0.43043,     0.43143,\n",
       "           0.43243,     0.43343,     0.43443,     0.43544,     0.43644,     0.43744,     0.43844,     0.43944,     0.44044,     0.44144,     0.44244,     0.44344,     0.44444,     0.44545,     0.44645,     0.44745,     0.44845,     0.44945,     0.45045,     0.45145,     0.45245,     0.45345,     0.45445,     0.45546,\n",
       "           0.45646,     0.45746,     0.45846,     0.45946,     0.46046,     0.46146,     0.46246,     0.46346,     0.46446,     0.46547,     0.46647,     0.46747,     0.46847,     0.46947,     0.47047,     0.47147,     0.47247,     0.47347,     0.47447,     0.47548,     0.47648,     0.47748,     0.47848,     0.47948,\n",
       "           0.48048,     0.48148,     0.48248,     0.48348,     0.48448,     0.48549,     0.48649,     0.48749,     0.48849,     0.48949,     0.49049,     0.49149,     0.49249,     0.49349,     0.49449,      0.4955,      0.4965,      0.4975,      0.4985,      0.4995,      0.5005,      0.5015,      0.5025,      0.5035,\n",
       "            0.5045,     0.50551,     0.50651,     0.50751,     0.50851,     0.50951,     0.51051,     0.51151,     0.51251,     0.51351,     0.51451,     0.51552,     0.51652,     0.51752,     0.51852,     0.51952,     0.52052,     0.52152,     0.52252,     0.52352,     0.52452,     0.52553,     0.52653,     0.52753,\n",
       "           0.52853,     0.52953,     0.53053,     0.53153,     0.53253,     0.53353,     0.53453,     0.53554,     0.53654,     0.53754,     0.53854,     0.53954,     0.54054,     0.54154,     0.54254,     0.54354,     0.54454,     0.54555,     0.54655,     0.54755,     0.54855,     0.54955,     0.55055,     0.55155,\n",
       "           0.55255,     0.55355,     0.55455,     0.55556,     0.55656,     0.55756,     0.55856,     0.55956,     0.56056,     0.56156,     0.56256,     0.56356,     0.56456,     0.56557,     0.56657,     0.56757,     0.56857,     0.56957,     0.57057,     0.57157,     0.57257,     0.57357,     0.57457,     0.57558,\n",
       "           0.57658,     0.57758,     0.57858,     0.57958,     0.58058,     0.58158,     0.58258,     0.58358,     0.58458,     0.58559,     0.58659,     0.58759,     0.58859,     0.58959,     0.59059,     0.59159,     0.59259,     0.59359,     0.59459,      0.5956,      0.5966,      0.5976,      0.5986,      0.5996,\n",
       "            0.6006,      0.6016,      0.6026,      0.6036,      0.6046,     0.60561,     0.60661,     0.60761,     0.60861,     0.60961,     0.61061,     0.61161,     0.61261,     0.61361,     0.61461,     0.61562,     0.61662,     0.61762,     0.61862,     0.61962,     0.62062,     0.62162,     0.62262,     0.62362,\n",
       "           0.62462,     0.62563,     0.62663,     0.62763,     0.62863,     0.62963,     0.63063,     0.63163,     0.63263,     0.63363,     0.63463,     0.63564,     0.63664,     0.63764,     0.63864,     0.63964,     0.64064,     0.64164,     0.64264,     0.64364,     0.64464,     0.64565,     0.64665,     0.64765,\n",
       "           0.64865,     0.64965,     0.65065,     0.65165,     0.65265,     0.65365,     0.65465,     0.65566,     0.65666,     0.65766,     0.65866,     0.65966,     0.66066,     0.66166,     0.66266,     0.66366,     0.66466,     0.66567,     0.66667,     0.66767,     0.66867,     0.66967,     0.67067,     0.67167,\n",
       "           0.67267,     0.67367,     0.67467,     0.67568,     0.67668,     0.67768,     0.67868,     0.67968,     0.68068,     0.68168,     0.68268,     0.68368,     0.68468,     0.68569,     0.68669,     0.68769,     0.68869,     0.68969,     0.69069,     0.69169,     0.69269,     0.69369,     0.69469,      0.6957,\n",
       "            0.6967,      0.6977,      0.6987,      0.6997,      0.7007,      0.7017,      0.7027,      0.7037,      0.7047,     0.70571,     0.70671,     0.70771,     0.70871,     0.70971,     0.71071,     0.71171,     0.71271,     0.71371,     0.71471,     0.71572,     0.71672,     0.71772,     0.71872,     0.71972,\n",
       "           0.72072,     0.72172,     0.72272,     0.72372,     0.72472,     0.72573,     0.72673,     0.72773,     0.72873,     0.72973,     0.73073,     0.73173,     0.73273,     0.73373,     0.73473,     0.73574,     0.73674,     0.73774,     0.73874,     0.73974,     0.74074,     0.74174,     0.74274,     0.74374,\n",
       "           0.74474,     0.74575,     0.74675,     0.74775,     0.74875,     0.74975,     0.75075,     0.75175,     0.75275,     0.75375,     0.75475,     0.75576,     0.75676,     0.75776,     0.75876,     0.75976,     0.76076,     0.76176,     0.76276,     0.76376,     0.76476,     0.76577,     0.76677,     0.76777,\n",
       "           0.76877,     0.76977,     0.77077,     0.77177,     0.77277,     0.77377,     0.77477,     0.77578,     0.77678,     0.77778,     0.77878,     0.77978,     0.78078,     0.78178,     0.78278,     0.78378,     0.78478,     0.78579,     0.78679,     0.78779,     0.78879,     0.78979,     0.79079,     0.79179,\n",
       "           0.79279,     0.79379,     0.79479,      0.7958,      0.7968,      0.7978,      0.7988,      0.7998,      0.8008,      0.8018,      0.8028,      0.8038,      0.8048,     0.80581,     0.80681,     0.80781,     0.80881,     0.80981,     0.81081,     0.81181,     0.81281,     0.81381,     0.81481,     0.81582,\n",
       "           0.81682,     0.81782,     0.81882,     0.81982,     0.82082,     0.82182,     0.82282,     0.82382,     0.82482,     0.82583,     0.82683,     0.82783,     0.82883,     0.82983,     0.83083,     0.83183,     0.83283,     0.83383,     0.83483,     0.83584,     0.83684,     0.83784,     0.83884,     0.83984,\n",
       "           0.84084,     0.84184,     0.84284,     0.84384,     0.84484,     0.84585,     0.84685,     0.84785,     0.84885,     0.84985,     0.85085,     0.85185,     0.85285,     0.85385,     0.85485,     0.85586,     0.85686,     0.85786,     0.85886,     0.85986,     0.86086,     0.86186,     0.86286,     0.86386,\n",
       "           0.86486,     0.86587,     0.86687,     0.86787,     0.86887,     0.86987,     0.87087,     0.87187,     0.87287,     0.87387,     0.87487,     0.87588,     0.87688,     0.87788,     0.87888,     0.87988,     0.88088,     0.88188,     0.88288,     0.88388,     0.88488,     0.88589,     0.88689,     0.88789,\n",
       "           0.88889,     0.88989,     0.89089,     0.89189,     0.89289,     0.89389,     0.89489,      0.8959,      0.8969,      0.8979,      0.8989,      0.8999,      0.9009,      0.9019,      0.9029,      0.9039,      0.9049,     0.90591,     0.90691,     0.90791,     0.90891,     0.90991,     0.91091,     0.91191,\n",
       "           0.91291,     0.91391,     0.91491,     0.91592,     0.91692,     0.91792,     0.91892,     0.91992,     0.92092,     0.92192,     0.92292,     0.92392,     0.92492,     0.92593,     0.92693,     0.92793,     0.92893,     0.92993,     0.93093,     0.93193,     0.93293,     0.93393,     0.93493,     0.93594,\n",
       "           0.93694,     0.93794,     0.93894,     0.93994,     0.94094,     0.94194,     0.94294,     0.94394,     0.94494,     0.94595,     0.94695,     0.94795,     0.94895,     0.94995,     0.95095,     0.95195,     0.95295,     0.95395,     0.95495,     0.95596,     0.95696,     0.95796,     0.95896,     0.95996,\n",
       "           0.96096,     0.96196,     0.96296,     0.96396,     0.96496,     0.96597,     0.96697,     0.96797,     0.96897,     0.96997,     0.97097,     0.97197,     0.97297,     0.97397,     0.97497,     0.97598,     0.97698,     0.97798,     0.97898,     0.97998,     0.98098,     0.98198,     0.98298,     0.98398,\n",
       "           0.98498,     0.98599,     0.98699,     0.98799,     0.98899,     0.98999,     0.99099,     0.99199,     0.99299,     0.99399,     0.99499,       0.996,       0.997,       0.998,       0.999,           1]), array([[    0.27579,     0.27579,     0.37946,     0.44332,     0.48326,     0.51475,     0.53779,     0.55986,     0.57843,     0.59316,     0.60415,     0.61362,      0.6246,     0.63633,     0.64522,     0.65392,     0.66143,     0.66796,     0.67397,     0.68091,     0.68645,      0.6912,      0.6964,\n",
       "            0.70152,     0.70574,     0.70992,     0.71375,     0.71798,     0.72365,     0.72665,     0.72953,     0.73335,     0.73655,     0.73918,     0.74123,     0.74477,       0.747,     0.74921,     0.75236,     0.75596,     0.75878,     0.76244,     0.76444,     0.76644,     0.76865,     0.77075,\n",
       "            0.77431,     0.77559,     0.77671,      0.7783,     0.77976,     0.78114,      0.7826,     0.78312,     0.78441,     0.78512,     0.78692,     0.78837,     0.78934,     0.79116,     0.79218,     0.79428,     0.79538,     0.79694,     0.79763,     0.79847,      0.8002,     0.80147,     0.80202,\n",
       "            0.80308,      0.8048,     0.80618,     0.80661,     0.80745,     0.80852,     0.80973,     0.81019,     0.81093,     0.81136,     0.81179,     0.81274,     0.81325,      0.8144,      0.8163,     0.81725,      0.8175,     0.81791,     0.81854,     0.81918,     0.81979,     0.82168,     0.82226,\n",
       "            0.82263,     0.82302,     0.82343,     0.82444,     0.82532,     0.82582,     0.82631,     0.82645,     0.82687,     0.82698,     0.82812,     0.82897,     0.82923,     0.82956,     0.83011,     0.83073,     0.83085,     0.83133,     0.83202,     0.83249,     0.83393,     0.83557,     0.83606,\n",
       "            0.83656,     0.83685,      0.8373,     0.83766,     0.83782,     0.83854,     0.83917,      0.8401,     0.84095,     0.84127,     0.84226,     0.84262,      0.8429,     0.84352,     0.84434,     0.84503,     0.84567,     0.84626,     0.84671,     0.84715,     0.84768,     0.84779,       0.848,\n",
       "            0.84817,     0.84843,     0.84918,     0.84933,     0.84994,     0.85062,     0.85092,     0.85107,     0.85141,     0.85234,     0.85273,     0.85288,     0.85326,     0.85347,     0.85371,     0.85397,     0.85466,     0.85509,     0.85557,     0.85628,     0.85627,     0.85625,     0.85699,\n",
       "            0.85759,     0.85882,     0.85955,     0.85968,     0.86015,     0.86033,     0.86052,     0.86131,     0.86166,     0.86267,     0.86321,       0.864,     0.86417,     0.86492,     0.86552,     0.86667,     0.86687,     0.86741,     0.86763,     0.86781,     0.86809,     0.86879,     0.86892,\n",
       "            0.86928,     0.86968,     0.86987,     0.87025,     0.87022,     0.87042,     0.87087,     0.87122,     0.87142,     0.87152,       0.872,     0.87215,     0.87227,     0.87244,     0.87335,     0.87353,     0.87386,     0.87397,     0.87423,     0.87463,     0.87501,     0.87569,     0.87585,\n",
       "            0.87597,     0.87631,     0.87647,     0.87674,     0.87749,     0.87767,     0.87792,     0.87885,     0.87918,     0.87944,     0.88002,     0.88034,     0.88042,     0.88052,     0.88068,     0.88068,     0.88084,     0.88161,     0.88185,     0.88198,     0.88233,     0.88274,     0.88283,\n",
       "            0.88281,      0.8833,     0.88346,     0.88397,     0.88418,     0.88429,     0.88445,     0.88488,     0.88509,      0.8853,     0.88593,     0.88618,     0.88634,     0.88664,     0.88695,     0.88722,     0.88747,     0.88762,     0.88812,     0.88816,     0.88821,     0.88825,     0.88829,\n",
       "            0.88855,     0.88886,     0.88961,     0.88961,     0.88959,      0.8898,     0.88996,     0.89002,     0.89021,     0.89034,     0.89076,     0.89086,     0.89112,     0.89137,     0.89152,     0.89177,     0.89247,     0.89278,     0.89331,      0.8933,     0.89329,      0.8936,     0.89378,\n",
       "            0.89395,     0.89471,     0.89484,     0.89494,     0.89505,     0.89528,     0.89526,      0.8958,     0.89601,     0.89614,     0.89643,     0.89694,      0.8976,     0.89775,     0.89774,     0.89827,     0.89928,      0.8995,      0.8999,     0.90004,     0.90013,     0.90022,     0.90091,\n",
       "            0.90114,     0.90119,     0.90123,     0.90128,     0.90133,     0.90184,     0.90191,     0.90198,     0.90205,     0.90237,     0.90247,     0.90258,     0.90272,     0.90322,      0.9037,     0.90422,     0.90442,     0.90456,     0.90488,     0.90495,     0.90502,     0.90515,     0.90543,\n",
       "            0.90592,     0.90617,     0.90787,     0.90808,     0.90807,     0.90866,     0.90951,     0.90958,     0.90965,     0.90977,     0.91014,     0.91026,     0.91065,     0.91074,     0.91083,     0.91159,     0.91225,     0.91222,     0.91244,     0.91242,     0.91241,     0.91265,     0.91277,\n",
       "            0.91287,     0.91286,     0.91308,     0.91353,     0.91352,     0.91362,       0.914,     0.91414,     0.91431,     0.91456,     0.91483,     0.91518,     0.91518,     0.91517,     0.91517,     0.91565,     0.91579,     0.91593,     0.91607,     0.91625,      0.9164,     0.91648,     0.91657,\n",
       "            0.91729,     0.91802,     0.91801,       0.918,     0.91855,     0.91883,     0.91903,     0.91916,     0.91936,     0.91966,     0.91992,     0.91991,     0.92015,     0.92013,      0.9202,     0.92045,      0.9209,     0.92104,     0.92117,      0.9213,     0.92175,       0.922,     0.92278,\n",
       "            0.92327,      0.9235,      0.9235,     0.92474,     0.92494,     0.92493,      0.9249,     0.92488,     0.92494,     0.92508,     0.92521,     0.92533,     0.92556,     0.92581,     0.92594,     0.92606,      0.9262,      0.9266,     0.92707,     0.92803,     0.92816,     0.92829,     0.92841,\n",
       "            0.92861,      0.9289,      0.9294,     0.92965,     0.92968,     0.92986,     0.93011,     0.93037,     0.93066,     0.93088,     0.93087,     0.93137,     0.93143,     0.93149,     0.93156,     0.93164,     0.93176,     0.93188,     0.93196,     0.93205,     0.93219,     0.93273,     0.93285,\n",
       "            0.93284,     0.93282,     0.93304,     0.93304,     0.93304,     0.93303,     0.93327,     0.93327,     0.93326,     0.93399,     0.93425,     0.93431,     0.93437,     0.93443,      0.9345,     0.93449,     0.93475,     0.93498,     0.93498,     0.93497,     0.93497,     0.93508,     0.93528,\n",
       "            0.93541,     0.93567,     0.93581,     0.93623,     0.93636,     0.93665,     0.93664,     0.93663,     0.93663,     0.93665,     0.93669,     0.93672,     0.93676,      0.9368,     0.93684,     0.93687,     0.93709,     0.93723,     0.93736,     0.93761,     0.93863,     0.93862,     0.93861,\n",
       "            0.93861,     0.93861,      0.9386,     0.93864,      0.9389,      0.9396,     0.93961,     0.93974,     0.94011,     0.94018,     0.94024,     0.94031,     0.94034,     0.94034,     0.94032,     0.94043,     0.94063,     0.94076,     0.94082,     0.94095,     0.94114,     0.94127,     0.94132,\n",
       "            0.94131,     0.94155,     0.94173,     0.94197,     0.94211,     0.94219,     0.94228,     0.94265,     0.94278,     0.94279,     0.94278,     0.94328,     0.94342,     0.94355,     0.94381,      0.9438,      0.9438,      0.9438,     0.94389,     0.94398,     0.94409,     0.94513,     0.94532,\n",
       "            0.94532,     0.94532,     0.94531,     0.94608,     0.94607,     0.94641,     0.94657,     0.94657,     0.94656,     0.94656,     0.94655,     0.94654,     0.94653,     0.94651,     0.94649,     0.94648,     0.94656,     0.94669,     0.94698,     0.94707,      0.9472,      0.9477,     0.94796,\n",
       "            0.94839,     0.94852,     0.94854,     0.94853,     0.94869,     0.94885,     0.94898,     0.94918,      0.9493,     0.94989,     0.95003,     0.95034,     0.95057,     0.95056,     0.95056,     0.95055,     0.95074,      0.9518,     0.95186,     0.95205,     0.95209,     0.95207,     0.95207,\n",
       "            0.95256,     0.95283,     0.95285,     0.95284,     0.95297,     0.95337,     0.95356,      0.9537,     0.95383,     0.95393,       0.954,     0.95407,     0.95413,     0.95415,     0.95414,     0.95412,     0.95412,      0.9544,     0.95444,     0.95449,     0.95453,     0.95457,     0.95461,\n",
       "            0.95476,      0.9549,     0.95489,     0.95518,     0.95524,     0.95531,     0.95538,     0.95549,     0.95563,     0.95567,     0.95592,     0.95606,     0.95616,     0.95615,     0.95621,     0.95675,     0.95745,     0.95744,     0.95743,     0.95742,     0.95795,     0.95823,     0.95835,\n",
       "            0.95848,     0.95875,       0.959,     0.95899,     0.95898,     0.95915,     0.95969,     0.95977,     0.96022,      0.9605,     0.96077,     0.96113,     0.96126,     0.96135,     0.96145,     0.96161,      0.9616,     0.96187,     0.96214,     0.96238,     0.96238,     0.96239,     0.96265,\n",
       "            0.96281,     0.96309,     0.96317,     0.96323,     0.96334,     0.96342,     0.96345,     0.96359,     0.96375,     0.96393,     0.96395,     0.96395,     0.96395,     0.96394,     0.96394,     0.96393,     0.96392,     0.96418,     0.96416,     0.96423,      0.9643,     0.96437,     0.96445,\n",
       "            0.96464,     0.96474,     0.96482,      0.9649,     0.96551,     0.96565,     0.96574,     0.96573,     0.96571,      0.9657,     0.96568,     0.96568,     0.96568,     0.96596,     0.96623,     0.96631,     0.96639,     0.96647,     0.96678,     0.96677,     0.96677,     0.96708,     0.96727,\n",
       "            0.96731,     0.96731,     0.96742,     0.96754,     0.96753,     0.96775,     0.96821,     0.96836,     0.96835,     0.96875,     0.96889,     0.96889,     0.96889,     0.96885,     0.96884,     0.96884,     0.96884,     0.96883,     0.96883,     0.96882,     0.96889,     0.96899,     0.96908,\n",
       "             0.9691,     0.96909,     0.96926,     0.96971,     0.96991,     0.97009,     0.97026,      0.9704,     0.97056,     0.97073,     0.97072,     0.97098,     0.97156,     0.97175,     0.97201,     0.97217,     0.97229,     0.97237,     0.97236,     0.97263,     0.97263,     0.97263,     0.97261,\n",
       "            0.97259,     0.97259,     0.97259,     0.97258,     0.97257,     0.97257,     0.97257,     0.97256,     0.97254,     0.97338,     0.97337,     0.97365,     0.97364,     0.97364,     0.97362,     0.97394,     0.97414,     0.97416,     0.97412,     0.97411,     0.97495,     0.97495,     0.97494,\n",
       "            0.97523,     0.97521,      0.9752,     0.97518,     0.97537,     0.97556,     0.97575,     0.97595,     0.97629,     0.97628,     0.97626,     0.97625,     0.97622,     0.97627,     0.97646,     0.97649,     0.97647,     0.97646,     0.97761,      0.9776,      0.9776,     0.97756,     0.97755,\n",
       "            0.97784,     0.97782,     0.97783,     0.97803,     0.97807,     0.97805,     0.97833,     0.97832,     0.97831,     0.97859,     0.97865,     0.97885,     0.97914,     0.97961,     0.97971,     0.97969,     0.97968,     0.97994,     0.97992,     0.97988,     0.97987,     0.97985,     0.97984,\n",
       "            0.97982,     0.97981,      0.9798,      0.9801,     0.98009,     0.98035,     0.98032,     0.98057,     0.98055,     0.98055,     0.98078,     0.98081,     0.98153,     0.98228,     0.98239,     0.98253,     0.98249,     0.98248,     0.98244,     0.98244,     0.98243,     0.98303,     0.98301,\n",
       "            0.98299,     0.98297,     0.98292,     0.98292,     0.98291,     0.98287,     0.98286,     0.98284,     0.98312,     0.98309,     0.98305,     0.98348,     0.98393,     0.98392,     0.98388,     0.98385,      0.9838,     0.98375,     0.98369,     0.98368,     0.98366,     0.98394,      0.9839,\n",
       "            0.98417,      0.9841,     0.98404,     0.98432,     0.98427,     0.98422,     0.98416,     0.98444,     0.98472,     0.98457,     0.98452,     0.98449,     0.98443,     0.98436,     0.98425,     0.98419,     0.98412,     0.98404,     0.98396,     0.98457,     0.98447,     0.98502,     0.98495,\n",
       "            0.98521,     0.98517,     0.98508,     0.98498,       0.986,     0.98625,      0.9862,     0.98604,     0.98635,     0.98625,     0.98619,     0.98652,     0.98629,     0.98621,      0.9861,     0.98596,     0.98745,     0.98739,      0.9877,     0.98798,     0.98786,     0.98775,     0.98761,\n",
       "            0.98747,     0.98781,     0.98761,     0.98749,     0.98789,     0.98774,     0.98762,     0.98745,     0.98736,     0.98729,     0.98806,     0.98898,     0.98881,     0.98906,     0.98898,     0.98881,     0.98869,     0.99002,     0.98994,     0.99031,     0.99119,     0.99231,     0.99212,\n",
       "            0.99188,     0.99179,     0.99163,     0.99149,     0.99131,     0.99118,     0.99104,     0.99082,     0.99047,     0.99028,     0.99005,     0.98977,     0.98951,     0.98927,     0.98905,     0.98874,      0.9884,     0.98796,     0.98767,     0.98709,     0.98624,     0.98684,     0.98622,\n",
       "            0.98503,     0.98425,     0.98302,     0.98242,     0.98296,     0.98204,     0.98055,     0.97899,     0.97676,     0.97479,     0.97293,     0.97053,     0.97385,     0.97135,     0.97418,     0.97047,     0.96744,     0.95832,     0.96525,     0.96058,     0.95668,     0.95493,           1,\n",
       "                  1,           1,           1,           1,           1,           1,           1,           1,           1,           1,           1,           1,           1,           1,           1,           1,           1,           1,           1,           1,           1,           1,           1,\n",
       "                  1,           1,           1,           1,           1,           1,           1,           1,           1,           1,           1]]), 'Confidence', 'Precision'], [array([          0,    0.001001,    0.002002,    0.003003,    0.004004,    0.005005,    0.006006,    0.007007,    0.008008,    0.009009,     0.01001,    0.011011,    0.012012,    0.013013,    0.014014,    0.015015,    0.016016,    0.017017,    0.018018,    0.019019,     0.02002,    0.021021,    0.022022,    0.023023,\n",
       "          0.024024,    0.025025,    0.026026,    0.027027,    0.028028,    0.029029,     0.03003,    0.031031,    0.032032,    0.033033,    0.034034,    0.035035,    0.036036,    0.037037,    0.038038,    0.039039,     0.04004,    0.041041,    0.042042,    0.043043,    0.044044,    0.045045,    0.046046,    0.047047,\n",
       "          0.048048,    0.049049,     0.05005,    0.051051,    0.052052,    0.053053,    0.054054,    0.055055,    0.056056,    0.057057,    0.058058,    0.059059,     0.06006,    0.061061,    0.062062,    0.063063,    0.064064,    0.065065,    0.066066,    0.067067,    0.068068,    0.069069,     0.07007,    0.071071,\n",
       "          0.072072,    0.073073,    0.074074,    0.075075,    0.076076,    0.077077,    0.078078,    0.079079,     0.08008,    0.081081,    0.082082,    0.083083,    0.084084,    0.085085,    0.086086,    0.087087,    0.088088,    0.089089,     0.09009,    0.091091,    0.092092,    0.093093,    0.094094,    0.095095,\n",
       "          0.096096,    0.097097,    0.098098,    0.099099,      0.1001,      0.1011,      0.1021,      0.1031,      0.1041,     0.10511,     0.10611,     0.10711,     0.10811,     0.10911,     0.11011,     0.11111,     0.11211,     0.11311,     0.11411,     0.11512,     0.11612,     0.11712,     0.11812,     0.11912,\n",
       "           0.12012,     0.12112,     0.12212,     0.12312,     0.12412,     0.12513,     0.12613,     0.12713,     0.12813,     0.12913,     0.13013,     0.13113,     0.13213,     0.13313,     0.13413,     0.13514,     0.13614,     0.13714,     0.13814,     0.13914,     0.14014,     0.14114,     0.14214,     0.14314,\n",
       "           0.14414,     0.14515,     0.14615,     0.14715,     0.14815,     0.14915,     0.15015,     0.15115,     0.15215,     0.15315,     0.15415,     0.15516,     0.15616,     0.15716,     0.15816,     0.15916,     0.16016,     0.16116,     0.16216,     0.16316,     0.16416,     0.16517,     0.16617,     0.16717,\n",
       "           0.16817,     0.16917,     0.17017,     0.17117,     0.17217,     0.17317,     0.17417,     0.17518,     0.17618,     0.17718,     0.17818,     0.17918,     0.18018,     0.18118,     0.18218,     0.18318,     0.18418,     0.18519,     0.18619,     0.18719,     0.18819,     0.18919,     0.19019,     0.19119,\n",
       "           0.19219,     0.19319,     0.19419,      0.1952,      0.1962,      0.1972,      0.1982,      0.1992,      0.2002,      0.2012,      0.2022,      0.2032,      0.2042,     0.20521,     0.20621,     0.20721,     0.20821,     0.20921,     0.21021,     0.21121,     0.21221,     0.21321,     0.21421,     0.21522,\n",
       "           0.21622,     0.21722,     0.21822,     0.21922,     0.22022,     0.22122,     0.22222,     0.22322,     0.22422,     0.22523,     0.22623,     0.22723,     0.22823,     0.22923,     0.23023,     0.23123,     0.23223,     0.23323,     0.23423,     0.23524,     0.23624,     0.23724,     0.23824,     0.23924,\n",
       "           0.24024,     0.24124,     0.24224,     0.24324,     0.24424,     0.24525,     0.24625,     0.24725,     0.24825,     0.24925,     0.25025,     0.25125,     0.25225,     0.25325,     0.25425,     0.25526,     0.25626,     0.25726,     0.25826,     0.25926,     0.26026,     0.26126,     0.26226,     0.26326,\n",
       "           0.26426,     0.26527,     0.26627,     0.26727,     0.26827,     0.26927,     0.27027,     0.27127,     0.27227,     0.27327,     0.27427,     0.27528,     0.27628,     0.27728,     0.27828,     0.27928,     0.28028,     0.28128,     0.28228,     0.28328,     0.28428,     0.28529,     0.28629,     0.28729,\n",
       "           0.28829,     0.28929,     0.29029,     0.29129,     0.29229,     0.29329,     0.29429,      0.2953,      0.2963,      0.2973,      0.2983,      0.2993,      0.3003,      0.3013,      0.3023,      0.3033,      0.3043,     0.30531,     0.30631,     0.30731,     0.30831,     0.30931,     0.31031,     0.31131,\n",
       "           0.31231,     0.31331,     0.31431,     0.31532,     0.31632,     0.31732,     0.31832,     0.31932,     0.32032,     0.32132,     0.32232,     0.32332,     0.32432,     0.32533,     0.32633,     0.32733,     0.32833,     0.32933,     0.33033,     0.33133,     0.33233,     0.33333,     0.33433,     0.33534,\n",
       "           0.33634,     0.33734,     0.33834,     0.33934,     0.34034,     0.34134,     0.34234,     0.34334,     0.34434,     0.34535,     0.34635,     0.34735,     0.34835,     0.34935,     0.35035,     0.35135,     0.35235,     0.35335,     0.35435,     0.35536,     0.35636,     0.35736,     0.35836,     0.35936,\n",
       "           0.36036,     0.36136,     0.36236,     0.36336,     0.36436,     0.36537,     0.36637,     0.36737,     0.36837,     0.36937,     0.37037,     0.37137,     0.37237,     0.37337,     0.37437,     0.37538,     0.37638,     0.37738,     0.37838,     0.37938,     0.38038,     0.38138,     0.38238,     0.38338,\n",
       "           0.38438,     0.38539,     0.38639,     0.38739,     0.38839,     0.38939,     0.39039,     0.39139,     0.39239,     0.39339,     0.39439,      0.3954,      0.3964,      0.3974,      0.3984,      0.3994,      0.4004,      0.4014,      0.4024,      0.4034,      0.4044,     0.40541,     0.40641,     0.40741,\n",
       "           0.40841,     0.40941,     0.41041,     0.41141,     0.41241,     0.41341,     0.41441,     0.41542,     0.41642,     0.41742,     0.41842,     0.41942,     0.42042,     0.42142,     0.42242,     0.42342,     0.42442,     0.42543,     0.42643,     0.42743,     0.42843,     0.42943,     0.43043,     0.43143,\n",
       "           0.43243,     0.43343,     0.43443,     0.43544,     0.43644,     0.43744,     0.43844,     0.43944,     0.44044,     0.44144,     0.44244,     0.44344,     0.44444,     0.44545,     0.44645,     0.44745,     0.44845,     0.44945,     0.45045,     0.45145,     0.45245,     0.45345,     0.45445,     0.45546,\n",
       "           0.45646,     0.45746,     0.45846,     0.45946,     0.46046,     0.46146,     0.46246,     0.46346,     0.46446,     0.46547,     0.46647,     0.46747,     0.46847,     0.46947,     0.47047,     0.47147,     0.47247,     0.47347,     0.47447,     0.47548,     0.47648,     0.47748,     0.47848,     0.47948,\n",
       "           0.48048,     0.48148,     0.48248,     0.48348,     0.48448,     0.48549,     0.48649,     0.48749,     0.48849,     0.48949,     0.49049,     0.49149,     0.49249,     0.49349,     0.49449,      0.4955,      0.4965,      0.4975,      0.4985,      0.4995,      0.5005,      0.5015,      0.5025,      0.5035,\n",
       "            0.5045,     0.50551,     0.50651,     0.50751,     0.50851,     0.50951,     0.51051,     0.51151,     0.51251,     0.51351,     0.51451,     0.51552,     0.51652,     0.51752,     0.51852,     0.51952,     0.52052,     0.52152,     0.52252,     0.52352,     0.52452,     0.52553,     0.52653,     0.52753,\n",
       "           0.52853,     0.52953,     0.53053,     0.53153,     0.53253,     0.53353,     0.53453,     0.53554,     0.53654,     0.53754,     0.53854,     0.53954,     0.54054,     0.54154,     0.54254,     0.54354,     0.54454,     0.54555,     0.54655,     0.54755,     0.54855,     0.54955,     0.55055,     0.55155,\n",
       "           0.55255,     0.55355,     0.55455,     0.55556,     0.55656,     0.55756,     0.55856,     0.55956,     0.56056,     0.56156,     0.56256,     0.56356,     0.56456,     0.56557,     0.56657,     0.56757,     0.56857,     0.56957,     0.57057,     0.57157,     0.57257,     0.57357,     0.57457,     0.57558,\n",
       "           0.57658,     0.57758,     0.57858,     0.57958,     0.58058,     0.58158,     0.58258,     0.58358,     0.58458,     0.58559,     0.58659,     0.58759,     0.58859,     0.58959,     0.59059,     0.59159,     0.59259,     0.59359,     0.59459,      0.5956,      0.5966,      0.5976,      0.5986,      0.5996,\n",
       "            0.6006,      0.6016,      0.6026,      0.6036,      0.6046,     0.60561,     0.60661,     0.60761,     0.60861,     0.60961,     0.61061,     0.61161,     0.61261,     0.61361,     0.61461,     0.61562,     0.61662,     0.61762,     0.61862,     0.61962,     0.62062,     0.62162,     0.62262,     0.62362,\n",
       "           0.62462,     0.62563,     0.62663,     0.62763,     0.62863,     0.62963,     0.63063,     0.63163,     0.63263,     0.63363,     0.63463,     0.63564,     0.63664,     0.63764,     0.63864,     0.63964,     0.64064,     0.64164,     0.64264,     0.64364,     0.64464,     0.64565,     0.64665,     0.64765,\n",
       "           0.64865,     0.64965,     0.65065,     0.65165,     0.65265,     0.65365,     0.65465,     0.65566,     0.65666,     0.65766,     0.65866,     0.65966,     0.66066,     0.66166,     0.66266,     0.66366,     0.66466,     0.66567,     0.66667,     0.66767,     0.66867,     0.66967,     0.67067,     0.67167,\n",
       "           0.67267,     0.67367,     0.67467,     0.67568,     0.67668,     0.67768,     0.67868,     0.67968,     0.68068,     0.68168,     0.68268,     0.68368,     0.68468,     0.68569,     0.68669,     0.68769,     0.68869,     0.68969,     0.69069,     0.69169,     0.69269,     0.69369,     0.69469,      0.6957,\n",
       "            0.6967,      0.6977,      0.6987,      0.6997,      0.7007,      0.7017,      0.7027,      0.7037,      0.7047,     0.70571,     0.70671,     0.70771,     0.70871,     0.70971,     0.71071,     0.71171,     0.71271,     0.71371,     0.71471,     0.71572,     0.71672,     0.71772,     0.71872,     0.71972,\n",
       "           0.72072,     0.72172,     0.72272,     0.72372,     0.72472,     0.72573,     0.72673,     0.72773,     0.72873,     0.72973,     0.73073,     0.73173,     0.73273,     0.73373,     0.73473,     0.73574,     0.73674,     0.73774,     0.73874,     0.73974,     0.74074,     0.74174,     0.74274,     0.74374,\n",
       "           0.74474,     0.74575,     0.74675,     0.74775,     0.74875,     0.74975,     0.75075,     0.75175,     0.75275,     0.75375,     0.75475,     0.75576,     0.75676,     0.75776,     0.75876,     0.75976,     0.76076,     0.76176,     0.76276,     0.76376,     0.76476,     0.76577,     0.76677,     0.76777,\n",
       "           0.76877,     0.76977,     0.77077,     0.77177,     0.77277,     0.77377,     0.77477,     0.77578,     0.77678,     0.77778,     0.77878,     0.77978,     0.78078,     0.78178,     0.78278,     0.78378,     0.78478,     0.78579,     0.78679,     0.78779,     0.78879,     0.78979,     0.79079,     0.79179,\n",
       "           0.79279,     0.79379,     0.79479,      0.7958,      0.7968,      0.7978,      0.7988,      0.7998,      0.8008,      0.8018,      0.8028,      0.8038,      0.8048,     0.80581,     0.80681,     0.80781,     0.80881,     0.80981,     0.81081,     0.81181,     0.81281,     0.81381,     0.81481,     0.81582,\n",
       "           0.81682,     0.81782,     0.81882,     0.81982,     0.82082,     0.82182,     0.82282,     0.82382,     0.82482,     0.82583,     0.82683,     0.82783,     0.82883,     0.82983,     0.83083,     0.83183,     0.83283,     0.83383,     0.83483,     0.83584,     0.83684,     0.83784,     0.83884,     0.83984,\n",
       "           0.84084,     0.84184,     0.84284,     0.84384,     0.84484,     0.84585,     0.84685,     0.84785,     0.84885,     0.84985,     0.85085,     0.85185,     0.85285,     0.85385,     0.85485,     0.85586,     0.85686,     0.85786,     0.85886,     0.85986,     0.86086,     0.86186,     0.86286,     0.86386,\n",
       "           0.86486,     0.86587,     0.86687,     0.86787,     0.86887,     0.86987,     0.87087,     0.87187,     0.87287,     0.87387,     0.87487,     0.87588,     0.87688,     0.87788,     0.87888,     0.87988,     0.88088,     0.88188,     0.88288,     0.88388,     0.88488,     0.88589,     0.88689,     0.88789,\n",
       "           0.88889,     0.88989,     0.89089,     0.89189,     0.89289,     0.89389,     0.89489,      0.8959,      0.8969,      0.8979,      0.8989,      0.8999,      0.9009,      0.9019,      0.9029,      0.9039,      0.9049,     0.90591,     0.90691,     0.90791,     0.90891,     0.90991,     0.91091,     0.91191,\n",
       "           0.91291,     0.91391,     0.91491,     0.91592,     0.91692,     0.91792,     0.91892,     0.91992,     0.92092,     0.92192,     0.92292,     0.92392,     0.92492,     0.92593,     0.92693,     0.92793,     0.92893,     0.92993,     0.93093,     0.93193,     0.93293,     0.93393,     0.93493,     0.93594,\n",
       "           0.93694,     0.93794,     0.93894,     0.93994,     0.94094,     0.94194,     0.94294,     0.94394,     0.94494,     0.94595,     0.94695,     0.94795,     0.94895,     0.94995,     0.95095,     0.95195,     0.95295,     0.95395,     0.95495,     0.95596,     0.95696,     0.95796,     0.95896,     0.95996,\n",
       "           0.96096,     0.96196,     0.96296,     0.96396,     0.96496,     0.96597,     0.96697,     0.96797,     0.96897,     0.96997,     0.97097,     0.97197,     0.97297,     0.97397,     0.97497,     0.97598,     0.97698,     0.97798,     0.97898,     0.97998,     0.98098,     0.98198,     0.98298,     0.98398,\n",
       "           0.98498,     0.98599,     0.98699,     0.98799,     0.98899,     0.98999,     0.99099,     0.99199,     0.99299,     0.99399,     0.99499,       0.996,       0.997,       0.998,       0.999,           1]), array([[    0.95114,     0.95114,     0.94855,     0.94545,     0.94442,     0.94364,     0.94209,     0.94157,     0.94105,     0.94054,     0.94028,     0.94002,     0.93899,     0.93873,     0.93821,     0.93744,     0.93744,     0.93692,     0.93692,     0.93666,     0.93614,     0.93588,     0.93537,\n",
       "            0.93485,     0.93459,     0.93407,     0.93382,     0.93356,     0.93278,     0.93278,     0.93278,     0.93278,     0.93252,     0.93226,     0.93226,     0.93226,     0.93149,     0.93149,     0.93149,     0.93149,     0.93149,     0.93149,     0.93149,     0.93149,     0.93149,     0.93149,\n",
       "            0.93123,     0.93123,     0.93097,     0.93071,     0.93046,      0.9302,      0.9302,     0.92978,     0.92968,     0.92968,     0.92942,     0.92942,     0.92916,     0.92916,      0.9289,      0.9289,     0.92839,     0.92839,     0.92828,     0.92813,     0.92787,     0.92787,     0.92787,\n",
       "            0.92783,     0.92735,     0.92735,     0.92735,     0.92735,     0.92709,     0.92709,     0.92709,     0.92684,     0.92684,     0.92684,     0.92684,     0.92684,     0.92684,     0.92684,     0.92684,     0.92684,     0.92684,     0.92684,     0.92684,     0.92684,     0.92684,     0.92684,\n",
       "            0.92684,     0.92684,     0.92684,     0.92606,     0.92591,      0.9258,      0.9258,      0.9258,      0.9258,      0.9258,     0.92554,     0.92554,     0.92528,     0.92528,     0.92503,     0.92493,     0.92477,     0.92451,     0.92451,     0.92425,     0.92399,     0.92373,     0.92373,\n",
       "            0.92373,     0.92347,     0.92347,     0.92296,     0.92296,     0.92296,     0.92296,     0.92296,     0.92296,     0.92296,      0.9227,      0.9227,     0.92246,     0.92244,     0.92244,     0.92244,     0.92223,     0.92215,     0.92192,     0.92192,     0.92192,     0.92192,     0.92164,\n",
       "            0.92115,     0.92115,     0.92115,     0.92115,     0.92115,     0.92089,     0.92089,     0.92089,     0.92063,     0.92063,     0.92037,     0.92011,     0.91986,     0.91986,     0.91986,     0.91986,      0.9196,      0.9196,      0.9196,     0.91959,     0.91947,     0.91934,     0.91908,\n",
       "            0.91908,     0.91908,     0.91908,     0.91908,     0.91905,     0.91882,     0.91882,     0.91882,     0.91856,     0.91856,      0.9185,     0.91805,     0.91805,     0.91779,     0.91779,     0.91753,     0.91753,     0.91727,     0.91727,     0.91727,     0.91727,     0.91727,     0.91727,\n",
       "            0.91727,     0.91727,     0.91727,     0.91726,     0.91705,     0.91692,     0.91675,     0.91675,     0.91637,     0.91624,     0.91624,     0.91624,     0.91624,     0.91624,     0.91624,     0.91624,     0.91624,      0.9161,     0.91598,     0.91598,     0.91578,     0.91572,     0.91572,\n",
       "            0.91572,     0.91572,     0.91572,     0.91546,     0.91546,      0.9152,      0.9152,     0.91468,     0.91468,     0.91417,     0.91417,     0.91417,     0.91417,     0.91417,     0.91417,     0.91399,     0.91391,     0.91391,     0.91391,     0.91386,     0.91365,     0.91365,     0.91358,\n",
       "            0.91339,     0.91339,     0.91339,     0.91339,     0.91339,     0.91339,     0.91313,     0.91313,     0.91313,     0.91313,     0.91313,     0.91313,     0.91313,     0.91313,     0.91313,     0.91287,     0.91287,     0.91287,     0.91287,     0.91287,     0.91287,     0.91287,     0.91287,\n",
       "            0.91287,     0.91287,     0.91287,     0.91251,     0.91239,     0.91236,     0.91236,     0.91218,     0.91184,     0.91184,     0.91184,     0.91163,     0.91158,     0.91158,     0.91158,     0.91132,     0.91132,     0.91132,     0.91132,     0.91121,     0.91111,     0.91107,     0.91107,\n",
       "            0.91092,     0.91081,     0.91081,     0.91081,     0.91081,      0.9106,     0.91041,     0.91029,     0.91029,     0.91029,     0.91029,     0.91029,     0.91029,     0.91029,     0.91014,     0.91003,     0.91003,     0.90977,     0.90977,     0.90977,     0.90977,     0.90977,     0.90977,\n",
       "            0.90951,     0.90951,     0.90951,     0.90951,     0.90951,     0.90951,     0.90951,     0.90951,     0.90951,     0.90951,     0.90951,     0.90951,     0.90951,     0.90951,     0.90951,     0.90951,     0.90951,     0.90951,     0.90951,     0.90951,     0.90951,     0.90951,     0.90951,\n",
       "            0.90926,     0.90926,     0.90926,     0.90924,     0.90908,       0.909,       0.909,       0.909,       0.909,       0.909,     0.90863,     0.90848,     0.90848,     0.90848,     0.90848,     0.90848,     0.90841,      0.9081,     0.90789,     0.90774,     0.90758,     0.90745,     0.90745,\n",
       "            0.90743,     0.90727,     0.90704,     0.90684,      0.9067,     0.90667,     0.90667,     0.90667,     0.90667,     0.90667,     0.90667,     0.90662,     0.90655,     0.90648,     0.90641,     0.90641,     0.90641,     0.90641,     0.90641,     0.90615,     0.90615,     0.90615,     0.90615,\n",
       "            0.90615,     0.90615,     0.90606,     0.90596,     0.90589,     0.90589,     0.90589,     0.90589,     0.90589,     0.90589,     0.90577,     0.90564,     0.90563,     0.90548,     0.90538,     0.90538,     0.90538,     0.90538,     0.90538,     0.90538,     0.90538,     0.90538,     0.90512,\n",
       "            0.90512,      0.9051,     0.90486,     0.90486,     0.90481,     0.90468,     0.90423,     0.90397,     0.90383,     0.90383,     0.90383,     0.90383,     0.90383,     0.90383,     0.90357,     0.90357,     0.90357,     0.90331,     0.90305,     0.90305,     0.90305,     0.90305,     0.90305,\n",
       "            0.90305,     0.90305,     0.90305,     0.90305,     0.90235,     0.90228,     0.90228,     0.90228,     0.90216,     0.90175,     0.90161,      0.9015,      0.9015,      0.9015,      0.9015,      0.9015,      0.9015,      0.9015,      0.9015,      0.9015,      0.9015,      0.9015,     0.90141,\n",
       "            0.90128,     0.90106,     0.90068,     0.90061,     0.90054,     0.90048,     0.90039,      0.9003,     0.90022,     0.90021,     0.89996,     0.89995,     0.89995,     0.89995,     0.89994,     0.89969,     0.89969,     0.89968,     0.89961,     0.89954,     0.89947,     0.89943,     0.89943,\n",
       "            0.89943,     0.89878,     0.89866,      0.8984,      0.8984,     0.89831,     0.89818,     0.89805,     0.89792,     0.89788,     0.89788,     0.89788,     0.89788,     0.89788,     0.89788,     0.89788,     0.89762,     0.89762,     0.89762,     0.89762,     0.89762,     0.89736,     0.89731,\n",
       "            0.89726,      0.8972,     0.89715,      0.8971,      0.8971,     0.89679,     0.89659,     0.89659,     0.89659,     0.89659,     0.89659,     0.89659,     0.89654,      0.8964,     0.89622,     0.89607,     0.89607,     0.89607,     0.89593,     0.89581,     0.89581,     0.89581,     0.89573,\n",
       "             0.8956,     0.89538,     0.89529,     0.89504,     0.89504,     0.89504,     0.89504,     0.89478,     0.89478,     0.89466,     0.89453,     0.89452,     0.89452,     0.89452,     0.89452,     0.89443,     0.89434,     0.89426,     0.89426,     0.89426,     0.89426,     0.89426,     0.89399,\n",
       "            0.89392,     0.89386,     0.89379,     0.89366,      0.8934,     0.89323,     0.89319,      0.8931,     0.89302,     0.89291,     0.89278,     0.89264,     0.89251,     0.89205,     0.89178,     0.89152,     0.89142,     0.89142,     0.89124,     0.89116,     0.89116,     0.89116,     0.89116,\n",
       "            0.89116,     0.89116,     0.89105,     0.89091,      0.8909,      0.8909,      0.8909,      0.8909,     0.89077,     0.89064,     0.89064,     0.89049,     0.88997,     0.88981,     0.88972,     0.88963,     0.88961,     0.88961,     0.88941,     0.88909,     0.88888,     0.88846,     0.88833,\n",
       "            0.88831,     0.88831,     0.88819,     0.88806,     0.88806,     0.88806,     0.88806,      0.8878,      0.8878,      0.8878,      0.8878,      0.8878,      0.8878,      0.8877,     0.88757,     0.88718,     0.88705,     0.88676,     0.88676,     0.88676,     0.88676,     0.88676,     0.88676,\n",
       "            0.88676,      0.8867,     0.88657,     0.88625,     0.88625,     0.88625,     0.88625,     0.88625,     0.88625,     0.88613,     0.88521,     0.88521,     0.88518,     0.88505,     0.88444,     0.88444,     0.88434,     0.88408,     0.88385,     0.88367,     0.88366,     0.88366,      0.8834,\n",
       "            0.88339,     0.88289,     0.88286,     0.88261,     0.88243,     0.88211,     0.88211,     0.88192,     0.88159,     0.88159,     0.88133,     0.88108,     0.88108,     0.88098,     0.88082,     0.88075,     0.88057,     0.88056,     0.88056,      0.8797,     0.87961,     0.87952,     0.87948,\n",
       "            0.87927,     0.87927,     0.87884,     0.87849,     0.87849,     0.87843,     0.87823,     0.87823,     0.87823,     0.87823,     0.87793,     0.87788,     0.87784,     0.87779,     0.87774,     0.87733,     0.87706,     0.87685,     0.87616,     0.87616,     0.87616,     0.87616,      0.8759,\n",
       "             0.8759,     0.87565,     0.87565,     0.87565,     0.87461,     0.87461,     0.87444,     0.87413,     0.87361,     0.87342,     0.87302,     0.87293,     0.87285,      0.8728,      0.8728,      0.8728,      0.8728,      0.8728,     0.87272,     0.87259,     0.87242,     0.87229,     0.87229,\n",
       "            0.87219,     0.87205,     0.87099,     0.87069,     0.87056,     0.87048,     0.87048,     0.87048,     0.87005,      0.8697,     0.86966,     0.86957,     0.86948,     0.86835,     0.86824,     0.86813,     0.86803,     0.86792,      0.8678,     0.86767,     0.86763,     0.86763,     0.86763,\n",
       "            0.86752,     0.86739,     0.86737,     0.86686,     0.86686,      0.8666,      0.8666,      0.8666,     0.86634,     0.86605,     0.86567,     0.86494,     0.86453,     0.86453,     0.86453,     0.86453,     0.86453,     0.86422,     0.86405,     0.86368,      0.8636,     0.86351,     0.86301,\n",
       "            0.86243,     0.86234,     0.86225,      0.8619,     0.86181,     0.86172,     0.86161,     0.86148,      0.8608,     0.86011,     0.85993,     0.85976,     0.85958,      0.8594,     0.85871,     0.85807,     0.85807,     0.85766,     0.85632,     0.85603,     0.85543,     0.85529,      0.8551,\n",
       "            0.85496,     0.85427,     0.85379,     0.85264,     0.85264,     0.85212,     0.85212,     0.85212,     0.85181,     0.85129,     0.85051,     0.85017,     0.84907,      0.8485,      0.8485,     0.84835,      0.8474,     0.84722,     0.84645,     0.84631,     0.84617,     0.84462,     0.84444,\n",
       "            0.84407,     0.84343,     0.84281,     0.84281,     0.84186,     0.84088,     0.84019,     0.84001,     0.83951,      0.8388,     0.83868,     0.83868,     0.83742,     0.83713,     0.83624,     0.83546,     0.83507,     0.83364,     0.83285,     0.83108,     0.83039,     0.82961,     0.82943,\n",
       "            0.82869,     0.82796,     0.82777,     0.82752,     0.82734,     0.82561,     0.82412,     0.82205,     0.82127,       0.821,     0.82084,     0.81931,     0.81799,     0.81697,     0.81515,     0.81411,     0.81255,     0.81177,     0.81022,     0.81004,     0.80955,     0.80851,     0.80779,\n",
       "            0.80682,     0.80604,     0.80345,     0.80321,     0.80303,     0.80097,     0.80045,     0.79966,     0.79787,     0.79642,     0.79486,     0.79266,     0.79161,     0.79097,       0.789,      0.7877,      0.7851,     0.78272,     0.77969,     0.77916,     0.77832,     0.77631,     0.77423,\n",
       "             0.7713,     0.76801,     0.76507,     0.76283,      0.7605,      0.7578,      0.7552,     0.75246,     0.74974,     0.74224,     0.73991,     0.73835,     0.73547,      0.7321,     0.72691,     0.72436,     0.72094,     0.71731,     0.71368,     0.70921,      0.7046,     0.69709,     0.69381,\n",
       "            0.68879,     0.68697,     0.68254,     0.67816,     0.67477,     0.66779,     0.66493,     0.65718,     0.65379,     0.64912,     0.64601,     0.64341,     0.63254,     0.62865,     0.62372,      0.6175,     0.61025,      0.6074,     0.60217,     0.59522,     0.58926,     0.58379,     0.57693,\n",
       "            0.57035,     0.56542,     0.55623,     0.55092,      0.5482,      0.5416,     0.53614,     0.52892,       0.525,     0.52206,      0.5136,     0.51041,     0.50246,     0.49088,     0.48744,     0.47975,     0.47448,     0.46154,     0.45814,     0.44937,      0.4395,     0.43356,     0.42322,\n",
       "            0.41054,     0.40613,     0.39836,     0.39162,     0.38334,     0.37781,     0.37168,     0.36288,     0.34916,     0.34243,      0.3344,     0.32508,     0.31705,      0.3098,     0.30358,     0.29504,     0.28649,     0.27588,     0.26915,     0.25698,     0.24094,     0.23265,     0.22204,\n",
       "            0.20419,     0.19383,      0.1796,     0.17338,     0.16406,     0.15552,     0.14336,     0.13249,     0.11955,     0.10997,      0.1022,    0.093654,     0.08666,    0.078891,    0.068279,    0.059476,    0.053775,    0.041611,    0.035911,    0.031503,    0.027404,    0.021911,    0.018537,\n",
       "           0.015163,    0.011014,     0.00764,   0.0053003,   0.0045118,   0.0038264,   0.0036497,   0.0024047,   0.0013576,  0.00054307,           0,           0,           0,           0,           0,           0,           0,           0,           0,           0,           0,           0,           0,\n",
       "                  0,           0,           0,           0,           0,           0,           0,           0,           0,           0,           0]]), 'Confidence', 'Recall']]\n",
       "fitness: 1.627754446295798\n",
       "keys: ['metrics/precision(B)', 'metrics/recall(B)', 'metrics/mAP50(B)', 'metrics/mAP50-95(B)', 'metrics/precision(M)', 'metrics/recall(M)', 'metrics/mAP50(M)', 'metrics/mAP50-95(M)']\n",
       "maps: array([     1.6003])\n",
       "names: {0: 'Pothole'}\n",
       "plot: True\n",
       "results_dict: {'metrics/precision(B)': 0.9578735623026315, 'metrics/recall(B)': 0.8870217166494312, 'metrics/mAP50(B)': 0.9406999855344965, 'metrics/mAP50-95(B)': 0.8321430106966472, 'metrics/precision(M)': 0.9556286724957408, 'metrics/recall(M)': 0.8862461220268872, 'metrics/mAP50(M)': 0.9340455904172323, 'metrics/mAP50-95(M)': 0.7681679767484917, 'fitness': 1.627754446295798}\n",
       "save_dir: PosixPath('runs/segment/train')\n",
       "seg: ultralytics.utils.metrics.Metric object\n",
       "speed: {'preprocess': 0.19116967916488647, 'inference': 3.9240998029708862, 'loss': 0.0002092123031616211, 'postprocess': 0.5894158780574799}\n",
       "task: 'segment'"
      ]
     },
     "execution_count": 2,
     "metadata": {},
     "output_type": "execute_result"
    }
   ],
   "source": [
    "from ultralytics import YOLO\n",
    "\n",
    "# Load a model\n",
    "model = YOLO(\"yolov8s-seg.yaml\")  # build a new model from YAML\n",
    "\n",
    "# Train the model\n",
    "model.train(data=\"data.yaml\", epochs=200, batch=64, patience=20)"
   ]
  }
 ],
 "metadata": {
  "language_info": {
   "name": "python"
  }
 },
 "nbformat": 4,
 "nbformat_minor": 2
}
